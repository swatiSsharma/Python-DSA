{
 "cells": [
  {
   "cell_type": "markdown",
   "id": "0aaeb23e",
   "metadata": {},
   "source": [
    "# Test -> Patterns and while loop"
   ]
  },
  {
   "cell_type": "markdown",
   "id": "d0c5493c",
   "metadata": {},
   "source": [
    "## Q1. Calculate the cube of all numbers from 1 to a given number."
   ]
  },
  {
   "cell_type": "code",
   "execution_count": 1,
   "id": "535680f4",
   "metadata": {},
   "outputs": [
    {
     "name": "stdout",
     "output_type": "stream",
     "text": [
      "Enter the number: 10\n",
      "1 8 27 64 125 216 343 512 729 1000 "
     ]
    }
   ],
   "source": [
    "n: int = int(input(\"Enter the number: \"))\n",
    "i: int = 1\n",
    "    \n",
    "for i in range(1, n+1):\n",
    "    print(i**3, end = ' ')"
   ]
  },
  {
   "cell_type": "markdown",
   "id": "c9f887c6",
   "metadata": {},
   "source": [
    "## Q2. Write a function named notPrimeNumbers which accepts 2 integers n1 and n2. Print all the numbers from n1 to n2 which are not prime."
   ]
  },
  {
   "cell_type": "code",
   "execution_count": 2,
   "id": "b5a7af8a",
   "metadata": {},
   "outputs": [
    {
     "name": "stdout",
     "output_type": "stream",
     "text": [
      "Enter the starting integer (n1): 15\n",
      "Enter the ending integer (n2): 30\n",
      "Not prime numbers between 15 and 30 are: 15 16 18 20 21 22 24 25 26 27 28 30 "
     ]
    }
   ],
   "source": [
    "def is_prime(num):\n",
    "    if num <= 1:\n",
    "        return False\n",
    "    for i in range(2, int(num**0.5) + 1):\n",
    "        if num % i == 0:\n",
    "            return False\n",
    "    return True\n",
    "\n",
    "def not_prime_numbers(n1, n2):\n",
    "    for num in range(n1, n2 + 1):\n",
    "        if not is_prime(num):\n",
    "            print(num, end=' ')\n",
    "\n",
    "n1 = int(input(\"Enter the starting integer (n1): \"))\n",
    "n2 = int(input(\"Enter the ending integer (n2): \"))\n",
    "\n",
    "print(f\"Not prime numbers between {n1} and {n2} are:\", end=' ')\n",
    "not_prime_numbers(n1, n2)\n"
   ]
  },
  {
   "cell_type": "markdown",
   "id": "f4a1bc1b",
   "metadata": {},
   "source": [
    "## Q3. Write a function named armstrongRange which accepts 2 integers n1 and n2. Print all the numbers from n1 to n2 which are armstrong numbers."
   ]
  },
  {
   "cell_type": "code",
   "execution_count": 3,
   "id": "80a4deba",
   "metadata": {},
   "outputs": [
    {
     "name": "stdout",
     "output_type": "stream",
     "text": [
      "Enter the starting integer (n1): 1\n",
      "Enter the ending integer (n2): 100\n",
      "Armstrong numbers between 1 and 100: [1, 2, 3, 4, 5, 6, 7, 8, 9]\n"
     ]
    }
   ],
   "source": [
    "def is_armstrong_number(num):\n",
    "    num_str = str(num)\n",
    "    num_digits = len(num_str)\n",
    "    armstrong_sum = sum(int(digit) ** num_digits for digit in num_str)\n",
    "    return armstrong_sum == num\n",
    "\n",
    "def armstrong_range(n1, n2):\n",
    "    armstrong_numbers = [num for num in range(n1, n2 + 1) if is_armstrong_number(num)]\n",
    "    print(f\"Armstrong numbers between {n1} and {n2}: {armstrong_numbers}\")\n",
    "\n",
    "# Example usage\n",
    "n1 = int(input(\"Enter the starting integer (n1): \"))\n",
    "n2 = int(input(\"Enter the ending integer (n2): \"))\n",
    "\n",
    "armstrong_range(n1, n2)"
   ]
  },
  {
   "cell_type": "markdown",
   "id": "72223d0c",
   "metadata": {},
   "source": [
    "## Q4. Write a Python program to check if a triangle is equilateral, isosceles or scalene.\n",
    "Note :\n",
    "An equilateral triangle is a triangle in which all three sides are equal.\n",
    "A scalene triangle is a triangle that has three unequal sides.\n",
    "An isosceles triangle is a triangle with (at least) two equal sides."
   ]
  },
  {
   "cell_type": "code",
   "execution_count": 4,
   "id": "cc8cb0fa",
   "metadata": {},
   "outputs": [
    {
     "name": "stdout",
     "output_type": "stream",
     "text": [
      "Enter the length of the first side: 56\n",
      "Enter the length of the second side: 45\n",
      "Enter the length of the third side: 56\n",
      "Isosceles Triangle\n"
     ]
    }
   ],
   "source": [
    "def check_triangle_type(side1, side2, side3):\n",
    "    if side1 <= 0 or side2 <= 0 or side3 <= 0:\n",
    "        return \"Invalid input. All side lengths should be positive.\"\n",
    "    elif side1 == side2 == side3:\n",
    "        return \"Equilateral Triangle\"\n",
    "    elif side1 == side2 or side1 == side3 or side2 == side3:\n",
    "        return \"Isosceles Triangle\"\n",
    "    else:\n",
    "        return \"Scalene Triangle\"\n",
    "\n",
    "\n",
    "side1 = float(input(\"Enter the length of the first side: \"))\n",
    "side2 = float(input(\"Enter the length of the second side: \"))\n",
    "side3 = float(input(\"Enter the length of the third side: \"))\n",
    "    \n",
    "triangle_type = check_triangle_type(side1, side2, side3)\n",
    "print(triangle_type)"
   ]
  },
  {
   "cell_type": "markdown",
   "id": "dfc3b1d2",
   "metadata": {},
   "source": [
    "## Q5 Print the following triangle\n",
    "```\n",
    "* * * * * * * * *\n",
    "  * * * * * * *\n",
    "    * * * * *\n",
    "      * * *\n",
    "        *\n",
    "```"
   ]
  },
  {
   "cell_type": "code",
   "execution_count": 5,
   "id": "8019e0e8",
   "metadata": {},
   "outputs": [
    {
     "name": "stdout",
     "output_type": "stream",
     "text": [
      "Specify the number of rows in the triangle 5\n",
      "* * * * * * * * * \n",
      "  * * * * * * * \n",
      "    * * * * * \n",
      "      * * * \n",
      "        * \n"
     ]
    }
   ],
   "source": [
    "def print_triangle(rows):\n",
    "    for i in range(rows, 0, -1):\n",
    "        print(\"  \" * (rows - i) + \"* \" * (2 * i - 1))\n",
    "\n",
    "rows: int = int(input(\"Specify the number of rows in the triangle \"))\n",
    "print_triangle(rows)\n"
   ]
  },
  {
   "cell_type": "code",
   "execution_count": 6,
   "id": "0bad88b3",
   "metadata": {},
   "outputs": [
    {
     "name": "stdout",
     "output_type": "stream",
     "text": [
      "Specify the number of rows in the triangle 5\n",
      "* * * * * * * * * \n",
      "  * * * * * * * \n",
      "    * * * * * \n",
      "      * * * \n",
      "        * \n"
     ]
    }
   ],
   "source": [
    "def print_triangle(rows):\n",
    "    for i in range(rows, 0, -1):\n",
    "        for _ in range(rows - i):\n",
    "            print(\"  \", end=\"\")\n",
    "        for _ in range(2 * i - 1):\n",
    "            print(\"* \", end=\"\")\n",
    "        print()\n",
    "\n",
    "rows: int = int(input(\"Specify the number of rows in the triangle \"))\n",
    "print_triangle(rows)"
   ]
  },
  {
   "cell_type": "markdown",
   "id": "a528a7eb",
   "metadata": {},
   "source": [
    "## Q6. Print the following pattern\n",
    "```\n",
    "* * * *\n",
    " * * *\n",
    "  * *\n",
    "   *\n",
    "  * *\n",
    " * * *\n",
    "* * * *\n",
    "```"
   ]
  },
  {
   "cell_type": "code",
   "execution_count": 7,
   "id": "91b4fbef",
   "metadata": {},
   "outputs": [
    {
     "name": "stdout",
     "output_type": "stream",
     "text": [
      "Specify the number of rows in the triangle 5\n",
      "* * * * * \n",
      " * * * * \n",
      "  * * * \n",
      "   * * \n",
      "    * \n",
      "   * * \n",
      "  * * * \n",
      " * * * * \n",
      "* * * * * \n"
     ]
    }
   ],
   "source": [
    "def print_pattern(rows):\n",
    "    for i in range(rows, 0, -1):\n",
    "        print(\" \" * (rows - i) + \"* \" * i)\n",
    "\n",
    "    for i in range(2, rows + 1):\n",
    "        print(\" \" * (rows - i) + \"* \" * i)\n",
    "\n",
    "rows: int = int(input(\"Specify the number of rows in the triangle \"))\n",
    "print_pattern(rows)\n"
   ]
  },
  {
   "cell_type": "markdown",
   "id": "2f161472",
   "metadata": {},
   "source": [
    "## Q7. Print the following pattern\n",
    "```\n",
    "* * * *\n",
    " * * * *\n",
    "  * * * *\n",
    "   * * * *\n",
    "    * * * *\n",
    "```"
   ]
  },
  {
   "cell_type": "code",
   "execution_count": 8,
   "id": "02aabe59",
   "metadata": {},
   "outputs": [
    {
     "name": "stdout",
     "output_type": "stream",
     "text": [
      "Specify the number of rows in the triangle 5\n",
      "* * * * \n",
      " * * * * \n",
      "  * * * * \n",
      "   * * * * \n",
      "    * * * * \n"
     ]
    }
   ],
   "source": [
    "def print_pattern(rows):\n",
    "    for i in range(1, rows+1):\n",
    "        for j in range(i-1):\n",
    "            print(\" \", end=\"\")\n",
    "        for k in range(rows-1):\n",
    "            print(\"* \", end=\"\")\n",
    "        print()\n",
    "\n",
    "rows: int = int(input(\"Specify the number of rows in the triangle \"))\n",
    "print_pattern(rows)"
   ]
  }
 ],
 "metadata": {
  "kernelspec": {
   "display_name": "Python 3 (ipykernel)",
   "language": "python",
   "name": "python3"
  },
  "language_info": {
   "codemirror_mode": {
    "name": "ipython",
    "version": 3
   },
   "file_extension": ".py",
   "mimetype": "text/x-python",
   "name": "python",
   "nbconvert_exporter": "python",
   "pygments_lexer": "ipython3",
   "version": "3.9.13"
  }
 },
 "nbformat": 4,
 "nbformat_minor": 5
}
