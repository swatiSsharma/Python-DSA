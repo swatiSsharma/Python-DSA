{
 "cells": [
  {
   "cell_type": "markdown",
   "id": "647e4664",
   "metadata": {},
   "source": [
    "# Assignment - I"
   ]
  },
  {
   "cell_type": "markdown",
   "id": "f2edabec",
   "metadata": {},
   "source": [
    "# Q1. There are two variables.\n",
    "a=5\n",
    "b=10\n",
    "What will be the output of following:\n",
    "- a > 5 and b >= 10\n",
    "- a >= 5 or not b > 10\n",
    "- not ( a > 5 and b > 5)\n",
    "- not ( a < 10 or not b < 10)\n",
    "- not ( not a <= 5 or not b >= 10)"
   ]
  },
  {
   "cell_type": "code",
   "execution_count": 1,
   "id": "81a59fbc",
   "metadata": {},
   "outputs": [],
   "source": [
    "a = 5\n",
    "b = 10"
   ]
  },
  {
   "cell_type": "code",
   "execution_count": 2,
   "id": "674e39e9",
   "metadata": {},
   "outputs": [
    {
     "name": "stdout",
     "output_type": "stream",
     "text": [
      "False\n"
     ]
    }
   ],
   "source": [
    "print(a > 5 and b >= 10) # False"
   ]
  },
  {
   "cell_type": "code",
   "execution_count": 3,
   "id": "bb2d369d",
   "metadata": {},
   "outputs": [
    {
     "name": "stdout",
     "output_type": "stream",
     "text": [
      "True\n"
     ]
    }
   ],
   "source": [
    "print(a >= 5 or not b > 10) # True"
   ]
  },
  {
   "cell_type": "code",
   "execution_count": 4,
   "id": "febd4595",
   "metadata": {},
   "outputs": [
    {
     "name": "stdout",
     "output_type": "stream",
     "text": [
      "True\n"
     ]
    }
   ],
   "source": [
    "print(not ( a > 5 and b > 5)) # True"
   ]
  },
  {
   "cell_type": "code",
   "execution_count": 5,
   "id": "f742d72a",
   "metadata": {},
   "outputs": [
    {
     "name": "stdout",
     "output_type": "stream",
     "text": [
      "False\n"
     ]
    }
   ],
   "source": [
    "print(not ( a < 10 or not b < 10)) # False"
   ]
  },
  {
   "cell_type": "code",
   "execution_count": 6,
   "id": "42c0d97f",
   "metadata": {},
   "outputs": [
    {
     "name": "stdout",
     "output_type": "stream",
     "text": [
      "True\n"
     ]
    }
   ],
   "source": [
    "print(not ( not a <= 5 or not b >= 10)) # True"
   ]
  },
  {
   "cell_type": "markdown",
   "id": "386d5f7e",
   "metadata": {},
   "source": [
    "1) a > 5 and b >= 10\n",
    "a is 5, which is not greater than 5. So, the first part (a > 5) is False.\n",
    "b is 10, which is equal to 10. So, the second part (b >= 10) is True.\n",
    "The overall expression is False (False and True).\n",
    "\n",
    "2) a >= 5 or not b > 10\n",
    "a is 5, which is equal to 5. So, the first part (a >= 5) is True.\n",
    "b is 10, which is greater than 10. So, the second part (not b > 10) is False.\n",
    "The overall expression is True (True or False).\n",
    "\n",
    "3) not ( a > 5 and b > 5)\n",
    "a is 5, which is not greater than 5. So, the first part (a > 5) is False.\n",
    "b is 10, which is greater than 5. So, the second part (b > 5) is True.\n",
    "The expression inside the parentheses is False (False and True), and the not negates it, resulting in True.\n",
    "\n",
    "4) not ( a < 10 or not b < 10)\n",
    "a is 5, which is less than 10. So, the first part (a < 10) is True.\n",
    "b is 10, which is not less than 10. So, the second part (not b < 10) is False.\n",
    "The expression inside the parentheses is True (True or False), and the not negates it, resulting in False.\n",
    "\n",
    "5) not ( not a <= 5 or not b >= 10)\n",
    "a is 5, which is equal to 5. So, the first part (not a <= 5) is False.\n",
    "b is 10, which is greater than 10. So, the second part (not b >= 10) is False.\n",
    "The expression inside the parentheses is False (False or False), and the not negates it, resulting in True."
   ]
  },
  {
   "cell_type": "markdown",
   "id": "4fd8afb5",
   "metadata": {},
   "source": [
    "# Q2. Python program to convert kilometers to miles. Ask kilometer from User."
   ]
  },
  {
   "cell_type": "code",
   "execution_count": 7,
   "id": "dc1a4b2c",
   "metadata": {},
   "outputs": [
    {
     "name": "stdout",
     "output_type": "stream",
     "text": [
      "Enter number of kilometers for conversion to miles: 57.78\n",
      "57.78 to miles are: 35.902816380000004\n"
     ]
    }
   ],
   "source": [
    "km = float(input('Enter number of kilometers for conversion to miles: '))\n",
    "\n",
    "print(f'{km} to miles are: {km*0.621371}')"
   ]
  },
  {
   "cell_type": "markdown",
   "id": "801bc139",
   "metadata": {},
   "source": [
    "# Q3. Ask 3 numbers from User and Calculate the Average."
   ]
  },
  {
   "cell_type": "code",
   "execution_count": 8,
   "id": "6f6b012c",
   "metadata": {},
   "outputs": [
    {
     "name": "stdout",
     "output_type": "stream",
     "text": [
      "Enter the first number: 789.03\n",
      "Enter the second number: 334.66\n",
      "Enter the third number: 5454\n",
      "The average of the three numbers is: 2192.5633333333335\n"
     ]
    }
   ],
   "source": [
    "# Ask user for three numbers\n",
    "num1 = float(input(\"Enter the first number: \"))\n",
    "num2 = float(input(\"Enter the second number: \"))\n",
    "num3 = float(input(\"Enter the third number: \"))\n",
    "\n",
    "# Calculate average\n",
    "average = (num1 + num2 + num3) / 3\n",
    "\n",
    "# Display the result\n",
    "print(\"The average of the three numbers is:\", average)\n"
   ]
  },
  {
   "cell_type": "markdown",
   "id": "51a98017",
   "metadata": {},
   "source": [
    "# Q4. Ask value in Rupees and Convert into Paise."
   ]
  },
  {
   "cell_type": "code",
   "execution_count": 9,
   "id": "82db6528",
   "metadata": {},
   "outputs": [
    {
     "name": "stdout",
     "output_type": "stream",
     "text": [
      "Enter number of Rupee for conversion into paise: 500.0967\n",
      "500.0967 to miles are: 50009.67\n"
     ]
    }
   ],
   "source": [
    "rupee = float(input('Enter number of Rupee for conversion into paise: '))\n",
    "\n",
    "print(f'{rupee} to miles are: {rupee*100}')"
   ]
  },
  {
   "cell_type": "markdown",
   "id": "7550506e",
   "metadata": {},
   "source": [
    "# Q5.  Calculate Area of Square by taking side from User."
   ]
  },
  {
   "cell_type": "code",
   "execution_count": 10,
   "id": "b7aadde5",
   "metadata": {},
   "outputs": [
    {
     "name": "stdout",
     "output_type": "stream",
     "text": [
      "Enter the length of the side of the square: 67\n",
      "The area of the square with side length 67.0 is: 4489.0\n"
     ]
    }
   ],
   "source": [
    "# Ask user for the length of the side\n",
    "side_length = float(input(\"Enter the length of the side of the square: \"))\n",
    "\n",
    "# Calculate area\n",
    "area = side_length ** 2\n",
    "\n",
    "# Display the result\n",
    "print(\"The area of the square with side length\", side_length, \"is:\", area)"
   ]
  },
  {
   "cell_type": "markdown",
   "id": "00e131da",
   "metadata": {},
   "source": [
    "# Q6. Ask number of games played in a tournament. Ask the user number of games won and number of games loss. Calculate number of tie and total Points. (1 win= 4 points, 1 tie =2 points"
   ]
  },
  {
   "cell_type": "code",
   "execution_count": 11,
   "id": "59949134",
   "metadata": {},
   "outputs": [
    {
     "name": "stdout",
     "output_type": "stream",
     "text": [
      "Enter the total number of games played: 982\n",
      "Enter the number of games won: 980\n",
      "Enter the number of games lost: 2\n",
      "Number of games tied: 0\n",
      "Total points: 3920\n"
     ]
    }
   ],
   "source": [
    "# Ask user for the number of games played, games won, and games lost\n",
    "total_games = int(input(\"Enter the total number of games played: \"))\n",
    "games_won = int(input(\"Enter the number of games won: \"))\n",
    "games_lost = int(input(\"Enter the number of games lost: \"))\n",
    "\n",
    "# Calculate number of ties\n",
    "games_tied = total_games - games_won - games_lost\n",
    "\n",
    "# Calculate total points\n",
    "total_points = (games_won * 4) + (games_tied * 2)\n",
    "\n",
    "# Display the results\n",
    "print(\"Number of games tied:\", games_tied)\n",
    "print(\"Total points:\", total_points)"
   ]
  },
  {
   "cell_type": "markdown",
   "id": "53b28740",
   "metadata": {},
   "source": [
    "# Q7. Check if the number entered by User is divisible by 3 or not."
   ]
  },
  {
   "cell_type": "code",
   "execution_count": 12,
   "id": "dba47d9e",
   "metadata": {},
   "outputs": [
    {
     "name": "stdout",
     "output_type": "stream",
     "text": [
      "Enter a number: 2467.789\n",
      "2467.789 is not divisible by 3.\n"
     ]
    }
   ],
   "source": [
    "# Ask user for a number\n",
    "user_number = float(input(\"Enter a number: \"))\n",
    "\n",
    "# Check if the number is divisible by 3\n",
    "if user_number % 3 == 0:\n",
    "    print(f\"{user_number} is divisible by 3.\")\n",
    "else:\n",
    "    print(f\"{user_number} is not divisible by 3.\")"
   ]
  },
  {
   "cell_type": "markdown",
   "id": "45e55b75",
   "metadata": {},
   "source": [
    "# Q8. Ask a number from user. Print if the number is ODD or EVEN."
   ]
  },
  {
   "cell_type": "code",
   "execution_count": 13,
   "id": "0da79da0",
   "metadata": {},
   "outputs": [
    {
     "name": "stdout",
     "output_type": "stream",
     "text": [
      "Enter a number: 9876.097\n",
      "9876.097 is an ODD number.\n"
     ]
    }
   ],
   "source": [
    "# Ask user for a number\n",
    "user_number = float(input(\"Enter a number: \"))\n",
    "\n",
    "# Check if the number is ODD or EVEN\n",
    "if user_number % 2 == 0:\n",
    "    print(f\"{user_number} is an EVEN number.\")\n",
    "else:\n",
    "    print(f\"{user_number} is an ODD number.\")"
   ]
  },
  {
   "cell_type": "markdown",
   "id": "202fc0f2",
   "metadata": {},
   "source": [
    "# Q9. Take values of length and breadth of a rectangle from user and check if it is square or not."
   ]
  },
  {
   "cell_type": "code",
   "execution_count": 14,
   "id": "95dec30a",
   "metadata": {},
   "outputs": [
    {
     "name": "stdout",
     "output_type": "stream",
     "text": [
      "Enter the length of the rectangle: 43\n",
      "Enter the breadth of the rectangle: 34\n",
      "It is not a square.\n"
     ]
    }
   ],
   "source": [
    "# Ask user for the length and breadth of a rectangle\n",
    "length = float(input(\"Enter the length of the rectangle: \"))\n",
    "breadth = float(input(\"Enter the breadth of the rectangle: \"))\n",
    "\n",
    "# Check if it is a square or not\n",
    "if length == breadth:\n",
    "    print(\"It is a square.\")\n",
    "else:\n",
    "    print(\"It is not a square.\")"
   ]
  }
 ],
 "metadata": {
  "kernelspec": {
   "display_name": "Python 3 (ipykernel)",
   "language": "python",
   "name": "python3"
  },
  "language_info": {
   "codemirror_mode": {
    "name": "ipython",
    "version": 3
   },
   "file_extension": ".py",
   "mimetype": "text/x-python",
   "name": "python",
   "nbconvert_exporter": "python",
   "pygments_lexer": "ipython3",
   "version": "3.9.13"
  }
 },
 "nbformat": 4,
 "nbformat_minor": 5
}
