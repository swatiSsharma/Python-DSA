{
 "cells": [
  {
   "cell_type": "markdown",
   "id": "e7dc2d24",
   "metadata": {},
   "source": [
    "# Find the peak element\n",
    "\n",
    "```\n",
    "A peak element is an element that is strictly greater than its neighbors.\n",
    "\n",
    "Given a 0-indexed integer array nums, find a peak element, and return its index. If the array contains multiple peaks, return the index to any of the peaks.\n",
    "\n",
    "You may imagine that nums[-1] = nums[n] = -∞. In other words, an element is always considered to be strictly greater than a neighbor that is outside the array.\n",
    "\n",
    "You must write an algorithm that runs in O(log n) time.\n",
    "\n",
    " \n",
    "\n",
    "Example 1:\n",
    "\n",
    "Input: nums = [1,2,3,1]\n",
    "Output: 2\n",
    "Explanation: 3 is a peak element and your function should return the index number 2.\n",
    "Example 2:\n",
    "\n",
    "Input: nums = [1,2,1,3,5,6,4]\n",
    "Output: 5\n",
    "Explanation: Your function can return either index number 1 where the peak element is 2, or index number 5 where the peak element is 6.\n",
    " \n",
    "\n",
    "Constraints:\n",
    "\n",
    "1 <= nums.length <= 1000\n",
    "-231 <= nums[i] <= 231 - 1\n",
    "nums[i] != nums[i + 1] for all valid i.\n",
    "```"
   ]
  },
  {
   "cell_type": "markdown",
   "id": "83f3be77",
   "metadata": {},
   "source": [
    "```\n",
    "To solve for the edge cases, so here is an easy to understand solution.\n",
    "\n",
    "First thing to consider is there can be multiple peaks and we only need to return one of the peaks.\n",
    "Here we are not discarding one half of the array but selecting the half where we definitely know that a peak exists.\n",
    "There are 2 cases to consider here, if the peak exists in the left half or right half\n",
    "If your middle element is less than the right side element then there exists a peak on the right side. (eg. First case)\n",
    "If your middle element is less than the left element then there exists a peak on the left side (eg. Second case), else you are at a peak hence return.\n",
    "Now the edge case for this check is if we keep checking left side we will reach 0 and if we keep checking the right side we will reach the end. Hence we add that condition in the above checks.\n",
    "\n",
    "Note: It is important to see that for first and last element we only need check one neighbour.\n",
    "```"
   ]
  },
  {
   "cell_type": "code",
   "execution_count": null,
   "id": "831af2cd",
   "metadata": {},
   "outputs": [],
   "source": [
    "# Optimal Solution\n",
    "class Solution:\n",
    "    def findPeakElement(self, nums: List[int]) -> int:\n",
    "        n = len(nums)\n",
    "        low, high = 0, n-1\n",
    "        if n == 1 or nums[0] > nums[1]:\n",
    "            return 0\n",
    "        if nums[-1] > nums[-2]:\n",
    "            return n-1\n",
    "        while low <= high:\n",
    "            mid = ((high-low)//2) + low\n",
    "            # Peak element is present in right side\n",
    "            if nums[mid] < nums[mid+1]:\n",
    "                low = mid+1\n",
    "            # Peak element is present in left side\n",
    "            elif nums[mid] < nums[mid-1]:\n",
    "                high = mid-1\n",
    "            else:\n",
    "                return mid # compare mid with mid-1 and mid+1"
   ]
  }
 ],
 "metadata": {
  "kernelspec": {
   "display_name": "Python 3 (ipykernel)",
   "language": "python",
   "name": "python3"
  },
  "language_info": {
   "codemirror_mode": {
    "name": "ipython",
    "version": 3
   },
   "file_extension": ".py",
   "mimetype": "text/x-python",
   "name": "python",
   "nbconvert_exporter": "python",
   "pygments_lexer": "ipython3",
   "version": "3.9.13"
  }
 },
 "nbformat": 4,
 "nbformat_minor": 5
}
