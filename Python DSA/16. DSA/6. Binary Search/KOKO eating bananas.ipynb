{
 "cells": [
  {
   "cell_type": "markdown",
   "id": "27aba055",
   "metadata": {},
   "source": [
    "# KOKO eating bananas\n",
    "\n",
    "```\n",
    "Koko loves to eat bananas. There are n piles of bananas, the ith pile has piles[i] bananas. The guards have gone and will come back in h hours.\n",
    "\n",
    "Koko can decide her bananas-per-hour eating speed of k. Each hour, she chooses some pile of bananas and eats k bananas from that pile. If the pile has less than k bananas, she eats all of them instead and will not eat any more bananas during this hour.\n",
    "\n",
    "Koko likes to eat slowly but still wants to finish eating all the bananas before the guards return.\n",
    "\n",
    "Return the minimum integer k such that she can eat all the bananas within h hours.\n",
    "\n",
    " \n",
    "\n",
    "Example 1:\n",
    "\n",
    "Input: piles = [3,6,7,11], h = 8\n",
    "Output: 4\n",
    "Example 2:\n",
    "\n",
    "Input: piles = [30,11,23,4,20], h = 5\n",
    "Output: 30\n",
    "Example 3:\n",
    "\n",
    "Input: piles = [30,11,23,4,20], h = 6\n",
    "Output: 23\n",
    " \n",
    "\n",
    "Constraints:\n",
    "\n",
    "1 <= piles.length <= 104\n",
    "piles.length <= h <= 109\n",
    "1 <= piles[i] <= 109\n",
    "```"
   ]
  },
  {
   "cell_type": "code",
   "execution_count": 1,
   "id": "a5a60b8e",
   "metadata": {},
   "outputs": [
    {
     "name": "stdout",
     "output_type": "stream",
     "text": [
      "Minimum eating speed: 4\n"
     ]
    }
   ],
   "source": [
    "def min_eating_speed(piles, h):\n",
    "    # Function to check if Koko can eat all bananas within h hours with a given speed k\n",
    "    def can_eat_all(piles, k, h):\n",
    "        hours = 0\n",
    "        for bananas in piles:\n",
    "            hours += (bananas + k - 1) // k  # Ceil division to handle cases where bananas < k\n",
    "        return hours <= h\n",
    "    \n",
    "    # Binary search for the minimum k\n",
    "    left = 1\n",
    "    right = max(piles)\n",
    "    \n",
    "    while left < right:\n",
    "        mid = (left + right) // 2\n",
    "        if can_eat_all(piles, mid, h):\n",
    "            right = mid\n",
    "        else:\n",
    "            left = mid + 1\n",
    "    \n",
    "    return left\n",
    "\n",
    "# Example usage:\n",
    "piles = [3, 6, 7, 11]\n",
    "h = 8\n",
    "result = min_eating_speed(piles, h)\n",
    "print(\"Minimum eating speed:\", result)\n"
   ]
  }
 ],
 "metadata": {
  "kernelspec": {
   "display_name": "Python 3 (ipykernel)",
   "language": "python",
   "name": "python3"
  },
  "language_info": {
   "codemirror_mode": {
    "name": "ipython",
    "version": 3
   },
   "file_extension": ".py",
   "mimetype": "text/x-python",
   "name": "python",
   "nbconvert_exporter": "python",
   "pygments_lexer": "ipython3",
   "version": "3.9.13"
  }
 },
 "nbformat": 4,
 "nbformat_minor": 5
}
