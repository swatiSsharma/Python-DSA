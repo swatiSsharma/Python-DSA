{
 "cells": [
  {
   "cell_type": "markdown",
   "id": "2dcb8ec4",
   "metadata": {},
   "source": [
    "# Square Root of a number\n",
    "```\n",
    "You are given a positive integer ‘n’.\n",
    "\n",
    "Your task is to find and return its square root. If ‘n’ is not a perfect square, then return the floor value of sqrt(n).\n",
    "\n",
    "Example:\n",
    "Input: ‘n’ = 7\n",
    "\n",
    "Output: 2\n",
    "\n",
    "Explanation:\n",
    "The square root of the number 7 lies between 2 and 3, so the floor value is 2.\n",
    "\n",
    "\n",
    "Detailed explanation ( Input/output format, Notes, Images )\n",
    "Sample Input 1:\n",
    "6\n",
    "Sample Output 1:\n",
    "2\n",
    "Explanation of Sample Input 1:\n",
    "The square root of the given number 6 lies between 2 and 3, so the floor value is 2.\n",
    "Sample Input 2:\n",
    "100\n",
    "Sample Output 2:\n",
    "10\n",
    "Explanation of Sample Output 2:\n",
    "The square root of the given number 100 is 10.\n",
    "Expected Time Complexity:\n",
    "Try solving this in O(log(n)).\n",
    "Constraints:\n",
    "0 <= n <= 10 ^ 9\n",
    "\n",
    "Time Limit: 1 sec.\n",
    "```"
   ]
  },
  {
   "cell_type": "code",
   "execution_count": null,
   "id": "1a0c271a",
   "metadata": {},
   "outputs": [],
   "source": [
    "def sqrt(n):\n",
    "    if n == 0 or n == 1:\n",
    "        return n\n",
    "    \n",
    "    left = 1\n",
    "    right = n\n",
    "    \n",
    "    while left <= right:\n",
    "        mid = (left + right) // 2\n",
    "        mid_squared = mid * mid\n",
    "        \n",
    "        if mid_squared == n:\n",
    "            return mid\n",
    "        elif mid_squared < n:\n",
    "            left = mid + 1\n",
    "        else:\n",
    "            right = mid - 1\n",
    "    \n",
    "    # If the exact square root is not found, return the floor value\n",
    "    return right\n",
    "\n",
    "n = int(input())\n",
    "print(sqrt(n))"
   ]
  }
 ],
 "metadata": {
  "kernelspec": {
   "display_name": "Python 3 (ipykernel)",
   "language": "python",
   "name": "python3"
  },
  "language_info": {
   "codemirror_mode": {
    "name": "ipython",
    "version": 3
   },
   "file_extension": ".py",
   "mimetype": "text/x-python",
   "name": "python",
   "nbconvert_exporter": "python",
   "pygments_lexer": "ipython3",
   "version": "3.9.13"
  }
 },
 "nbformat": 4,
 "nbformat_minor": 5
}
