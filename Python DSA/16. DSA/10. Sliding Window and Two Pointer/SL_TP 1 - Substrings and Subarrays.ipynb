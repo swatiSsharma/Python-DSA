{
 "cells": [
  {
   "cell_type": "markdown",
   "id": "cf81f4ab",
   "metadata": {},
   "source": [
    "# Substrings and Subarrays\n",
    "```\n",
    "Substrings and subarrays are common concepts in computer science, especially when dealing with problems involving strings and arrays. Let's go over the definitions and examples for each, as well as how to solve some common problems using these concepts.\n",
    "```\n",
    "## **Substring**\n",
    "```\n",
    "A substring is a contiguous sequence of characters within a string. For example, the substrings of \"abc\" include \"a\", \"b\", \"c\", \"ab\", \"bc\", and \"abc\".\n",
    "\n",
    "Example Problem: Find All Unique Substrings\n",
    "\n",
    "Given a string, find all unique substrings of length k.\n",
    "\n",
    "Solution:\n",
    "\n",
    "Use a sliding window of size k.\n",
    "Slide the window across the string.\n",
    "Add each substring to a set to ensure uniqueness.\n",
    "```"
   ]
  },
  {
   "cell_type": "code",
   "execution_count": 1,
   "id": "1aa3663a",
   "metadata": {},
   "outputs": [
    {
     "name": "stdout",
     "output_type": "stream",
     "text": [
      "{'bca', 'abc', 'cab'}\n"
     ]
    }
   ],
   "source": [
    "def unique_substrings(s, k):\n",
    "    if k > len(s):\n",
    "        return set()  # If k is larger than the string length, return an empty set\n",
    "    \n",
    "    unique_subs = set()\n",
    "    for i in range(len(s) - k + 1):\n",
    "        substring = s[i:i + k]\n",
    "        unique_subs.add(substring)\n",
    "    \n",
    "    return unique_subs\n",
    "\n",
    "# Example usage\n",
    "s = \"abcabc\"\n",
    "k = 3\n",
    "print(unique_substrings(s, k))  # Output: {'abc', 'bca', 'cab'}"
   ]
  },
  {
   "cell_type": "markdown",
   "id": "335eb744",
   "metadata": {},
   "source": [
    "## **Subarray**\n",
    "```\n",
    "A subarray is a contiguous sequence of elements within an array. For example, the subarrays of [1, 2, 3] include [1], [2], [3], [1, 2], [2, 3], and [1, 2, 3].\n",
    "\n",
    "Example Problem: Maximum Sum Subarray (Kadane's Algorithm)\n",
    "\n",
    "Given an array, find the contiguous subarray with the maximum sum.\n",
    "\n",
    "Solution:\n",
    "\n",
    "Initialize two variables: max_so_far and max_ending_here with the first element of the array.\n",
    "Traverse the array starting from the second element.\n",
    "Update max_ending_here to be the maximum of the current element and max_ending_here plus the current element.\n",
    "Update max_so_far to be the maximum of max_so_far and max_ending_here.\n",
    "```"
   ]
  },
  {
   "cell_type": "code",
   "execution_count": 2,
   "id": "98255db3",
   "metadata": {},
   "outputs": [
    {
     "name": "stdout",
     "output_type": "stream",
     "text": [
      "6\n"
     ]
    }
   ],
   "source": [
    "def max_subarray_sum(arr):\n",
    "    if not arr:\n",
    "        return 0\n",
    "    \n",
    "    max_so_far = max_ending_here = arr[0]\n",
    "\n",
    "    for num in arr[1:]:\n",
    "        max_ending_here = max(num, max_ending_here + num)\n",
    "        max_so_far = max(max_so_far, max_ending_here)\n",
    "    \n",
    "    return max_so_far\n",
    "\n",
    "# Example usage\n",
    "arr = [-2, 1, -3, 4, -1, 2, 1, -5, 4]\n",
    "print(max_subarray_sum(arr))  # Output: 6 (subarray [4, -1, 2, 1])"
   ]
  },
  {
   "cell_type": "markdown",
   "id": "e7341284",
   "metadata": {},
   "source": [
    "## **Combining Substring and Subarray Techniques**\n",
    "```\n",
    "Sometimes, problems require a combination of substring and subarray techniques. For example, finding the longest common substring between two strings can be approached using dynamic programming, which is conceptually similar to finding the maximum sum subarray but applied to two dimensions.\n",
    "\n",
    "Example Problem: Longest Common Substring\n",
    "\n",
    "Given two strings, find the length of their longest common substring.\n",
    "\n",
    "Solution:\n",
    "\n",
    "Use a 2D array dp where dp[i][j] represents the length of the longest common substring ending at s1[i-1] and s2[j-1].\n",
    "If characters match, dp[i][j] = dp[i-1][j-1] + 1.\n",
    "If characters don't match, dp[i][j] = 0.\n",
    "Track the maximum value in the dp array.\n",
    "```"
   ]
  },
  {
   "cell_type": "code",
   "execution_count": 3,
   "id": "1ee3eb9a",
   "metadata": {},
   "outputs": [
    {
     "name": "stdout",
     "output_type": "stream",
     "text": [
      "3\n"
     ]
    }
   ],
   "source": [
    "def longest_common_substring(s1, s2):\n",
    "    m, n = len(s1), len(s2)\n",
    "    dp = [[0] * (n + 1) for _ in range(m + 1)]\n",
    "    max_len = 0\n",
    "\n",
    "    for i in range(1, m + 1):\n",
    "        for j in range(1, n + 1):\n",
    "            if s1[i - 1] == s2[j - 1]:\n",
    "                dp[i][j] = dp[i - 1][j - 1] + 1\n",
    "                max_len = max(max_len, dp[i][j])\n",
    "    \n",
    "    return max_len\n",
    "\n",
    "# Example usage\n",
    "s1 = \"abcdef\"\n",
    "s2 = \"zcdemf\"\n",
    "print(longest_common_substring(s1, s2))  # Output: 3 (common substring \"cde\")"
   ]
  },
  {
   "cell_type": "markdown",
   "id": "f628b53c",
   "metadata": {},
   "source": [
    "These examples illustrate how to work with substrings and subarrays using different techniques to solve various problems efficiently."
   ]
  }
 ],
 "metadata": {
  "kernelspec": {
   "display_name": "Python 3 (ipykernel)",
   "language": "python",
   "name": "python3"
  },
  "language_info": {
   "codemirror_mode": {
    "name": "ipython",
    "version": 3
   },
   "file_extension": ".py",
   "mimetype": "text/x-python",
   "name": "python",
   "nbconvert_exporter": "python",
   "pygments_lexer": "ipython3",
   "version": "3.9.13"
  }
 },
 "nbformat": 4,
 "nbformat_minor": 5
}
