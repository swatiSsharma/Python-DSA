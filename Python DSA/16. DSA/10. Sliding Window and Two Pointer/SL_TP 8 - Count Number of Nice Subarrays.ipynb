{
 "cells": [
  {
   "cell_type": "markdown",
   "id": "3798f4da",
   "metadata": {},
   "source": [
    "# Count Number of Nice Subarrays\n",
    "```\n",
    "Given an array of integers nums and an integer k. A continuous subarray is called nice if there are k odd numbers on it.\n",
    "\n",
    "Return the number of nice sub-arrays.\n",
    "\n",
    " \n",
    "\n",
    "Example 1:\n",
    "\n",
    "Input: nums = [1,1,2,1,1], k = 3\n",
    "Output: 2\n",
    "Explanation: The only sub-arrays with 3 odd numbers are [1,1,2,1] and [1,2,1,1].\n",
    "Example 2:\n",
    "\n",
    "Input: nums = [2,4,6], k = 1\n",
    "Output: 0\n",
    "Explanation: There is no odd numbers in the array.\n",
    "Example 3:\n",
    "\n",
    "Input: nums = [2,2,2,1,2,2,1,2,2,2], k = 2\n",
    "Output: 16\n",
    " \n",
    "\n",
    "Constraints:\n",
    "\n",
    "1 <= nums.length <= 50000\n",
    "1 <= nums[i] <= 10^5\n",
    "1 <= k <= nums.length\n",
    "```"
   ]
  },
  {
   "cell_type": "code",
   "execution_count": 1,
   "id": "910f9f60",
   "metadata": {},
   "outputs": [
    {
     "name": "stdout",
     "output_type": "stream",
     "text": [
      "2\n"
     ]
    }
   ],
   "source": [
    "# Optimal Solution\n",
    "\n",
    "# Counts the number of subarrays in a list nums with at most k odd numbers and then subtracts the count of subarrays \n",
    "# with at most k-1 odd numbers to get the count of subarrays with exactly k odd numbers.\n",
    "\n",
    "from typing import List\n",
    "\n",
    "\"\"\"\n",
    "Time complexity -> O(2 * 2N)\n",
    "N is the number of elements in nums\n",
    "\n",
    "Space complexity -> O(1)\n",
    "\"\"\"\n",
    "\n",
    "class Solution:\n",
    "    def countSubArrayLessThanOrEqualToGoal(self, nums: List[int], goal: int) -> int:\n",
    "        if goal < 0:\n",
    "            return 0  # If goal is negative, no valid subarray exists\n",
    "        count = 0  # Initialize the count of valid subarrays\n",
    "        n = len(nums)\n",
    "        left = 0  # Initialize the left pointer of the sliding window\n",
    "        right = 0  # Initialize the right pointer of the sliding window\n",
    "        Sum = 0  # Initialize the sum of odd elements in the current window\n",
    "        \n",
    "        # Iterate over the array with the right pointer\n",
    "        while right < n:\n",
    "            Sum += nums[right] % 2  # Update the sum by adding the current element if it's odd\n",
    "            \n",
    "            # If the sum exceeds the goal, move the left pointer to the right\n",
    "            while Sum > goal:\n",
    "                Sum -= nums[left] % 2\n",
    "                left += 1\n",
    "            \n",
    "            # Count the number of subarrays with the current right end\n",
    "            count += (right - left + 1)\n",
    "            right += 1\n",
    "        \n",
    "        return count  # Return the total count of subarrays with at most 'goal' odd numbers\n",
    "\n",
    "    def numberOfSubarrays(self, nums: List[int], k: int) -> int:\n",
    "        # Calculate the number of subarrays with exactly 'k' odd numbers\n",
    "        return self.countSubArrayLessThanOrEqualToGoal(nums, k) - self.countSubArrayLessThanOrEqualToGoal(nums, k - 1)\n",
    "\n",
    "# Example usage:\n",
    "nums = [1, 1, 2, 1, 1]\n",
    "k = 3\n",
    "solution = Solution()\n",
    "print(solution.numberOfSubarrays(nums, k))  # Output: 2\n"
   ]
  },
  {
   "cell_type": "markdown",
   "id": "c0a3c99a",
   "metadata": {},
   "source": [
    "# Complexity Analysis\n",
    "\n",
    "**Time Complexity Analysis:** O(2×2N)\n",
    "\n",
    "1) countSubArrayLessThanOrEqualToGoal function:\n",
    "   - It iterates through the array nums once using two pointers (left and right).\n",
    "   - Each iteration involves constant time operations.\n",
    "   - Therefore, the time complexity of this function is O(2N), where N is the number of elements in nums.\n",
    "\n",
    "2) numberOfSubarrays function:\n",
    "   - It calls countSubArrayLessThanOrEqualToGoal function twice.\n",
    "   - Each call has a time complexity of O(2N).\n",
    "   - Therefore, the overall time complexity of numberOfSubarrays function is O(2×2N).\n",
    "\n",
    "**Space Complexity Analysis:** O(1)\n",
    "\n",
    "- The code uses a constant amount of extra space for variables like count, left, right, Sum, etc., regardless of the size of the input nums. Hence, the space complexity is O(1).\n",
    "\n",
    "In summary, the code efficiently calculates the number of subarrays with exactly k odd numbers in O(2×2N) time and O(1) space complexities."
   ]
  }
 ],
 "metadata": {
  "kernelspec": {
   "display_name": "Python 3 (ipykernel)",
   "language": "python",
   "name": "python3"
  },
  "language_info": {
   "codemirror_mode": {
    "name": "ipython",
    "version": 3
   },
   "file_extension": ".py",
   "mimetype": "text/x-python",
   "name": "python",
   "nbconvert_exporter": "python",
   "pygments_lexer": "ipython3",
   "version": "3.9.13"
  }
 },
 "nbformat": 4,
 "nbformat_minor": 5
}
