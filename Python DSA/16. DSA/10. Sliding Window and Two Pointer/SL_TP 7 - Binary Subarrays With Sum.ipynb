{
 "cells": [
  {
   "cell_type": "markdown",
   "id": "f4b4d4c0",
   "metadata": {},
   "source": [
    "# Binary Subarrays With Sum\n",
    "```\n",
    "Given a binary array nums and an integer goal, return the number of non-empty subarrays with a sum goal.\n",
    "\n",
    "A subarray is a contiguous part of the array.\n",
    "\n",
    "Example 1:\n",
    "\n",
    "Input: nums = [1,0,1,0,1], goal = 2\n",
    "Output: 4\n",
    "Explanation: The 4 subarrays are bolded and underlined below:\n",
    "[1,0,1,0,1]\n",
    "[1,0,1,0,1]\n",
    "[1,0,1,0,1]\n",
    "[1,0,1,0,1]\n",
    "Example 2:\n",
    "\n",
    "Input: nums = [0,0,0,0,0], goal = 0\n",
    "Output: 15\n",
    " \n",
    "\n",
    "Constraints:\n",
    "\n",
    "1 <= nums.length <= 3 * 104\n",
    "nums[i] is either 0 or 1.\n",
    "0 <= goal <= nums.length\n",
    "```"
   ]
  },
  {
   "cell_type": "code",
   "execution_count": 1,
   "id": "c8dd4e60",
   "metadata": {},
   "outputs": [
    {
     "name": "stdout",
     "output_type": "stream",
     "text": [
      "4\n"
     ]
    }
   ],
   "source": [
    "# Brute force\n",
    "from typing import List\n",
    "\n",
    "\"\"\"\n",
    "Time complexity -> O(N^2)\n",
    "N is the number of elements in nums\n",
    "\n",
    "Space complexity -> O(1)\n",
    "\"\"\"\n",
    "\n",
    "class Solution:\n",
    "    def numSubarraysWithSum(self, nums: List[int], goal: int) -> int:\n",
    "        count = 0  # Initialize the count of subarrays with sum equal to goal\n",
    "        n = len(nums)  # Get the length of the input list\n",
    "        \n",
    "        # Iterate over each starting point of the subarray\n",
    "        for i in range(n):\n",
    "            total = 0  # Initialize the total sum for the current subarray\n",
    "            \n",
    "            # Iterate over each ending point of the subarray\n",
    "            for j in range(i, n):\n",
    "                total += nums[j]  # Add the current element to the total sum\n",
    "                \n",
    "                # If the total sum exceeds the goal, break out of the inner loop\n",
    "                if total > goal:\n",
    "                    break\n",
    "                \n",
    "                # If the total sum equals the goal, increment the count\n",
    "                if total == goal:\n",
    "                    count += 1\n",
    "        \n",
    "        return count  # Return the count of subarrays with sum equal to goal\n",
    "\n",
    "# Example usage:\n",
    "nums = [1, 0, 1, 0, 1]\n",
    "goal = 2\n",
    "solution = Solution()\n",
    "print(solution.numSubarraysWithSum(nums, goal))  # Output: 4\n"
   ]
  },
  {
   "cell_type": "markdown",
   "id": "1282fa02",
   "metadata": {},
   "source": [
    "# Complexity Analysis\n",
    "\n",
    "**Time Complexity:** O(N ** 2)\n",
    " - The outer loop runs N times, and for each iteration, the inner loop runs up to N times. This gives a total of N * N = N^2 iterations.\n",
    " \n",
    "**Space Complexity:** O(1)\n",
    " - The space complexity is constant because no additional space proportional to the input size is used. Only a few integer variables are used.\n",
    " \n",
    "This solution, while straightforward, has a quadratic time complexity, making it less efficient for large input sizes."
   ]
  },
  {
   "cell_type": "code",
   "execution_count": 2,
   "id": "4eb2be48",
   "metadata": {},
   "outputs": [
    {
     "name": "stdout",
     "output_type": "stream",
     "text": [
      "4\n"
     ]
    }
   ],
   "source": [
    "# Optimal Solution \n",
    "\n",
    "# This code uses a sliding window approach to count the number of subarrays \n",
    "# with sums less than or equal to a given goal and utilizes this to find \n",
    "# the exact number of subarrays with sum equal to the goal.\n",
    "\n",
    "from typing import List\n",
    "\n",
    "\"\"\"\n",
    "Time complexity -> O(2 * N)\n",
    "N is the number of elements in nums\n",
    "\n",
    "Space complexity -> O(1)\n",
    "\"\"\"\n",
    "\n",
    "class Solution:\n",
    "    def countSubArrayLessThanOrEqualToGoal(self, nums: List[int], goal: int) -> int:\n",
    "        if goal < 0:\n",
    "            return 0  # If the goal is less than 0, no valid subarray exists\n",
    "        count = 0\n",
    "        n = len(nums)\n",
    "        left = 0\n",
    "        right = 0\n",
    "        Sum = 0\n",
    "        \n",
    "        # Iterate over the array with the right pointer\n",
    "        while right < n:\n",
    "            Sum += nums[right]  # Add the current element to the Sum\n",
    "            \n",
    "            # If the Sum exceeds the goal, move the left pointer to the right\n",
    "            while Sum > goal:\n",
    "                Sum -= nums[left]\n",
    "                left += 1\n",
    "            \n",
    "            # Count the number of subarrays with the current right end\n",
    "            count += (right - left + 1)\n",
    "            right += 1\n",
    "        \n",
    "        return count  # Return the total count of subarrays with sum less than or equal to goal\n",
    "\n",
    "    def numSubarraysWithSum(self, nums: List[int], goal: int) -> int:\n",
    "        # Calculate the number of subarrays with sum exactly equal to goal\n",
    "        return self.countSubArrayLessThanOrEqualToGoal(nums, goal) - self.countSubArrayLessThanOrEqualToGoal(nums, goal - 1)\n",
    "\n",
    "# Example usage:\n",
    "nums = [1, 0, 1, 0, 1]\n",
    "goal = 2\n",
    "solution = Solution()\n",
    "print(solution.numSubarraysWithSum(nums, goal))  # Output: 4\n"
   ]
  },
  {
   "cell_type": "markdown",
   "id": "a75bc809",
   "metadata": {},
   "source": [
    "# Complexity Analysis\n",
    "**Time Complexity:** O(2∗N) = O(N)\n",
    "\n",
    " - The countSubArrayLessThanOrEqualToGoal function is called twice, each with a linear pass through the array. Hence, the combined complexity is linear.\n",
    "\n",
    "**Space Complexity:** O(1)\n",
    "\n",
    " - The algorithm uses a constant amount of extra space for pointers and variables, independent of the input size.\n",
    " \n",
    "This solution efficiently counts the number of subarrays with a sum equal to the given goal using the sliding window technique."
   ]
  }
 ],
 "metadata": {
  "kernelspec": {
   "display_name": "Python 3 (ipykernel)",
   "language": "python",
   "name": "python3"
  },
  "language_info": {
   "codemirror_mode": {
    "name": "ipython",
    "version": 3
   },
   "file_extension": ".py",
   "mimetype": "text/x-python",
   "name": "python",
   "nbconvert_exporter": "python",
   "pygments_lexer": "ipython3",
   "version": "3.9.13"
  }
 },
 "nbformat": 4,
 "nbformat_minor": 5
}
