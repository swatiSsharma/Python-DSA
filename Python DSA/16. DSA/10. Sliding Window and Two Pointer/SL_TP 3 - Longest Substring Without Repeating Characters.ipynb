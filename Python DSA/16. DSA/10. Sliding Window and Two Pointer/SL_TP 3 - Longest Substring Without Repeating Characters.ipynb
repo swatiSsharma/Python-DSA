{
 "cells": [
  {
   "cell_type": "markdown",
   "id": "df36236a",
   "metadata": {},
   "source": [
    "# Longest Substring Without Repeating Characters\n",
    "```\n",
    "Given a string input of length n, find the length of the longest substring without repeating characters i.e return a substring that does not have any repeating characters.\n",
    "\n",
    "Substring is the continuous sub-part of the string formed by removing zero or more characters from both ends.\n",
    "\n",
    "Detailed explanation ( Input/output format, Notes, Images )\n",
    "Input Format\n",
    "\n",
    "the first and only line consists of a string of length n containing lowercase alphabets\n",
    "\n",
    "Output Format\n",
    "\n",
    "you need to print the length of the longest unique characters substring\n",
    "\n",
    "Constraints:\n",
    " 1<= n <=10^5\n",
    "\n",
    "Time Limit: 1 sec\n",
    "Sample Input 1:\n",
    " abcabcbb \n",
    "Sample Output1:\n",
    " 3\n",
    "Explanation For Sample Input 1:\n",
    "Substring \"abc\" has no repeating character with the length of 3.\n",
    "Sample Input 2:\n",
    " aaaa\n",
    "Sample Output 2:\n",
    "1\n",
    "```"
   ]
  },
  {
   "cell_type": "code",
   "execution_count": 1,
   "id": "0b0dda78",
   "metadata": {},
   "outputs": [
    {
     "name": "stdout",
     "output_type": "stream",
     "text": [
      "3\n"
     ]
    }
   ],
   "source": [
    "# Brute Force\n",
    "\n",
    "class Solution:\n",
    "    def lengthOfLongestSubstring(self, s: str) -> int:\n",
    "        # If the input string is empty, return 0 as there is no substring\n",
    "        if len(s) == 0:\n",
    "            return 0\n",
    "        \n",
    "        # Variable to store the maximum length of a substring without repeating characters\n",
    "        maxans = 0\n",
    "        \n",
    "        # Iterate through each character in the string as the starting point of the substring\n",
    "        for i in range(len(s)):\n",
    "            # Initialize a set to keep track of characters in the current substring\n",
    "            char_set = {}\n",
    "            \n",
    "            # Iterate through the string from the current starting point to the end\n",
    "            for j in range(i, len(s)):\n",
    "                # If the character is already in the set, break the loop as we have a repeating character\n",
    "                if s[j] in char_set:\n",
    "                    break\n",
    "                \n",
    "                # Update the maximum length if the current substring is longer\n",
    "                maxans = max(maxans, j - i + 1)\n",
    "                \n",
    "                # Add the current character to the set\n",
    "                char_set[s[j]] = 1\n",
    "        \n",
    "        # Return the maximum length of substring found\n",
    "        return maxans\n",
    "\n",
    "# Example usage:\n",
    "solution = Solution()\n",
    "print(solution.lengthOfLongestSubstring(\"abcabcbb\"))  # Output: 3, which corresponds to the substring \"abc\"\n"
   ]
  },
  {
   "cell_type": "markdown",
   "id": "27dbea45",
   "metadata": {},
   "source": [
    "# Complexity Analysis:\n",
    "\n",
    "**Time Complexity:** O(N ** 2), where N is the length of the input string.\n",
    "\n",
    "- The outer loop runs N times.\n",
    "- The inner loop runs up to N times for each iteration of the outer loop.\n",
    "- Therefore, the total number of operations in the worst case is O(N ** 2).\n",
    "\n",
    "**Space Complexity:** O(min(N,M)), where M is the number of unique characters in the input string.\n",
    "\n",
    "- The char_set dictionary is used to store unique characters in the current substring. In the worst case, it can store up to N characters, but it will only store a unique character set which is limited by the number of distinct characters in the input string."
   ]
  },
  {
   "cell_type": "code",
   "execution_count": 2,
   "id": "a66d6aa3",
   "metadata": {},
   "outputs": [
    {
     "name": "stdout",
     "output_type": "stream",
     "text": [
      "3\n"
     ]
    }
   ],
   "source": [
    "# Optimal Solution\n",
    "\n",
    "class Solution:\n",
    "    def lengthOfLongestSubstring(self, s: str) -> int:\n",
    "        # Dictionary to store the most recent index of each character\n",
    "        hash_map = dict()\n",
    "        \n",
    "        # Initialize the left and right pointers for the sliding window\n",
    "        left = 0\n",
    "        right = 0\n",
    "        \n",
    "        # Variable to store the maximum length of a substring found\n",
    "        length = 0\n",
    "        \n",
    "        # Length of the input string\n",
    "        n = len(s)\n",
    "        \n",
    "        # Iterate through the string using the right pointer\n",
    "        while right < n:\n",
    "            # If the character at the right pointer is already in the hash_map\n",
    "            if s[right] in hash_map:\n",
    "                # Move the left pointer to the right of the last occurrence of s[right]\n",
    "                left = max(hash_map[s[right]] + 1, left)\n",
    "            \n",
    "            # Update the most recent index of the character at the right pointer\n",
    "            hash_map[s[right]] = right\n",
    "            \n",
    "            # Update the maximum length of the substring if the current window is larger\n",
    "            length = max(length, right - left + 1)\n",
    "            \n",
    "            # Move the right pointer to the right to expand the window\n",
    "            right += 1\n",
    "        \n",
    "        # Return the maximum length of the substring without repeating characters\n",
    "        return length\n",
    "\n",
    "# Example usage:\n",
    "solution = Solution()\n",
    "print(solution.lengthOfLongestSubstring(\"abcabcbb\"))  # Output: 3, which corresponds to the substring \"abc\"\n"
   ]
  },
  {
   "cell_type": "markdown",
   "id": "d8435fb7",
   "metadata": {},
   "source": [
    "# Complexity Analysis:\n",
    "\n",
    "**Time Complexity:** O(N), where N is the length of the input string.\n",
    "\n",
    "- Each character is processed at most twice (once by the right pointer and once by the left pointer), making the overall time complexity linear.\n",
    "\n",
    "**Space Complexity:** O(min(N,M)), where M is the number of unique characters in the input string.\n",
    "\n",
    "- The hash_map dictionary stores the most recent index of each unique character encountered in the input string. In the worst case, it can store up to N characters, but it will only store a unique character set which is limited by the number of distinct characters in the input string."
   ]
  }
 ],
 "metadata": {
  "kernelspec": {
   "display_name": "Python 3 (ipykernel)",
   "language": "python",
   "name": "python3"
  },
  "language_info": {
   "codemirror_mode": {
    "name": "ipython",
    "version": 3
   },
   "file_extension": ".py",
   "mimetype": "text/x-python",
   "name": "python",
   "nbconvert_exporter": "python",
   "pygments_lexer": "ipython3",
   "version": "3.9.13"
  }
 },
 "nbformat": 4,
 "nbformat_minor": 5
}
