{
 "cells": [
  {
   "cell_type": "markdown",
   "id": "3ec6654a",
   "metadata": {},
   "source": [
    "# Sequences and Subsequence\n",
    "```\n",
    "The sequences are ordered collections of elements. Sequences can be strings, arrays, lists, or any other ordered collections. Here, we'll explore sequences in general, and look at some common problems and solutions involving sequences, including subsequences.\n",
    "```\n",
    "## **Subsequence**\n",
    "```\n",
    "A subsequence is a sequence derived from another sequence by deleting some or no elements without changing the order of the remaining elements. For example, for the sequence [1, 2, 3], [1, 2], [1, 3], and [2, 3] are subsequences, but [3, 2] is not.\n",
    "```\n",
    "### Example Problem: Longest Increasing Subsequence\n",
    "```\n",
    "Given an array of integers, find the length of the longest increasing subsequence.\n",
    "\n",
    "Solution:\n",
    "\n",
    "Use dynamic programming to solve this problem efficiently.\n",
    "Create an array dp where dp[i] represents the length of the longest increasing subsequence ending at index i.\n",
    "For each element, compare it with all previous elements to update the dp array.\n",
    "```"
   ]
  },
  {
   "cell_type": "code",
   "execution_count": 1,
   "id": "131027e6",
   "metadata": {},
   "outputs": [
    {
     "name": "stdout",
     "output_type": "stream",
     "text": [
      "4\n"
     ]
    }
   ],
   "source": [
    "def longest_increasing_subsequence(arr):\n",
    "    if not arr:\n",
    "        return 0\n",
    "    \n",
    "    dp = [1] * len(arr)\n",
    "\n",
    "    for i in range(1, len(arr)):\n",
    "        for j in range(i):\n",
    "            if arr[i] > arr[j]:\n",
    "                dp[i] = max(dp[i], dp[j] + 1)\n",
    "\n",
    "    return max(dp)\n",
    "\n",
    "# Example usage\n",
    "arr = [10, 9, 2, 5, 3, 7, 101, 18]\n",
    "print(longest_increasing_subsequence(arr))  # Output: 4 ([2, 3, 7, 101])\n"
   ]
  },
  {
   "cell_type": "markdown",
   "id": "f7cd83ba",
   "metadata": {},
   "source": [
    "## **Common Problems Involving Sequences**\n",
    "\n",
    "### 1. Longest Common Subsequence (LCS)\n",
    "```\n",
    "Given two sequences, find the length of their longest common subsequence.\n",
    "\n",
    "Solution:\n",
    "\n",
    "Use dynamic programming.\n",
    "Create a 2D array dp where dp[i][j] represents the length of the LCS of the first i characters of s1 and the first j characters of s2.\n",
    "If characters match, dp[i][j] = dp[i-1][j-1] + 1.\n",
    "If characters do not match, dp[i][j] = max(dp[i-1][j], dp[i][j-1]).\n",
    "```"
   ]
  },
  {
   "cell_type": "code",
   "execution_count": 2,
   "id": "6bd32eb9",
   "metadata": {},
   "outputs": [
    {
     "name": "stdout",
     "output_type": "stream",
     "text": [
      "3\n"
     ]
    }
   ],
   "source": [
    "def longest_common_subsequence(s1, s2):\n",
    "    m, n = len(s1), len(s2)\n",
    "    dp = [[0] * (n + 1) for _ in range(m + 1)]\n",
    "\n",
    "    for i in range(1, m + 1):\n",
    "        for j in range(1, n + 1):\n",
    "            if s1[i - 1] == s2[j - 1]:\n",
    "                dp[i][j] = dp[i - 1][j - 1] + 1\n",
    "            else:\n",
    "                dp[i][j] = max(dp[i - 1][j], dp[i][j - 1])\n",
    "    \n",
    "    return dp[m][n]\n",
    "\n",
    "# Example usage\n",
    "s1 = \"abcde\"\n",
    "s2 = \"ace\"\n",
    "print(longest_common_subsequence(s1, s2))  # Output: 3 (\"ace\")"
   ]
  },
  {
   "cell_type": "markdown",
   "id": "b03b81f8",
   "metadata": {},
   "source": [
    "### 2. Longest Palindromic Subsequence\n",
    "```\n",
    "Given a string, find the length of the longest palindromic subsequence.\n",
    "\n",
    "Solution:\n",
    "\n",
    "Use dynamic programming.\n",
    "Create a 2D array dp where dp[i][j] represents the length of the longest palindromic subsequence in the substring s[i:j+1].\n",
    "If characters at i and j are the same, dp[i][j] = dp[i+1][j-1] + 2.\n",
    "If characters are not the same, dp[i][j] = max(dp[i+1][j], dp[i][j-1]).\n",
    "```"
   ]
  },
  {
   "cell_type": "code",
   "execution_count": 3,
   "id": "aef953f9",
   "metadata": {},
   "outputs": [
    {
     "name": "stdout",
     "output_type": "stream",
     "text": [
      "4\n"
     ]
    }
   ],
   "source": [
    "def longest_palindromic_subsequence(s):\n",
    "    n = len(s)\n",
    "    dp = [[0] * n for _ in range(n)]\n",
    "\n",
    "    for i in range(n):\n",
    "        dp[i][i] = 1\n",
    "\n",
    "    for length in range(2, n + 1):\n",
    "        for i in range(n - length + 1):\n",
    "            j = i + length - 1\n",
    "            if s[i] == s[j]:\n",
    "                dp[i][j] = dp[i + 1][j - 1] + 2\n",
    "            else:\n",
    "                dp[i][j] = max(dp[i + 1][j], dp[i][j - 1])\n",
    "    \n",
    "    return dp[0][n - 1]\n",
    "\n",
    "# Example usage\n",
    "s = \"bbbab\"\n",
    "print(longest_palindromic_subsequence(s))  # Output: 4 (\"bbbb\")"
   ]
  },
  {
   "cell_type": "markdown",
   "id": "52d2c509",
   "metadata": {},
   "source": [
    "Subsequences are fundamental in solving many algorithmic problems, especially those involving comparison and optimization. By using techniques like dynamic programming, you can solve these problems efficiently and effectively. The examples provided here illustrate common subsequence problems and their solutions."
   ]
  }
 ],
 "metadata": {
  "kernelspec": {
   "display_name": "Python 3 (ipykernel)",
   "language": "python",
   "name": "python3"
  },
  "language_info": {
   "codemirror_mode": {
    "name": "ipython",
    "version": 3
   },
   "file_extension": ".py",
   "mimetype": "text/x-python",
   "name": "python",
   "nbconvert_exporter": "python",
   "pygments_lexer": "ipython3",
   "version": "3.9.13"
  }
 },
 "nbformat": 4,
 "nbformat_minor": 5
}
