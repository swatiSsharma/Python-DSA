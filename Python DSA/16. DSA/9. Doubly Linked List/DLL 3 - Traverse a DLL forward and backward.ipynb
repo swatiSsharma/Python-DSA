{
 "cells": [
  {
   "cell_type": "markdown",
   "id": "911b87ca",
   "metadata": {},
   "source": [
    "# Traverse a DLL in forward and backward direction"
   ]
  },
  {
   "cell_type": "code",
   "execution_count": 1,
   "id": "5a3eebf8",
   "metadata": {},
   "outputs": [],
   "source": [
    "# Traverse a DLL\n",
    "\n",
    "class DoublyLinkedList:\n",
    "    def __init__(self):\n",
    "        self.head = None\n",
    "        self.tail = None\n",
    "\n",
    "    # Other methods...\n",
    "\n",
    "    def traverse_forward(self):\n",
    "        current = self.head\n",
    "        while current:\n",
    "            print(current.data, end=\" \")\n",
    "            current = current.next\n",
    "\n",
    "    def traverse_backward(self):\n",
    "        current = self.tail\n",
    "        while current:\n",
    "            print(current.data, end=\" \")\n",
    "            current = current.prev"
   ]
  }
 ],
 "metadata": {
  "kernelspec": {
   "display_name": "Python 3 (ipykernel)",
   "language": "python",
   "name": "python3"
  },
  "language_info": {
   "codemirror_mode": {
    "name": "ipython",
    "version": 3
   },
   "file_extension": ".py",
   "mimetype": "text/x-python",
   "name": "python",
   "nbconvert_exporter": "python",
   "pygments_lexer": "ipython3",
   "version": "3.9.13"
  }
 },
 "nbformat": 4,
 "nbformat_minor": 5
}
