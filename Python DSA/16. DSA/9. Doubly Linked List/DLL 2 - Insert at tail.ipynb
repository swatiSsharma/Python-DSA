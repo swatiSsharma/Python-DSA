{
 "cells": [
  {
   "cell_type": "markdown",
   "id": "633b6860",
   "metadata": {},
   "source": [
    "# Insert at tail"
   ]
  },
  {
   "cell_type": "code",
   "execution_count": null,
   "id": "f417562a",
   "metadata": {},
   "outputs": [],
   "source": [
    "# Insert at tail using traversal to last node\n",
    "\n",
    "class DoublyLinkedList:\n",
    "    def __init__(self):\n",
    "        self.head = None\n",
    "\n",
    "    # Other methods...\n",
    "\n",
    "    def insert_at_tail(self, data):\n",
    "        new_node = Node(data)  # Step 1: Create a new node with the given data\n",
    "        if not self.head:  # Step 2: If the list is empty, set the new node as the head\n",
    "            self.head = new_node\n",
    "        else:\n",
    "            current = self.head\n",
    "            while current.next:  # Step 3: Traverse the list until the last node\n",
    "                current = current.next\n",
    "            current.next = new_node  # Step 4: Set the next pointer of the last node to the new node\n",
    "            new_node.prev = current  # Step 5: Set the prev pointer of the new node to the last node\n"
   ]
  },
  {
   "cell_type": "code",
   "execution_count": null,
   "id": "b2362705",
   "metadata": {},
   "outputs": [],
   "source": [
    "# Insert at tail using tail\n",
    "\n",
    "class DoublyLinkedList:\n",
    "    def __init__(self):\n",
    "        self.head = None\n",
    "        self.tail = None\n",
    "\n",
    "    # Other methods...\n",
    "\n",
    "    def insert_at_tail(self, data):\n",
    "        new_node = Node(data)  # Step 1: Create a new node with the given data\n",
    "        if not self.head:  # If the list is empty, set the new node as both head and tail\n",
    "            self.head = new_node\n",
    "            self.tail = new_node\n",
    "        else:\n",
    "            self.tail.next = new_node  # Step 2: Set the next pointer of the current tail node to the new node\n",
    "            new_node.prev = self.tail  # Step 3: Set the prev pointer of the new node to the current tail node\n",
    "            self.tail = new_node  # Step 4: Update the tail pointer to point to the new node\n"
   ]
  }
 ],
 "metadata": {
  "kernelspec": {
   "display_name": "Python 3 (ipykernel)",
   "language": "python",
   "name": "python3"
  },
  "language_info": {
   "codemirror_mode": {
    "name": "ipython",
    "version": 3
   },
   "file_extension": ".py",
   "mimetype": "text/x-python",
   "name": "python",
   "nbconvert_exporter": "python",
   "pygments_lexer": "ipython3",
   "version": "3.9.13"
  }
 },
 "nbformat": 4,
 "nbformat_minor": 5
}
