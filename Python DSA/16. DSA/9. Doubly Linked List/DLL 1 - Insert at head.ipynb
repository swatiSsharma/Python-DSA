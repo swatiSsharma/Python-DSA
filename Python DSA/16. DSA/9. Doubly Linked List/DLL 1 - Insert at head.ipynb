{
 "cells": [
  {
   "cell_type": "markdown",
   "id": "878a5530",
   "metadata": {},
   "source": [
    "# Insert at head"
   ]
  },
  {
   "cell_type": "code",
   "execution_count": null,
   "id": "2662ff8a",
   "metadata": {},
   "outputs": [],
   "source": [
    "# Insert at head\n",
    "\n",
    "class DoublyLinkedList:\n",
    "    def __init__(self):\n",
    "        self.head = None\n",
    "\n",
    "    # Other methods...\n",
    "\n",
    "    def insert_at_head(self, data):\n",
    "        new_node = Node(data)  # Create a new node with the given data\n",
    "        if not self.head:  # Check if the list is empty\n",
    "            self.head = new_node  # If empty, set the new node as the head\n",
    "        else:\n",
    "            new_node.next = self.head  # Set the next pointer of the new node to the current head\n",
    "            self.head.prev = new_node  # Set the previous pointer of the current head to the new node\n",
    "            self.head = new_node  # Update the head of the list to point to the new node\n"
   ]
  }
 ],
 "metadata": {
  "kernelspec": {
   "display_name": "Python 3 (ipykernel)",
   "language": "python",
   "name": "python3"
  },
  "language_info": {
   "codemirror_mode": {
    "name": "ipython",
    "version": 3
   },
   "file_extension": ".py",
   "mimetype": "text/x-python",
   "name": "python",
   "nbconvert_exporter": "python",
   "pygments_lexer": "ipython3",
   "version": "3.9.13"
  }
 },
 "nbformat": 4,
 "nbformat_minor": 5
}
