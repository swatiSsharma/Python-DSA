{
 "cells": [
  {
   "cell_type": "markdown",
   "id": "19e3278e",
   "metadata": {},
   "source": [
    "# Append in DLL"
   ]
  },
  {
   "cell_type": "code",
   "execution_count": null,
   "id": "a022b290",
   "metadata": {},
   "outputs": [],
   "source": [
    "class Node:\n",
    "    def __init__(self, data):\n",
    "        self.data = data\n",
    "        self.prev = None  # Pointer to the previous node\n",
    "        self.next = None  # Pointer to the next node\n",
    "\n",
    "class DoublyLinkedList:\n",
    "    def __init__(self):\n",
    "        self.head = None  # Pointer to the first node\n",
    "        self.tail = None  # Pointer to the last node\n",
    "\n",
    "    def append(self, data):\n",
    "        \"\"\"Append a new node with given data to the end of the list.\"\"\"\n",
    "        new_node = Node(data)\n",
    "        if not self.head:  # If the list is empty\n",
    "            self.head = new_node\n",
    "            self.tail = new_node\n",
    "        else:\n",
    "            new_node.prev = self.tail\n",
    "            self.tail.next = new_node\n",
    "            self.tail = new_node"
   ]
  }
 ],
 "metadata": {
  "kernelspec": {
   "display_name": "Python 3 (ipykernel)",
   "language": "python",
   "name": "python3"
  },
  "language_info": {
   "codemirror_mode": {
    "name": "ipython",
    "version": 3
   },
   "file_extension": ".py",
   "mimetype": "text/x-python",
   "name": "python",
   "nbconvert_exporter": "python",
   "pygments_lexer": "ipython3",
   "version": "3.9.13"
  }
 },
 "nbformat": 4,
 "nbformat_minor": 5
}
