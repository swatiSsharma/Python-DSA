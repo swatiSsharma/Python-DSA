{
 "cells": [
  {
   "cell_type": "markdown",
   "id": "eabfcce8",
   "metadata": {},
   "source": [
    "# Single element in a sorted array\n",
    "\n",
    "```\n",
    "You are given a sorted array consisting of only integers where every element appears exactly twice, except for one element which appears exactly once.\n",
    "\n",
    "Return the single element that appears only once.\n",
    "\n",
    "Your solution must run in O(log n) time and O(1) space.\n",
    "\n",
    " \n",
    "\n",
    "Example 1:\n",
    "\n",
    "Input: nums = [1,1,2,3,3,4,4,8,8]\n",
    "Output: 2\n",
    "Example 2:\n",
    "\n",
    "Input: nums = [3,3,7,7,10,11,11]\n",
    "Output: 10\n",
    " \n",
    "\n",
    "Constraints:\n",
    "\n",
    "1 <= nums.length <= 105\n",
    "0 <= nums[i] <= 105\n",
    "```"
   ]
  },
  {
   "cell_type": "code",
   "execution_count": null,
   "id": "04efe027",
   "metadata": {},
   "outputs": [],
   "source": [
    "from typing import List\n",
    "\n",
    "\"\"\"\n",
    "Time complexity -> O(logN)\n",
    "Here, N = size of the given array.\n",
    "\n",
    "Space complexity -> O(1)\n",
    "\"\"\"\n",
    "\n",
    "\n",
    "class Solution:\n",
    "    def singleNonDuplicate(self, arr: List[int]) -> int:\n",
    "        n = len(arr)\n",
    "        if n == 1:\n",
    "            return arr[0]\n",
    "        # Check if the first element is unique\n",
    "        if arr[0] != arr[1]:\n",
    "            return arr[0]\n",
    "        # Check if the last element is unique\n",
    "        if arr[n - 1] != arr[n - 2]:\n",
    "            return arr[n - 1]\n",
    "        \n",
    "        # Binary search to find the single non-duplicate\n",
    "        low = 1\n",
    "        high = n - 2\n",
    "        while low <= high:\n",
    "            mid = (low + high) // 2\n",
    "            # Check if arr[mid] is the single non-duplicate\n",
    "            if arr[mid] != arr[mid - 1] and arr[mid] != arr[mid + 1]:\n",
    "                return arr[mid]\n",
    "            # Check if the single non-duplicate is on the right side of mid\n",
    "            elif (arr[mid] == arr[mid - 1] and mid % 2 == 1) or (\n",
    "                arr[mid] == arr[mid + 1] and mid % 2 == 0\n",
    "            ):\n",
    "                low = mid + 1\n",
    "            # Check if the single non-duplicate is on the left side of mid\n",
    "            else:\n",
    "                high = mid - 1"
   ]
  }
 ],
 "metadata": {
  "kernelspec": {
   "display_name": "Python 3 (ipykernel)",
   "language": "python",
   "name": "python3"
  },
  "language_info": {
   "codemirror_mode": {
    "name": "ipython",
    "version": 3
   },
   "file_extension": ".py",
   "mimetype": "text/x-python",
   "name": "python",
   "nbconvert_exporter": "python",
   "pygments_lexer": "ipython3",
   "version": "3.9.13"
  }
 },
 "nbformat": 4,
 "nbformat_minor": 5
}
