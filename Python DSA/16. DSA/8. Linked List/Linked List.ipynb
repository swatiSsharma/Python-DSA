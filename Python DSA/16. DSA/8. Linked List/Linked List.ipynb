{
 "cells": [
  {
   "cell_type": "markdown",
   "id": "a102d44a",
   "metadata": {},
   "source": [
    "# Linked list\n",
    "\n",
    "```\n",
    "Linked lists are a fundamental data structure in computer science, commonly used to store sequences of elements. Each element in a linked list is called a \"node\" and contains two pieces of information: the data and a reference (or pointer) to the next node in the sequence.\n",
    "\n",
    "Here's a basic explanation of linked lists:\n",
    "\n",
    "Node: A node is a basic unit of a linked list. It contains two fields:\n",
    "Data: The value or payload stored in the node.\n",
    "Next: A reference (or pointer) to the next node in the sequence.\n",
    "Head: The head of the linked list is the first node in the sequence. It acts as an entry point to the list.\n",
    "```"
   ]
  },
  {
   "cell_type": "code",
   "execution_count": 2,
   "id": "d73000d3",
   "metadata": {},
   "outputs": [
    {
     "name": "stdout",
     "output_type": "stream",
     "text": [
      "100\n",
      "200\n",
      "50\n",
      "<__main__.Node object at 0x000002EF527FACA0>\n",
      "<__main__.Node object at 0x000002EF527FACD0>\n",
      "<__main__.Node object at 0x000002EF527FACD0>\n",
      "<__main__.Node object at 0x000002EF527FA4C0>\n",
      "<__main__.Node object at 0x000002EF527FA4C0>\n"
     ]
    }
   ],
   "source": [
    "# Creating nodes in linked list\n",
    "\n",
    "class Node:\n",
    "    def __init__(self, val=None) -> None:\n",
    "        self.val = val\n",
    "        self.next = None\n",
    "\n",
    "# adding data to nodes\n",
    "n1 = Node(100)\n",
    "n2 = Node(200)\n",
    "n3 = Node(50)\n",
    "\n",
    "# assigning value of next node\n",
    "n1.next = n2\n",
    "n2.next = n3\n",
    "\n",
    "# printing vale at the node\n",
    "print(n1.val)\n",
    "print(n1.next.val)\n",
    "print(n1.next.next.val)\n",
    "\n",
    "# printing address\n",
    "print(n1)             # address of node 1\n",
    "print(n2)             # address of node 2\n",
    "print(n1.next)        # address of node 2\n",
    "print(n3)             # address of node 3\n",
    "print(n1.next.next)   # address of node 3"
   ]
  },
  {
   "cell_type": "markdown",
   "id": "ca5bb292",
   "metadata": {},
   "source": [
    "# How to create a linked list, append nodes to it, and display the contents of the list.\n",
    "/\n",
    "In this implementation:\n",
    "\n",
    "- **Node** class represents each node in the linked list. It contains a data field to store the value and a next field to store a reference to the next node.\n",
    "- **LinkedList** class represents the linked list itself. It contains methods for appending nodes to the end of the list and displaying the list.\n",
    "- **append** method adds a new node with the given data to the end of the list.\n",
    "- **display** method traverses the list from the head and prints the data of each node followed by \"->\" until it reaches the end of the list."
   ]
  },
  {
   "cell_type": "code",
   "execution_count": 3,
   "id": "6c852b22",
   "metadata": {},
   "outputs": [
    {
     "name": "stdout",
     "output_type": "stream",
     "text": [
      "1 -> 2 -> 3 -> None\n"
     ]
    }
   ],
   "source": [
    "class Node:\n",
    "    def __init__(self, data):\n",
    "        # Initialize a new node with given data and next pointer set to None\n",
    "        self.data = data  # Data stored in the node\n",
    "        self.next = None  # Pointer to the next node\n",
    "\n",
    "class LinkedList:\n",
    "    def __init__(self):\n",
    "        # Initialize an empty linked list with head pointer set to None\n",
    "        self.head = None  # Pointer to the head node\n",
    "\n",
    "    def append(self, data):\n",
    "        # Append a new node with given data to the end of the linked list\n",
    "        new_node = Node(data)  # Create a new node with the given data\n",
    "        if self.head == None: #if not self.head:\n",
    "            # If the linked list is empty, set the new node as the head\n",
    "            self.head = new_node\n",
    "            return\n",
    "        else:\n",
    "            current = self.head\n",
    "            while current.next is not None: # while current.next:\n",
    "                # Traverse the linked list to find the last node\n",
    "                current = current.next\n",
    "            # Set the next pointer of the last node to the new node\n",
    "            current.next = new_node\n",
    "\n",
    "    def display(self):\n",
    "        # Display the elements of the linked list\n",
    "        current = self.head\n",
    "        while current:\n",
    "            # Traverse the linked list and print the data of each node\n",
    "            print(current.data, end=\" -> \")  # Print data of the current node\n",
    "            current = current.next  # Move to the next node\n",
    "        print(\"None\")  # Print None to indicate the end of the linked list\n",
    "\n",
    "# Example usage:\n",
    "ll = LinkedList()\n",
    "ll.append(1)\n",
    "ll.append(2)\n",
    "ll.append(3)\n",
    "ll.display()"
   ]
  }
 ],
 "metadata": {
  "kernelspec": {
   "display_name": "Python 3 (ipykernel)",
   "language": "python",
   "name": "python3"
  },
  "language_info": {
   "codemirror_mode": {
    "name": "ipython",
    "version": 3
   },
   "file_extension": ".py",
   "mimetype": "text/x-python",
   "name": "python",
   "nbconvert_exporter": "python",
   "pygments_lexer": "ipython3",
   "version": "3.9.13"
  }
 },
 "nbformat": 4,
 "nbformat_minor": 5
}
