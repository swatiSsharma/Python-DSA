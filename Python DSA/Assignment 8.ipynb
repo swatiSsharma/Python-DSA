{
 "cells": [
  {
   "cell_type": "markdown",
   "id": "1ff79688",
   "metadata": {},
   "source": [
    "# Assignment 8"
   ]
  },
  {
   "cell_type": "markdown",
   "id": "e3c07dc3",
   "metadata": {},
   "source": [
    "## Q1. 2 22 222 2222 22222 ... upto n. (Ask n from user)"
   ]
  },
  {
   "cell_type": "code",
   "execution_count": 1,
   "id": "43002b8f",
   "metadata": {},
   "outputs": [
    {
     "name": "stdout",
     "output_type": "stream",
     "text": [
      "Enter the number: 5\n",
      "2 22 222 2222 22222 "
     ]
    }
   ],
   "source": [
    "num1: int = int(input(\"Enter the number: \"))\n",
    "i: int = 1\n",
    "    \n",
    "while i <= num1:\n",
    "    print('2'*i, end=' ')\n",
    "    i += 1"
   ]
  },
  {
   "cell_type": "code",
   "execution_count": 2,
   "id": "6485c1ac",
   "metadata": {},
   "outputs": [
    {
     "name": "stdout",
     "output_type": "stream",
     "text": [
      "2 22 222 2222 22222 222222 2222222 22222222 222222222 2222222222 \n"
     ]
    }
   ],
   "source": [
    "def pattern(n: int) -> None:\n",
    "    i: int = 1\n",
    "    num: int = 2\n",
    "    while i <= n:\n",
    "        print(num, end=\" \")\n",
    "        num = (num * 10) + 2\n",
    "        i += 1\n",
    "    print()\n",
    "\n",
    "\n",
    "pattern(10)"
   ]
  },
  {
   "cell_type": "markdown",
   "id": "d24c5bbe",
   "metadata": {},
   "source": [
    "## Q2. Write a program to display the n terms of a harmonic series and their sum.\n",
    "1 + 1/2 + 1/3 + 1/4 + 1/5 ... 1/n terms\n",
    "Lets suppose n=5.\n",
    "1/1 + 1/2 + 1/3 + 1/4 + 1/5 = 2.283334"
   ]
  },
  {
   "cell_type": "code",
   "execution_count": 3,
   "id": "f4b680f2",
   "metadata": {},
   "outputs": [
    {
     "name": "stdout",
     "output_type": "stream",
     "text": [
      "Enter the number: 5\n",
      "1/1 1/2 1/3 1/4 1/5  = 2.283333\n"
     ]
    }
   ],
   "source": [
    "num1: int = int(input(\"Enter the number: \"))\n",
    "i: int = 1\n",
    "sum: int = 0\n",
    "    \n",
    "while i <= num1:\n",
    "    print(f\"1/{i}\".format(i), end=' ')\n",
    "    sum += 1/i\n",
    "    i += 1\n",
    "print(f\" = {sum:.6f}\")"
   ]
  },
  {
   "cell_type": "code",
   "execution_count": 4,
   "id": "2147a498",
   "metadata": {},
   "outputs": [
    {
     "name": "stdout",
     "output_type": "stream",
     "text": [
      "2.283333333333333\n",
      "2.9289682539682538\n"
     ]
    }
   ],
   "source": [
    "def harmonicSum(n: int) -> float:\n",
    "    i: int = 1\n",
    "    total: float = 0\n",
    "    while i <= n:\n",
    "        total = total + (1 / i)\n",
    "        i += 1\n",
    "    return total\n",
    "\n",
    "\n",
    "print(harmonicSum(5))\n",
    "print(harmonicSum(10))"
   ]
  },
  {
   "cell_type": "markdown",
   "id": "a2a9637f",
   "metadata": {},
   "source": [
    "## Q3. Ask x and n from user and then calculate the following answer:\n",
    "\n",
    "pattern(x=6, n=4) -> 6/1 + 6/3 + 6/5 + 6/7  \n",
    "10.057142857142857 (output)   \n",
    "\n",
    "pattern(x=9, n=11) -> 9/1 + 9/3 + 9/5 + 9/7 + 9/9 .... upto n times  \n",
    "19.627871200007426 (output)  "
   ]
  },
  {
   "cell_type": "code",
   "execution_count": 5,
   "id": "c3969fae",
   "metadata": {},
   "outputs": [
    {
     "name": "stdout",
     "output_type": "stream",
     "text": [
      "10.057142857142857\n",
      "19.627871200007426\n"
     ]
    }
   ],
   "source": [
    "def pattern(x: int, n: int) -> float:\n",
    "    i: int = 1\n",
    "    j: int = 1\n",
    "    sum: int = 0\n",
    "    \n",
    "    while j <= n:\n",
    "        if i%2 != 0:\n",
    "            sum += x/i\n",
    "        i += 2\n",
    "        j += 1 \n",
    "    return sum\n",
    "\n",
    "print(pattern(x=6, n=4))\n",
    "print(pattern(x=9, n=11))"
   ]
  },
  {
   "cell_type": "markdown",
   "id": "d6dbf38c",
   "metadata": {},
   "source": [
    "## Q4. Ask x and n from user and then calculate the following answer:\n",
    "\n",
    "pattern(x=6, n=4) -> 6^1 - 6^3 - 6^5 - 6^7  \n",
    "-272370 (output)  \n",
    "\n",
    "pattern(x=9, n=11) -> 9^1 + 9^3 + 9^5 + 9^7 + 9^9 .... upto n times  \n",
    "108084611215274403609 (output)  "
   ]
  },
  {
   "cell_type": "code",
   "execution_count": 6,
   "id": "f663ecea",
   "metadata": {},
   "outputs": [
    {
     "name": "stdout",
     "output_type": "stream",
     "text": [
      "-272370\n",
      "108084611215274403609\n"
     ]
    }
   ],
   "source": [
    "def patterSum(x: int, n: int) -> float:\n",
    "    i: int = 1\n",
    "    total: float = 0\n",
    "    y: int = 1\n",
    "    while i <= n:\n",
    "        if i % 2 != 0:\n",
    "            total = total + (x**y)\n",
    "        else:\n",
    "            total = total - (x**y)\n",
    "        y += 2\n",
    "        i += 1\n",
    "    return total\n",
    "\n",
    "\n",
    "print(patterSum(6, 4))\n",
    "print(patterSum(9, 11))"
   ]
  },
  {
   "cell_type": "markdown",
   "id": "f603ff8b",
   "metadata": {},
   "source": [
    "## Q5. Create a function addDigits() that takes an integer as an argument. Calculate the sum of digits of that number.\n",
    "\n",
    "addDigits(123) # 6   \n",
    "addDigits(58714) # 25  "
   ]
  },
  {
   "cell_type": "code",
   "execution_count": 7,
   "id": "1dc7ac57",
   "metadata": {},
   "outputs": [
    {
     "name": "stdout",
     "output_type": "stream",
     "text": [
      "6\n",
      "25\n"
     ]
    }
   ],
   "source": [
    "def addDigits(num: int) -> int:\n",
    "    n: int = num\n",
    "    total = 0\n",
    "    while n > 0:\n",
    "        total = total + (n % 10)  # n%10 gives us last digit\n",
    "        n = n // 10\n",
    "    return total\n",
    "\n",
    "print(addDigits(123)) # 6   \n",
    "print(addDigits(58714)) # 25 "
   ]
  }
 ],
 "metadata": {
  "kernelspec": {
   "display_name": "Python 3 (ipykernel)",
   "language": "python",
   "name": "python3"
  },
  "language_info": {
   "codemirror_mode": {
    "name": "ipython",
    "version": 3
   },
   "file_extension": ".py",
   "mimetype": "text/x-python",
   "name": "python",
   "nbconvert_exporter": "python",
   "pygments_lexer": "ipython3",
   "version": "3.9.13"
  }
 },
 "nbformat": 4,
 "nbformat_minor": 5
}
