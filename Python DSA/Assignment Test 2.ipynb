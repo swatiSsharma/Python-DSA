{
 "cells": [
  {
   "cell_type": "markdown",
   "id": "2b357c56",
   "metadata": {},
   "source": [
    "# Q1. Write a program to print absolute vlaue of a number entered by user.\n",
    "\n",
    "- **Example 1**\n",
    "Input = -18\n",
    "Output = 18\n",
    "- **Example 2**\n",
    "Input = 9\n",
    "Output = 9"
   ]
  },
  {
   "cell_type": "code",
   "execution_count": 1,
   "id": "5a072ed0",
   "metadata": {},
   "outputs": [
    {
     "name": "stdout",
     "output_type": "stream",
     "text": [
      "Enter a number: -189\n",
      "189\n"
     ]
    }
   ],
   "source": [
    "num: int = int(input('Enter a number: '))\n",
    "\n",
    "print(abs(num))"
   ]
  },
  {
   "cell_type": "markdown",
   "id": "5686bdb4",
   "metadata": {},
   "source": [
    "# Q2. Given three angles of a triangle, determine whether it is an acute, obtuse, or right-angled triangle"
   ]
  },
  {
   "cell_type": "code",
   "execution_count": 2,
   "id": "bc4cf4cb",
   "metadata": {},
   "outputs": [
    {
     "name": "stdout",
     "output_type": "stream",
     "text": [
      "Enter the first angle of the triangle: 30\n",
      "Enter the second angle of the triangle: 90\n",
      "Enter the third angle of the triangle: 60\n",
      "The triangle is a right-angled triangle.\n"
     ]
    }
   ],
   "source": [
    "angle1: float = float(input(\"Enter the first angle of the triangle: \"))\n",
    "angle2: float = float(input(\"Enter the second angle of the triangle: \"))\n",
    "angle3: float = float(input(\"Enter the third angle of the triangle: \"))\n",
    "    \n",
    "if angle1 + angle2 + angle3 != 180:\n",
    "    print(\"Invalid input: The angles do not form a valid triangle.\")\n",
    "else:\n",
    "    # Check the type of triangle based on angles\n",
    "    if 90 in [angle1, angle2, angle3]:\n",
    "        print(\"The triangle is a right-angled triangle.\")\n",
    "    elif angle1 < 90 and angle2 < 90 and angle3 < 90:\n",
    "        print(\"The triangle is an acute triangle.\")\n",
    "    else:\n",
    "        print(\"The triangle is an obtuse triangle.\")"
   ]
  },
  {
   "cell_type": "markdown",
   "id": "be3e509b",
   "metadata": {},
   "source": [
    "# Q3. What will be the output of following expression, try to guess without running.\n",
    "1 + (3 - 4) * 2 ** 10 // 6"
   ]
  },
  {
   "cell_type": "code",
   "execution_count": 3,
   "id": "1f2644b4",
   "metadata": {},
   "outputs": [
    {
     "name": "stdout",
     "output_type": "stream",
     "text": [
      "-170\n"
     ]
    },
    {
     "data": {
      "text/plain": [
       "'\\n(3 - 4) is solved first --> -1\\n1 - 1 * 2 ** 10 // 6\\n\\n2 ** 10 is solved first --> 1024\\n1 - 1 * 1024 // 6\\n\\n1 - 1024 // 6\\n\\n1 - 171\\n\\n= - 170\\n\\n'"
      ]
     },
     "execution_count": 3,
     "metadata": {},
     "output_type": "execute_result"
    }
   ],
   "source": [
    "'''\n",
    "1 + (3 - 4) * 2 ** 10 // 6\n",
    "'''\n",
    "\n",
    "print(1 + (3 - 4) * 2 ** 10 // 6)\n",
    "\n",
    "'''\n",
    "(3 - 4) is solved first --> -1\n",
    "1 - 1 * 2 ** 10 // 6\n",
    "\n",
    "2 ** 10 is solved first --> 1024\n",
    "1 - 1 * 1024 // 6\n",
    "\n",
    "1 - 1024 // 6\n",
    "\n",
    "1 - 171\n",
    "\n",
    "= - 170\n",
    "\n",
    "'''"
   ]
  },
  {
   "cell_type": "markdown",
   "id": "2c6d7415",
   "metadata": {},
   "source": [
    "# Q.4 What will be the output of the following Python code snippet?\n",
    "print(type(5/2))\n",
    "print(type(5//2))"
   ]
  },
  {
   "cell_type": "code",
   "execution_count": 4,
   "id": "0bf798b0",
   "metadata": {},
   "outputs": [
    {
     "name": "stdout",
     "output_type": "stream",
     "text": [
      "<class 'float'>\n",
      "<class 'int'>\n"
     ]
    }
   ],
   "source": [
    "print(type(5/2)) # float\n",
    "print(type(5//2)) # int"
   ]
  },
  {
   "cell_type": "markdown",
   "id": "9bbc1983",
   "metadata": {},
   "source": [
    "# Q.5 What will the output of the following code?\n",
    "print(2**4 + (5 + 5)**(1 + 1))"
   ]
  },
  {
   "cell_type": "code",
   "execution_count": 5,
   "id": "e2d56e47",
   "metadata": {},
   "outputs": [
    {
     "name": "stdout",
     "output_type": "stream",
     "text": [
      "116\n"
     ]
    },
    {
     "data": {
      "text/plain": [
       "'\\n2 ** 4 + (5 + 5)**(1+1)  \\n= 2 ** 4 + (10)**(2)  \\n= 2 ** 4 + 100  \\n= 16 + 100  \\n= 116  \\n'"
      ]
     },
     "execution_count": 5,
     "metadata": {},
     "output_type": "execute_result"
    }
   ],
   "source": [
    "print( 2 ** 4 + (5 + 5)**(1+1))\n",
    "\n",
    "'''\n",
    "2 ** 4 + (5 + 5)**(1+1)  \n",
    "= 2 ** 4 + (10)**(2)  \n",
    "= 2 ** 4 + 100  \n",
    "= 16 + 100  \n",
    "= 116  \n",
    "'''"
   ]
  },
  {
   "cell_type": "markdown",
   "id": "719a8de4",
   "metadata": {},
   "source": [
    "# Q.6 Guess the output"
   ]
  },
  {
   "cell_type": "code",
   "execution_count": 6,
   "id": "044c74ea",
   "metadata": {},
   "outputs": [
    {
     "name": "stdout",
     "output_type": "stream",
     "text": [
      "False\n"
     ]
    }
   ],
   "source": [
    "a = True\n",
    "b = False\n",
    "c = True\n",
    "\n",
    "result = (a and b) or (not c)\n",
    "\n",
    "print(result) # False"
   ]
  },
  {
   "cell_type": "code",
   "execution_count": 7,
   "id": "a1ee03d4",
   "metadata": {},
   "outputs": [
    {
     "name": "stdout",
     "output_type": "stream",
     "text": [
      "True\n"
     ]
    }
   ],
   "source": [
    "a = 10\n",
    "b = 20\n",
    "c = 5\n",
    "\n",
    "result = (a > b) or (not (c > b)) and (a + b  == 30)\n",
    "\n",
    "print(result) # True"
   ]
  },
  {
   "cell_type": "code",
   "execution_count": 8,
   "id": "97921013",
   "metadata": {},
   "outputs": [
    {
     "name": "stdout",
     "output_type": "stream",
     "text": [
      "True\n"
     ]
    }
   ],
   "source": [
    "m = 7\n",
    "n = 3\n",
    "\n",
    "result = (m // n == 2) and (m % n == 1) or (m + n > 10)\n",
    "\n",
    "print(result) # True"
   ]
  },
  {
   "cell_type": "code",
   "execution_count": 9,
   "id": "ffc00092",
   "metadata": {},
   "outputs": [
    {
     "name": "stdout",
     "output_type": "stream",
     "text": [
      "False\n"
     ]
    }
   ],
   "source": [
    "value = 15\n",
    "\n",
    "result =(value < 10) or (value % 2 == 0) and (value // 5 == 3)\n",
    "\n",
    "print(result) # False"
   ]
  }
 ],
 "metadata": {
  "kernelspec": {
   "display_name": "Python 3 (ipykernel)",
   "language": "python",
   "name": "python3"
  },
  "language_info": {
   "codemirror_mode": {
    "name": "ipython",
    "version": 3
   },
   "file_extension": ".py",
   "mimetype": "text/x-python",
   "name": "python",
   "nbconvert_exporter": "python",
   "pygments_lexer": "ipython3",
   "version": "3.9.13"
  }
 },
 "nbformat": 4,
 "nbformat_minor": 5
}
