{
 "cells": [
  {
   "cell_type": "markdown",
   "id": "e5491426",
   "metadata": {},
   "source": [
    "# Assignment Test"
   ]
  },
  {
   "cell_type": "markdown",
   "id": "e869abc1",
   "metadata": {},
   "source": [
    "## Q1. Make a function named reverse which accepts an integer n from the user. Reverse the number passed as a parameter and return the reverse number. Do not use STRINGS."
   ]
  },
  {
   "cell_type": "code",
   "execution_count": 1,
   "id": "54e8d5b9",
   "metadata": {},
   "outputs": [
    {
     "name": "stdout",
     "output_type": "stream",
     "text": [
      "19\n",
      "1\n",
      "4741\n"
     ]
    },
    {
     "data": {
      "text/plain": [
       "'\\nthe reverse_number function uses a while loop to extract the digits from the original number one by one and build \\nthe reversed number. The operation reversed_num = (reversed_num * 10) + digit effectively adds each digit to the\\nreversed number. Adjust the original_number variable to test with different numbers.\\n'"
      ]
     },
     "execution_count": 1,
     "metadata": {},
     "output_type": "execute_result"
    }
   ],
   "source": [
    "def reverse(num: int) -> int:\n",
    "    reversed_num = 0\n",
    "\n",
    "    while num > 0:\n",
    "        digit = num % 10\n",
    "        reversed_num = (reversed_num * 10) + digit\n",
    "        num = num // 10\n",
    "\n",
    "    return reversed_num        \n",
    "\n",
    "print(reverse(91)) # 19\n",
    "print(reverse(1000)) # 1\n",
    "print(reverse(1474)) # 4741\n",
    "\n",
    "'''\n",
    "the reverse_number function uses a while loop to extract the digits from the original number one by one and build \n",
    "the reversed number. The operation reversed_num = (reversed_num * 10) + digit effectively adds each digit to the\n",
    "reversed number. Adjust the original_number variable to test with different numbers.\n",
    "'''"
   ]
  },
  {
   "cell_type": "markdown",
   "id": "3ad0db65",
   "metadata": {},
   "source": [
    "## Q2. Make a function named checkPalindrome which accepts an integer n from the user. Return True or False if the number is palindrome or not. Palindrome means which is same as forward and backwards. Do not use STRINGS"
   ]
  },
  {
   "cell_type": "code",
   "execution_count": 2,
   "id": "95fde553",
   "metadata": {},
   "outputs": [
    {
     "name": "stdout",
     "output_type": "stream",
     "text": [
      "False\n",
      "True\n",
      "False\n",
      "True\n"
     ]
    }
   ],
   "source": [
    "def checkPalindrome(num: int) -> bool:\n",
    "    original_number = num\n",
    "    reversed_num = 0\n",
    "\n",
    "    while num > 0:\n",
    "        digit = num % 10\n",
    "        reversed_num = (reversed_num * 10) + digit\n",
    "        num = num // 10\n",
    "\n",
    "    return original_number == reversed_num\n",
    "\n",
    "print(checkPalindrome(91)) # False\n",
    "print(checkPalindrome(1221)) # True\n",
    "print(checkPalindrome(9854)) # False\n",
    "print(checkPalindrome(123454321)) # True"
   ]
  },
  {
   "cell_type": "markdown",
   "id": "4c916ef7",
   "metadata": {},
   "source": [
    "## Q3. Make a function named printWords which accepts an integer n from the user. Print the number as words."
   ]
  },
  {
   "cell_type": "code",
   "execution_count": 3,
   "id": "0e2e319d",
   "metadata": {},
   "outputs": [
    {
     "name": "stdout",
     "output_type": "stream",
     "text": [
      "One Two Three \n",
      "One Zero Zero Zero Zero One \n",
      "Nine One \n",
      "One Two Two One \n",
      "Nine Eight Five Four \n",
      "One Zero Zero One \n"
     ]
    }
   ],
   "source": [
    "def reverse(num: int) -> int:\n",
    "    n = num\n",
    "    result = 0\n",
    "    while n > 0:\n",
    "        last_digit = n % 10\n",
    "        result = (result * 10) + last_digit\n",
    "        n = n // 10\n",
    "    return result\n",
    "\n",
    "\n",
    "def printWords(num: int) -> None:\n",
    "    reversed_number = reverse(num)\n",
    "    while reversed_number > 0:\n",
    "        last_digit = reversed_number % 10\n",
    "        if last_digit == 0:\n",
    "            print(\"Zero\", end=\" \")\n",
    "        elif last_digit == 1:\n",
    "            print(\"One\", end=\" \")\n",
    "        elif last_digit == 2:\n",
    "            print(\"Two\", end=\" \")\n",
    "        elif last_digit == 3:\n",
    "            print(\"Three\", end=\" \")\n",
    "        elif last_digit == 4:\n",
    "            print(\"Four\", end=\" \")\n",
    "        elif last_digit == 5:\n",
    "            print(\"Five\", end=\" \")\n",
    "        elif last_digit == 6:\n",
    "            print(\"Six\", end=\" \")\n",
    "        elif last_digit == 7:\n",
    "            print(\"Seven\", end=\" \")\n",
    "        elif last_digit == 8:\n",
    "            print(\"Eight\", end=\" \")\n",
    "        elif last_digit == 9:\n",
    "            print(\"Nine\", end=\" \")\n",
    "        reversed_number = reversed_number // 10\n",
    "    print()\n",
    "\n",
    "\n",
    "printWords(123)\n",
    "printWords(100001)\n",
    "printWords(91)\n",
    "printWords(1221)\n",
    "printWords(9854)\n",
    "printWords(1001)"
   ]
  },
  {
   "cell_type": "markdown",
   "id": "db6a8bcc",
   "metadata": {},
   "source": [
    "## Q4. Make a function named checkArmstrong which accepts an integer n from the user. Return True or False if that number is an armstrong number."
   ]
  },
  {
   "cell_type": "code",
   "execution_count": 4,
   "id": "73e22bae",
   "metadata": {},
   "outputs": [
    {
     "name": "stdout",
     "output_type": "stream",
     "text": [
      "True\n",
      "True\n",
      "False\n"
     ]
    }
   ],
   "source": [
    "def checkArmstrong(num: int) -> bool:\n",
    "     # Function to calculate the number of digits in a given number\n",
    "    def count_digits(num):\n",
    "        count = 0\n",
    "        while num > 0:\n",
    "            num //= 10\n",
    "            count += 1\n",
    "        return count\n",
    "\n",
    "    # Calculate the sum of digits raised to the power of the number of digits\n",
    "    num_of_digits = count_digits(num)\n",
    "    temp = num\n",
    "    armstrong_sum = 0\n",
    "\n",
    "    while temp > 0:\n",
    "        digit = temp % 10\n",
    "        armstrong_sum += digit ** num_of_digits\n",
    "        temp //= 10\n",
    "\n",
    "    # Check if the number is an Armstrong number\n",
    "    return num == armstrong_sum\n",
    "\n",
    "print(checkArmstrong(153)) # 1^3 + 5^3 + 3^3 = 153 --> True\n",
    "print(checkArmstrong(407)) # 4^3 + 0^3 + 7^3 = 407 --> True\n",
    "print(checkArmstrong(1234)) # 1^4 + 2^4 + 3^4 + 4^4 = 1 + 16 + 81 + 256 = 354 --> False"
   ]
  },
  {
   "cell_type": "markdown",
   "id": "f265cd41",
   "metadata": {},
   "source": [
    "## Q5. Make a function named sumOfFirstAndLastDigit which accepts an integer n from the user. Calculate the sum of first and last digit of a number and return it"
   ]
  },
  {
   "cell_type": "code",
   "execution_count": 5,
   "id": "52021fa3",
   "metadata": {},
   "outputs": [
    {
     "name": "stdout",
     "output_type": "stream",
     "text": [
      "5\n",
      "9\n",
      "5\n",
      "18\n"
     ]
    }
   ],
   "source": [
    "def sumOfFirstAndLastDigit(num: int) -> int:\n",
    "    if len(str(num)) == 1:\n",
    "        return num\n",
    "    else:\n",
    "        \n",
    "        # Extract the last digit\n",
    "        last_digit = num % 10\n",
    "\n",
    "        # Extract the first digit\n",
    "        first_digit = 0\n",
    "        while num > 0:\n",
    "            first_digit = num % 10\n",
    "            num //= 10\n",
    "\n",
    "        # Calculate and return the sum of the first and last digits\n",
    "        return first_digit + last_digit\n",
    "\n",
    "print(sumOfFirstAndLastDigit(1234)) # 5\n",
    "print(sumOfFirstAndLastDigit(8471)) # 9\n",
    "print(sumOfFirstAndLastDigit(5)) # 5\n",
    "print(sumOfFirstAndLastDigit(99)) # 18"
   ]
  }
 ],
 "metadata": {
  "kernelspec": {
   "display_name": "Python 3 (ipykernel)",
   "language": "python",
   "name": "python3"
  },
  "language_info": {
   "codemirror_mode": {
    "name": "ipython",
    "version": 3
   },
   "file_extension": ".py",
   "mimetype": "text/x-python",
   "name": "python",
   "nbconvert_exporter": "python",
   "pygments_lexer": "ipython3",
   "version": "3.9.13"
  }
 },
 "nbformat": 4,
 "nbformat_minor": 5
}
