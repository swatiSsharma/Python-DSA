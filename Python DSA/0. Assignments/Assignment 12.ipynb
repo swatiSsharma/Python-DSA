{
 "cells": [
  {
   "cell_type": "markdown",
   "id": "33af2170",
   "metadata": {},
   "source": [
    "# Assignment 12"
   ]
  },
  {
   "cell_type": "markdown",
   "id": "bbd1a1f9",
   "metadata": {},
   "source": [
    "## Q1. Make a list of your own. Print the whole list in reverse using FOR loop and WHILE loop."
   ]
  },
  {
   "cell_type": "code",
   "execution_count": 1,
   "id": "410c1fab",
   "metadata": {},
   "outputs": [],
   "source": [
    "lst: list = [1, 2, 3, 4, 5, 6, 7, 8]"
   ]
  },
  {
   "cell_type": "code",
   "execution_count": 2,
   "id": "5e816fe6",
   "metadata": {},
   "outputs": [
    {
     "name": "stdout",
     "output_type": "stream",
     "text": [
      "8 7 6 5 4 3 2 1 "
     ]
    }
   ],
   "source": [
    "for i in range(len(lst) -1 , -1, -1):\n",
    "    print(lst[i], end =' ')"
   ]
  },
  {
   "cell_type": "code",
   "execution_count": 3,
   "id": "a0561035",
   "metadata": {},
   "outputs": [
    {
     "name": "stdout",
     "output_type": "stream",
     "text": [
      "8 7 6 5 4 3 2 1 "
     ]
    }
   ],
   "source": [
    "i: int = len(lst) - 1\n",
    "while i >= 0:\n",
    "    print(lst[i], end = ' ')\n",
    "    i -= 1"
   ]
  },
  {
   "cell_type": "code",
   "execution_count": 4,
   "id": "9c119056",
   "metadata": {},
   "outputs": [
    {
     "data": {
      "text/plain": [
       "[8, 7, 6, 5, 4, 3, 2, 1]"
      ]
     },
     "execution_count": 4,
     "metadata": {},
     "output_type": "execute_result"
    }
   ],
   "source": [
    "reversed_list = lst[::-1]\n",
    "reversed_list"
   ]
  },
  {
   "cell_type": "markdown",
   "id": "c1cea450",
   "metadata": {},
   "source": [
    "## Q2. Make a list of your own. Print all the numbers divisible by 3 and 4 in that list."
   ]
  },
  {
   "cell_type": "code",
   "execution_count": 5,
   "id": "f09de5e9",
   "metadata": {},
   "outputs": [
    {
     "name": "stdout",
     "output_type": "stream",
     "text": [
      "12 "
     ]
    }
   ],
   "source": [
    "lst: list = [1, 2, 3, 4, 5, 6, 7, 8, 9, 110, 12]\n",
    "\n",
    "for i in range(len(lst)):\n",
    "    if lst[i] % 3 == 0 and lst[i] % 4 == 0:\n",
    "        print(lst[i], end =' ')"
   ]
  },
  {
   "cell_type": "markdown",
   "id": "9fba2c31",
   "metadata": {},
   "source": [
    "## Q3. Make a list of your own. Count how many numbers are divisible by 5."
   ]
  },
  {
   "cell_type": "code",
   "execution_count": 6,
   "id": "07b45765",
   "metadata": {},
   "outputs": [
    {
     "name": "stdout",
     "output_type": "stream",
     "text": [
      "3\n"
     ]
    }
   ],
   "source": [
    "lst: list = [1, 25, 3, 4, 50, 6, 7, 8, 9, 110, 12]\n",
    "cnt = 0\n",
    "for i in range(len(lst)):\n",
    "    if lst[i] % 5 == 0:\n",
    "        cnt += 1\n",
    "print(cnt)"
   ]
  },
  {
   "cell_type": "markdown",
   "id": "56f169b1",
   "metadata": {},
   "source": [
    "## Q4. Make a list of your own. Calculate the length of that list without using len() function."
   ]
  },
  {
   "cell_type": "code",
   "execution_count": 7,
   "id": "06847f3b",
   "metadata": {},
   "outputs": [
    {
     "name": "stdout",
     "output_type": "stream",
     "text": [
      "11 11\n"
     ]
    }
   ],
   "source": [
    "lst: list = [1, 25, 3, 4, 50, 6, 7, 8, 9, 110, 12]\n",
    "cnt = 0\n",
    "\n",
    "for i in lst:\n",
    "    cnt += 1\n",
    "\n",
    "print(cnt, len(lst))   "
   ]
  },
  {
   "cell_type": "markdown",
   "id": "7e989c6a",
   "metadata": {},
   "source": [
    "## Q5. Create a function countOddEven that accepts an List of Integers and print how many even and odd numbers are there."
   ]
  },
  {
   "cell_type": "code",
   "execution_count": 8,
   "id": "ab9fb092",
   "metadata": {},
   "outputs": [
    {
     "name": "stdout",
     "output_type": "stream",
     "text": [
      "6 5\n",
      "2 4\n"
     ]
    }
   ],
   "source": [
    "def countOddEven(lst: list):\n",
    "    even_cnt = 0\n",
    "    odd_cnt = 0\n",
    "    for i in range(len(lst)):\n",
    "        if lst[i] % 2 == 0:\n",
    "            even_cnt += 1\n",
    "        else:\n",
    "            odd_cnt += 1\n",
    "    print(even_cnt, odd_cnt)\n",
    "    \n",
    "countOddEven([1, 25, 3, 4, 50, 6, 7, 8, 9, 110, 12])\n",
    "countOddEven([34, 11, 91, 59, 33, 22])"
   ]
  },
  {
   "cell_type": "markdown",
   "id": "6620525e",
   "metadata": {},
   "source": [
    "## Q6. Create a function sumCountOddEven that accepts an List of Integers and calculate sum of even and odd numbers."
   ]
  },
  {
   "cell_type": "code",
   "execution_count": 9,
   "id": "897f01a0",
   "metadata": {},
   "outputs": [
    {
     "name": "stdout",
     "output_type": "stream",
     "text": [
      "190 45\n",
      "56 194\n"
     ]
    }
   ],
   "source": [
    "def sumCountOddEven(lst: list):\n",
    "    even_sum = 0\n",
    "    odd_sum = 0\n",
    "    for i in range(len(lst)):\n",
    "        if lst[i] % 2 == 0:\n",
    "            even_sum += lst[i]\n",
    "        else:\n",
    "            odd_sum += lst[i]\n",
    "    print(even_sum, odd_sum)\n",
    "    \n",
    "sumCountOddEven([1, 25, 3, 4, 50, 6, 7, 8, 9, 110, 12])\n",
    "sumCountOddEven([34, 11, 91, 59, 33, 22])"
   ]
  },
  {
   "cell_type": "markdown",
   "id": "1c3b4602",
   "metadata": {},
   "source": [
    "## Q7. Create a function findLargest that accepts an List of Integers and returns the largest number from the list."
   ]
  },
  {
   "cell_type": "code",
   "execution_count": 10,
   "id": "06bc45d4",
   "metadata": {},
   "outputs": [
    {
     "name": "stdout",
     "output_type": "stream",
     "text": [
      "110\n",
      "91\n"
     ]
    }
   ],
   "source": [
    "def findLargest(lst: list):\n",
    "    large = lst[0]\n",
    "    \n",
    "    for i in range(1, len(lst)):\n",
    "        if lst[i] > large:\n",
    "            large = lst[i]\n",
    "    print(large)\n",
    "    \n",
    "findLargest([1, 25, 3, 4, 50, 6, 7, 8, 9, 110, 12])\n",
    "findLargest([34, 11, 91, 59, 33, 22, -1])"
   ]
  },
  {
   "cell_type": "markdown",
   "id": "6dc22194",
   "metadata": {},
   "source": [
    "## Q8. Create a function findSmallest that accepts an List of Integers and returns the smallest number from the list"
   ]
  },
  {
   "cell_type": "code",
   "execution_count": 11,
   "id": "82f4af83",
   "metadata": {},
   "outputs": [
    {
     "name": "stdout",
     "output_type": "stream",
     "text": [
      "-90\n",
      "11\n"
     ]
    }
   ],
   "source": [
    "def findSmallest(lst: list):\n",
    "    small = lst[0]\n",
    "    \n",
    "    for i in range(1, len(lst)):\n",
    "        if lst[i] < small:\n",
    "            small = lst[i]\n",
    "    print(small)\n",
    "    \n",
    "findSmallest([1, 25, 3, 4, 50, 6, 7, 8, 9, 110, 12, -90, -1])\n",
    "findSmallest([34, 11, 91, 59, 33, 22])"
   ]
  },
  {
   "cell_type": "markdown",
   "id": "169b7ec7",
   "metadata": {},
   "source": [
    "## Q9. Create a function updateOddEven that accepts an List of Integers and update all the even numbers to 0 and update all the odd numbers to 1"
   ]
  },
  {
   "cell_type": "code",
   "execution_count": 12,
   "id": "cadadf18",
   "metadata": {},
   "outputs": [
    {
     "name": "stdout",
     "output_type": "stream",
     "text": [
      "[91, 25, 3, 4, 50, 6, 7, 8, 9, 110, 12, -90, -1]\n",
      "[1, 1, 1, 0, 0, 0, 1, 0, 1, 0, 0, 0, 1]\n",
      "\n",
      "[34, 11, 91, 59, 33, 22]\n",
      "[0, 1, 1, 1, 1, 0]\n"
     ]
    }
   ],
   "source": [
    "def updateOddEven(lst: list):\n",
    "    print(lst)\n",
    "    for i in range(len(lst)):\n",
    "        if lst[i] % 2 == 0:\n",
    "            lst[i] = 0\n",
    "        else:\n",
    "            lst[i] = 1\n",
    "    print(lst)\n",
    "\n",
    "updateOddEven([91, 25, 3, 4, 50, 6, 7, 8, 9, 110, 12, -90, -1])\n",
    "print()\n",
    "updateOddEven([34, 11, 91, 59, 33, 22])"
   ]
  },
  {
   "cell_type": "markdown",
   "id": "8c59bbac",
   "metadata": {},
   "source": [
    "## Q10. Create a function updateOddEven that accepts an List of Integers and update all the even numbers to increment by 1 and update all the odd numbers to decrement by 1."
   ]
  },
  {
   "cell_type": "code",
   "execution_count": 13,
   "id": "041114bc",
   "metadata": {},
   "outputs": [
    {
     "name": "stdout",
     "output_type": "stream",
     "text": [
      "[91, 25, 3, 4, 50, 6, 7, 8, 9, 110, 12, -90, -1]\n",
      "[90, 24, 2, 5, 51, 7, 6, 9, 8, 111, 13, -89, -2]\n",
      "\n",
      "[34, 11, 91, 59, 33, 22]\n",
      "[35, 10, 90, 58, 32, 23]\n"
     ]
    }
   ],
   "source": [
    "def updateOddEven(lst: list):\n",
    "    print(lst)\n",
    "    for i in range(len(lst)):\n",
    "        if lst[i] % 2 == 0:\n",
    "            lst[i] += 1\n",
    "        else:\n",
    "            lst[i] -= 1\n",
    "    print(lst)\n",
    "\n",
    "updateOddEven([91, 25, 3, 4, 50, 6, 7, 8, 9, 110, 12, -90, -1])\n",
    "print()\n",
    "updateOddEven([34, 11, 91, 59, 33, 22])"
   ]
  },
  {
   "cell_type": "markdown",
   "id": "728f7f55",
   "metadata": {},
   "source": [
    "## Q11. Create a function calculatePrime that accepts an List of Integers and print all the prime numbers in that list"
   ]
  },
  {
   "cell_type": "code",
   "execution_count": 14,
   "id": "c51cc949",
   "metadata": {},
   "outputs": [
    {
     "name": "stdout",
     "output_type": "stream",
     "text": [
      "Prime Numbers: [2, 3, 5, 7, 13, 17, 23, 29]\n",
      "Prime Numbers: [3, 7]\n",
      "Prime Numbers: [11, 59]\n"
     ]
    }
   ],
   "source": [
    "def is_prime(num):\n",
    "    if num < 2:\n",
    "        return False\n",
    "    for i in range(2, int(num**0.5) + 1):\n",
    "        if num % i == 0:\n",
    "            return False\n",
    "    return True\n",
    "\n",
    "def calculatePrime(numbers):\n",
    "    prime_numbers = [num for num in numbers if is_prime(num)]\n",
    "    print(\"Prime Numbers:\", prime_numbers)\n",
    "\n",
    "# Example usage:\n",
    "numbers_list = [2, 3, 5, 7, 10, 13, 17, 20, 23, 29]\n",
    "calculatePrime(numbers_list)\n",
    "calculatePrime([91, 25, 3, 4, 50, 6, 7, 8, 9, 110, 12, -90, -1])\n",
    "calculatePrime([34, 11, 91, 59, 33, 22])\n"
   ]
  }
 ],
 "metadata": {
  "kernelspec": {
   "display_name": "Python 3 (ipykernel)",
   "language": "python",
   "name": "python3"
  },
  "language_info": {
   "codemirror_mode": {
    "name": "ipython",
    "version": 3
   },
   "file_extension": ".py",
   "mimetype": "text/x-python",
   "name": "python",
   "nbconvert_exporter": "python",
   "pygments_lexer": "ipython3",
   "version": "3.9.13"
  }
 },
 "nbformat": 4,
 "nbformat_minor": 5
}
