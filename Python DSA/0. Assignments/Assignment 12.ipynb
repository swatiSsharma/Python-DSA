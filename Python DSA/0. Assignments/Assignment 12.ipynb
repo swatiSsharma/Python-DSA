{
 "cells": [
  {
   "cell_type": "markdown",
   "id": "33af2170",
   "metadata": {},
   "source": [
    "# Assignment 12"
   ]
  },
  {
   "cell_type": "markdown",
   "id": "bbd1a1f9",
   "metadata": {},
   "source": [
    "## Q1. Make a list of your own. Make two more empty list like odd and even. Put all the even numbers from original list to even and odd numbers to odd and print both lists. (Don’t remove anything from original one)."
   ]
  },
  {
   "cell_type": "code",
   "execution_count": 1,
   "id": "410c1fab",
   "metadata": {},
   "outputs": [
    {
     "name": "stdout",
     "output_type": "stream",
     "text": [
      "Even list = [56, 9014, 112, 100]\n",
      "Odd list = [31, 5499]\n"
     ]
    }
   ],
   "source": [
    "from typing import List\n",
    "\n",
    "\n",
    "def oddEvenList(lst: List[int]) -> None:\n",
    "    odd = []\n",
    "    even = []\n",
    "    \"\"\"\n",
    "    Method 1\n",
    "    for i in range(0, len(lst)):\n",
    "        if lst[i] % 2 == 0:\n",
    "            even.append(lst[i])\n",
    "        else:\n",
    "            odd.append(lst[i])\n",
    "    \"\"\"\n",
    "    for i in lst:\n",
    "        if i % 2 == 0:\n",
    "            even.append(i)\n",
    "        else:\n",
    "            odd.append(i)\n",
    "    print(f\"Even list = {even}\")\n",
    "    print(f\"Odd list = {odd}\")\n",
    "\n",
    "\n",
    "my_list = [56, 31, 9014, 5499, 112, 100]\n",
    "oddEvenList(my_list)"
   ]
  },
  {
   "cell_type": "markdown",
   "id": "c1cea450",
   "metadata": {},
   "source": [
    "## Q2. Write a function to remove duplicates from a list and print them."
   ]
  },
  {
   "cell_type": "code",
   "execution_count": 2,
   "id": "f09de5e9",
   "metadata": {},
   "outputs": [
    {
     "name": "stdout",
     "output_type": "stream",
     "text": [
      "[34, 96, 51, 27, 11]\n"
     ]
    }
   ],
   "source": [
    "from typing import List\n",
    "\n",
    "def removeDuplicates(lst: List[int]) -> None:\n",
    "    result = []\n",
    "    \"\"\"\n",
    "    Method 1\n",
    "    for i in range(0, len(lst)):\n",
    "        if lst[i] not in result:\n",
    "            result.append(lst[i])\n",
    "    \"\"\"\n",
    "    for i in lst:\n",
    "        if i not in result:\n",
    "            result.append(i)\n",
    "    print(result)\n",
    "\n",
    "my_list = [34, 96, 34, 34, 51, 27, 96, 96, 11, 34]\n",
    "removeDuplicates(my_list)"
   ]
  },
  {
   "cell_type": "markdown",
   "id": "9fba2c31",
   "metadata": {},
   "source": [
    "## Q3. Write a Python function that takes two lists and returns True if they have at least one common element.."
   ]
  },
  {
   "cell_type": "code",
   "execution_count": 3,
   "id": "07b45765",
   "metadata": {},
   "outputs": [
    {
     "name": "stdout",
     "output_type": "stream",
     "text": [
      "False\n"
     ]
    }
   ],
   "source": [
    "from typing import List\n",
    "\n",
    "def isCommon(lst1: List, lst2: List) -> bool:\n",
    "    for i in lst1:\n",
    "        if i in lst2:\n",
    "            return True\n",
    "    return False\n",
    "\n",
    "my_list1 = [\"James\", \"xyz\", 98, 11.908, 93, -100]\n",
    "my_list2 = [9008, 9102, 4311, 222]\n",
    "\n",
    "print(isCommon(my_list1, my_list2))"
   ]
  },
  {
   "cell_type": "markdown",
   "id": "56f169b1",
   "metadata": {},
   "source": [
    "## Q4. Write a Python Program to find sum and average of List in Python."
   ]
  },
  {
   "cell_type": "code",
   "execution_count": 4,
   "id": "06847f3b",
   "metadata": {},
   "outputs": [
    {
     "name": "stdout",
     "output_type": "stream",
     "text": [
      "Total = 544.46\n",
      "Average = 54.446000000000005\n"
     ]
    }
   ],
   "source": [
    "from typing import List\n",
    "\n",
    "def sumAverage(lst: List[float]) -> None:\n",
    "    total = 0\n",
    "    for i in lst:\n",
    "        total = total + i\n",
    "    print(f\"Total = {total}\")\n",
    "\n",
    "    average = total / len(lst)\n",
    "    print(f\"Average = {average}\")\n",
    "\n",
    "my_list: List[float] = [34, 96, 34, 65.34, 51, 27, 96.12, 96, 11, 34]\n",
    "sumAverage(my_list)  "
   ]
  },
  {
   "cell_type": "markdown",
   "id": "7e989c6a",
   "metadata": {},
   "source": [
    "## Q5. Write a program to put all the common elements (in 2 lists) in another list and print it using function"
   ]
  },
  {
   "cell_type": "code",
   "execution_count": 5,
   "id": "ab9fb092",
   "metadata": {},
   "outputs": [
    {
     "name": "stdout",
     "output_type": "stream",
     "text": [
      "[98]\n"
     ]
    }
   ],
   "source": [
    "from typing import List\n",
    "\n",
    "def common(lst1: List, lst2: List) -> List:\n",
    "    result = []\n",
    "    for i in lst1:\n",
    "        # Check if i is in lst2 also\n",
    "        if i in lst2:\n",
    "            result.append(i)\n",
    "    return result\n",
    "\n",
    "my_list1 = [\"James\", \"xyz\", 98, 11.908, 93, -100]\n",
    "my_list2 = [9008, 9102, 4311, 222, 98]\n",
    "\n",
    "x = common(my_list1, my_list2)\n",
    "print(x)"
   ]
  },
  {
   "cell_type": "markdown",
   "id": "6620525e",
   "metadata": {},
   "source": [
    "## Q6. Write a program to remove the nth index element from a list using a function."
   ]
  },
  {
   "cell_type": "code",
   "execution_count": 6,
   "id": "897f01a0",
   "metadata": {},
   "outputs": [
    {
     "name": "stdout",
     "output_type": "stream",
     "text": [
      "[9008, 9102, 222, 98]\n"
     ]
    }
   ],
   "source": [
    "from typing import List\n",
    "\n",
    "def removeNth(lst: List, n: int) -> None:\n",
    "    lst.pop(n)\n",
    "\n",
    "my_list = [9008, 9102, 4311, 222, 98]\n",
    "removeNth(my_list, 2)\n",
    "print(my_list)"
   ]
  },
  {
   "cell_type": "markdown",
   "id": "1c3b4602",
   "metadata": {},
   "source": [
    "## Q7. Make two lists of same length and pass it to a function. Return a third list where each element is the sum of index"
   ]
  },
  {
   "cell_type": "code",
   "execution_count": 7,
   "id": "06bc45d4",
   "metadata": {},
   "outputs": [
    {
     "name": "stdout",
     "output_type": "stream",
     "text": [
      "[-57, -189, 313, 122]\n"
     ]
    }
   ],
   "source": [
    "from typing import List\n",
    "\n",
    "def addition(lst1: List[int], lst2: List[int]) -> List[int]:\n",
    "    result = []\n",
    "\n",
    "    # As we know the length are same, we will iterate via index\n",
    "    for i in range(0, len(lst1)):\n",
    "        result.append(lst1[i] + lst2[i])\n",
    "\n",
    "    return result\n",
    "\n",
    "my_list1 = [43, 11, 92, 22]\n",
    "my_list2 = [-100, -200, 221, 100]\n",
    "\n",
    "x = addition(my_list1, my_list2)\n",
    "print(x)"
   ]
  },
  {
   "cell_type": "markdown",
   "id": "6dc22194",
   "metadata": {},
   "source": [
    "## Q8. Take 10 integer inputs from user and store them in a list. Now, copy all the elements in another list but in reverse order."
   ]
  },
  {
   "cell_type": "code",
   "execution_count": 8,
   "id": "82f4af83",
   "metadata": {},
   "outputs": [
    {
     "name": "stdout",
     "output_type": "stream",
     "text": [
      "Enter a number = 15\n",
      "Enter a number = 32\n",
      "Enter a number = 325\n",
      "Enter a number = 23\n",
      "Enter a number = 144\n",
      "Enter a number = 346\n",
      "Enter a number = 345\n",
      "Enter a number = 346788\n",
      "Enter a number = 87\n",
      "Enter a number = 787\n",
      "[787, 87, 346788, 345, 346, 144, 23, 325, 32, 15]\n"
     ]
    }
   ],
   "source": [
    "from typing import List\n",
    "\n",
    "my_list: List[int] = []\n",
    "\n",
    "for i in range(10):\n",
    "    num: int = int(input(\"Enter a number = \"))\n",
    "    my_list.append(num)\n",
    "\n",
    "reverse_list = []\n",
    "\n",
    "# Iterate the first list in reverse and append in reverse_list variable\n",
    "for i in range(len(my_list) - 1, -1, -1):\n",
    "    reverse_list.append(my_list[i])\n",
    "\n",
    "print(reverse_list)"
   ]
  },
  {
   "cell_type": "markdown",
   "id": "169b7ec7",
   "metadata": {},
   "source": [
    "## Q9. Make a list. Write a simple program for addition of the 2nd element from start and 2nd element from the end."
   ]
  },
  {
   "cell_type": "code",
   "execution_count": 9,
   "id": "cadadf18",
   "metadata": {},
   "outputs": [
    {
     "name": "stdout",
     "output_type": "stream",
     "text": [
      "103\n"
     ]
    }
   ],
   "source": [
    "from typing import List\n",
    "\n",
    "def additionElement(lst: List[int]):\n",
    "    if len(lst) == 1:\n",
    "        print(\"Cannot add 2nd and last 2nd element as not enough elements in list\")\n",
    "        return\n",
    "    print(lst[1] + lst[-2])\n",
    "\n",
    "my_list = [43, 11, 92, 22]\n",
    "additionElement(my_list)"
   ]
  },
  {
   "cell_type": "markdown",
   "id": "8c59bbac",
   "metadata": {},
   "source": [
    "## Q10. Ask 10 numbers from the user and put them into the list. Now remove all the even numbers from that list."
   ]
  },
  {
   "cell_type": "code",
   "execution_count": 10,
   "id": "041114bc",
   "metadata": {},
   "outputs": [
    {
     "name": "stdout",
     "output_type": "stream",
     "text": [
      "Enter a number = 54\n",
      "Enter a number = 457\n",
      "Enter a number = 457\n",
      "Enter a number = 475\n",
      "Enter a number = 743\n",
      "Enter a number = 73\n",
      "Enter a number = 3747\n",
      "Enter a number = 3764\n",
      "Enter a number = 56978\n",
      "Enter a number = 7698\n",
      "[457, 457, 475, 743, 73, 3747]\n"
     ]
    }
   ],
   "source": [
    "from typing import List\n",
    "\n",
    "def removeEven(lst: List[int]) -> None:\n",
    "    result = []\n",
    "    for i in lst:\n",
    "        if i % 2 == 1:\n",
    "            result.append(i)\n",
    "    print(result)\n",
    "\n",
    "my_list = []\n",
    "for _ in range(10):\n",
    "    num: int = int(input(\"Enter a number = \"))\n",
    "    my_list.append(num)\n",
    "\n",
    "removeEven(my_list)"
   ]
  },
  {
   "cell_type": "markdown",
   "id": "728f7f55",
   "metadata": {},
   "source": [
    "## Q11. Write a python program which prints all the values whose count is greater than 3. (Make sure to make a list with at least 15 numbers)"
   ]
  },
  {
   "cell_type": "code",
   "execution_count": 11,
   "id": "c51cc949",
   "metadata": {},
   "outputs": [
    {
     "name": "stdout",
     "output_type": "stream",
     "text": [
      "[34, 51]\n"
     ]
    }
   ],
   "source": [
    "from typing import List\n",
    "\n",
    "def printGreaterThanThree(lst: List[int]) -> None:\n",
    "    result = []\n",
    "    for i in lst:\n",
    "        if lst.count(i) > 3:\n",
    "            if i not in result:\n",
    "                result.append(i)\n",
    "    print(result)\n",
    "\n",
    "my_list: List[int] = [34, 96, 34, 65, 51, 27, 96, 96, 11, 34, 34, 34, 51, 51, 51]\n",
    "\n",
    "printGreaterThanThree(my_list)"
   ]
  }
 ],
 "metadata": {
  "kernelspec": {
   "display_name": "Python 3 (ipykernel)",
   "language": "python",
   "name": "python3"
  },
  "language_info": {
   "codemirror_mode": {
    "name": "ipython",
    "version": 3
   },
   "file_extension": ".py",
   "mimetype": "text/x-python",
   "name": "python",
   "nbconvert_exporter": "python",
   "pygments_lexer": "ipython3",
   "version": "3.9.13"
  }
 },
 "nbformat": 4,
 "nbformat_minor": 5
}
