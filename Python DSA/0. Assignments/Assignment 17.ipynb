{
 "cells": [
  {
   "cell_type": "markdown",
   "id": "b63e58e7",
   "metadata": {},
   "source": [
    "# Assignment 17"
   ]
  },
  {
   "cell_type": "markdown",
   "id": "c34d6856",
   "metadata": {},
   "source": [
    "## Q1. Ask a string from user. If the length of string is odd, then change all the capital letters to small and vice versa, but if the length of string is even, reverse the string. Do this using a function and return the output."
   ]
  },
  {
   "cell_type": "code",
   "execution_count": 1,
   "id": "5e6a7b1f",
   "metadata": {},
   "outputs": [
    {
     "name": "stdout",
     "output_type": "stream",
     "text": [
      "aeROplANE\n",
      "senaLPorEA\n"
     ]
    }
   ],
   "source": [
    "def changeString(a: str) -> str:\n",
    "    if len(a) % 2 == 0:\n",
    "        return a[::-1]\n",
    "    else:\n",
    "        return a.swapcase()\n",
    "\n",
    "\n",
    "print(changeString('AEroPLane'))\n",
    "print(changeString('AEroPLanes'))"
   ]
  },
  {
   "cell_type": "markdown",
   "id": "30df31f9",
   "metadata": {},
   "source": [
    "## Q2. Write a function which accepts a String as a parameter and return the list of words."
   ]
  },
  {
   "cell_type": "code",
   "execution_count": 2,
   "id": "19931ca4",
   "metadata": {},
   "outputs": [
    {
     "name": "stdout",
     "output_type": "stream",
     "text": [
      "['Python', 'is', 'great']\n",
      "['Python', 'is', 'a', 'great', 'language']\n"
     ]
    }
   ],
   "source": [
    "def words(a: str) -> list:\n",
    "    return a.split()\n",
    "\n",
    "print(words(\"Python is great\"))\n",
    "print(words(\"Python is a great language\"))    "
   ]
  },
  {
   "cell_type": "markdown",
   "id": "f70f5193",
   "metadata": {},
   "source": [
    "## Q3. Write a function which accepts a String as a parameter and return the reversed words as a String"
   ]
  },
  {
   "cell_type": "code",
   "execution_count": 3,
   "id": "16630ded",
   "metadata": {},
   "outputs": [
    {
     "name": "stdout",
     "output_type": "stream",
     "text": [
      "great is python "
     ]
    }
   ],
   "source": [
    "def reversedWords(a: str) -> list:\n",
    "    lst = a.split()\n",
    "    return lst[::-1]\n",
    "\n",
    "result = reversedWords(\"python is great\")\n",
    "\n",
    "for i in result:\n",
    "    print(i, end = ' ')\n",
    "\n"
   ]
  },
  {
   "cell_type": "markdown",
   "id": "4f1e5430",
   "metadata": {},
   "source": [
    "## Q4. Ask 5 integers from user. Then ask a single character from user. Print those integers separated by that character entered by user"
   ]
  },
  {
   "cell_type": "code",
   "execution_count": 4,
   "id": "26d7c9e0",
   "metadata": {},
   "outputs": [
    {
     "name": "stdout",
     "output_type": "stream",
     "text": [
      "Enter integer 1: 56\n",
      "Enter integer 2: 96\n",
      "Enter integer 3: 6\n",
      "Enter integer 4: 41\n",
      "Enter integer 5: 34\n",
      "Enter a single character to use as a separator: !@!#\n",
      "Please enter a single character.\n"
     ]
    }
   ],
   "source": [
    "# Ask for 5 integers\n",
    "integers = []\n",
    "for i in range(5):\n",
    "    num = int(input(f\"Enter integer {i + 1}: \"))\n",
    "    integers.append(num)\n",
    "\n",
    "# Ask for a single character\n",
    "separator_char = input(\"Enter a single character to use as a separator: \")\n",
    "\n",
    "# Check if a single character is entered\n",
    "if len(separator_char) == 1:\n",
    "    # Print integers separated by the entered character\n",
    "    result_string = separator_char.join(map(str, integers))\n",
    "    print(\"Result:\", result_string)\n",
    "else:\n",
    "    print(\"Please enter a single character.\")"
   ]
  },
  {
   "cell_type": "markdown",
   "id": "c438ad8b",
   "metadata": {},
   "source": [
    "## Q5. Write a function which accepts a String as a parameter and return each word being in reverse."
   ]
  },
  {
   "cell_type": "code",
   "execution_count": 5,
   "id": "5267b77a",
   "metadata": {},
   "outputs": [
    {
     "name": "stdout",
     "output_type": "stream",
     "text": [
      "Original String: Hello World Python\n",
      "String with Reversed Words: olleH dlroW nohtyP\n"
     ]
    }
   ],
   "source": [
    "def reverse_each_word(input_string):\n",
    "    # Split the input string into words\n",
    "    words = input_string.split()\n",
    "\n",
    "    # Reverse each word and join them back into a string\n",
    "    reversed_words = ' '.join(word[::-1] for word in words)\n",
    "\n",
    "    return reversed_words\n",
    "\n",
    "# Example usage:\n",
    "input_string = \"Hello World Python\"\n",
    "result = reverse_each_word(input_string)\n",
    "\n",
    "print(\"Original String:\", input_string)\n",
    "print(\"String with Reversed Words:\", result)\n"
   ]
  },
  {
   "cell_type": "markdown",
   "id": "d4618faa",
   "metadata": {},
   "source": [
    "## Q6. Write a function which accepts a String and another string (which will be a single character) as a parameter. Join that string along with that character"
   ]
  },
  {
   "cell_type": "code",
   "execution_count": 6,
   "id": "4985df3e",
   "metadata": {},
   "outputs": [
    {
     "name": "stdout",
     "output_type": "stream",
     "text": [
      "Original String: Hello World\n",
      "String joined with Character: Hello World*\n"
     ]
    }
   ],
   "source": [
    "def join_with_character(input_string, character):\n",
    "    # Join the input string and character\n",
    "    result_string = input_string + character\n",
    "\n",
    "    return result_string\n",
    "\n",
    "# Example usage:\n",
    "input_string = \"Hello World\"\n",
    "single_character = \"*\"\n",
    "\n",
    "result = join_with_character(input_string, single_character)\n",
    "\n",
    "print(\"Original String:\", input_string)\n",
    "print(\"String joined with Character:\", result)"
   ]
  },
  {
   "cell_type": "markdown",
   "id": "a543bf2d",
   "metadata": {},
   "source": [
    "## Q7. Write a function which accepts a String and another string (which will be a single character) as a parameter. Join that string along with that character but in reverse."
   ]
  },
  {
   "cell_type": "code",
   "execution_count": 7,
   "id": "bbc7ca2f",
   "metadata": {},
   "outputs": [
    {
     "name": "stdout",
     "output_type": "stream",
     "text": [
      "Original String: Hello World\n",
      "String joined with Character in Reverse: dlroW olleH*\n"
     ]
    }
   ],
   "source": [
    "def join_with_character_reverse(input_string, character):\n",
    "    # Reverse the input string and join it with the character\n",
    "    result_string = input_string[::-1] + character\n",
    "\n",
    "    return result_string\n",
    "\n",
    "# Example usage:\n",
    "input_string = \"Hello World\"\n",
    "single_character = \"*\"\n",
    "\n",
    "result = join_with_character_reverse(input_string, single_character)\n",
    "\n",
    "print(\"Original String:\", input_string)\n",
    "print(\"String joined with Character in Reverse:\", result)\n"
   ]
  }
 ],
 "metadata": {
  "kernelspec": {
   "display_name": "Python 3 (ipykernel)",
   "language": "python",
   "name": "python3"
  },
  "language_info": {
   "codemirror_mode": {
    "name": "ipython",
    "version": 3
   },
   "file_extension": ".py",
   "mimetype": "text/x-python",
   "name": "python",
   "nbconvert_exporter": "python",
   "pygments_lexer": "ipython3",
   "version": "3.9.13"
  }
 },
 "nbformat": 4,
 "nbformat_minor": 5
}
