{
 "cells": [
  {
   "cell_type": "markdown",
   "id": "86cae940",
   "metadata": {},
   "source": [
    "# Assignment 9"
   ]
  },
  {
   "cell_type": "markdown",
   "id": "a372e3de",
   "metadata": {},
   "source": [
    "## Print the patterns"
   ]
  },
  {
   "cell_type": "markdown",
   "id": "7de2abee",
   "metadata": {},
   "source": [
    "### Q1\n",
    "```\n",
    "1 2 3 4 5\n",
    "1 2 3 4 5\n",
    "1 2 3 4 5\n",
    "1 2 3 4 5\n",
    "1 2 3 4 5\n",
    "```"
   ]
  },
  {
   "cell_type": "code",
   "execution_count": 1,
   "id": "0384d8b7",
   "metadata": {},
   "outputs": [
    {
     "name": "stdout",
     "output_type": "stream",
     "text": [
      "Enter the number of rows:5\n",
      "1 2 3 4 5 \n",
      "1 2 3 4 5 \n",
      "1 2 3 4 5 \n",
      "1 2 3 4 5 \n",
      "1 2 3 4 5 \n"
     ]
    }
   ],
   "source": [
    "n: int = int(input(\"Enter the number of rows:\"))\n",
    "    \n",
    "for i in range(1, n+1):\n",
    "    for j in range(1, n+1):\n",
    "        print(j, end=' ')\n",
    "    print()"
   ]
  },
  {
   "cell_type": "markdown",
   "id": "3eedb498",
   "metadata": {},
   "source": [
    "***\n",
    "***\n",
    "### Q2\n",
    "```\n",
    "1\n",
    "1 2\n",
    "1 2 3\n",
    "1 2 3 4\n",
    "1 2 3 4 5\n",
    "```"
   ]
  },
  {
   "cell_type": "code",
   "execution_count": 2,
   "id": "9631111e",
   "metadata": {},
   "outputs": [
    {
     "name": "stdout",
     "output_type": "stream",
     "text": [
      "Enter the number of rows:5\n",
      "1 \n",
      "1 2 \n",
      "1 2 3 \n",
      "1 2 3 4 \n",
      "1 2 3 4 5 \n"
     ]
    }
   ],
   "source": [
    "n: int = int(input(\"Enter the number of rows:\"))\n",
    "for i in range(1, n+1):\n",
    "    for j in range(1, i+1):\n",
    "        print(j, end=' ')\n",
    "    print()"
   ]
  },
  {
   "cell_type": "markdown",
   "id": "6ccbc862",
   "metadata": {},
   "source": [
    "***\n",
    "***\n",
    "### Q3\n",
    "```\n",
    "5\n",
    "4 5\n",
    "3 4 5\n",
    "2 3 4 5\n",
    "1 2 3 4 5\n",
    "```"
   ]
  },
  {
   "cell_type": "code",
   "execution_count": 3,
   "id": "e1ea40cc",
   "metadata": {},
   "outputs": [
    {
     "name": "stdout",
     "output_type": "stream",
     "text": [
      "Enter the number of rows:5\n",
      "5 \n",
      "4 5 \n",
      "3 4 5 \n",
      "2 3 4 5 \n",
      "1 2 3 4 5 \n"
     ]
    }
   ],
   "source": [
    "n: int = int(input(\"Enter the number of rows:\"))\n",
    "\n",
    "for i in range(n, 0, -1):\n",
    "    for j in range(i, n + 1):\n",
    "        print(j, end=\" \")\n",
    "\n",
    "    print()\n",
    "    "
   ]
  },
  {
   "cell_type": "markdown",
   "id": "c30424d6",
   "metadata": {},
   "source": [
    "***\n",
    "***\n",
    "### Q4\n",
    "```\n",
    "5\n",
    "5 4\n",
    "5 4 3\n",
    "5 4 3 2\n",
    "5 4 3 2 1\n",
    "```"
   ]
  },
  {
   "cell_type": "code",
   "execution_count": 4,
   "id": "db5cb437",
   "metadata": {},
   "outputs": [
    {
     "name": "stdout",
     "output_type": "stream",
     "text": [
      "Enter the number of rows:5\n",
      "5 \n",
      "4 5 \n",
      "3 4 5 \n",
      "2 3 4 5 \n",
      "1 2 3 4 5 \n"
     ]
    }
   ],
   "source": [
    "n: int = int(input(\"Enter the number of rows:\"))\n",
    "    \n",
    "for i in range(n, 0, -1):\n",
    "    for j in range(i , n+1):\n",
    "        print(j, end = ' ')\n",
    "    print()"
   ]
  },
  {
   "cell_type": "markdown",
   "id": "2b9bfaa5",
   "metadata": {},
   "source": [
    "***\n",
    "***\n",
    "### Q5\n",
    "```\n",
    "1 2 3 4 5\n",
    "1 2 3 4\n",
    "1 2 3 \n",
    "1 2\n",
    "1\n",
    "```"
   ]
  },
  {
   "cell_type": "code",
   "execution_count": 5,
   "id": "64d9db33",
   "metadata": {},
   "outputs": [
    {
     "name": "stdout",
     "output_type": "stream",
     "text": [
      "Enter the number of rows:5\n",
      "1 2 3 4 5 \n",
      "1 2 3 4 \n",
      "1 2 3 \n",
      "1 2 \n",
      "1 \n"
     ]
    }
   ],
   "source": [
    "n: int = int(input(\"Enter the number of rows:\"))\n",
    "\n",
    "for i in range(n, 0, -1):\n",
    "    for j in range(1, i+1):\n",
    "        print(j, end =' ')\n",
    "    print()"
   ]
  },
  {
   "cell_type": "markdown",
   "id": "8641ad46",
   "metadata": {},
   "source": [
    "***\n",
    "***\n",
    "##### Q6\n",
    "```\n",
    "5 4 3 2 1\n",
    "5 4 3 2\n",
    "5 4 3\n",
    "5 4\n",
    "5\n",
    "```"
   ]
  },
  {
   "cell_type": "code",
   "execution_count": 6,
   "id": "8bdd1fe7",
   "metadata": {},
   "outputs": [
    {
     "name": "stdout",
     "output_type": "stream",
     "text": [
      "Enter the number of rows:5\n",
      "5 4 3 2 1 \n",
      "5 4 3 2 \n",
      "5 4 3 \n",
      "5 4 \n",
      "5 \n"
     ]
    }
   ],
   "source": [
    "n: int = int(input(\"Enter the number of rows:\"))\n",
    "    \n",
    "for i in range(1, n+1):\n",
    "    for j in range(n, i-1, -1):\n",
    "        print(j, end=' ')\n",
    "    print()"
   ]
  },
  {
   "cell_type": "markdown",
   "id": "a4aeda1e",
   "metadata": {},
   "source": [
    "***\n",
    "***\n",
    "### Q7\n",
    "```\n",
    "5 4 3 2 1\n",
    "4 3 2 1\n",
    "3 2 1\n",
    "2 1\n",
    "1\n",
    "```"
   ]
  },
  {
   "cell_type": "code",
   "execution_count": 7,
   "id": "5fc8e25a",
   "metadata": {},
   "outputs": [
    {
     "name": "stdout",
     "output_type": "stream",
     "text": [
      "Enter the number of rows:5\n",
      "5 4 3 2 1 \n",
      "4 3 2 1 \n",
      "3 2 1 \n",
      "2 1 \n",
      "1 \n"
     ]
    }
   ],
   "source": [
    "n: int = int(input(\"Enter the number of rows:\"))\n",
    "    \n",
    "for i in range(n, 0, -1):\n",
    "    for j in range(i, 0, -1):\n",
    "        print(j, end=\" \")\n",
    "    print()"
   ]
  },
  {
   "cell_type": "markdown",
   "id": "ed5cc31d",
   "metadata": {},
   "source": [
    "***\n",
    "***\n",
    "### Q8\n",
    "```\n",
    "1 2 3 4 5\n",
    "2 3 4 5\n",
    "3 4 5\n",
    "4 5\n",
    "5\n",
    "```"
   ]
  },
  {
   "cell_type": "code",
   "execution_count": 8,
   "id": "c261e824",
   "metadata": {},
   "outputs": [
    {
     "name": "stdout",
     "output_type": "stream",
     "text": [
      "Enter the number of rows:5\n",
      "1 2 3 4 5 \n",
      "2 3 4 5 \n",
      "3 4 5 \n",
      "4 5 \n",
      "5 \n"
     ]
    }
   ],
   "source": [
    "n: int = int(input(\"Enter the number of rows:\"))\n",
    "    \n",
    "for i in range(1, n+1):\n",
    "    for j in range(i, n+1):\n",
    "        print(j, end = ' ')\n",
    "    print()"
   ]
  },
  {
   "cell_type": "markdown",
   "id": "9688ef72",
   "metadata": {},
   "source": [
    "***\n",
    "***\n",
    "### Q9\n",
    "```\n",
    "1\n",
    "2 3\n",
    "4 5 6\n",
    "7 8 9 10\n",
    "11 12 13 14 15\n",
    "```"
   ]
  },
  {
   "cell_type": "code",
   "execution_count": 9,
   "id": "ac19cff2",
   "metadata": {},
   "outputs": [
    {
     "name": "stdout",
     "output_type": "stream",
     "text": [
      "Enter the number of rows:5\n",
      "1 \n",
      "2 3 \n",
      "4 5 6 \n",
      "7 8 9 10 \n",
      "11 12 13 14 15 \n"
     ]
    }
   ],
   "source": [
    "n: int = int(input(\"Enter the number of rows:\"))\n",
    "cnt: int = 1\n",
    "    \n",
    "for i in range(1, n+1):\n",
    "    for j in range(1, i+1):\n",
    "        print(cnt, end=' ')\n",
    "        cnt += 1\n",
    "    print()"
   ]
  },
  {
   "cell_type": "markdown",
   "id": "4ccf6787",
   "metadata": {},
   "source": [
    "***\n",
    "***\n",
    "### Q10\n",
    "```\n",
    "1 2 1 2 1\n",
    "1 2 1 2\n",
    "1 2 1\n",
    "1 2\n",
    "1\n",
    "```"
   ]
  },
  {
   "cell_type": "code",
   "execution_count": 10,
   "id": "daae9128",
   "metadata": {},
   "outputs": [
    {
     "name": "stdout",
     "output_type": "stream",
     "text": [
      "Enter the number of rows:5\n",
      "1 2 1 2 1 \n",
      "1 2 1 2 \n",
      "1 2 1 \n",
      "1 2 \n",
      "1 \n"
     ]
    }
   ],
   "source": [
    "n: int = int(input(\"Enter the number of rows:\"))\n",
    "    \n",
    "for i in range(n, 0, -1):\n",
    "    for j in range(1, i+1):\n",
    "        if j%2 == 0:\n",
    "            print(2, end=' ')\n",
    "        else:\n",
    "            print(1, end=' ')\n",
    "    print()"
   ]
  }
 ],
 "metadata": {
  "kernelspec": {
   "display_name": "Python 3 (ipykernel)",
   "language": "python",
   "name": "python3"
  },
  "language_info": {
   "codemirror_mode": {
    "name": "ipython",
    "version": 3
   },
   "file_extension": ".py",
   "mimetype": "text/x-python",
   "name": "python",
   "nbconvert_exporter": "python",
   "pygments_lexer": "ipython3",
   "version": "3.9.13"
  }
 },
 "nbformat": 4,
 "nbformat_minor": 5
}
