{
 "cells": [
  {
   "cell_type": "markdown",
   "id": "9a3acbbd",
   "metadata": {},
   "source": [
    "# Assignment 15"
   ]
  },
  {
   "cell_type": "markdown",
   "id": "111d872a",
   "metadata": {},
   "source": [
    "## Q1. Write a Python program to generate a list of powers of 2 less than 100 using list comprehension.\n",
    "Example output: [1, 2, 4, 8, 16, 32, 64]\n",
    "100 can be changed to anything."
   ]
  },
  {
   "cell_type": "code",
   "execution_count": 1,
   "id": "d3409082",
   "metadata": {},
   "outputs": [
    {
     "name": "stdout",
     "output_type": "stream",
     "text": [
      "[1, 2, 4]\n"
     ]
    }
   ],
   "source": [
    "from typing import List\n",
    "from math import sqrt\n",
    "\n",
    "def generatePowerList(num: int) -> List[int]:\n",
    "    # return [2**i for i in range(0, num) if 2**i < num]\n",
    "    return [\n",
    "        2**i for i in range(0, int(sqrt(num)) + 1) if 2**i < num\n",
    "    ]  # More optimal\n",
    "\n",
    "x = generatePowerList(8)\n",
    "print(x)"
   ]
  },
  {
   "cell_type": "markdown",
   "id": "494ac9bb",
   "metadata": {},
   "source": [
    "## Q2. Write a Python program to generate a list of factorials less than 1000 using list comprehension.\n",
    "Example output: [1, 2, 6, 24, 120, 720]\n",
    "1000 can be changed to anything."
   ]
  },
  {
   "cell_type": "code",
   "execution_count": 2,
   "id": "de805e0e",
   "metadata": {},
   "outputs": [
    {
     "name": "stdout",
     "output_type": "stream",
     "text": [
      "[1, 2, 6, 24, 120]\n"
     ]
    }
   ],
   "source": [
    "from typing import List\n",
    "from math import sqrt\n",
    "\n",
    "def factorial(n: int) -> int:\n",
    "    total = 1\n",
    "    for i in range(1, n + 1):\n",
    "        total = total * i\n",
    "    return total\n",
    "\n",
    "def generateFactorialsList(num: int) -> List[int]:\n",
    "    return [factorial(i) for i in range(1, int(sqrt(num)) + 1) if factorial(i) < num]\n",
    "\n",
    "x = generateFactorialsList(500)\n",
    "print(x)"
   ]
  },
  {
   "cell_type": "markdown",
   "id": "5e0a86e2",
   "metadata": {},
   "source": [
    "## Q3. Write a Python program to generate a list of prime numbers less than 500 using list comprehension.\n",
    "Example output: [2, 3, 5, 7, 11, 13, 17, 19, 23, ..., 491, 499]\n",
    "500 can be changed to anything."
   ]
  },
  {
   "cell_type": "code",
   "execution_count": 3,
   "id": "246f6a7f",
   "metadata": {},
   "outputs": [
    {
     "name": "stdout",
     "output_type": "stream",
     "text": [
      "[2, 3, 5, 7, 11, 13, 17, 19, 23, 29, 31, 37, 41, 43, 47, 53, 59, 61, 67, 71, 73, 79, 83, 89, 97, 101, 103, 107, 109, 113, 127, 131, 137, 139, 149, 151, 157, 163, 167, 173, 179, 181, 191, 193, 197, 199, 211, 223, 227, 229, 233, 239, 241, 251, 257, 263, 269, 271, 277, 281, 283, 293, 307, 311, 313, 317, 331, 337, 347, 349, 353, 359, 367, 373, 379, 383, 389, 397, 401, 409, 419, 421, 431, 433, 439, 443, 449, 457, 461, 463, 467, 479, 487, 491, 499]\n"
     ]
    }
   ],
   "source": [
    "from typing import List\n",
    "\n",
    "def checkPrime(n: int) -> bool:\n",
    "    factors = 0\n",
    "    for i in range(1, n + 1):\n",
    "        if n % i == 0:\n",
    "            factors += 1\n",
    "    return factors == 2\n",
    "\n",
    "def generatePrimeList(num: int) -> List[int]:\n",
    "    return [i for i in range(1, num + 1) if checkPrime(i)]\n",
    "\n",
    "x = generatePrimeList(500)\n",
    "print(x)"
   ]
  },
  {
   "cell_type": "markdown",
   "id": "57f91d9e",
   "metadata": {},
   "source": [
    "## Q4. Generate a list of numbers less than 1000 which are divisible by the sum of their digits. (These were solved in contests)\n",
    "Output: [1, 2, 3, 4, 5, 6, 7, 8, 9, 22, 33, 44, 55, 66, 77, 88, 99, 111, 112, 113, 114, 115, 116, 117, 118,\n",
    "119, 121, 122, 123, 124, 125, 126, 127, 128, 129, 132, 133, 134, 135, 136, 137, 138, 139, 141, 142,\n",
    "143, 144, 145, 146, 147, 148, 149, 151, 152, 153, 154, 155, 156, 157, 158, 159, 162, 171, 181, 191,\n",
    "201, 202, 211, 212, 221, 222, 231, 232, 241, 242, 251, 252, 261, 262, 271, 272, 281, 282, 291, 292,\n",
    "301, 302, 311, 312, 321, 322, 331, 332, 333, 341, 351, 361, 371, 381, 391, 401, 411, 421, 431, 441,\n",
    "451, 461, 471, 481, 491, 501, 511, 521, 531, 541, 551, 561, 571, 581, 591, 601, 611, 621, 631,\n",
    "641, 651, 661, 671, 681, 691, 701, 711, 721, 731, 741, 751, 761, 771, 781, 791, 801, 811, 821, 831,\n",
    "841, 851, 861, 871, 881, 891, 901, 911, 921, 931, 941, 951, 961, 971, 981, 991]"
   ]
  },
  {
   "cell_type": "code",
   "execution_count": 4,
   "id": "7040a5f2",
   "metadata": {},
   "outputs": [
    {
     "name": "stdout",
     "output_type": "stream",
     "text": [
      "[1, 2, 3, 4, 5, 6, 7, 8, 9, 10, 12, 18, 20, 21, 24, 27, 30, 36, 40, 42, 45, 48, 50, 54, 60, 63, 70, 72, 80, 81, 84, 90, 100, 102, 108, 110, 111, 112, 114, 117, 120, 126, 132, 133, 135, 140, 144, 150, 152, 153, 156, 162, 171, 180, 190, 192, 195, 198, 200, 201, 204, 207, 209, 210, 216, 220, 222, 224, 225, 228, 230, 234, 240, 243, 247, 252, 261, 264, 266, 270, 280, 285, 288, 300, 306, 308, 312, 315, 320, 322, 324, 330, 333, 336, 342, 351, 360, 364, 370, 372, 375, 378, 392, 396, 399, 400, 402, 405, 407, 408, 410, 414, 420, 423, 432, 440, 441, 444, 448, 450, 460, 465, 468, 476, 480, 481, 486, 500]\n"
     ]
    }
   ],
   "source": [
    "from typing import List\n",
    "\n",
    "def sumOfDigits(n: int) -> int:\n",
    "    total = 0\n",
    "    while n > 0:\n",
    "        last_digit = n % 10\n",
    "        total = total + last_digit\n",
    "        n = n // 10\n",
    "    return total\n",
    "\n",
    "def generateList(num: int) -> List[int]:\n",
    "    return [i for i in range(1, num + 1) if i % sumOfDigits(i) == 0]\n",
    "\n",
    "x = generateList(500)\n",
    "print(x)"
   ]
  },
  {
   "cell_type": "markdown",
   "id": "c47b05b8",
   "metadata": {},
   "source": [
    "## Q5. Count how many numbers are divisible by 3 and 6 between 1 to 1000 by using list comprehension\n",
    "Output: 166"
   ]
  },
  {
   "cell_type": "code",
   "execution_count": 5,
   "id": "4550283e",
   "metadata": {},
   "outputs": [
    {
     "name": "stdout",
     "output_type": "stream",
     "text": [
      "166\n"
     ]
    }
   ],
   "source": [
    "print(len([i for i in range(1, 1001) if i % 3 == 0 and i % 6 == 0]))"
   ]
  }
 ],
 "metadata": {
  "kernelspec": {
   "display_name": "Python 3 (ipykernel)",
   "language": "python",
   "name": "python3"
  },
  "language_info": {
   "codemirror_mode": {
    "name": "ipython",
    "version": 3
   },
   "file_extension": ".py",
   "mimetype": "text/x-python",
   "name": "python",
   "nbconvert_exporter": "python",
   "pygments_lexer": "ipython3",
   "version": "3.9.13"
  }
 },
 "nbformat": 4,
 "nbformat_minor": 5
}
