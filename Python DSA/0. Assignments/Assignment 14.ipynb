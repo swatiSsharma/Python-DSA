{
 "cells": [
  {
   "cell_type": "markdown",
   "id": "dfe084fa",
   "metadata": {},
   "source": [
    "# Assignment 14"
   ]
  },
  {
   "cell_type": "markdown",
   "id": "c57fda6e",
   "metadata": {},
   "source": [
    "## Q1. Make your own list of numbers. Ask a start and end position from User. Print the list from start position to end position using without using Slicing."
   ]
  },
  {
   "cell_type": "code",
   "execution_count": 1,
   "id": "47e2210c",
   "metadata": {},
   "outputs": [
    {
     "name": "stdout",
     "output_type": "stream",
     "text": [
      "[4, 110.654, True]\n"
     ]
    }
   ],
   "source": [
    "from typing import List\n",
    "\n",
    "def listSlice(lst: List, start: int, end: int):\n",
    "    result: List = []\n",
    "    for i in range(start, end + 1):\n",
    "        result.append(lst[i])\n",
    "    print(result)\n",
    "\n",
    "my_list = [\"James\", 6, 4, 110.654, True, -54]\n",
    "listSlice(my_list, 2, 4)"
   ]
  },
  {
   "cell_type": "markdown",
   "id": "265d6aa1",
   "metadata": {},
   "source": [
    "## Q2. Make your own list of numbers. Ask a start and end position from User. Make another different list which will contain number from start to end position. Use slicing logic"
   ]
  },
  {
   "cell_type": "code",
   "execution_count": 2,
   "id": "ce7602f7",
   "metadata": {},
   "outputs": [
    {
     "name": "stdout",
     "output_type": "stream",
     "text": [
      "[4, 110.654, True]\n"
     ]
    }
   ],
   "source": [
    "from typing import List\n",
    "\n",
    "def listSlice(lst: List, start: int, end: int):\n",
    "    print(lst[start : end + 1])\n",
    "\n",
    "my_list = [\"James\", 6, 4, 110.654, True, -54]\n",
    "listSlice(my_list, 2, 4)"
   ]
  },
  {
   "cell_type": "markdown",
   "id": "3e6d78ad",
   "metadata": {},
   "source": [
    "## Q3. Make your own list of numbers. Ask a start and end position from User. Make another different list which will contain number from start to end position. Use slicing logic. (Same as previous question), but now print the result in reverse:\n",
    "\n",
    "my_list = [10, -5, 8, 3, -1, -9, 7, 2]\n",
    "\n",
    "Enter start position = 2\n",
    "Enter end position = 5\n",
    "Output: [-9, -1, 3, 8]"
   ]
  },
  {
   "cell_type": "code",
   "execution_count": 3,
   "id": "676696da",
   "metadata": {},
   "outputs": [
    {
     "name": "stdout",
     "output_type": "stream",
     "text": [
      "[-9, -1, 3, 8]\n"
     ]
    }
   ],
   "source": [
    "from typing import List\n",
    "\n",
    "def listSlice(lst: List, start: int, end: int):\n",
    "    print(lst[end : start - 1 : -1])\n",
    "\n",
    "my_list = [10, -5, 8, 3, -1, -9, 7, 2]\n",
    "listSlice(my_list, 2, 5)"
   ]
  },
  {
   "cell_type": "markdown",
   "id": "0cba2b8f",
   "metadata": {},
   "source": [
    "## Q4. Make your own list. Write a Python program that takes an integer as an input, and make a new list containing the last n elements of the original list. Using slicing logic"
   ]
  },
  {
   "cell_type": "code",
   "execution_count": 4,
   "id": "496169b2",
   "metadata": {},
   "outputs": [
    {
     "name": "stdout",
     "output_type": "stream",
     "text": [
      "[True, -54]\n"
     ]
    }
   ],
   "source": [
    "from typing import List\n",
    "\n",
    "def listLastNSlice(lst: List, n: int):\n",
    "    l = len(lst)\n",
    "    print(lst[l - n :])\n",
    "\n",
    "my_list = [\"James\", 6, 4, 110.654, True, -54]\n",
    "listLastNSlice(my_list, 2)"
   ]
  },
  {
   "cell_type": "markdown",
   "id": "b2f3a99e",
   "metadata": {},
   "source": [
    "## Q5. Make your own list. Write a Python program that takes an integer as an input, and make a new list containing the last n elements of the original list but in reverse order. Using slicing logic."
   ]
  },
  {
   "cell_type": "code",
   "execution_count": 5,
   "id": "1263a27c",
   "metadata": {},
   "outputs": [
    {
     "name": "stdout",
     "output_type": "stream",
     "text": [
      "[-54, True, 110.654]\n"
     ]
    }
   ],
   "source": [
    "from typing import List\n",
    "\n",
    "# Method 1\n",
    "# def reverselistLastNSlice(lst: List, n: int):\n",
    "#     l = len(lst)\n",
    "#     result = lst[l - n :]\n",
    "#     result.reverse()\n",
    "#     print(result)\n",
    "\n",
    "# Method 2\n",
    "def reverselistLastNSlice(lst: List, n: int):\n",
    "    l = len(lst)\n",
    "    result = lst[: l - n - 1 : -1]\n",
    "    print(result)\n",
    "\n",
    "my_list = [\"James\", 6, 4, 110.654, True, -54]\n",
    "reverselistLastNSlice(my_list, 3)"
   ]
  },
  {
   "cell_type": "markdown",
   "id": "242064cc",
   "metadata": {},
   "source": [
    "## Q6. Make your own list. Write a Python program to reverse that list using slicing."
   ]
  },
  {
   "cell_type": "code",
   "execution_count": 6,
   "id": "526da243",
   "metadata": {},
   "outputs": [
    {
     "name": "stdout",
     "output_type": "stream",
     "text": [
      "[2, 7, -9, -1, 3, 8, -5, 10]\n"
     ]
    }
   ],
   "source": [
    "from typing import List\n",
    "\n",
    "def reverseListSlice(lst: List):\n",
    "    print(lst[::-1])\n",
    "\n",
    "my_list = [10, -5, 8, 3, -1, -9, 7, 2]\n",
    "reverseListSlice(my_list)"
   ]
  },
  {
   "cell_type": "markdown",
   "id": "0d75ebef",
   "metadata": {},
   "source": [
    "## Q7. Write a python program to interchange first and last elements in a list."
   ]
  },
  {
   "cell_type": "code",
   "execution_count": 7,
   "id": "a7a368ef",
   "metadata": {},
   "outputs": [
    {
     "name": "stdout",
     "output_type": "stream",
     "text": [
      "[-54, 6, 4, 110.654, True, 'James']\n"
     ]
    }
   ],
   "source": [
    "from typing import List\n",
    "\n",
    "def interchange(lst: List):\n",
    "    # lst[0], lst[-1] = lst[-1] = lst[0]  # Method 1\n",
    "\n",
    "    # Method 2\n",
    "    temp = lst[0]\n",
    "    lst[0] = lst[-1]\n",
    "    lst[-1] = temp\n",
    "\n",
    "my_list = [\"James\", 6, 4, 110.654, True, -54]\n",
    "interchange(my_list)\n",
    "print(my_list)"
   ]
  },
  {
   "cell_type": "markdown",
   "id": "44d2b29b",
   "metadata": {},
   "source": [
    "## Q8. Write a Python code to split a list into two halves using list slicing. (Keep the length of list even)."
   ]
  },
  {
   "cell_type": "code",
   "execution_count": 8,
   "id": "7a0eab16",
   "metadata": {},
   "outputs": [
    {
     "name": "stdout",
     "output_type": "stream",
     "text": [
      "['James', 6, 4]\n",
      "[110.654, True, -54]\n"
     ]
    }
   ],
   "source": [
    "from typing import List\n",
    "\n",
    "def splitList(lst: List):\n",
    "    mid: int = len(lst) // 2\n",
    "    first_half = lst[:mid]\n",
    "    second_half = lst[mid:]\n",
    "    print(first_half)\n",
    "    print(second_half)\n",
    "\n",
    "my_list = [\"James\", 6, 4, 110.654, True, -54]\n",
    "splitList(my_list)"
   ]
  }
 ],
 "metadata": {
  "kernelspec": {
   "display_name": "Python 3 (ipykernel)",
   "language": "python",
   "name": "python3"
  },
  "language_info": {
   "codemirror_mode": {
    "name": "ipython",
    "version": 3
   },
   "file_extension": ".py",
   "mimetype": "text/x-python",
   "name": "python",
   "nbconvert_exporter": "python",
   "pygments_lexer": "ipython3",
   "version": "3.9.13"
  }
 },
 "nbformat": 4,
 "nbformat_minor": 5
}
