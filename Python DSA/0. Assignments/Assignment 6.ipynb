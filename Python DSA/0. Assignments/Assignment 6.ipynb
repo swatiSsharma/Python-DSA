{
 "cells": [
  {
   "cell_type": "markdown",
   "id": "7eb60a1c",
   "metadata": {},
   "source": [
    "# Assignment 6"
   ]
  },
  {
   "cell_type": "markdown",
   "id": "d33a4f0f",
   "metadata": {},
   "source": [
    "## Q1. Write a program that takes 2 integers as an arguments (n1,n2), and print all the numbers divisible by 3 and 5 between n1 and n2."
   ]
  },
  {
   "cell_type": "code",
   "execution_count": 1,
   "id": "a93c2e9b",
   "metadata": {},
   "outputs": [
    {
     "name": "stdout",
     "output_type": "stream",
     "text": [
      "15 30 \n",
      "15 30 45 60 \n"
     ]
    }
   ],
   "source": [
    "def div_by_3_and_5(n1: int,n2: int) -> int:\n",
    "\n",
    "    i: int = n1\n",
    "\n",
    "    while  i <= n2:\n",
    "        if i % 3 == 0 and i % 5 == 0:\n",
    "            print(i, end = \" \")\n",
    "            i += 1\n",
    "        \n",
    "        i += 1\n",
    "    print()\n",
    "\n",
    "div_by_3_and_5(10, 30)\n",
    "div_by_3_and_5(1, 60)"
   ]
  },
  {
   "cell_type": "markdown",
   "id": "f2697d2c",
   "metadata": {},
   "source": [
    "## Q2. Create a function named calSum() which takes 2 integers n1 and n2 as an argument. Calculate the sum of all the numbers from n1 and n2 and RETURN THAT SUM. Also make sure that n1 is smaller than n2. If it is not, then return “n1 should be smaller”"
   ]
  },
  {
   "cell_type": "code",
   "execution_count": 2,
   "id": "86d12f76",
   "metadata": {},
   "outputs": [
    {
     "name": "stdout",
     "output_type": "stream",
     "text": [
      "Enter the starting range: -15\n",
      "Enter the ending range: 3\n",
      "-114\n",
      "55\n",
      "n1 should be smaller\n"
     ]
    }
   ],
   "source": [
    "def calSum(n1: int, n2: int):\n",
    "    if n1 < n2:\n",
    "        total = 0\n",
    "        i: int = n1\n",
    "        while i <= n2:\n",
    "            total += i\n",
    "            i += 1\n",
    "        return total\n",
    "    else:\n",
    "        return 'n1 should be smaller'\n",
    "    \n",
    "n1: int = int(input(\"Enter the starting range: \"))\n",
    "n2: int = int(input(\"Enter the ending range: \"))\n",
    "print(calSum(n1, n2))\n",
    "print(calSum(1, 10))\n",
    "print(calSum(7, 3))"
   ]
  },
  {
   "cell_type": "markdown",
   "id": "afd51474",
   "metadata": {},
   "source": [
    "## Q3. Create a function named multiplicationTable that takes an integer num as an argument. Print the multiplication table of that number up to 10 numbers."
   ]
  },
  {
   "cell_type": "code",
   "execution_count": 3,
   "id": "20327072",
   "metadata": {},
   "outputs": [
    {
     "name": "stdout",
     "output_type": "stream",
     "text": [
      "13 x 1 = 13\n",
      "13 x 2 = 26\n",
      "13 x 3 = 39\n",
      "13 x 4 = 52\n",
      "13 x 5 = 65\n",
      "13 x 6 = 78\n",
      "13 x 7 = 91\n",
      "13 x 8 = 104\n",
      "13 x 9 = 117\n",
      "13 x 10 = 130\n",
      "\n",
      "231 x 1 = 231\n",
      "231 x 2 = 462\n",
      "231 x 3 = 693\n",
      "231 x 4 = 924\n",
      "231 x 5 = 1155\n",
      "231 x 6 = 1386\n",
      "231 x 7 = 1617\n",
      "231 x 8 = 1848\n",
      "231 x 9 = 2079\n",
      "231 x 10 = 2310\n",
      "\n"
     ]
    }
   ],
   "source": [
    "def multiplicationTable(num: int):\n",
    "    i: int = 1\n",
    "    while i <= 10:\n",
    "        print(f\"{num} x {i} = {num * i}\")\n",
    "        i += 1\n",
    "    print()\n",
    "\n",
    "multiplicationTable(13)\n",
    "multiplicationTable(231)"
   ]
  },
  {
   "cell_type": "markdown",
   "id": "717e9ffd",
   "metadata": {},
   "source": [
    "## Q4. Create a function named calSum which takes an 2 integer (n1 and n2) as an argument. Calculate the sum of all the numbers divisible by 5 between n1 and n2 and return that sum. (Make sure that n1 is less than n2)"
   ]
  },
  {
   "cell_type": "code",
   "execution_count": 4,
   "id": "85eed0b8",
   "metadata": {},
   "outputs": [
    {
     "name": "stdout",
     "output_type": "stream",
     "text": [
      "15\n",
      "275\n"
     ]
    }
   ],
   "source": [
    "def calSum(n1: int, n2: int) -> int:\n",
    "    if n1 <= n2:\n",
    "        sum = 0\n",
    "        i: int = n1\n",
    "        while i <= n2:\n",
    "            if i % 5 == 0:\n",
    "                sum += i\n",
    "                i += 1\n",
    "            i += 1\n",
    "    return sum\n",
    "\n",
    "print(calSum(1, 10))\n",
    "print(calSum(43, 68))"
   ]
  },
  {
   "cell_type": "markdown",
   "id": "0306eac7",
   "metadata": {},
   "source": [
    "## Q5. Create a function named printPattern that takes one integer (num) as an argument. Print from -num to num. Also keep in mind number passed as an argument can be negative or positive."
   ]
  },
  {
   "cell_type": "code",
   "execution_count": 5,
   "id": "7c86471d",
   "metadata": {},
   "outputs": [
    {
     "name": "stdout",
     "output_type": "stream",
     "text": [
      "-5 -4 -3 -2 -1 0 1 2 3 4 5 \n",
      "-9 -8 -7 -6 -5 -4 -3 -2 -1 0 1 2 3 4 5 6 7 8 9 \n"
     ]
    }
   ],
   "source": [
    "def printPattern(num: int):\n",
    "\n",
    "    start = -num\n",
    "    end = num\n",
    "    while start <= num:\n",
    "        print(start, end =\" \")\n",
    "        start += 1\n",
    "    print()\n",
    "\n",
    "num = 5\n",
    "if num >= 0:\n",
    "    printPattern(num)\n",
    "else:\n",
    "    printPattern(abs(num))\n",
    "    \n",
    "num = -9\n",
    "if num >= 0:\n",
    "    printPattern(num)\n",
    "else:\n",
    "    printPattern(abs(num))\n",
    "        "
   ]
  }
 ],
 "metadata": {
  "kernelspec": {
   "display_name": "Python 3 (ipykernel)",
   "language": "python",
   "name": "python3"
  },
  "language_info": {
   "codemirror_mode": {
    "name": "ipython",
    "version": 3
   },
   "file_extension": ".py",
   "mimetype": "text/x-python",
   "name": "python",
   "nbconvert_exporter": "python",
   "pygments_lexer": "ipython3",
   "version": "3.9.13"
  }
 },
 "nbformat": 4,
 "nbformat_minor": 5
}
