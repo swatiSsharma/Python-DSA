{
 "cells": [
  {
   "cell_type": "markdown",
   "id": "89f93078",
   "metadata": {},
   "source": [
    "# Assignment 10"
   ]
  },
  {
   "cell_type": "markdown",
   "id": "8dc9783c",
   "metadata": {},
   "source": [
    "## Q1.\n",
    "```\n",
    "        1\n",
    "      2 1\n",
    "    3 2 1\n",
    "  4 3 2 1\n",
    "5 4 3 2 1\n",
    "```"
   ]
  },
  {
   "cell_type": "code",
   "execution_count": 1,
   "id": "73d9b660",
   "metadata": {},
   "outputs": [
    {
     "name": "stdout",
     "output_type": "stream",
     "text": [
      "Enter the number: 5\n",
      "        1 \n",
      "      2 1 \n",
      "    3 2 1 \n",
      "  4 3 2 1 \n",
      "5 4 3 2 1 \n"
     ]
    }
   ],
   "source": [
    "n: int = int(input(\"Enter the number: \"))\n",
    "    \n",
    "for i in range(1, n+1):\n",
    "    for j in range(n, i, -1):\n",
    "        print(\" \", end=\" \")\n",
    "\n",
    "    for k in range(i, 0, -1):\n",
    "        print(k, end=\" \") \n",
    "    print()"
   ]
  },
  {
   "cell_type": "markdown",
   "id": "a404e551",
   "metadata": {},
   "source": [
    "## Q2.\n",
    "```\n",
    "        5 \n",
    "      5 4 \n",
    "    5 4 3\n",
    "  5 4 3 2 \n",
    "5 4 3 2 1\n",
    "```"
   ]
  },
  {
   "cell_type": "code",
   "execution_count": 2,
   "id": "52dd7de7",
   "metadata": {},
   "outputs": [
    {
     "name": "stdout",
     "output_type": "stream",
     "text": [
      "Enter the number: 5\n",
      "        5 \n",
      "      5 4 \n",
      "    5 4 3 \n",
      "  5 4 3 2 \n",
      "5 4 3 2 1 \n"
     ]
    }
   ],
   "source": [
    "n: int = int(input(\"Enter the number: \"))\n",
    "    \n",
    "for i in range(1, n+1):\n",
    "    for j in range(n, i, -1):\n",
    "        print(\" \", end=\" \")\n",
    "\n",
    "    for k in range(n, n-i, -1):\n",
    "        print(k, end=\" \") \n",
    "    print()"
   ]
  },
  {
   "cell_type": "markdown",
   "id": "18a2edc7",
   "metadata": {},
   "source": [
    "## Q3.\n",
    "```     \n",
    "        1\n",
    "      2 2 2\n",
    "    3 3 3 3 3\n",
    "  4 4 4 4 4 4 4\n",
    "5 5 5 5 5 5 5 5 5\n",
    "```\n"
   ]
  },
  {
   "cell_type": "code",
   "execution_count": 3,
   "id": "93e0bd87",
   "metadata": {},
   "outputs": [
    {
     "name": "stdout",
     "output_type": "stream",
     "text": [
      "Enter the number: 5\n",
      "        1 \n",
      "      2 2 2 \n",
      "    3 3 3 3 3 \n",
      "  4 4 4 4 4 4 4 \n",
      "5 5 5 5 5 5 5 5 5 \n"
     ]
    }
   ],
   "source": [
    "num: int = int(input(\"Enter the number: \"))\n",
    "    \n",
    "for i in range(1, num + 1):\n",
    "    for j in range(num, i, -1):\n",
    "        print(\" \", end=\" \")\n",
    "\n",
    "    for k in range(1, 2 * i):\n",
    "        print(i, end=\" \")\n",
    "\n",
    "    print()"
   ]
  },
  {
   "cell_type": "markdown",
   "id": "0079a58a",
   "metadata": {},
   "source": [
    "## Q4.\n",
    "```     \n",
    "        1\n",
    "      2 2 2\n",
    "    3 3 3 3 3\n",
    "  4 4 4 4 4 4 4\n",
    "5 5 5 5 5 5 5 5 5\n",
    "  4 4 4 4 4 4 4\n",
    "    3 3 3 3 3\n",
    "      2 2 2 \n",
    "        1\n",
    "```"
   ]
  },
  {
   "cell_type": "code",
   "execution_count": 4,
   "id": "b93adf1b",
   "metadata": {},
   "outputs": [
    {
     "name": "stdout",
     "output_type": "stream",
     "text": [
      "Enter the number: 5\n",
      "        1 \n",
      "      2 2 2 \n",
      "    3 3 3 3 3 \n",
      "  4 4 4 4 4 4 4 \n",
      "5 5 5 5 5 5 5 5 5 \n",
      "  4 4 4 4 4 4 4 \n",
      "    3 3 3 3 3 \n",
      "      2 2 2 \n",
      "        1 \n"
     ]
    }
   ],
   "source": [
    "num: int = int(input(\"Enter the number: \"))\n",
    "\n",
    "# Upper pyramid\n",
    "for i in range(1, num + 1):\n",
    "    # Print leading spaces\n",
    "    for j in range(num, i, -1):\n",
    "        print(\" \", end=\" \")\n",
    "\n",
    "    # Print repeated numbers\n",
    "    for k in range(1, 2 * i):\n",
    "        print(i, end=\" \")\n",
    "\n",
    "    # Move to the next line\n",
    "    print()\n",
    "\n",
    "# Lower pyramid\n",
    "for i in range(num - 1, 0, -1):\n",
    "    # Print leading spaces\n",
    "    for j in range(num, i, -1):\n",
    "        print(\" \", end=\" \")\n",
    "\n",
    "    # Print repeated numbers\n",
    "    for k in range(1, 2 * i):\n",
    "        print(i, end=\" \")\n",
    "\n",
    "    # Move to the next line\n",
    "    print()\n"
   ]
  },
  {
   "cell_type": "markdown",
   "id": "ce0e92c1",
   "metadata": {},
   "source": [
    "## Q5.\n",
    "```\n",
    "1\n",
    "1 2\n",
    "1 2 3\n",
    "1 2 3 4\n",
    "1 2 3 4 5\n",
    "1 2 3 4\n",
    "1 2 3\n",
    "1 2\n",
    "1\n",
    "```"
   ]
  },
  {
   "cell_type": "code",
   "execution_count": 5,
   "id": "1259061e",
   "metadata": {},
   "outputs": [
    {
     "name": "stdout",
     "output_type": "stream",
     "text": [
      "Enter the number: 5\n",
      "1 \n",
      "1 2 \n",
      "1 2 3 \n",
      "1 2 3 4 \n",
      "1 2 3 4 5 \n",
      "1 2 3 4 \n",
      "1 2 3 \n",
      "1 2 \n",
      "1 \n"
     ]
    }
   ],
   "source": [
    "rows: int = int(input(\"Enter the number: \"))\n",
    "\n",
    "# Upper half of the pattern\n",
    "for i in range(1, rows + 1):\n",
    "    for j in range(1, i + 1):\n",
    "        print(j, end=\" \")\n",
    "    print()\n",
    "\n",
    "# Lower half of the pattern\n",
    "for i in range(rows - 1, 0, -1):\n",
    "    for j in range(1, i + 1):\n",
    "        print(j, end=\" \")\n",
    "    print()\n"
   ]
  },
  {
   "cell_type": "markdown",
   "id": "6b6a8b55",
   "metadata": {},
   "source": [
    "## Q6.\n",
    "```\n",
    "5\n",
    "4 5\n",
    "3 4 5\n",
    "2 3 4 5\n",
    "1 2 3 4 5\n",
    "2 3 4 5\n",
    "3 4 5\n",
    "4 5\n",
    "5\n",
    "```"
   ]
  },
  {
   "cell_type": "code",
   "execution_count": 6,
   "id": "016c5526",
   "metadata": {},
   "outputs": [
    {
     "name": "stdout",
     "output_type": "stream",
     "text": [
      "Enter the number: 5\n",
      "5 \n",
      "4 5 \n",
      "3 4 5 \n",
      "2 3 4 5 \n",
      "1 2 3 4 5 \n",
      "2 3 4 5 \n",
      "3 4 5 \n",
      "4 5 \n",
      "5 \n"
     ]
    }
   ],
   "source": [
    "rows: int = int(input(\"Enter the number: \"))\n",
    "\n",
    "# Upper half of the pattern\n",
    "for i in range(rows, 0, -1):\n",
    "    \n",
    "    for k in range(i, rows + 1):\n",
    "        print(k, end=\" \")\n",
    "    print()\n",
    "\n",
    "# Lower half of the pattern\n",
    "for i in range(2, rows + 1):\n",
    "    for k in range(i, rows + 1):\n",
    "        print(k, end=\" \")\n",
    "    print()\n"
   ]
  },
  {
   "cell_type": "markdown",
   "id": "e7559749",
   "metadata": {},
   "source": [
    "## Q7.\n",
    "```  \n",
    "        1\n",
    "      1 2 3\n",
    "    1 2 3 4 5\n",
    "  1 2 3 4 5 6 7 \n",
    "1 2 3 4 5 6 7 8 9\n",
    "  1 2 3 4 5 6 7 \n",
    "    1 2 3 4 5\n",
    "      1 2 3\n",
    "        1\n",
    "```"
   ]
  },
  {
   "cell_type": "code",
   "execution_count": 7,
   "id": "72b768bc",
   "metadata": {},
   "outputs": [
    {
     "name": "stdout",
     "output_type": "stream",
     "text": [
      "Enter the number: 5\n",
      "        1 \n",
      "      1 2 3 \n",
      "    1 2 3 4 5 \n",
      "  1 2 3 4 5 6 7 \n",
      "1 2 3 4 5 6 7 8 9 \n",
      "  1 2 3 4 5 6 7 \n",
      "    1 2 3 4 5 \n",
      "      1 2 3 \n",
      "        1 \n"
     ]
    }
   ],
   "source": [
    "rows: int = int(input(\"Enter the number: \"))\n",
    "\n",
    "# Upper half of the pattern\n",
    "for i in range(1, rows + 1):\n",
    "    # Print leading spaces\n",
    "    for j in range(rows, i, -1):\n",
    "        print(\" \", end=\" \")\n",
    "\n",
    "    # Print numbers in ascending order\n",
    "    for k in range(1, 2 * i):\n",
    "        print(k, end=\" \")\n",
    "\n",
    "    # Move to the next line\n",
    "    print()\n",
    "\n",
    "# Lower half of the pattern\n",
    "for i in range(rows - 1, 0, -1):\n",
    "    # Print leading spaces\n",
    "    for j in range(rows, i, -1):\n",
    "        print(\" \", end=\" \")\n",
    "\n",
    "    # Print numbers in ascending order\n",
    "    for k in range(1, 2 * i):\n",
    "        print(k, end=\" \")\n",
    "\n",
    "    # Move to the next line\n",
    "    print()\n"
   ]
  }
 ],
 "metadata": {
  "kernelspec": {
   "display_name": "Python 3 (ipykernel)",
   "language": "python",
   "name": "python3"
  },
  "language_info": {
   "codemirror_mode": {
    "name": "ipython",
    "version": 3
   },
   "file_extension": ".py",
   "mimetype": "text/x-python",
   "name": "python",
   "nbconvert_exporter": "python",
   "pygments_lexer": "ipython3",
   "version": "3.9.13"
  }
 },
 "nbformat": 4,
 "nbformat_minor": 5
}
