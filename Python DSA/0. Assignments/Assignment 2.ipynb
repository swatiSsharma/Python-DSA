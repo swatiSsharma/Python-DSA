{
 "cells": [
  {
   "cell_type": "markdown",
   "id": "bb94483d",
   "metadata": {},
   "source": [
    "# Assignment - 2"
   ]
  },
  {
   "cell_type": "markdown",
   "id": "7cbe5f7e",
   "metadata": {},
   "source": [
    "## Q1. Write a program that takes two numbers as input and checks if the firstnumber is divisible by the second."
   ]
  },
  {
   "cell_type": "code",
   "execution_count": 1,
   "id": "14b3718f",
   "metadata": {},
   "outputs": [
    {
     "name": "stdout",
     "output_type": "stream",
     "text": [
      "Enter the first number: 18\n",
      "Enter the second number: 6\n",
      "18 is divisible by 6\n"
     ]
    }
   ],
   "source": [
    "num1: int = int(input(\"Enter the first number: \"))\n",
    "num2: int = int(input(\"Enter the second number: \"))\n",
    "\n",
    "if num1 % num2 == 0:\n",
    "    print(f\"{num1} is divisible by {num2}\")\n",
    "else:\n",
    "    print(f\"{num1} is not divisible by {num2}\")"
   ]
  },
  {
   "cell_type": "markdown",
   "id": "f73b2187",
   "metadata": {},
   "source": [
    "## Q2. A student will not be allowed to sit in exam if his/her attendance is less than 75%.\n",
    "'''\n",
    "Take following input from user\n",
    "- Number of classes held\n",
    "- Number of classes attended\n",
    "\n",
    "1. Print percentage of class attended\n",
    "2. Print Is student is allowed to sit in exam or not\n",
    "'''"
   ]
  },
  {
   "cell_type": "code",
   "execution_count": 2,
   "id": "c1916dd9",
   "metadata": {},
   "outputs": [
    {
     "name": "stdout",
     "output_type": "stream",
     "text": [
      "Enter the number of classes held: 56\n",
      "Enter the number of classes attended: 48\n",
      "Percentage of classes attended: 85.71%\n",
      "The student is allowed to sit in the exam.\n"
     ]
    }
   ],
   "source": [
    "# Get input from the user\n",
    "classes_held = int(input(\"Enter the number of classes held: \"))\n",
    "classes_attended = int(input(\"Enter the number of classes attended: \"))\n",
    "\n",
    "# Calculate percentage of classes attended\n",
    "attendance_percentage = (classes_attended / classes_held) * 100\n",
    "\n",
    "# Print percentage of classes attended\n",
    "print(f\"Percentage of classes attended: {attendance_percentage:.2f}%\")\n",
    "\n",
    "# Check if the student is allowed to sit in the exam\n",
    "if attendance_percentage >= 75:\n",
    "    print(\"The student is allowed to sit in the exam.\")\n",
    "else:\n",
    "    print(\"The student is not allowed to sit in the exam due to low attendance.\")"
   ]
  },
  {
   "cell_type": "markdown",
   "id": "fbe1faf2",
   "metadata": {},
   "source": [
    "## Q3. Write a program to check if number is divisible by 2 and 3 but not 8"
   ]
  },
  {
   "cell_type": "code",
   "execution_count": 3,
   "id": "bfde7e95",
   "metadata": {},
   "outputs": [
    {
     "name": "stdout",
     "output_type": "stream",
     "text": [
      "Enter the number: 6\n",
      "6 is a multiple of 2, 3, but not 8\n"
     ]
    }
   ],
   "source": [
    "num: int = int(input(\"Enter the number: \"))\n",
    "\n",
    "if num % 2 == 0 and num % 3 == 0 and num % 8 != 0:\n",
    "    print(f\"{num} is a multiple of 2, 3, but not 8\")\n",
    "else:\n",
    "    print(f\"{num} does not meet the specified criteria.\")"
   ]
  },
  {
   "cell_type": "markdown",
   "id": "ce8acaa7",
   "metadata": {},
   "source": [
    "## Q4.Write a Python program that takes a student's score as input and prints the corresponding grade. Use the following grading scale:\n",
    "A: 90-100\n",
    "B: 80-89\n",
    "C: 70-79\n",
    "D: 60-69\n",
    "F: Below 60"
   ]
  },
  {
   "cell_type": "code",
   "execution_count": 4,
   "id": "165b5abd",
   "metadata": {},
   "outputs": [
    {
     "name": "stdout",
     "output_type": "stream",
     "text": [
      "Enter the student's score: 78\n",
      "The student's grade is: C\n"
     ]
    }
   ],
   "source": [
    "# Get input from the user\n",
    "score = float(input(\"Enter the student's score: \"))\n",
    "\n",
    "# Determine the corresponding grade\n",
    "if 90 <= score <= 100:\n",
    "    grade = 'A'\n",
    "elif 80 <= score < 90:\n",
    "    grade = 'B'\n",
    "elif 70 <= score < 80:\n",
    "    grade = 'C'\n",
    "elif 60 <= score < 70:\n",
    "    grade = 'D'\n",
    "else:\n",
    "    grade = 'F'\n",
    "\n",
    "# Print the corresponding grade\n",
    "print(f\"The student's grade is: {grade}\")\n"
   ]
  },
  {
   "cell_type": "markdown",
   "id": "8cc71b10",
   "metadata": {},
   "source": [
    "## Q5. Write a program to calculate bill. Ask the final amount from the user.\n",
    "\n",
    "You have to give discount and print the final bill after discount.\n",
    "50000 above - 30% discount\n",
    "40000 - 49999 - 25% discount\n",
    "30000 - 39999 - 20% discount\n",
    "10000 - 29999 - 10% discount\n",
    "1 - 9999 - No discount\n",
    "Print the discount and the final amount to be paid.\n",
    "\n",
    "**Example 1**\n",
    "Enter bill amount = 80000\n",
    "You got 30% discount\n",
    "Your final bill is Rs. 56000"
   ]
  },
  {
   "cell_type": "code",
   "execution_count": 5,
   "id": "e3312ead",
   "metadata": {},
   "outputs": [
    {
     "name": "stdout",
     "output_type": "stream",
     "text": [
      "Enter the final amount of the bill: 80000\n",
      "You got 30% discount\n",
      "Your final bill is Rs. 56000.00\n"
     ]
    }
   ],
   "source": [
    "# Get input from the user\n",
    "final_amount = float(input(\"Enter the final amount of the bill: \"))\n",
    "\n",
    "# Initialize variables for discount and final bill\n",
    "discount_percentage = 0\n",
    "final_bill = final_amount\n",
    "\n",
    "# Determine the discount based on the final amount\n",
    "if final_amount >= 50000:\n",
    "    discount_percentage = 30\n",
    "elif 40000 <= final_amount <= 49999:\n",
    "    discount_percentage = 25\n",
    "elif 30000 <= final_amount <= 39999:\n",
    "    discount_percentage = 20\n",
    "elif 10000 <= final_amount <= 29999:\n",
    "    discount_percentage = 10\n",
    "\n",
    "# Calculate the discount and final bill\n",
    "discount_amount = (discount_percentage / 100) * final_amount\n",
    "final_bill -= discount_amount\n",
    "\n",
    "# Print the discount and final bill\n",
    "print(f\"You got {discount_percentage}% discount\")\n",
    "print(f\"Your final bill is Rs. {final_bill:.2f}\")\n"
   ]
  },
  {
   "cell_type": "markdown",
   "id": "b2bb5067",
   "metadata": {},
   "source": [
    "## Q6. Ask 4 numbers from user. Make sure all the numbers entered by user are different. Print which number is the smallest.\n",
    "\n",
    "'''\n",
    "- salary between 10,000 and 20, 000, 10 % increment\n",
    "- salary between 20,000 and 50,000, 15 % increment\n",
    "- salary more than 50,000, 20 % increment\n",
    "- salary less than 10,000, 5 % increment\n",
    "'''"
   ]
  },
  {
   "cell_type": "code",
   "execution_count": 6,
   "id": "d0d7e802",
   "metadata": {},
   "outputs": [
    {
     "name": "stdout",
     "output_type": "stream",
     "text": [
      "Enter the first number: 34\n",
      "Enter the second number: 54\n",
      "Enter the third number: 28\n",
      "Enter the fourth number: 32\n",
      "The smallest number is: 28.0\n"
     ]
    }
   ],
   "source": [
    "# Get input from the user for 4 different numbers\n",
    "num1: float = float(input(\"Enter the first number: \"))\n",
    "num2: float = float(input(\"Enter the second number: \"))\n",
    "\n",
    "# Validate that the second number is different from the first\n",
    "if num2 == num1:\n",
    "    print(\"Please enter a different number.\")\n",
    "    num2 = float(input(\"Enter the second number: \"))\n",
    "\n",
    "num3: float = float(input(\"Enter the third number: \"))\n",
    "\n",
    "# Validate that the third number is different from the first two\n",
    "if num3 == num1 or num3 == num2:\n",
    "    print(\"Please enter a different number.\")\n",
    "    num3 = float(input(\"Enter the third number: \"))\n",
    "\n",
    "num4: float = float(input(\"Enter the fourth number: \"))\n",
    "\n",
    "# Validate that the fourth number is different from the first three\n",
    "if num4 == num1 or num4 == num2 or num4 == num3:\n",
    "    print(\"Please enter a different number.\")\n",
    "    num4 = float(input(\"Enter the fourth number: \"))\n",
    "\n",
    "# Determine the smallest number using if-else statements\n",
    "if num1 <= num2 and num1 <= num3 and num1 <= num4:\n",
    "    smallest_number = num1\n",
    "elif num2 <= num1 and num2 <= num3 and num2 <= num4:\n",
    "    smallest_number = num2\n",
    "elif num3 <= num1 and num3 <= num2 and num3 <= num4:\n",
    "    smallest_number = num3\n",
    "else:\n",
    "    smallest_number = num4\n",
    "\n",
    "# Print the smallest number\n",
    "print(f\"The smallest number is: {smallest_number}\")\n"
   ]
  },
  {
   "cell_type": "markdown",
   "id": "cee30f1b",
   "metadata": {},
   "source": [
    "## Q7. Take Salary as input from User and Update the salary of an employee\n",
    "\n",
    "- salary between 10,000 and 20, 000, 10 % increment\n",
    "- salary between 20,000 and 50,000, 15 % increment\n",
    "- salary more than 50,000, 20 % increment\n",
    "- salary less than 10,000, 5 % increment"
   ]
  },
  {
   "cell_type": "code",
   "execution_count": 7,
   "id": "c6cdc4fe",
   "metadata": {},
   "outputs": [
    {
     "name": "stdout",
     "output_type": "stream",
     "text": [
      "Enter the current salary of the employee: 345674\n",
      "Increment percentage: 20%\n",
      "Updated salary: Rs. 414808.80\n"
     ]
    }
   ],
   "source": [
    "# Get input from the user for salary\n",
    "salary: float = float(input(\"Enter the current salary of the employee: \"))\n",
    "\n",
    "# Update the salary based on conditions\n",
    "if salary < 10000:\n",
    "    increment_percentage = 5\n",
    "elif 10000 <= salary < 20000:\n",
    "    increment_percentage = 10\n",
    "elif 20000 <= salary < 50000:\n",
    "    increment_percentage = 15\n",
    "else:\n",
    "    increment_percentage = 20\n",
    "\n",
    "# Calculate the increment amount and update the salary\n",
    "increment_amount = (increment_percentage / 100) * salary\n",
    "updated_salary = salary + increment_amount\n",
    "\n",
    "# Print the increment percentage and updated salary\n",
    "print(f\"Increment percentage: {increment_percentage}%\")\n",
    "print(f\"Updated salary: Rs. {updated_salary:.2f}\")"
   ]
  },
  {
   "cell_type": "markdown",
   "id": "ce033fac",
   "metadata": {},
   "source": [
    "## Q8. An extra day is added to the calendar almost every four years as February 29, and the day is called a leap day. A leap year contains a leapday.\n",
    "These are the conditions used to identify leap years:\n",
    "\n",
    "- if the year can be evenly divided by 4, it is then a leap year\n",
    "- but if the year is evenly divided by 4 and also by 100, then it is NOT a leap year\n",
    "- but if the year is evenly divided by 4 and also by 400, then it is a leap year\n",
    "\n",
    "This means the years 2000 and 2400 are leap years, while 1800, 1900, 2100, 2200, 2300 and 2500 are NOT leap years.\n",
    "Ask a year input from user. And tell if the year entered by user is leap or not."
   ]
  },
  {
   "cell_type": "code",
   "execution_count": 8,
   "id": "6184f043",
   "metadata": {},
   "outputs": [
    {
     "name": "stdout",
     "output_type": "stream",
     "text": [
      "Enter a year: 2024\n",
      "2024 is a leap year.\n"
     ]
    }
   ],
   "source": [
    "# Get input from the user for the year\n",
    "year: int = int(input(\"Enter a year: \"))\n",
    "\n",
    "# Check if it's a leap year based on the conditions\n",
    "if (year % 4 == 0 and year % 100 != 0) or (year % 400 == 0):\n",
    "    print(f\"{year} is a leap year.\")\n",
    "else:\n",
    "    print(f\"{year} is not a leap year.\")"
   ]
  }
 ],
 "metadata": {
  "kernelspec": {
   "display_name": "Python 3 (ipykernel)",
   "language": "python",
   "name": "python3"
  },
  "language_info": {
   "codemirror_mode": {
    "name": "ipython",
    "version": 3
   },
   "file_extension": ".py",
   "mimetype": "text/x-python",
   "name": "python",
   "nbconvert_exporter": "python",
   "pygments_lexer": "ipython3",
   "version": "3.9.13"
  }
 },
 "nbformat": 4,
 "nbformat_minor": 5
}
