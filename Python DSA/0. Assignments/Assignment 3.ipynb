{
 "cells": [
  {
   "cell_type": "markdown",
   "id": "53941a35",
   "metadata": {},
   "source": [
    "# Assignment 3"
   ]
  },
  {
   "cell_type": "markdown",
   "id": "b35229e1",
   "metadata": {},
   "source": [
    "## Q1. Write a Python program that takes two numbers as input. Performs the following operations: addition, subtraction, multiplication, division, and modulus. Display the results."
   ]
  },
  {
   "cell_type": "code",
   "execution_count": 1,
   "id": "1cc625dc",
   "metadata": {},
   "outputs": [
    {
     "name": "stdout",
     "output_type": "stream",
     "text": [
      "Enter the first number: 11\n",
      "Enter the second number: 11\n",
      "Following are the results:\n",
      " \n",
      "Addition of 11 and 11: 22\n",
      "Subtraction of 11 and 11: 0\n",
      "Multiplication of 11 and 11: 121\n",
      "Division of 11 and 11: 1.0\n",
      "Modulus of 11 and 11: 0\n"
     ]
    }
   ],
   "source": [
    "num1: int = int(input('Enter the first number: '))\n",
    "num2: int = int(input('Enter the second number: '))\n",
    "print(\"Following are the results:\\n \")\n",
    "print(\"Addition of {0} and {1}: {2}\".format(num1, num2, num1 + num2))\n",
    "print(\"Subtraction of {0} and {1}: {2}\".format(num1, num2, num1 - num2))\n",
    "print(\"Multiplication of {0} and {1}: {2}\".format(num1, num2, num1 * num2))\n",
    "print(\"Division of {0} and {1}: {2}\".format(num1, num2, num1 / num2))\n",
    "print(\"Modulus of {0} and {1}: {2}\".format(num1, num2, num1 % num2))"
   ]
  },
  {
   "cell_type": "markdown",
   "id": "3bb96052",
   "metadata": {},
   "source": [
    "## Q2. Write a Python program to swap the values of two variables without using a temporary variable"
   ]
  },
  {
   "cell_type": "code",
   "execution_count": 2,
   "id": "c67d2201",
   "metadata": {},
   "outputs": [
    {
     "name": "stdout",
     "output_type": "stream",
     "text": [
      "Enter the first number: 11\n",
      "Enter the second number: 17\n",
      "The numbers before swap are 11 and 17\n",
      "The swapped numbers are 17 and 11\n"
     ]
    }
   ],
   "source": [
    "num1: int = int(input('Enter the first number: '))\n",
    "num2: int = int(input('Enter the second number: '))\n",
    "\n",
    "print(\"The numbers before swap are {0} and {1}\".format( num1, num2))    \n",
    "num1, num2 = num2, num1\n",
    "\n",
    "print(\"The swapped numbers are {0} and {1}\".format( num1, num2))"
   ]
  },
  {
   "cell_type": "markdown",
   "id": "f8b8c344",
   "metadata": {},
   "source": [
    "## Q3. Write a Python program to calculate the compound interest for a given principal, rate of interest, and time period. Ask everything from the user."
   ]
  },
  {
   "cell_type": "code",
   "execution_count": 3,
   "id": "0142d5e6",
   "metadata": {},
   "outputs": [
    {
     "name": "stdout",
     "output_type": "stream",
     "text": [
      "Enter the Principle Amount: 1000\n",
      "Enter the Rate of Interest: 7.5\n",
      "Enter the Length of time to invest: 2\n",
      "The compound interest for given input is Rupees 71250.0 \n"
     ]
    }
   ],
   "source": [
    "principle: float = float(input('Enter the Principle Amount: '))\n",
    "rate: float = float(input('Enter the Rate of Interest: '))\n",
    "time: float = float(input('Enter the Length of time to invest: '))\n",
    "    \n",
    "ci = (principle * (1 + rate ) ** time) - principle\n",
    "\n",
    "print('The compound interest for given input is Rupees {0} '.format(ci))"
   ]
  },
  {
   "cell_type": "markdown",
   "id": "b5ef741e",
   "metadata": {},
   "source": [
    "## Q4. Write a Python program that takes the radius of a circle as input and calculates its area. Use the formula: Area = 3.14 * r ^ 2"
   ]
  },
  {
   "cell_type": "code",
   "execution_count": 4,
   "id": "cba8dfac",
   "metadata": {},
   "outputs": [
    {
     "name": "stdout",
     "output_type": "stream",
     "text": [
      "Enter the radius of a circle: 5.5\n",
      "The Area of the circle is 94.985\n"
     ]
    }
   ],
   "source": [
    "radius: float = float(input(\"Enter the radius of a circle: \"))\n",
    "\n",
    "area = 3.14 * radius ** 2\n",
    "print('The Area of the circle is {0}'.format(area))"
   ]
  }
 ],
 "metadata": {
  "kernelspec": {
   "display_name": "Python 3 (ipykernel)",
   "language": "python",
   "name": "python3"
  },
  "language_info": {
   "codemirror_mode": {
    "name": "ipython",
    "version": 3
   },
   "file_extension": ".py",
   "mimetype": "text/x-python",
   "name": "python",
   "nbconvert_exporter": "python",
   "pygments_lexer": "ipython3",
   "version": "3.9.13"
  }
 },
 "nbformat": 4,
 "nbformat_minor": 5
}
