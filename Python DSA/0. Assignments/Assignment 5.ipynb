{
 "cells": [
  {
   "cell_type": "markdown",
   "id": "d0299284",
   "metadata": {},
   "source": [
    "# Assignment 5"
   ]
  },
  {
   "cell_type": "markdown",
   "id": "5dcd5531",
   "metadata": {},
   "source": [
    "## Q1. Create a function that takes three numbers as parameters and returns the largest among them. Also if no arguments are passed, make sure the parameters take default value as None and return answer as -1."
   ]
  },
  {
   "cell_type": "code",
   "execution_count": 1,
   "id": "7b91736a",
   "metadata": {},
   "outputs": [
    {
     "name": "stdout",
     "output_type": "stream",
     "text": [
      "4\n",
      "-1\n"
     ]
    }
   ],
   "source": [
    "def largest(num1 = None, num2 = None, num3 = None) -> int:\n",
    "    if num1 == num2 == num3 == None:\n",
    "        return -1\n",
    "    else:\n",
    "        if num1 >= num2 and num1 >= num3:\n",
    "            return num1\n",
    "        elif num2 >= num3:\n",
    "            return num2\n",
    "        return  num3\n",
    "    \n",
    "print(largest(3, 4, 1))\n",
    "print(largest())"
   ]
  },
  {
   "cell_type": "markdown",
   "id": "395566fb",
   "metadata": {},
   "source": [
    "## Q2. Implement a function that takes two parameters, base and exponent, and returns the result of raising the base to the power of the exponent."
   ]
  },
  {
   "cell_type": "code",
   "execution_count": 2,
   "id": "dab5abab",
   "metadata": {},
   "outputs": [
    {
     "name": "stdout",
     "output_type": "stream",
     "text": [
      "Enter the base: 12\n",
      "Enter the exponent: 10\n",
      "61917364224\n"
     ]
    }
   ],
   "source": [
    "def baseExponent(base: int, exponent: int) -> int:\n",
    "    return base ** exponent\n",
    "\n",
    "\n",
    "base: int = int(input(\"Enter the base: \"))\n",
    "exponent: int = int(input(\"Enter the exponent: \"))\n",
    "\n",
    "print(baseExponent(base, exponent))"
   ]
  },
  {
   "cell_type": "markdown",
   "id": "95d37c1d",
   "metadata": {},
   "source": [
    "## Q3. Ask 3 numbers from user. Make a function which returns the middle of those 3 numbers. Then make a function to check if that middle number is divisible by both 3 and 4. Make 2 functions for reusability."
   ]
  },
  {
   "cell_type": "code",
   "execution_count": 3,
   "id": "6868e1b8",
   "metadata": {},
   "outputs": [
    {
     "name": "stdout",
     "output_type": "stream",
     "text": [
      "Enter first number: 12\n",
      "Enter second number: 24\n",
      "Enter third number: 36\n",
      "testing for true case: 12, 24, 36\n",
      "True\n",
      "testing for false case: 17, 18, 19\n",
      "False\n"
     ]
    }
   ],
   "source": [
    "def middleNumber(num1: int, num2: int, num3: int) -> float:\n",
    "    return (num1 + num2 + num3)/3\n",
    "\n",
    "def divisibility(n: float) -> bool:\n",
    "    return n % 3 == 0 and n % 4 == 0\n",
    "\n",
    "if __name__ == \"__main__\":\n",
    "    num1: int = int(input(\"Enter first number: \"))\n",
    "    num2: int = int(input(\"Enter second number: \"))\n",
    "    num3: int = int(input(\"Enter third number: \"))\n",
    "        \n",
    "    print(\"testing for true case: 12, 24, 36\") \n",
    "    print(divisibility(middleNumber(num1, num2, num3))) \n",
    "    print(\"testing for false case: 17, 18, 19\")\n",
    "    print(divisibility(middleNumber(17,18,19))) "
   ]
  },
  {
   "cell_type": "markdown",
   "id": "2fe729b4",
   "metadata": {},
   "source": [
    "## Q4. Write a Python program that takes four numbers from the user. Implement a function to find the average of the first three numbers. Then, create another function to check if the average is greater than or equal to the fourth number. Make sure to use these two functions to determine and print whether the average is greater than or equal to the fourth number or not."
   ]
  },
  {
   "cell_type": "code",
   "execution_count": 4,
   "id": "5ac02d5e",
   "metadata": {},
   "outputs": [
    {
     "name": "stdout",
     "output_type": "stream",
     "text": [
      "Enter first number: 10\n",
      "Enter second number: 20\n",
      "Enter third number: 30\n",
      "Enter forth number: 21\n",
      "The average (20.0) is less than 21.\n"
     ]
    }
   ],
   "source": [
    "def calculateAverage(num1: int, num2: int, num3: int):\n",
    "    return  (num1 + num2 + num3)/3\n",
    "\n",
    "def compareAverageAndFourthNumber(avg: float, num4):\n",
    "    return avg >= num4\n",
    "\n",
    "if __name__ == \"__main__\":\n",
    "    num1: int = int(input(\"Enter first number: \"))\n",
    "    num2: int = int(input(\"Enter second number: \"))\n",
    "    num3: int = int(input(\"Enter third number: \"))\n",
    "    num4: int = int(input(\"Enter forth number: \"))\n",
    "\n",
    "    result = compareAverageAndFourthNumber(calculateAverage(num1, num2, num3), num4)\n",
    "\n",
    "    if result:\n",
    "        print(f\"The average ({calculateAverage(num1, num2, num3)}) is greater than or equal to {num4}.\")\n",
    "    else:\n",
    "        print(f\"The average ({calculateAverage(num1, num2, num3)}) is less than {num4}.\")\n"
   ]
  }
 ],
 "metadata": {
  "kernelspec": {
   "display_name": "Python 3 (ipykernel)",
   "language": "python",
   "name": "python3"
  },
  "language_info": {
   "codemirror_mode": {
    "name": "ipython",
    "version": 3
   },
   "file_extension": ".py",
   "mimetype": "text/x-python",
   "name": "python",
   "nbconvert_exporter": "python",
   "pygments_lexer": "ipython3",
   "version": "3.9.13"
  }
 },
 "nbformat": 4,
 "nbformat_minor": 5
}
