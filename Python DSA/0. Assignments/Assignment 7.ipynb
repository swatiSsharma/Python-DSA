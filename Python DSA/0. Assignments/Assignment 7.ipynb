{
 "cells": [
  {
   "cell_type": "markdown",
   "id": "8b32a426",
   "metadata": {},
   "source": [
    "# Assignment 7"
   ]
  },
  {
   "cell_type": "markdown",
   "id": "db208ce7",
   "metadata": {},
   "source": [
    "## Q1. Create a function named divs, which will take two parameters n1 and n2. Return the count of how many numbers from 1 to n1 are divisible by n2."
   ]
  },
  {
   "cell_type": "code",
   "execution_count": 1,
   "id": "9568f77d",
   "metadata": {},
   "outputs": [
    {
     "name": "stdout",
     "output_type": "stream",
     "text": [
      "Enter the first number: 50\n",
      "Enter the second number: 50\n",
      "The total numbers from 1 to 0 are divisible by 1 are 2\n"
     ]
    }
   ],
   "source": [
    "def divs(n1: int, n2: int) -> int:\n",
    "    i: int = 1\n",
    "    count: int = 0\n",
    "    while i <= n1:\n",
    "        if  i % n2 == 0:\n",
    "            count += 1\n",
    "        i += 1\n",
    "    return count\n",
    "\n",
    "num1: int = int(input(\"Enter the first number: \"))\n",
    "num2: int = int(input(\"Enter the second number: \"))\n",
    "    \n",
    "print(f\"The total numbers from 1 to {0} are divisible by {1} are {2}\".format(num1, num2, divs(num1, num2)) )"
   ]
  },
  {
   "cell_type": "markdown",
   "id": "ba02cee1",
   "metadata": {},
   "source": [
    "## Q2. From 1 to 2000, print all the LEAP YEARS, using WHILE loop"
   ]
  },
  {
   "cell_type": "code",
   "execution_count": 2,
   "id": "9e717b1a",
   "metadata": {},
   "outputs": [
    {
     "name": "stdout",
     "output_type": "stream",
     "text": [
      "4 8 12 16 20 24 28 32 36 40 44 48 52 56 60 64 68 72 76 80 84 88 92 96 104 108 112 116 120 124 128 132 136 140 144 148 152 156 160 164 168 172 176 180 184 188 192 196 204 208 212 216 220 224 228 232 236 240 244 248 252 256 260 264 268 272 276 280 284 288 292 296 304 308 312 316 320 324 328 332 336 340 344 348 352 356 360 364 368 372 376 380 384 388 392 396 400 404 408 412 416 420 424 428 432 436 440 444 448 452 456 460 464 468 472 476 480 484 488 492 496 504 508 512 516 520 524 528 532 536 540 544 548 552 556 560 564 568 572 576 580 584 588 592 596 604 608 612 616 620 624 628 632 636 640 644 648 652 656 660 664 668 672 676 680 684 688 692 696 704 708 712 716 720 724 728 732 736 740 744 748 752 756 760 764 768 772 776 780 784 788 792 796 800 804 808 812 816 820 824 828 832 836 840 844 848 852 856 860 864 868 872 876 880 884 888 892 896 904 908 912 916 920 924 928 932 936 940 944 948 952 956 960 964 968 972 976 980 984 988 992 996 1004 1008 1012 1016 1020 1024 1028 1032 1036 1040 1044 1048 1052 1056 1060 1064 1068 1072 1076 1080 1084 1088 1092 1096 1104 1108 1112 1116 1120 1124 1128 1132 1136 1140 1144 1148 1152 1156 1160 1164 1168 1172 1176 1180 1184 1188 1192 1196 1200 1204 1208 1212 1216 1220 1224 1228 1232 1236 1240 1244 1248 1252 1256 1260 1264 1268 1272 1276 1280 1284 1288 1292 1296 1304 1308 1312 1316 1320 1324 1328 1332 1336 1340 1344 1348 1352 1356 1360 1364 1368 1372 1376 1380 1384 1388 1392 1396 1404 1408 1412 1416 1420 1424 1428 1432 1436 1440 1444 1448 1452 1456 1460 1464 1468 1472 1476 1480 1484 1488 1492 1496 1504 1508 1512 1516 1520 1524 1528 1532 1536 1540 1544 1548 1552 1556 1560 1564 1568 1572 1576 1580 1584 1588 1592 1596 1600 1604 1608 1612 1616 1620 1624 1628 1632 1636 1640 1644 1648 1652 1656 1660 1664 1668 1672 1676 1680 1684 1688 1692 1696 1704 1708 1712 1716 1720 1724 1728 1732 1736 1740 1744 1748 1752 1756 1760 1764 1768 1772 1776 1780 1784 1788 1792 1796 1804 1808 1812 1816 1820 1824 1828 1832 1836 1840 1844 1848 1852 1856 1860 1864 1868 1872 1876 1880 1884 1888 1892 1896 1904 1908 1912 1916 1920 1924 1928 1932 1936 1940 1944 1948 1952 1956 1960 1964 1968 1972 1976 1980 1984 1988 1992 1996 2000 "
     ]
    }
   ],
   "source": [
    "def leapYear() -> int:\n",
    "    year: int = 1\n",
    "    while year <= 2000:\n",
    "        if (year % 4 == 0 and year % 100 != 0) or (year % 400 == 0):\n",
    "            print(year, end = \" \")\n",
    "        year += 1\n",
    "\n",
    "leapYear()"
   ]
  },
  {
   "cell_type": "markdown",
   "id": "a1aba3a7",
   "metadata": {},
   "source": [
    "## Q3. Create a function named factorial which takes a integer as an input and returns the factorial of that number."
   ]
  },
  {
   "cell_type": "code",
   "execution_count": 3,
   "id": "1f8a76f6",
   "metadata": {},
   "outputs": [
    {
     "name": "stdout",
     "output_type": "stream",
     "text": [
      "120\n"
     ]
    }
   ],
   "source": [
    "def fact(num1: int) -> int:\n",
    "    i: int = 1\n",
    "    fact_val: int = 1\n",
    "    while i <= num1:\n",
    "        fact_val  *= i\n",
    "        i += 1\n",
    "    return fact_val\n",
    "\n",
    "print(fact(5))"
   ]
  },
  {
   "cell_type": "markdown",
   "id": "8a018119",
   "metadata": {},
   "source": [
    "## Q4. Create a function named pattern which takes an integer as an input and print the following pattern.\n",
    "\n",
    "pattern(4) --> Output: 10 20 30 40  \n",
    "pattern(10) --> Output: 10 20 30 40 50 60 70 80 90 100  "
   ]
  },
  {
   "cell_type": "code",
   "execution_count": 4,
   "id": "43386792",
   "metadata": {},
   "outputs": [
    {
     "name": "stdout",
     "output_type": "stream",
     "text": [
      "10 20 30 40 \n",
      "10 20 30 40 50 60 70 80 90 100 \n"
     ]
    }
   ],
   "source": [
    "def pattern(num1: int) -> int:\n",
    "    i: int = 1\n",
    "    while i <= num1:\n",
    "        print(i*10, end = ' ')\n",
    "        i += 1\n",
    "    print()\n",
    "\n",
    "pattern(4)\n",
    "pattern(10)"
   ]
  },
  {
   "cell_type": "markdown",
   "id": "e4dec858",
   "metadata": {},
   "source": [
    "## Q5. Create a function named pattern which takes an integer as an input and print the following pattern.\n",
    "\n",
    "pattern(4) --> Output: 1 2 4 8  \n",
    "pattern(7) --> Output: 1 2 4 8 16 32 64  "
   ]
  },
  {
   "cell_type": "code",
   "execution_count": 5,
   "id": "e5109b0d",
   "metadata": {},
   "outputs": [
    {
     "name": "stdout",
     "output_type": "stream",
     "text": [
      "1 2 4 8 \n",
      "1 2 4 8 16 32 64 \n"
     ]
    }
   ],
   "source": [
    "def pattern(num1: int) -> int:\n",
    "    i: int = 0\n",
    "    while i < num1:\n",
    "        print(2**i, end = ' ')\n",
    "        i += 1\n",
    "    print()\n",
    "\n",
    "pattern(4)\n",
    "pattern(7)"
   ]
  },
  {
   "cell_type": "markdown",
   "id": "38480daf",
   "metadata": {},
   "source": [
    "## Q6. Don’t create a function, just print the following pattern\n",
    "\n",
    "1 11 111 1111 11111....n times (Ask n from user)  "
   ]
  },
  {
   "cell_type": "code",
   "execution_count": 6,
   "id": "11b3a51d",
   "metadata": {},
   "outputs": [
    {
     "name": "stdout",
     "output_type": "stream",
     "text": [
      " 1 11 111 1111 11111 \n"
     ]
    }
   ],
   "source": [
    "def pattern(num1: int) -> int:\n",
    "    i: int = 0\n",
    "    while i <= num1:\n",
    "        print('1'*i, end = ' ')\n",
    "        i += 1\n",
    "    print()\n",
    "    \n",
    "pattern(5)"
   ]
  },
  {
   "cell_type": "markdown",
   "id": "da4d4cb1",
   "metadata": {},
   "source": [
    "## Q7. Keep asking numbers from user until the user enters 0. Then display the average of all numbers."
   ]
  },
  {
   "cell_type": "code",
   "execution_count": 7,
   "id": "40a97dba",
   "metadata": {},
   "outputs": [
    {
     "name": "stdout",
     "output_type": "stream",
     "text": [
      "Enter a number (enter 0 to calculate average): 21\n",
      "Enter a number (enter 0 to calculate average): 214\n",
      "Enter a number (enter 0 to calculate average): 22\n",
      "Enter a number (enter 0 to calculate average): 1\n",
      "Enter a number (enter 0 to calculate average): 11\n",
      "Enter a number (enter 0 to calculate average): 0\n",
      "The average of 5 numbers is: 53.8\n"
     ]
    }
   ],
   "source": [
    "# Initialize variables\n",
    "total = 0\n",
    "count = 0\n",
    "\n",
    "# Continue asking for numbers until the user enters 0\n",
    "while True:\n",
    "    user_input = float(input(\"Enter a number (enter 0 to calculate average): \"))\n",
    "\n",
    "    if user_input == 0:\n",
    "        break  # Exit the loop if the user enters 0\n",
    "\n",
    "    total += user_input\n",
    "    count += 1\n",
    "\n",
    "# Calculate and display the average\n",
    "if count > 0:\n",
    "    average = total / count\n",
    "    print(f\"The average of {count} numbers is: {average}\")\n",
    "else:\n",
    "    print(\"No numbers entered.\")"
   ]
  },
  {
   "cell_type": "markdown",
   "id": "177cb65b",
   "metadata": {},
   "source": [
    "## Q8. Write a function named pattern which accepts an integer n as an argument. Then print the following pattern.\n",
    "\n",
    "pattern(4) --> Output: 1 4 9 16  \n",
    "pattern(10) --> Output: 1 4 9 16 25 36 49 64 81 100  "
   ]
  },
  {
   "cell_type": "code",
   "execution_count": 8,
   "id": "513fec43",
   "metadata": {},
   "outputs": [
    {
     "name": "stdout",
     "output_type": "stream",
     "text": [
      "1 4 9 16 \n",
      "1 4 9 16 25 36 49 64 81 100 \n"
     ]
    }
   ],
   "source": [
    "def pattern(num1: int) -> int:\n",
    "    i: int = 1\n",
    "    while i <= num1:\n",
    "        print(i*i, end = ' ')\n",
    "        i += 1\n",
    "    print()\n",
    "    \n",
    "pattern(4)\n",
    "pattern(10)"
   ]
  },
  {
   "cell_type": "markdown",
   "id": "432837e3",
   "metadata": {},
   "source": [
    "## Q.9 Ask a number from user. Print if that number is prime or not, use functions."
   ]
  },
  {
   "cell_type": "code",
   "execution_count": 9,
   "id": "6ee318ef",
   "metadata": {},
   "outputs": [
    {
     "name": "stdout",
     "output_type": "stream",
     "text": [
      "Enter a number: 232\n",
      "232 is not a prime number.\n"
     ]
    }
   ],
   "source": [
    "def is_prime(number):\n",
    "    \"\"\"Check if a number is prime.\"\"\"\n",
    "    if number < 2:\n",
    "        return False\n",
    "    for i in range(2, int(number**0.5) + 1):\n",
    "        if number % i == 0:\n",
    "            return False\n",
    "    return True\n",
    "\n",
    "# Get input from the user\n",
    "user_number = int(input(\"Enter a number: \"))\n",
    "\n",
    "# Check if the entered number is prime and print the result\n",
    "if is_prime(user_number):\n",
    "    print(f\"{user_number} is a prime number.\")\n",
    "else:\n",
    "    print(f\"{user_number} is not a prime number.\")\n"
   ]
  }
 ],
 "metadata": {
  "kernelspec": {
   "display_name": "Python 3 (ipykernel)",
   "language": "python",
   "name": "python3"
  },
  "language_info": {
   "codemirror_mode": {
    "name": "ipython",
    "version": 3
   },
   "file_extension": ".py",
   "mimetype": "text/x-python",
   "name": "python",
   "nbconvert_exporter": "python",
   "pygments_lexer": "ipython3",
   "version": "3.9.13"
  }
 },
 "nbformat": 4,
 "nbformat_minor": 5
}
