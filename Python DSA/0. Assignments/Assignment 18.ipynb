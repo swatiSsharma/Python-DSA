{
 "cells": [
  {
   "cell_type": "markdown",
   "id": "6662ed76",
   "metadata": {},
   "source": [
    "# Assignment 18"
   ]
  },
  {
   "cell_type": "markdown",
   "id": "a3499b27",
   "metadata": {},
   "source": [
    "## Q1. Create a python function named isPalindrome which accepts a string as a parameter and return True if its a palindrome. Palindrome are words which is same when read from start and same when read from the end"
   ]
  },
  {
   "cell_type": "code",
   "execution_count": 1,
   "id": "9e9b303e",
   "metadata": {},
   "outputs": [
    {
     "name": "stdout",
     "output_type": "stream",
     "text": [
      "True\n",
      "True\n",
      "False\n"
     ]
    }
   ],
   "source": [
    "def isPalindrome(string: str) -> bool:\n",
    "    if string.lower() == string[::-1].lower():\n",
    "        return True\n",
    "    else:\n",
    "        return False\n",
    "\n",
    "print(isPalindrome(\"moom\")) # True\n",
    "print(isPalindrome(\"ABCcba\"))  # True\n",
    "print(isPalindrome(\"ABCcbaa\")) # False"
   ]
  },
  {
   "cell_type": "markdown",
   "id": "07f8ca0e",
   "metadata": {},
   "source": [
    "## Q2. Keep asking characters from user until he presses q on the keyboard. Change all the capital letters to small, and all the small letters to capital. (Don’t use swapcase() )"
   ]
  },
  {
   "cell_type": "code",
   "execution_count": 2,
   "id": "fe53e641",
   "metadata": {},
   "outputs": [
    {
     "name": "stdout",
     "output_type": "stream",
     "text": [
      "Enter the character: h\n",
      "H\n",
      "Enter the character: r\n",
      "R\n",
      "Enter the character: 5\n",
      "5\n",
      "Enter the character: f\n",
      "F\n",
      "Enter the character: o\n",
      "O\n",
      "Enter the character: H\n",
      "h\n",
      "Enter the character: q\n"
     ]
    }
   ],
   "source": [
    "char = input(\"Enter the character: \")\n",
    "while True:\n",
    "    if len(char) == 1:\n",
    "        if char.lower() == 'q':\n",
    "            break\n",
    "        else:\n",
    "            if 65 <= ord(char) <= 90:\n",
    "                print(chr(ord(char) + 32)) # Convert to small case\n",
    "            elif 97 <= ord(char) <= 122:    \n",
    "                print(chr(ord(char) - 32)) # Convert to capital case\n",
    "            else:\n",
    "                print(char)                 # Print as it is if not a letter\n",
    "            char = input(\"Enter the character: \")\n",
    "    else:\n",
    "        print(\"Please enter a single character.\")"
   ]
  },
  {
   "cell_type": "markdown",
   "id": "3d52101d",
   "metadata": {},
   "source": [
    "## Q3. Python Program to remove all duplicates from a given string"
   ]
  },
  {
   "cell_type": "code",
   "execution_count": 3,
   "id": "1fbf26da",
   "metadata": {},
   "outputs": [
    {
     "name": "stdout",
     "output_type": "stream",
     "text": [
      "Helo Wrd\n",
      "progamin\n"
     ]
    }
   ],
   "source": [
    "def  remove_duplicates(string: str) -> str:\n",
    "    withoutDup = ''\n",
    "    for char in string:\n",
    "        if char not in withoutDup:\n",
    "            withoutDup += char\n",
    "    \n",
    "    return withoutDup\n",
    "\n",
    "print(remove_duplicates(\"Hello World\")) \n",
    "print(remove_duplicates(\"programming\"))"
   ]
  },
  {
   "cell_type": "markdown",
   "id": "73d40fad",
   "metadata": {},
   "source": [
    "## Q4.Ask a sentence from user. Then ask a integer k from user. Print all the words which are greater or equal to k"
   ]
  },
  {
   "cell_type": "code",
   "execution_count": 4,
   "id": "1fa7ebdb",
   "metadata": {},
   "outputs": [
    {
     "name": "stdout",
     "output_type": "stream",
     "text": [
      "python great language. understand "
     ]
    }
   ],
   "source": [
    "def print_greater(sentence: str,k: int) -> None:\n",
    "    words = sentence.split()\n",
    "    for word in words:\n",
    "        if len(word) >= k:\n",
    "            print(word, end = ' ')\n",
    "\n",
    "print_greater('python is a great language. Very easy to understand', 5)"
   ]
  },
  {
   "cell_type": "markdown",
   "id": "0660e6e3",
   "metadata": {},
   "source": [
    "## Q5. Ask a string from user. Replace all the space characters with “-”. Do not use replace() method."
   ]
  },
  {
   "cell_type": "code",
   "execution_count": 5,
   "id": "c88425d8",
   "metadata": {},
   "outputs": [
    {
     "name": "stdout",
     "output_type": "stream",
     "text": [
      "Hello-World\n",
      "python-is-a-great-language\n"
     ]
    }
   ],
   "source": [
    "def replace_space(input_str: str):\n",
    "    result_str = \"\"\n",
    "\n",
    "    for char in input_str:\n",
    "        if char == ' ':\n",
    "            result_str += '-'\n",
    "        else:\n",
    "            result_str += char\n",
    "\n",
    "    return result_str\n",
    "\n",
    "print(replace_space(\"Hello World\"))\n",
    "print(replace_space('python is a great language'))"
   ]
  },
  {
   "cell_type": "markdown",
   "id": "6acc5e8e",
   "metadata": {},
   "source": [
    "## Q6. Make a password strength function. It will accept a string from user. Return True if it is a strong password.\n",
    "Strong password has these characteristics.\n",
    "Minimum 8 character\n",
    "Minimum 1 uppercase alphabet\n",
    "Minimum 1 lowercase alphabet\n",
    "Contains at least 1 special symbol (any symbol)\n",
    "Minimum 1 digit"
   ]
  },
  {
   "cell_type": "code",
   "execution_count": 6,
   "id": "3cec71d2",
   "metadata": {},
   "outputs": [
    {
     "name": "stdout",
     "output_type": "stream",
     "text": [
      "Enter a password: ndfjk\n",
      "False\n",
      "False\n",
      "True\n"
     ]
    }
   ],
   "source": [
    "def isStrongPassword(password: str):\n",
    "    has_uppercase = False\n",
    "    has_lowercase = False\n",
    "    has_digit = False\n",
    "    has_special = False\n",
    "\n",
    "    for char in password:\n",
    "        if char.isupper():\n",
    "            has_uppercase = True\n",
    "        elif char.islower():\n",
    "            has_lowercase = True\n",
    "        elif char.isdigit():\n",
    "            has_digit = True\n",
    "        elif not char.isalnum():\n",
    "            has_special = True\n",
    "\n",
    "    if (\n",
    "        len(password) >= 8\n",
    "        and has_uppercase\n",
    "        and has_lowercase\n",
    "        and has_digit\n",
    "        and has_special\n",
    "    ):\n",
    "        return True\n",
    "    else:\n",
    "        return False\n",
    "\n",
    "\n",
    "password = input(\"Enter a password: \")\n",
    "print(isStrongPassword(password))\n",
    "print(isStrongPassword('JAMES'))\n",
    "print(isStrongPassword('pYTHON1$'))"
   ]
  }
 ],
 "metadata": {
  "kernelspec": {
   "display_name": "Python 3 (ipykernel)",
   "language": "python",
   "name": "python3"
  },
  "language_info": {
   "codemirror_mode": {
    "name": "ipython",
    "version": 3
   },
   "file_extension": ".py",
   "mimetype": "text/x-python",
   "name": "python",
   "nbconvert_exporter": "python",
   "pygments_lexer": "ipython3",
   "version": "3.9.13"
  }
 },
 "nbformat": 4,
 "nbformat_minor": 5
}
