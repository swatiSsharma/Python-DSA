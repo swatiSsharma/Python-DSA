{
 "cells": [
  {
   "cell_type": "markdown",
   "id": "39ff1897",
   "metadata": {},
   "source": [
    "# Assignment 4"
   ]
  },
  {
   "cell_type": "markdown",
   "id": "28e5d87e",
   "metadata": {},
   "source": [
    "# Q1. Write a Python function to find the Maximum and minimum of three numbers. Use 3 parameters. Make 2 different functions named as maxi and mini"
   ]
  },
  {
   "cell_type": "code",
   "execution_count": 1,
   "id": "78b28b56",
   "metadata": {},
   "outputs": [
    {
     "name": "stdout",
     "output_type": "stream",
     "text": [
      "Enter first number: 56\n",
      "Enter second number: 67\n",
      "Enter third number: 55\n",
      "The maximum number is 67.0\n",
      "The minimum number is 55.0\n"
     ]
    }
   ],
   "source": [
    "def maxi(num1: float, num2: float, num3: float):\n",
    "    if num1 > num2 and num1 > num3:\n",
    "        return num1\n",
    "    elif num2 > num3:\n",
    "        return  num2\n",
    "    else:\n",
    "        return num3\n",
    "\n",
    "def mini(num1: float, num2: float, num3: float):\n",
    "    if num1 < num2 and num1 < num3:\n",
    "        return num1\n",
    "    elif num2 < num3:\n",
    "        return  num2\n",
    "    else:\n",
    "        return num3\n",
    "\n",
    "# example usgae\n",
    "num1: float = float(input(\"Enter first number: \"))\n",
    "num2: float = float(input(\"Enter second number: \"))\n",
    "num3: float = float(input(\"Enter third number: \"))\n",
    "\n",
    "max_num = maxi(num1, num2, num3)\n",
    "min_num = mini(num1, num2, num3)\n",
    "\n",
    "print(f\"The maximum number is {max_num}\")\n",
    "print(f\"The minimum number is {min_num}\")"
   ]
  },
  {
   "cell_type": "markdown",
   "id": "bf31a93f",
   "metadata": {},
   "source": [
    "# Q2. An extra day is added to the calendar almost every four years as February 29, and the day is called a leap day. A leap year contains a leapday.\n",
    "\n",
    "These are the conditions used to identify leap years:\n",
    "\n",
    "- if the year can be evenly divided by 4, it is then a leap year\n",
    "- but if the year is evenly divided by 4 and also by 100, then it is NOT a leap year\n",
    "- but if the year is evenly divided by 4 and also by 400, then it is a leap year\n",
    "\n",
    "This means the years 2000 and 2400 are leap years, while 1800, 1900, 2100, 2200, 2300 and 2500 are NOT leap years.\n",
    "Ask a year input from user. And tell if the year entered by user is leap or not.\n"
   ]
  },
  {
   "cell_type": "code",
   "execution_count": 2,
   "id": "09a11cfc",
   "metadata": {},
   "outputs": [
    {
     "name": "stdout",
     "output_type": "stream",
     "text": [
      "Enter the year: 2056\n",
      "2056 is a leap year.\n"
     ]
    }
   ],
   "source": [
    "def leapYear(year: int):\n",
    "    if (year % 4 == 0 and year % 100 != 0) or (year % 400 == 0):\n",
    "        return f\"{year} is a leap year.\"\n",
    "    else:\n",
    "        return f\"{year} is not a leap year.\"\n",
    "\n",
    "year: int = int(input(\"Enter the year: \"))\n",
    "result = leapYear(year)\n",
    "print(result)"
   ]
  },
  {
   "cell_type": "markdown",
   "id": "7f91b701",
   "metadata": {},
   "source": [
    "# Q3. Write a program to calculate bill. Ask the final amount from the user.\n",
    "\n",
    "You have to give discount and print the final bill after discount.  \n",
    "- 50000 above - 30% discount  \n",
    "- 40000 - 49999 - 25% discount  \n",
    "- 30000 - 39999 - 20% discount  \n",
    "- 10000 - 29999 - 10% discount  \n",
    "- 1 - 9999 - No discount  \n",
    "  \n",
    "Print the discount and the final amount to be paid.  \n",
    "\n",
    " Example 1  \n",
    " Enter bill amount = 80000  \n",
    " You got 30% discount  \n",
    " Your final bill is Rs. 56000  "
   ]
  },
  {
   "cell_type": "code",
   "execution_count": 3,
   "id": "8905b89b",
   "metadata": {},
   "outputs": [
    {
     "name": "stdout",
     "output_type": "stream",
     "text": [
      "Enter the final amount of the bill: 80000\n",
      "You got 30% discount\n",
      "Your final bill is Rs. 56000.00\n"
     ]
    }
   ],
   "source": [
    "def  calculate_bill(final_amount: float):\n",
    "    # Initialize variables for discount and final bill\n",
    "    discount_percentage = 0\n",
    "    final_bill = final_amount\n",
    "    \n",
    "    # Determine the discount based on the final amount\n",
    "    if final_amount >= 50000:\n",
    "        discount_percentage = 30\n",
    "    elif 40000 <= final_amount <= 49999:\n",
    "        discount_percentage = 25\n",
    "    elif 30000 <= final_amount <= 39999:\n",
    "        discount_percentage = 20\n",
    "    elif 10000 <= final_amount <= 29999:\n",
    "        discount_percentage = 10\n",
    "    \n",
    "    # Calculate the discount and final bill\n",
    "    discount_amount = (discount_percentage / 100) * final_amount\n",
    "    final_bill -= discount_amount\n",
    "    \n",
    "    return  discount_percentage, final_bill\n",
    "\n",
    "\n",
    "# Get input from the user\n",
    "final_amount = float(input(\"Enter the final amount of the bill: \"))\n",
    "discount_percentage, final_bill  = calculate_bill(final_amount)\n",
    "\n",
    "# Print the discount and final bill\n",
    "print(f\"You got {discount_percentage}% discount\")\n",
    "print(f\"Your final bill is Rs. {final_bill:.2f}\")"
   ]
  },
  {
   "cell_type": "markdown",
   "id": "3225c7b3",
   "metadata": {},
   "source": [
    "# Q4. Ask 4 numbers from user. Make sure all the numbers entered by user are different. Print which number is the smallest."
   ]
  },
  {
   "cell_type": "code",
   "execution_count": 4,
   "id": "d4eefeae",
   "metadata": {},
   "outputs": [
    {
     "name": "stdout",
     "output_type": "stream",
     "text": [
      "Enter the first number: 46\n",
      "Enter the second number: 455\n",
      "Enter the third number: 7\n",
      "Enter the fourth number: 1\n",
      "The smallest number is: 1.0\n"
     ]
    }
   ],
   "source": [
    "def smallestNumber(num1: float, num2: float, num3: float, num4: float):\n",
    "    # Determine the smallest number using if-else statements\n",
    "    if num1 <= num2 and num1 <= num3 and num1 <= num4:\n",
    "        smallest_number = num1\n",
    "    elif num2 <= num1 and num2 <= num3 and num2 <= num4:\n",
    "        smallest_number = num2\n",
    "    elif num3 <= num1 and num3 <= num2 and num3 <= num4:\n",
    "        smallest_number = num3\n",
    "    else:\n",
    "        smallest_number = num4\n",
    "\n",
    "    return smallest_number\n",
    "\n",
    "# Get input from the user for 4 different numbers\n",
    "num1: float = float(input(\"Enter the first number: \"))\n",
    "num2: float = float(input(\"Enter the second number: \"))\n",
    "\n",
    "# Validate that the second number is different from the first\n",
    "if num2 == num1:\n",
    "    print(\"Please enter a different number.\")\n",
    "    num2 = float(input(\"Enter the second number: \"))\n",
    "\n",
    "num3: float = float(input(\"Enter the third number: \"))\n",
    "\n",
    "# Validate that the third number is different from the first two\n",
    "if num3 == num1 or num3 == num2:\n",
    "    print(\"Please enter a different number.\")\n",
    "    num3 = float(input(\"Enter the third number: \"))\n",
    "\n",
    "num4: float = float(input(\"Enter the fourth number: \"))\n",
    "\n",
    "# Validate that the fourth number is different from the first three\n",
    "if num4 == num1 or num4 == num2 or num4 == num3:\n",
    "    print(\"Please enter a different number.\")\n",
    "    num4 = float(input(\"Enter the fourth number: \"))\n",
    "\n",
    "result = smallestNumber(num1, num2, num3, num4)\n",
    "# Print the smallest number\n",
    "print(f\"The smallest number is: {result}\")"
   ]
  },
  {
   "cell_type": "markdown",
   "id": "178fb1be",
   "metadata": {},
   "source": [
    "# Q5. Take Salary as input from User and Update the salary of an employee\n",
    "\n",
    "- salary between 10,000 and 20, 000, 10 % increment\n",
    "- salary between 20,000 and 50,000, 15 % increment\n",
    "- salary more than 50,000, 20 % increment\n",
    "- salary less than 10,000, 5 % increment\n"
   ]
  },
  {
   "cell_type": "code",
   "execution_count": 5,
   "id": "4d3b8a30",
   "metadata": {},
   "outputs": [
    {
     "name": "stdout",
     "output_type": "stream",
     "text": [
      "The original salary was Rs.60000.00\n",
      "The increment percentage is 20%\n",
      "The updated salary is Rs.72000.0\n"
     ]
    }
   ],
   "source": [
    "def incrementSalary(original_salary: float):\n",
    "    if original_salary < 10000:\n",
    "        increment_percentage = 5\n",
    "    elif 10000 <= original_salary < 20000:\n",
    "        increment_percentage = 10\n",
    "    elif 20000 <= original_salary < 50000:\n",
    "        increment_percentage = 15\n",
    "    else:\n",
    "        increment_percentage = 20\n",
    "\n",
    "    increment_amount: float = original_salary * increment_percentage / 100\n",
    "    updated_salary: float = original_salary + increment_amount\n",
    "\n",
    "    print(f\"The original salary was Rs.{original_salary:.2f}\")\n",
    "    print(f\"The increment percentage is {increment_percentage}%\")\n",
    "    print(f\"The updated salary is Rs.{updated_salary}\")\n",
    "\n",
    "incrementSalary(60000)"
   ]
  }
 ],
 "metadata": {
  "kernelspec": {
   "display_name": "Python 3 (ipykernel)",
   "language": "python",
   "name": "python3"
  },
  "language_info": {
   "codemirror_mode": {
    "name": "ipython",
    "version": 3
   },
   "file_extension": ".py",
   "mimetype": "text/x-python",
   "name": "python",
   "nbconvert_exporter": "python",
   "pygments_lexer": "ipython3",
   "version": "3.9.13"
  }
 },
 "nbformat": 4,
 "nbformat_minor": 5
}
