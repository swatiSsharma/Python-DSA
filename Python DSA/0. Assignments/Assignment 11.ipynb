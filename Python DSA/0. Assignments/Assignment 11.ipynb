{
 "cells": [
  {
   "cell_type": "markdown",
   "id": "f2693c2c",
   "metadata": {},
   "source": [
    "# Assignment 11"
   ]
  },
  {
   "cell_type": "markdown",
   "id": "0196bc86",
   "metadata": {},
   "source": [
    "## Q1. Make a list of your own. Print the whole list in reverse using FOR loop and WHILE loop."
   ]
  },
  {
   "cell_type": "code",
   "execution_count": 1,
   "id": "f54ee2d0",
   "metadata": {},
   "outputs": [
    {
     "name": "stdout",
     "output_type": "stream",
     "text": [
      "22 33 59 91 11 34 "
     ]
    }
   ],
   "source": [
    "my_list = [34, 11, 91, 59, 33, 22]\n",
    "# Using FOR loop\n",
    "\n",
    "for i in range(len(my_list)-1, -1, -1):\n",
    "    print(my_list[i], end = ' ')"
   ]
  },
  {
   "cell_type": "code",
   "execution_count": 2,
   "id": "8003ba2a",
   "metadata": {},
   "outputs": [
    {
     "name": "stdout",
     "output_type": "stream",
     "text": [
      "22 33 59 91 11 34 "
     ]
    }
   ],
   "source": [
    "my_list = [34, 11, 91, 59, 33, 22]\n",
    "# using While loop\n",
    "i = -1\n",
    "n = len(my_list) - 1\n",
    "while n >= 0:\n",
    "    print(my_list[n], end = ' ')\n",
    "    n -= 1"
   ]
  },
  {
   "cell_type": "markdown",
   "id": "240647ab",
   "metadata": {},
   "source": [
    "## Q2. Make a list of your own. Print all the numbers divisible by 3 and 4 in that list."
   ]
  },
  {
   "cell_type": "code",
   "execution_count": 3,
   "id": "d9e989dd",
   "metadata": {},
   "outputs": [
    {
     "name": "stdout",
     "output_type": "stream",
     "text": [
      "12 24 36 48 "
     ]
    }
   ],
   "source": [
    "my_list = [10, 12, 18, 20, 24, 30, 36, 40, 42, 48]\n",
    "\n",
    "for i in my_list:\n",
    "    if i % 3 == 0 and i % 4 == 0:\n",
    "        print(i, end = ' ')"
   ]
  },
  {
   "cell_type": "markdown",
   "id": "882e9f7b",
   "metadata": {},
   "source": [
    "## Q3. Make a list of your own. Count how many numbers are divisible by 5."
   ]
  },
  {
   "cell_type": "code",
   "execution_count": 4,
   "id": "72dc8f6d",
   "metadata": {},
   "outputs": [
    {
     "name": "stdout",
     "output_type": "stream",
     "text": [
      "4\n"
     ]
    }
   ],
   "source": [
    "my_list = [10, 12, 18, 20, 24, 30, 36, 40, 42, 48]\n",
    "cnt: int = 0\n",
    "for i in my_list:\n",
    "    if i % 5 == 0:\n",
    "        cnt += 1\n",
    "\n",
    "print(cnt)"
   ]
  },
  {
   "cell_type": "markdown",
   "id": "d5f10bce",
   "metadata": {},
   "source": [
    "## Q4. Make a list of your own. Calculate the length of that list without using len() function."
   ]
  },
  {
   "cell_type": "code",
   "execution_count": 5,
   "id": "fb230e31",
   "metadata": {},
   "outputs": [
    {
     "name": "stdout",
     "output_type": "stream",
     "text": [
      "11\n"
     ]
    }
   ],
   "source": [
    "my_list = [10, 12, 18, 20, 24, 30, 36, 40, 42, 48]\n",
    "\n",
    "cnt: int = 1\n",
    "for i in enumerate(my_list):\n",
    "    cnt += 1\n",
    "print(cnt)"
   ]
  },
  {
   "cell_type": "markdown",
   "id": "68292285",
   "metadata": {},
   "source": [
    "## Q5. Create a function countOddEven that accepts an List of Integers and print how many even and odd numbers are there.\n",
    "\n",
    "my_list = [34, 11, 91, 59, 33, 22]  \n",
    "countOddEven(my_list)  \n",
    "\n",
    "o/p -> \n",
    "Total even numbers = 2  \n",
    "Total odd numbers = 4  "
   ]
  },
  {
   "cell_type": "code",
   "execution_count": 6,
   "id": "80884791",
   "metadata": {},
   "outputs": [
    {
     "name": "stdout",
     "output_type": "stream",
     "text": [
      "Count of even numbers: 2\n",
      "Count of odd numbers: 4\n"
     ]
    }
   ],
   "source": [
    "def countOddEven(numbers):\n",
    "    # Initialize counters for even and odd numbers\n",
    "    even_count = 0\n",
    "    odd_count = 0\n",
    "\n",
    "    for num in numbers:\n",
    "        if num % 2 == 0:\n",
    "            even_count += 1\n",
    "        else:\n",
    "            odd_count += 1\n",
    "\n",
    "    print(f\"Count of even numbers: {even_count}\")\n",
    "    print(f\"Count of odd numbers: {odd_count}\")\n",
    "\n",
    "# Example usage\n",
    "my_numbers = [34, 11, 91, 59, 33, 22]\n",
    "countOddEven(my_numbers)"
   ]
  },
  {
   "cell_type": "markdown",
   "id": "5116e03c",
   "metadata": {},
   "source": [
    "## Q6. Create a function sumCountOddEven that accepts an List of Integers and calculate sum of even and odd numbers.\n",
    "\n",
    "my_list = [34, 11, 91, 59, 33, 22]  \n",
    "sumCountOddEven(my_list)  \n",
    "\n",
    "o/p -> \n",
    "Even numbers sum = 56   \n",
    "Odd numbers sum = 194  "
   ]
  },
  {
   "cell_type": "code",
   "execution_count": 7,
   "id": "26573c3f",
   "metadata": {},
   "outputs": [
    {
     "name": "stdout",
     "output_type": "stream",
     "text": [
      "Sum of even numbers: 56\n",
      "Sum of odd numbers: 194\n"
     ]
    }
   ],
   "source": [
    "def sumCountOddEven(numbers):\n",
    "    # Initialize sums for even and odd numbers\n",
    "    even_sum = 0\n",
    "    odd_sum = 0\n",
    "\n",
    "    # Iterate through the list\n",
    "    for num in numbers:\n",
    "        if num % 2 == 0:\n",
    "            even_sum += num\n",
    "        else:\n",
    "            odd_sum += num\n",
    "\n",
    "    # Print the results\n",
    "    print(f\"Sum of even numbers: {even_sum}\")\n",
    "    print(f\"Sum of odd numbers: {odd_sum}\")\n",
    "\n",
    "# Example usage\n",
    "my_numbers = [34, 11, 91, 59, 33, 22]\n",
    "sumCountOddEven(my_numbers)"
   ]
  },
  {
   "cell_type": "markdown",
   "id": "ba3fcfd3",
   "metadata": {},
   "source": [
    "## Q7. Create a function findLargest that accepts an List of Integers and returns the largest number from the list.\n",
    "\n",
    "my_list = [34, 11, 91, 59, 33, 22]  \n",
    "print(findLargest(my_list)) # 91  "
   ]
  },
  {
   "cell_type": "code",
   "execution_count": 8,
   "id": "39bb9c1b",
   "metadata": {},
   "outputs": [
    {
     "name": "stdout",
     "output_type": "stream",
     "text": [
      "The largest number is: 91\n"
     ]
    }
   ],
   "source": [
    "def findLargest(numbers):\n",
    "    # Check if the list is not empty\n",
    "    if not numbers:\n",
    "        return None  # Return None for an empty list\n",
    "\n",
    "    # Initialize the largest number with the first element of the list\n",
    "    largest_number = numbers[0]\n",
    "\n",
    "    # Iterate through the list to find the largest number\n",
    "    for num in numbers:\n",
    "        if num > largest_number:\n",
    "            largest_number = num\n",
    "\n",
    "    return largest_number\n",
    "\n",
    "my_numbers = [34, 11, 91, 59, 33, 22]\n",
    "largest = findLargest(my_numbers)\n",
    "\n",
    "if largest is not None:\n",
    "    print(f\"The largest number is: {largest}\")\n",
    "else:\n",
    "    print(\"The list is empty.\")"
   ]
  },
  {
   "cell_type": "markdown",
   "id": "f614a483",
   "metadata": {},
   "source": [
    "## Q8. Create a function findSmallest that accepts an List of Integers and returns the smallest number from the list.\n",
    "\n",
    "my_list = [34, 11, 91, 59, 33, 22]  \n",
    "print(findSmallest(my_list)) # 11"
   ]
  },
  {
   "cell_type": "code",
   "execution_count": 9,
   "id": "7c70c0ee",
   "metadata": {},
   "outputs": [
    {
     "name": "stdout",
     "output_type": "stream",
     "text": [
      "The smallest number is: 11\n"
     ]
    }
   ],
   "source": [
    "def findSmallest(numbers):\n",
    "    # Check if the list is not empty\n",
    "    if not numbers:\n",
    "        return None  # Return None for an empty list\n",
    "\n",
    "    # Initialize the smallest number with the first element of the list\n",
    "    smallest_number = numbers[0]\n",
    "\n",
    "    # Iterate through the list to find the smallest number\n",
    "    for num in numbers:\n",
    "        if num < smallest_number:\n",
    "            smallest_number = num\n",
    "\n",
    "    return smallest_number\n",
    "\n",
    "# Example usage\n",
    "my_numbers = [34, 11, 91, 59, 33, 22]\n",
    "smallest = findSmallest(my_numbers)\n",
    "\n",
    "if smallest is not None:\n",
    "    print(f\"The smallest number is: {smallest}\")\n",
    "else:\n",
    "    print(\"The list is empty.\")\n"
   ]
  },
  {
   "cell_type": "markdown",
   "id": "198730c7",
   "metadata": {},
   "source": [
    "## Q9. Create a function updateOddEven that accepts an List of Integers and update all the even numbers to 0 and update all the odd numbers to 1.\n",
    "\n",
    "my_list = [34, 11, 91, 59, 33, 22]  \n",
    "print(updateOddEven(my_list)) # [0, 1, 1, 1, 1, 0]  "
   ]
  },
  {
   "cell_type": "code",
   "execution_count": 10,
   "id": "6e4fc142",
   "metadata": {},
   "outputs": [
    {
     "name": "stdout",
     "output_type": "stream",
     "text": [
      "Original list: [34, 11, 91, 59, 33, 22]\n",
      "Updated list: [0, 1, 1, 1, 1, 0]\n"
     ]
    }
   ],
   "source": [
    "def updateOddEven(numbers):\n",
    "    # Iterate through the list and update even and odd numbers\n",
    "    for i in range(len(numbers)):\n",
    "        if numbers[i] % 2 == 0:\n",
    "            numbers[i] = 0\n",
    "        else:\n",
    "            numbers[i] = 1\n",
    "\n",
    "# Example usage\n",
    "my_numbers = [34, 11, 91, 59, 33, 22] \n",
    "print(\"Original list:\", my_numbers)\n",
    "\n",
    "updateOddEven(my_numbers)\n",
    "\n",
    "print(\"Updated list:\", my_numbers)\n"
   ]
  },
  {
   "cell_type": "markdown",
   "id": "652c9a2a",
   "metadata": {},
   "source": [
    "## Q10. Create a function updateOddEven that accepts an List of Integers and update all the even numbers to increment by 1 and update all the odd numbers to decrement by 1.\n",
    "\n",
    "my_list = [34, 11, 91, 59, 33, 22]  \n",
    "print(updateOddEven(my_list)) # [35, 10, 90, 58, 32, 23]"
   ]
  },
  {
   "cell_type": "code",
   "execution_count": 11,
   "id": "19876c73",
   "metadata": {},
   "outputs": [
    {
     "name": "stdout",
     "output_type": "stream",
     "text": [
      "Original list: [34, 11, 91, 59, 33, 22]\n",
      "Updated list: [35, 10, 90, 58, 32, 23]\n"
     ]
    }
   ],
   "source": [
    "def updateOddEven(numbers):\n",
    "    # Iterate through the list and update even and odd numbers\n",
    "    for i in range(len(numbers)):\n",
    "        if numbers[i] % 2 == 0:\n",
    "            numbers[i] += 1  # Increment even numbers\n",
    "        else:\n",
    "            numbers[i] -= 1  # Decrement odd numbers\n",
    "\n",
    "# Example usage\n",
    "my_list = [34, 11, 91, 59, 33, 22]\n",
    "print(\"Original list:\", my_list)\n",
    "\n",
    "updateOddEven(my_list)\n",
    "\n",
    "print(\"Updated list:\", my_list)"
   ]
  },
  {
   "cell_type": "markdown",
   "id": "4dc95826",
   "metadata": {},
   "source": [
    "## Q11. Create a function calculatePrime that accepts an List of Integers and print all the prime numbers in that list.\n",
    "\n",
    "my_list = [34, 11, 91, 59, 33, 22]  \n",
    "print(calculatePrime(my_list)) # 11 59"
   ]
  },
  {
   "cell_type": "code",
   "execution_count": 12,
   "id": "94837dc1",
   "metadata": {},
   "outputs": [
    {
     "name": "stdout",
     "output_type": "stream",
     "text": [
      "Prime numbers in the list:\n",
      "11\n",
      "59\n"
     ]
    }
   ],
   "source": [
    "def is_prime(num):\n",
    "    if num < 2:\n",
    "        return False\n",
    "    for i in range(2, int(num**0.5) + 1):\n",
    "        if num % i == 0:\n",
    "            return False\n",
    "    return True\n",
    "\n",
    "def calculatePrime(numbers):\n",
    "    # Iterate through the list and print prime numbers\n",
    "    print(\"Prime numbers in the list:\")\n",
    "    for num in numbers:\n",
    "        if is_prime(num):\n",
    "            print(num)\n",
    "\n",
    "# Example usage\n",
    "my_numbers = [34, 11, 91, 59, 33, 22]\n",
    "calculatePrime(my_numbers)\n"
   ]
  }
 ],
 "metadata": {
  "kernelspec": {
   "display_name": "Python 3 (ipykernel)",
   "language": "python",
   "name": "python3"
  },
  "language_info": {
   "codemirror_mode": {
    "name": "ipython",
    "version": 3
   },
   "file_extension": ".py",
   "mimetype": "text/x-python",
   "name": "python",
   "nbconvert_exporter": "python",
   "pygments_lexer": "ipython3",
   "version": "3.9.13"
  }
 },
 "nbformat": 4,
 "nbformat_minor": 5
}
