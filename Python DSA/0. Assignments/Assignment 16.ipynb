{
 "cells": [
  {
   "cell_type": "markdown",
   "id": "ae8fa06d",
   "metadata": {},
   "source": [
    "# Assignment 16"
   ]
  },
  {
   "cell_type": "markdown",
   "id": "bc44dcfa",
   "metadata": {},
   "source": [
    "## Q1. Write a Python program to get the 4th element from the last element of a tuple."
   ]
  },
  {
   "cell_type": "code",
   "execution_count": 1,
   "id": "6a98a535",
   "metadata": {},
   "outputs": [
    {
     "name": "stdout",
     "output_type": "stream",
     "text": [
      "Not enough elements\n",
      "14\n"
     ]
    }
   ],
   "source": [
    "from typing import Tuple\n",
    "\n",
    "def fourthElementFromLast(tup: Tuple) -> None:\n",
    "    if len(tup) < 4:\n",
    "        print(\"Not enough elements\")\n",
    "        return\n",
    "\n",
    "    print(tup[-4])\n",
    "\n",
    "fourthElementFromLast((1, 2, 3))\n",
    "fourthElementFromLast((54, 14, 71, 85, 44))"
   ]
  },
  {
   "cell_type": "markdown",
   "id": "143fc3be",
   "metadata": {},
   "source": [
    "## Q2. Write a Python program to find repeated items in a tuple."
   ]
  },
  {
   "cell_type": "code",
   "execution_count": 2,
   "id": "caa9c525",
   "metadata": {},
   "outputs": [
    {
     "name": "stdout",
     "output_type": "stream",
     "text": [
      "Repeated items = [2, 3, 4]\n"
     ]
    }
   ],
   "source": [
    "from typing import Tuple\n",
    "\n",
    "def findRepeatedElements(t: Tuple):\n",
    "    repeated_elements = []\n",
    "    for i in range(len(t)):\n",
    "        if t[i] in t[i + 1 :] and t[i] not in repeated_elements:\n",
    "            repeated_elements.append(t[i])\n",
    "    return repeated_elements\n",
    "\n",
    "my_tuple = (1, 2, 3, 2, 4, 3, 5, 6, 4)\n",
    "repeated = findRepeatedElements(my_tuple)\n",
    "if len(repeated) > 0:\n",
    "    print(f\"Repeated items = {repeated}\")\n",
    "else:\n",
    "    print(\"No repeated elements found.\")"
   ]
  },
  {
   "cell_type": "markdown",
   "id": "88ec70ac",
   "metadata": {},
   "source": [
    "## Q3. Write a Python program to check whether an element exists within a tuple. Ask something from user, if that exists in tuple, then print “YES” else print “NO”"
   ]
  },
  {
   "cell_type": "code",
   "execution_count": 3,
   "id": "e6227408",
   "metadata": {},
   "outputs": [
    {
     "name": "stdout",
     "output_type": "stream",
     "text": [
      "Enter an element = 5\n",
      "YES\n"
     ]
    }
   ],
   "source": [
    "def elementExistsInTuple(element, t):\n",
    "    return element in t\n",
    "\n",
    "my_tuple = (1, 2, 3, 4, 5)\n",
    "\n",
    "e = int(input(\"Enter an element = \"))\n",
    "\n",
    "if elementExistsInTuple(e, my_tuple):\n",
    "    print(\"YES\")\n",
    "else:\n",
    "    print(\"NO\")"
   ]
  },
  {
   "cell_type": "markdown",
   "id": "91848b17",
   "metadata": {},
   "source": [
    "## Q4. Write a Python program to reverse a tuple."
   ]
  },
  {
   "cell_type": "code",
   "execution_count": 4,
   "id": "ad26fcd1",
   "metadata": {},
   "outputs": [
    {
     "name": "stdout",
     "output_type": "stream",
     "text": [
      "('OK', False, 'Anirudh', 2, 1)\n"
     ]
    }
   ],
   "source": [
    "from typing import Tuple\n",
    "\n",
    "def reverseTuple(tup: Tuple) -> Tuple:\n",
    "    # MEthod 1\n",
    "    # lst = list(tup)\n",
    "    # lst.reverse()\n",
    "    # new_tup = tuple(lst)\n",
    "    # return new_tup\n",
    "\n",
    "    return tuple(reversed(tup))\n",
    "\n",
    "my_tuple = (1, 2, \"Anirudh\", False, \"OK\")\n",
    "\n",
    "r = reverseTuple(my_tuple)\n",
    "print(r)"
   ]
  },
  {
   "cell_type": "markdown",
   "id": "0d9a156e",
   "metadata": {},
   "source": [
    "## Q5. Write a Python program to check if a string has at least one letter and one number. If it has at least one letter and one number then print YES else print NO."
   ]
  },
  {
   "cell_type": "code",
   "execution_count": 5,
   "id": "7cf9ccea",
   "metadata": {},
   "outputs": [
    {
     "name": "stdout",
     "output_type": "stream",
     "text": [
      "True\n"
     ]
    }
   ],
   "source": [
    "def checkNumberAndLetter(my_string: str) -> bool:\n",
    "    isLetter = False\n",
    "    isNumber = False\n",
    "\n",
    "    # Method 1\n",
    "    \"\"\"\n",
    "    for ch in my_string:\n",
    "        if ch.isdigit():\n",
    "            isNumber = True\n",
    "        elif ch.isalpha():\n",
    "            isLetter = True\n",
    "\n",
    "    return isLetter and isNumber\n",
    "    \"\"\"\n",
    "\n",
    "    for ch in my_string:\n",
    "        ascii_code = ord(ch)\n",
    "        if ascii_code >= 48 and ascii_code <= 57:\n",
    "            isNumber = True\n",
    "        elif (ascii_code >= 65 and ascii_code <= 90) or (\n",
    "            ascii_code >= 97 or ascii_code <= 122\n",
    "        ):\n",
    "            isLetter = True\n",
    "\n",
    "    return isLetter and isNumber\n",
    "\n",
    "print(checkNumberAndLetter(\"abc#$#1d\"))"
   ]
  },
  {
   "cell_type": "markdown",
   "id": "c7ca5c67",
   "metadata": {},
   "source": [
    "## Q6. Write a python program to ask a string from user. Then count the number of vowels and number of consonants in that string. (Make sure there are no spaces in string when you enter in terminal and also do not type any special characters except from alphabets)"
   ]
  },
  {
   "cell_type": "code",
   "execution_count": 6,
   "id": "a3c16abf",
   "metadata": {},
   "outputs": [
    {
     "name": "stdout",
     "output_type": "stream",
     "text": [
      "Enter a string (no spaces or special characters): ewfhsduifhifkdjbvjvbgefyrDSGFSSDVSHJSJ\n",
      "Number of vowels: 5\n",
      "Number of consonants: 33\n"
     ]
    }
   ],
   "source": [
    "user_input = input(\"Enter a string (no spaces or special characters): \")\n",
    "\n",
    "# Ensure the input contains only alphabets\n",
    "if user_input.isalpha():\n",
    "    # Convert the input to lowercase for case-insensitive comparison\n",
    "    user_input = user_input.lower()\n",
    "\n",
    "    # Count the number of vowels and consonants\n",
    "    vowels = sum(1 for char in user_input if char in 'aeiou')\n",
    "    consonants = sum(1 for char in user_input if char.isalpha() and char not in 'aeiou')\n",
    "\n",
    "    print(\"Number of vowels:\", vowels)\n",
    "    print(\"Number of consonants:\", consonants)\n",
    "else:\n",
    "    print(\"Please enter a valid string with no spaces or special characters.\")\n"
   ]
  },
  {
   "cell_type": "markdown",
   "id": "c87bfaf3",
   "metadata": {},
   "source": [
    "## Q7. Write a python program to ask a string from user. Then count the number of vowels and number of consonants in that string. (User can type anything including symbols, spaces or anything else)"
   ]
  },
  {
   "cell_type": "code",
   "execution_count": 7,
   "id": "0cc5e9ef",
   "metadata": {},
   "outputs": [
    {
     "name": "stdout",
     "output_type": "stream",
     "text": [
      "3\n",
      "7\n",
      "3\n",
      "7\n"
     ]
    }
   ],
   "source": [
    "from typing import Tuple\n",
    "\n",
    "def count_vowels_and_consonants(string: str) -> Tuple[int, int]:\n",
    "    vowels = 0\n",
    "    consonants = 0\n",
    "    new_string = string.lower()  # Convert to lowercase\n",
    "\n",
    "    for ch in new_string:\n",
    "        if ch.isalpha():\n",
    "            if ch == \"a\" or ch == \"e\" or ch == \"i\" or ch == \"o\" or ch == \"u\":\n",
    "                vowels += 1\n",
    "            else:\n",
    "                consonants += 1\n",
    "\n",
    "    return vowels, consonants\n",
    "\n",
    "def count_vowels_and_consonants_2(string: str) -> Tuple[int, int]:\n",
    "    vowels = 0\n",
    "    consonants = 0\n",
    "    new_string = string.lower()  # Convert to lowercase\n",
    "\n",
    "    for ch in new_string:\n",
    "        if ch.isalpha():\n",
    "            if ch in \"aeiou\":\n",
    "                vowels += 1\n",
    "            else:\n",
    "                consonants += 1\n",
    "\n",
    "    return vowels, consonants\n",
    "\n",
    "v, c = count_vowels_and_consonants(\"321AeI98bvmncxb\")\n",
    "print(v)\n",
    "print(c)\n",
    "\n",
    "v, c = count_vowels_and_consonants_2(\"321AeI98bvmncxb\")\n",
    "print(v)\n",
    "print(c)"
   ]
  },
  {
   "cell_type": "markdown",
   "id": "6458cb46",
   "metadata": {},
   "source": [
    "## Q8. Ask a string from user. Print the string with first 2 letters and last 2 letters.\n",
    "Example string: aeroplane\n",
    "Output: aene\n",
    "If length is less than 3, print “INVALID”"
   ]
  },
  {
   "cell_type": "code",
   "execution_count": 8,
   "id": "7beb47a5",
   "metadata": {},
   "outputs": [
    {
     "name": "stdout",
     "output_type": "stream",
     "text": [
      "code\n",
      "aene\n",
      "Not enough characters\n"
     ]
    }
   ],
   "source": [
    "def printFirstAndLastTwoCh(string: str):\n",
    "    if len(string) < 2:\n",
    "        print(\"Not enough characters\")\n",
    "        return\n",
    "\n",
    "    print(string[:2] + string[-2:])\n",
    "\n",
    "printFirstAndLastTwoCh(\"code\")\n",
    "printFirstAndLastTwoCh(\"aeroplane\")\n",
    "printFirstAndLastTwoCh(\"c\")"
   ]
  },
  {
   "cell_type": "markdown",
   "id": "5c860406",
   "metadata": {},
   "source": [
    "## Q9. Write a python program to only print second half of the string. Ask string from user.\n",
    "Example string: aeroplane\n",
    "Output: lane\n",
    "Example string: delhi\n",
    "Output: hi\n",
    "Example string: pavbhaji\n",
    "Output: aji"
   ]
  },
  {
   "cell_type": "code",
   "execution_count": 9,
   "id": "38e232aa",
   "metadata": {},
   "outputs": [
    {
     "name": "stdout",
     "output_type": "stream",
     "text": [
      "lane\n",
      "hi\n",
      "aji\n"
     ]
    }
   ],
   "source": [
    "def secondHalfString(string: str) -> str:\n",
    "    length = len(string)\n",
    "    return string[length // 2 + 1 :]\n",
    "\n",
    "\n",
    "print(secondHalfString(\"aeroplane\"))\n",
    "print(secondHalfString(\"delhi\"))\n",
    "print(secondHalfString(\"pavbhaji\"))"
   ]
  },
  {
   "cell_type": "markdown",
   "id": "4d44f9ab",
   "metadata": {},
   "source": [
    "## Q10. Ask a string from user. Print how the count of alphabets (a-z or A-Z) in that string"
   ]
  },
  {
   "cell_type": "code",
   "execution_count": 10,
   "id": "1b7b76ff",
   "metadata": {},
   "outputs": [],
   "source": [
    "def countAlphabets(string: str) -> int:\n",
    "    # Method 1\n",
    "    \"\"\"\n",
    "    count = 0\n",
    "    new_string = string.lower()\n",
    "    for ch in new_string:\n",
    "        ascii_code = ord(ch)\n",
    "        if ascii_code >= 97 and ascii_code <= 122:\n",
    "            count += 1\n",
    "    return count\n",
    "    \"\"\"\n",
    "\n",
    "    count = 0\n",
    "    for ch in string:\n",
    "        if ch.isalpha():\n",
    "            count += 1\n",
    "    return count"
   ]
  },
  {
   "cell_type": "markdown",
   "id": "71ce4ce8",
   "metadata": {},
   "source": [
    "## Q11. Ask a string from user. Print how many spaces are there in that string."
   ]
  },
  {
   "cell_type": "code",
   "execution_count": 11,
   "id": "966acb3f",
   "metadata": {},
   "outputs": [
    {
     "name": "stdout",
     "output_type": "stream",
     "text": [
      "2\n"
     ]
    }
   ],
   "source": [
    "def countSpaces(string: str) -> int:\n",
    "    count = 0\n",
    "    for ch in string:\n",
    "        # if ch == \" \":\n",
    "        #     count += 1\n",
    "        if ord(ch) == 32:\n",
    "            count += 1\n",
    "    return count\n",
    "\n",
    "print(countSpaces(\"an jdw hdkjwa\"))"
   ]
  },
  {
   "cell_type": "markdown",
   "id": "f1ecb158",
   "metadata": {},
   "source": [
    "## Q12. Ask a string from user. Print how many characters are there which are not alphabets.\n",
    "Example 1: abc%$#gyhy\n",
    "Output: 3\n",
    "Example 2: AB788&*(^%&*%^&aaaa\n",
    "Output: 13\n",
    "Example 3: 1233^&*(* 0000011\n",
    "Output: 22\n",
    "Example 4: abcdABCD\n",
    "Output: O"
   ]
  },
  {
   "cell_type": "code",
   "execution_count": 12,
   "id": "c9d5012b",
   "metadata": {},
   "outputs": [
    {
     "name": "stdout",
     "output_type": "stream",
     "text": [
      "5\n"
     ]
    }
   ],
   "source": [
    "def countNotAlphabets(string: str) -> int:\n",
    "    # Method 1\n",
    "    \"\"\"\n",
    "    count = 0\n",
    "    for ch in string:\n",
    "        if not ch.isalpha():\n",
    "            count += 1\n",
    "    return count\n",
    "    \"\"\"\n",
    "\n",
    "    new_string = string.lower()\n",
    "    count = 0\n",
    "\n",
    "    for ch in new_string:\n",
    "        ascii_code = ord(ch)\n",
    "        if not (ascii_code >= 97 and ascii_code <= 122):\n",
    "            count += 1\n",
    "    return count\n",
    "\n",
    "print(countNotAlphabets(\"a bv ^&*\"))"
   ]
  },
  {
   "cell_type": "markdown",
   "id": "a081bb78",
   "metadata": {},
   "source": [
    "## Q13. Ask a string from user. Print the count of capital alphabets, small alphabets, spaces, digits and then symbols (whatever are left, count them in symbols)."
   ]
  },
  {
   "cell_type": "code",
   "execution_count": 13,
   "id": "b8de3ed8",
   "metadata": {},
   "outputs": [
    {
     "name": "stdout",
     "output_type": "stream",
     "text": [
      "Enter a string: fgrhn45856-9%%$4389nHGBYDHUJN\n",
      "Count of capital alphabets = 9\n",
      "Count of small alphabets = 6\n",
      "Count of spaces = 0\n",
      "Count of digits = 10\n",
      "Count of symbols = 4\n"
     ]
    }
   ],
   "source": [
    "def countCharacters(string: str):\n",
    "    capital_count = 0\n",
    "    small_count = 0\n",
    "    space_count = 0\n",
    "    digit_count = 0\n",
    "    symbol_count = 0\n",
    "\n",
    "    for char in string:\n",
    "        if char.isupper():\n",
    "            capital_count += 1\n",
    "        elif char.islower():\n",
    "            small_count += 1\n",
    "        elif char.isspace():\n",
    "            space_count += 1\n",
    "        elif char.isdigit():\n",
    "            digit_count += 1\n",
    "        else:\n",
    "            symbol_count += 1\n",
    "\n",
    "    print(f\"Count of capital alphabets = {capital_count}\")\n",
    "    print(f\"Count of small alphabets = {small_count}\")\n",
    "    print(f\"Count of spaces = {space_count}\")\n",
    "    print(f\"Count of digits = {digit_count}\")\n",
    "    print(f\"Count of symbols = {symbol_count}\")\n",
    "\n",
    "\n",
    "user_input = input(\"Enter a string: \")\n",
    "\n",
    "countCharacters(user_input)"
   ]
  },
  {
   "cell_type": "code",
   "execution_count": 14,
   "id": "57c92200",
   "metadata": {},
   "outputs": [
    {
     "name": "stdout",
     "output_type": "stream",
     "text": [
      "Enter a string: fgrhn45856-9%%$4389nHGBYDHUJN\n",
      "Count of capital alphabets = 9\n",
      "Count of small alphabets = 6\n",
      "Count of spaces = 0\n",
      "Count of digits = 10\n",
      "Count of symbols = 4\n"
     ]
    }
   ],
   "source": [
    "def countCharacters(string: str):\n",
    "    capital_count = 0\n",
    "    small_count = 0\n",
    "    space_count = 0\n",
    "    digit_count = 0\n",
    "    symbol_count = 0\n",
    "\n",
    "    for char in string:\n",
    "        if 65 <= ord(char) <= 90:\n",
    "            capital_count += 1\n",
    "        elif 97 <= ord(char) <= 122:\n",
    "            small_count += 1\n",
    "        elif ord(char) == 32:\n",
    "            space_count += 1\n",
    "        elif 48 <= ord(char) <= 57:\n",
    "            digit_count += 1\n",
    "        else:\n",
    "            symbol_count += 1\n",
    "\n",
    "    print(f\"Count of capital alphabets = {capital_count}\")\n",
    "    print(f\"Count of small alphabets = {small_count}\")\n",
    "    print(f\"Count of spaces = {space_count}\")\n",
    "    print(f\"Count of digits = {digit_count}\")\n",
    "    print(f\"Count of symbols = {symbol_count}\")\n",
    "\n",
    "user_input = input(\"Enter a string: \")\n",
    "countCharacters(user_input)"
   ]
  }
 ],
 "metadata": {
  "kernelspec": {
   "display_name": "Python 3 (ipykernel)",
   "language": "python",
   "name": "python3"
  },
  "language_info": {
   "codemirror_mode": {
    "name": "ipython",
    "version": 3
   },
   "file_extension": ".py",
   "mimetype": "text/x-python",
   "name": "python",
   "nbconvert_exporter": "python",
   "pygments_lexer": "ipython3",
   "version": "3.9.13"
  }
 },
 "nbformat": 4,
 "nbformat_minor": 5
}
