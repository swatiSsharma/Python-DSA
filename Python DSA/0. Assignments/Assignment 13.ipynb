{
 "cells": [
  {
   "cell_type": "markdown",
   "id": "0528c2f3",
   "metadata": {},
   "source": [
    "# Assignment 13"
   ]
  },
  {
   "cell_type": "markdown",
   "id": "53e1a011",
   "metadata": {},
   "source": [
    "## Q1. Write a Python code to check if a given list is sorted in ascending order. You don’t have to change the list. Just output YES if list is sorted else NO"
   ]
  },
  {
   "cell_type": "code",
   "execution_count": 1,
   "id": "1d873b5b",
   "metadata": {},
   "outputs": [
    {
     "name": "stdout",
     "output_type": "stream",
     "text": [
      "True\n",
      "False\n"
     ]
    }
   ],
   "source": [
    "from typing import List\n",
    "\n",
    "def isSorted(lst: List[int]) -> bool:\n",
    "    for i in range(0, len(lst) - 1):\n",
    "        if lst[i] > lst[i + 1]:\n",
    "            return False\n",
    "    return True\n",
    "\n",
    "print(isSorted([1, 3, 4, 5, 6, 12, 19]))\n",
    "print(isSorted([22, 3, 4, 5, 6, 12, 19]))"
   ]
  },
  {
   "cell_type": "markdown",
   "id": "09b1a34d",
   "metadata": {},
   "source": [
    "## Q2. Given two sorted lists, write a Python code to merge them into a single sorted list. Don’t use SORT() method."
   ]
  },
  {
   "cell_type": "code",
   "execution_count": 2,
   "id": "d9fbfafe",
   "metadata": {},
   "outputs": [
    {
     "name": "stdout",
     "output_type": "stream",
     "text": [
      "[1, 4, 6, 7, 8, 12, 14, 22, 34, 56, 78, 99, 100]\n"
     ]
    }
   ],
   "source": [
    "from typing import List\n",
    "\n",
    "a = [1, 4, 6, 7, 8, 12, 14, 22]\n",
    "b = [34, 56, 78, 99, 100]\n",
    "\n",
    "i = 0\n",
    "j = 0\n",
    "\n",
    "result = []\n",
    "\n",
    "while i < len(a) and j < len(b):\n",
    "    if a[i] < b[j]:\n",
    "        result.append(a[i])\n",
    "        i += 1\n",
    "    elif b[j] < a[i]:\n",
    "        result.append(b[j])\n",
    "        j += 1\n",
    "    else:\n",
    "        result.append(a[i])\n",
    "        result.append(b[j])\n",
    "        i += 1\n",
    "        j += 1\n",
    "\n",
    "while i < len(a):\n",
    "    result.append(a[i])\n",
    "    i += 1\n",
    "\n",
    "while j < len(b):\n",
    "    result.append(b[j])\n",
    "    j += 1\n",
    "\n",
    "print(result)"
   ]
  },
  {
   "cell_type": "markdown",
   "id": "91a8807d",
   "metadata": {},
   "source": [
    "## Q3. Write a python program to check if the list contains three consecutive common numbers in Python"
   ]
  },
  {
   "cell_type": "code",
   "execution_count": 3,
   "id": "a44fd9df",
   "metadata": {},
   "outputs": [
    {
     "name": "stdout",
     "output_type": "stream",
     "text": [
      "55\n",
      "7\n"
     ]
    }
   ],
   "source": [
    "from typing import List\n",
    "\n",
    "\n",
    "def isConsecutive(my_list: List[int]) -> None:\n",
    "    for i in range(0, len(my_list) - 2):\n",
    "        if my_list[i] == my_list[i + 1] == my_list[i + 2]:\n",
    "            print(my_list[i])\n",
    "\n",
    "\n",
    "isConsecutive([1, 2, 3, 4, 55, 55, 55, 6, 7, 7, 7])\n",
    "isConsecutive([1, 2, 3, 4, 55, 55, 6, 7, 7])"
   ]
  },
  {
   "cell_type": "markdown",
   "id": "2f25ba70",
   "metadata": {},
   "source": [
    "## Q4. Write a Python code to check if a list is a palindrome (reads the same forwards and backwards). Just print “YES” or “NO”"
   ]
  },
  {
   "cell_type": "code",
   "execution_count": 4,
   "id": "7e6d751a",
   "metadata": {},
   "outputs": [
    {
     "name": "stdout",
     "output_type": "stream",
     "text": [
      "True\n",
      "True\n",
      "False\n"
     ]
    }
   ],
   "source": [
    "from typing import List\n",
    "\n",
    "def isPalindrome(lst: List) -> bool:\n",
    "    for i in range(0, len(lst)):\n",
    "        if lst[i] != lst[len(lst) - i - 1]:\n",
    "            return False\n",
    "    return True\n",
    "\n",
    "print(isPalindrome([1, 2, 3, 4, 4, 3, 2, 1]))\n",
    "print(isPalindrome([1, 2, 3, 4, 3, 2, 1]))\n",
    "print(isPalindrome([1, 2, 3, 4, 3, 4, 1]))"
   ]
  },
  {
   "cell_type": "markdown",
   "id": "8deacae2",
   "metadata": {},
   "source": [
    "## Q5. Write a Python code to find the occurrence of each element in a list and print the element with the highest occurrence."
   ]
  },
  {
   "cell_type": "code",
   "execution_count": 5,
   "id": "e52592ab",
   "metadata": {},
   "outputs": [
    {
     "name": "stdout",
     "output_type": "stream",
     "text": [
      "James occurs 2 times\n",
      "1 occurs 4 times\n",
      "2 occurs 3 times\n",
      "3 occurs 1 times\n",
      "154 occurs 3 times\n",
      "65 occurs 1 times\n",
      "44 occurs 1 times\n",
      "5 occurs 1 times\n",
      "Highest frequency = 4\n",
      "Highest frequency element = 1\n"
     ]
    }
   ],
   "source": [
    "my_list = [\"James\", 1, 1, 1, 2, 3, 154, 65, 2, 2, 1, 44, 5, 154, 154, \"James\"]\n",
    "\n",
    "unique_elements = []\n",
    "\n",
    "for i in my_list:\n",
    "    if i not in unique_elements:\n",
    "        unique_elements.append(i)\n",
    "\n",
    "# Print the frequencies and keep track of the largest frequency and that element\n",
    "highest_frequency = 0\n",
    "highest_frequency_element = 0\n",
    "\n",
    "for i in unique_elements:\n",
    "    freq = my_list.count(i)\n",
    "    print(f\"{i} occurs {freq} times\")\n",
    "    if freq > highest_frequency:\n",
    "        highest_frequency = freq\n",
    "        highest_frequency_element = i\n",
    "\n",
    "print(f\"Highest frequency = {highest_frequency}\")\n",
    "print(f\"Highest frequency element = {highest_frequency_element}\")"
   ]
  },
  {
   "cell_type": "markdown",
   "id": "7a169337",
   "metadata": {},
   "source": [
    "## Q6. Write a Python code to find the difference between two lists (i.e. elements present in the first list but not in the second)."
   ]
  },
  {
   "cell_type": "code",
   "execution_count": 6,
   "id": "e082b766",
   "metadata": {},
   "outputs": [
    {
     "name": "stdout",
     "output_type": "stream",
     "text": [
      "1 2 \n",
      "1 2 7 \n"
     ]
    }
   ],
   "source": [
    "from typing import List\n",
    "\n",
    "\n",
    "def difference(lst1: List, lst2: List):\n",
    "    for i in lst1:\n",
    "        if i not in lst2:\n",
    "            print(i, end =' ')\n",
    "    print()\n",
    "\n",
    "\n",
    "difference([1, 2, 3, 4], [3, 4, 5, 6])\n",
    "difference([1, 2, 3, 4, 5, 7], [3, 4, 5, 6, 11, 98])"
   ]
  },
  {
   "cell_type": "markdown",
   "id": "0669745a",
   "metadata": {},
   "source": [
    "## Q7. Write a Python code to find the second largest element in a list without sorting."
   ]
  },
  {
   "cell_type": "code",
   "execution_count": 7,
   "id": "6a8aceb6",
   "metadata": {},
   "outputs": [
    {
     "name": "stdout",
     "output_type": "stream",
     "text": [
      "Second largest element = 74\n"
     ]
    }
   ],
   "source": [
    "from typing import List\n",
    "\n",
    "\n",
    "def secondLargest(nums: List[int]):\n",
    "    if len(nums) < 2:\n",
    "        return \"Not enough elements\"\n",
    "\n",
    "    largest = second_largest = float(\"-inf\")  # -inf means the most negative value\n",
    "    # Can take as the smallest value\n",
    "\n",
    "    for num in nums:\n",
    "        if num > largest:\n",
    "            second_largest = largest\n",
    "            largest = num\n",
    "        elif num > second_largest and num != largest:\n",
    "            second_largest = num\n",
    "\n",
    "    if second_largest == float(\"-inf\"):\n",
    "        return \"There is no second largest element\"\n",
    "    else:\n",
    "        return second_largest\n",
    "\n",
    "\n",
    "nums = [12, 74, -89, 96, -98, -96, 52]\n",
    "result = secondLargest(nums)\n",
    "print(f\"Second largest element = {result}\")"
   ]
  }
 ],
 "metadata": {
  "kernelspec": {
   "display_name": "Python 3 (ipykernel)",
   "language": "python",
   "name": "python3"
  },
  "language_info": {
   "codemirror_mode": {
    "name": "ipython",
    "version": 3
   },
   "file_extension": ".py",
   "mimetype": "text/x-python",
   "name": "python",
   "nbconvert_exporter": "python",
   "pygments_lexer": "ipython3",
   "version": "3.9.13"
  }
 },
 "nbformat": 4,
 "nbformat_minor": 5
}
