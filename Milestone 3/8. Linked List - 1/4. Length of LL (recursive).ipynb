{
 "cells": [
  {
   "cell_type": "markdown",
   "id": "00c7018a",
   "metadata": {},
   "source": [
    "# 4. Length of LL (recursive)\n",
    "\n",
    "Given a linked list, find and return the length of the given linked list recursively.\n",
    "**Input format :**\n",
    "\n",
    "- The first line contains an Integer 't' which denotes the number of test cases or queries to be run. Then the test cases follow.\n",
    "- First and the only line of each test case or query contains elements of the singly linked list separated by a single space. \n",
    "\n",
    "**Remember/Consider :**  \n",
    "\n",
    "- While specifying the list elements for input, -1 indicates the end of the singly linked list and hence, would never be a list element.\n",
    "\n",
    "**Output format :**\n",
    "\n",
    "- For each test case, print the length of the linked list.\n",
    "- Output for every test case will be printed in a separate line.\n",
    "\n",
    "**Constraints :**\n",
    "```\n",
    "1 <= t <= 20\n",
    "0 <= N <= 10^4\n",
    "Time Limit: 1 sec\n",
    "```\n",
    "#### Sample Input and Output\n",
    "- Sample Input 1:\n",
    "```\n",
    "1 \n",
    "3 4 5 2 6 1 9 -1\n",
    "```\n",
    "- Sample Output 1:\n",
    "```\n",
    "7\n",
    "```"
   ]
  },
  {
   "cell_type": "code",
   "execution_count": 1,
   "id": "6ef94476",
   "metadata": {},
   "outputs": [
    {
     "name": "stdout",
     "output_type": "stream",
     "text": [
      "1\n",
      "3 4 5 2 6 1 9 -1\n",
      "7\n"
     ]
    }
   ],
   "source": [
    "from sys import stdin , setrecursionlimit\n",
    "setrecursionlimit(10**6)\n",
    "\n",
    "class Node:\n",
    "    def __init__(self, data):\n",
    "        self.data = data\n",
    "        self.next = None\n",
    "\n",
    "# Taking Input Using Fast I/O\n",
    "def takeInput() :\n",
    "    head = None\n",
    "    tail = None\n",
    "    datas = list(map(int, input().rstrip().split(\" \")))\n",
    "    i = 0\n",
    "    while (i < len(datas)) and (datas[i] != -1) :\n",
    "        data = datas[i]\n",
    "        newNode = Node(data)\n",
    "\n",
    "        if head is None :\n",
    "            head = newNode\n",
    "            tail = newNode\n",
    "        else :\n",
    "            tail.next = newNode\n",
    "            tail = newNode\n",
    "\n",
    "        i += 1\n",
    "\n",
    "    return head\n",
    "\n",
    "\n",
    "# To print the linked list \n",
    "def printLinkedList(head) :\n",
    "    while head is not None :\n",
    "        print(head.data, end = \" \")\n",
    "        head = head.next\n",
    "    print()\n",
    "\n",
    "def lengthRecursive(head):\n",
    "    if head is None:\n",
    "        return 0\n",
    "    return 1 + lengthRecursive(head.next)\n",
    "\n",
    "# Main\n",
    "t = int(input().rstrip())\n",
    "while t > 0 :\n",
    "    head = takeInput()\n",
    "    ans=lengthRecursive(head)\n",
    "    print(ans)\n",
    "    t -= 1"
   ]
  }
 ],
 "metadata": {
  "kernelspec": {
   "display_name": "Python 3 (ipykernel)",
   "language": "python",
   "name": "python3"
  },
  "language_info": {
   "codemirror_mode": {
    "name": "ipython",
    "version": 3
   },
   "file_extension": ".py",
   "mimetype": "text/x-python",
   "name": "python",
   "nbconvert_exporter": "python",
   "pygments_lexer": "ipython3",
   "version": "3.9.13"
  }
 },
 "nbformat": 4,
 "nbformat_minor": 5
}
