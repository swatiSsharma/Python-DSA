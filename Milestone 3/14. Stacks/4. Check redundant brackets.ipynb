{
 "cells": [
  {
   "cell_type": "markdown",
   "id": "3b53a90d",
   "metadata": {},
   "source": [
    "# 4. Check redundant brackets\n",
    "\n",
    "For a given expression in the form of a string, find if there exist any redundant brackets or not. It is given that the expression contains only rounded brackets or parenthesis and the input expression will always be balanced.\n",
    "A pair of the bracket is said to be redundant when a sub-expression is surrounded by unnecessary or needless brackets.\n",
    "\n",
    "**Example:**\n",
    "```\n",
    "Expression: (a+b)+c\n",
    "Since there are no needless brackets, hence, the output must be 'false'.\n",
    "\n",
    "Expression: ((a+b))\n",
    "The expression can be reduced to (a+b). Hence the expression has redundant brackets and the output will be 'true'.\n",
    "```\n",
    "**Note:**\n",
    "\n",
    "> You will not get a partial score for this problem. You will get marks only if all the test cases are passed.\n",
    "\n",
    "**Input Format :**\n",
    "\n",
    "- The first and the only line of input contains a string expression, without any spaces in between.\n",
    "\n",
    "**Output Format :**\n",
    "\n",
    "- The first and the only line of output will print either 'true' or 'false'(without the quotes) denoting whether the input expression contains redundant brackets or not.\n",
    "\n",
    "**Note:**\n",
    "\n",
    "> You are not required to print the expected result. It has already been taken care of.\n",
    "\n",
    "**Constraints:**\n",
    "```\n",
    "0 <= N <= 10^6\n",
    "Where N is the length of the expression.\n",
    "\n",
    "Time Limit: 1 second\n",
    "```\n",
    "#### Sample Input and Output\n",
    "- Sample Input 1:\n",
    "```\n",
    "a+(b)+c \n",
    "```\n",
    "- Sample Output 1:\n",
    "```\n",
    "true\n",
    "```\n",
    "**Explanation:**\n",
    "\n",
    "> The expression can be reduced to a+b+c. Hence, the brackets are redundant.\n",
    "\n",
    "- Sample Input 2:\n",
    "```\n",
    "(a+b)\n",
    "```\n",
    "- Sample Output 2:\n",
    "```\n",
    "false\n",
    "```"
   ]
  },
  {
   "cell_type": "code",
   "execution_count": 1,
   "id": "4f15af18",
   "metadata": {},
   "outputs": [
    {
     "name": "stdout",
     "output_type": "stream",
     "text": [
      "a+(b)+c\n",
      "true\n"
     ]
    }
   ],
   "source": [
    "from sys import stdin\n",
    "\n",
    "def checkRedundantBrackets(expression) :\n",
    "    stack = []\n",
    "    \n",
    "    for char in expression:\n",
    "        if char==')' :\n",
    "            count = 0\n",
    "            while(stack.pop() != '('):\n",
    "                count += 1\n",
    "            if count<=1:\n",
    "                return True\n",
    "        else:\n",
    "            stack.append(char)\n",
    "            \n",
    "    return False\n",
    "\n",
    "#main\n",
    "expression = input().strip()\n",
    "if checkRedundantBrackets(expression) :\n",
    "\tprint(\"true\")\n",
    "else :\n",
    "\tprint(\"false\")"
   ]
  }
 ],
 "metadata": {
  "kernelspec": {
   "display_name": "Python 3 (ipykernel)",
   "language": "python",
   "name": "python3"
  },
  "language_info": {
   "codemirror_mode": {
    "name": "ipython",
    "version": 3
   },
   "file_extension": ".py",
   "mimetype": "text/x-python",
   "name": "python",
   "nbconvert_exporter": "python",
   "pygments_lexer": "ipython3",
   "version": "3.9.13"
  }
 },
 "nbformat": 4,
 "nbformat_minor": 5
}
