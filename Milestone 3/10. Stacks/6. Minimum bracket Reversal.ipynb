{
 "cells": [
  {
   "cell_type": "markdown",
   "id": "b5e995aa",
   "metadata": {},
   "source": [
    "# 6. Minimum bracket Reversal\n",
    "\n",
    "For a given expression in the form of a string, find the minimum number of brackets that can be reversed in order to make the expression balanced. The expression will only contain curly brackets.\n",
    "If the expression can't be balanced, return -1.\n",
    "**Example:**\n",
    "\n",
    "> Expression: {{{{\n",
    "If we reverse the second and the fourth opening brackets, the whole expression will get balanced. Since we have to reverse two brackets to make the expression balanced, the expected output will be 2.\n",
    "\n",
    "> Expression: {{{\n",
    "In this example, even if we reverse the last opening bracket, we would be left with the first opening bracket and hence will not be able to make the expression balanced and the output will be -1.\n",
    "\n",
    "**Input Format :**\n",
    "\n",
    "- The first and the only line of input contains a string expression, without any spaces in between.\n",
    "\n",
    "**Output Format :**\n",
    "\n",
    "- The only line of output will print the number of reversals required to balance the whole expression. Prints -1, otherwise.\n",
    "\n",
    "**Note:**\n",
    "\n",
    "> You don't have to print anything. It has already been taken care of.\n",
    "\n",
    "**Constraints:**\n",
    "```\n",
    "0 <= N <= 10^6\n",
    "Where N is the length of the expression.\n",
    "\n",
    "Time Limit: 1sec\n",
    "```\n",
    "#### Sample Input and Output\n",
    "- Sample Input 1:\n",
    "```\n",
    "{{{\n",
    "```\n",
    "- Sample Output 1:\n",
    "```\n",
    "/-1\n",
    "```\n",
    "- Sample Input 2:\n",
    "```\n",
    "{{{{}}\n",
    "```\n",
    "- Sample Output 2:\n",
    "```\n",
    "1\n",
    "```"
   ]
  },
  {
   "cell_type": "code",
   "execution_count": 1,
   "id": "8e84757d",
   "metadata": {},
   "outputs": [
    {
     "name": "stdout",
     "output_type": "stream",
     "text": [
      "{{{\n",
      "-1\n"
     ]
    }
   ],
   "source": [
    "from sys import stdin\n",
    "\n",
    "def countBracketReversals(inputString) :\n",
    "    if len(inputString)%2 != 0 :\n",
    "        return -1\n",
    "    \n",
    "    stack = []\n",
    "    for char in inputString:\n",
    "        if char=='{':\n",
    "            stack.append(char)\n",
    "        else:\n",
    "            if(len(stack)>0) :\n",
    "                if(stack[-1]=='{') :\n",
    "                    stack.pop()\n",
    "                else:\n",
    "                    stack.append(char)\n",
    "            else:\n",
    "                stack.append(char)\n",
    "    \n",
    "    count = 0\n",
    "    for i in range(len(stack)-1,-1,-2):\n",
    "        if(stack[i]==stack[i-1]):\n",
    "            count += 1\n",
    "        else:\n",
    "            count += 2\n",
    "    \n",
    "    return count\n",
    "        \n",
    "    \n",
    "print(countBracketReversals(input().strip()))"
   ]
  }
 ],
 "metadata": {
  "kernelspec": {
   "display_name": "Python 3 (ipykernel)",
   "language": "python",
   "name": "python3"
  },
  "language_info": {
   "codemirror_mode": {
    "name": "ipython",
    "version": 3
   },
   "file_extension": ".py",
   "mimetype": "text/x-python",
   "name": "python",
   "nbconvert_exporter": "python",
   "pygments_lexer": "ipython3",
   "version": "3.9.13"
  }
 },
 "nbformat": 4,
 "nbformat_minor": 5
}
