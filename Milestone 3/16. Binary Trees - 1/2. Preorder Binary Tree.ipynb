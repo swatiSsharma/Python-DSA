{
 "cells": [
  {
   "cell_type": "markdown",
   "id": "4149bd59",
   "metadata": {},
   "source": [
    "# 2. Preorder Binary Tree\n",
    "\n",
    "You are given the root node of a binary tree.Print its preorder traversal.\n",
    "**Input Format:**\n",
    "\n",
    "- The first and the only line of input will contain the node data, all separated by a single space. Since -1 is used as an indication whether the left or right node data exist for root, it will not be a part of the node data.\n",
    "\n",
    "**Output Format:**\n",
    "\n",
    "- The only line of output prints the preorder traversal of the given binary tree.\n",
    "\n",
    "**Constraints:**\n",
    "```\n",
    "1 <= N <= 10^6\n",
    "Where N is the total number of nodes in the binary tree.\n",
    "\n",
    "Time Limit: 1 sec\n",
    "```\n",
    "#### Sample Input and Output\n",
    "- Sample Input 1:\n",
    "```\n",
    "1 2 3 4 5 6 7 -1 -1 -1 -1 -1 -1 -1 -1\n",
    "```\n",
    "- Sample Output 1:\n",
    "```\n",
    "1 2 4 5 3 6 7\n",
    "```\n",
    "- Sample Input 2:\n",
    "```\n",
    "5 6 10 2 3 -1 -1 -1 -1 -1 9 -1 -1\n",
    "```\n",
    "- Sample Output 1:\n",
    "```\n",
    "5 6 2 3 9 10\n",
    "```"
   ]
  },
  {
   "cell_type": "code",
   "execution_count": 1,
   "id": "f05509e4",
   "metadata": {},
   "outputs": [
    {
     "name": "stdout",
     "output_type": "stream",
     "text": [
      "5 6 10 2 3 -1 -1 -1 -1 -1 9 -1 -1\n",
      "5 6 2 3 9 10 "
     ]
    }
   ],
   "source": [
    "from sys import stdin, setrecursionlimit\n",
    "import queue\n",
    "\n",
    "setrecursionlimit(10 ** 6)\n",
    "\n",
    "class BinaryTreeNode:\n",
    "    def __init__(self, data):\n",
    "        self.data = data\n",
    "        self.left = None\n",
    "        self.right = None\n",
    "\n",
    "def preOrder(root):\n",
    "    if root==None:\n",
    "        return\n",
    "    print(root.data, end=' ')\n",
    "    preOrder(root.left)\n",
    "    preOrder(root.right)\n",
    "\n",
    "def takeInput():\n",
    "    levelOrder = list(map(int, input().strip().split(\" \")))\n",
    "    start = 0\n",
    "    length = len(levelOrder)\n",
    "    root = BinaryTreeNode(levelOrder[start])\n",
    "    start += 1\n",
    "    q = queue.Queue()\n",
    "    q.put(root)\n",
    "    while not q.empty():\n",
    "        currentNode = q.get()\n",
    "        leftChild = levelOrder[start]\n",
    "        start += 1\n",
    "        if leftChild != -1:\n",
    "            leftNode = BinaryTreeNode(leftChild)\n",
    "            currentNode.left =leftNode\n",
    "            q.put(leftNode)\n",
    "        rightChild = levelOrder[start]\n",
    "        start += 1\n",
    "        if rightChild != -1:\n",
    "            rightNode = BinaryTreeNode(rightChild)\n",
    "            currentNode.right =rightNode\n",
    "            q.put(rightNode)\n",
    "    return root\n",
    "\n",
    "# Main\n",
    "root = takeInput()\n",
    "preOrder(root)"
   ]
  }
 ],
 "metadata": {
  "kernelspec": {
   "display_name": "Python 3 (ipykernel)",
   "language": "python",
   "name": "python3"
  },
  "language_info": {
   "codemirror_mode": {
    "name": "ipython",
    "version": 3
   },
   "file_extension": ".py",
   "mimetype": "text/x-python",
   "name": "python",
   "nbconvert_exporter": "python",
   "pygments_lexer": "ipython3",
   "version": "3.9.13"
  }
 },
 "nbformat": 4,
 "nbformat_minor": 5
}
