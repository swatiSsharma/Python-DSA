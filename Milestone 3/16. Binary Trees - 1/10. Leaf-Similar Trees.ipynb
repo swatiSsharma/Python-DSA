{
 "cells": [
  {
   "cell_type": "markdown",
   "id": "7740cd04",
   "metadata": {},
   "source": [
    "# 10. Leaf-Similar Trees\n",
    "\n",
    "Consider all the leaves of a binary tree, from left to right order, the values of those leaves form a leaf value sequence.\n",
    "```\n",
    "                         3\n",
    "                      /     \\\n",
    "                     5       1\n",
    "                    / \\     / \\\n",
    "                   6   2   9   8\n",
    "                      / \\\n",
    "                     7   4\n",
    "```\n",
    "For example, in the given tree above, the leaf value sequence is (6, 7, 4, 9, 8).\n",
    "\n",
    "Two binary trees are considered leaf-similar if their leaf value sequence is the same.\n",
    "\n",
    "Return true if and only if the two given trees with head nodes root1 and root2 are leaf-similar.\n",
    "\n",
    "**Example 1:**\n",
    "```\n",
    "                         3                              3\n",
    "                      /     \\                        /     \\\n",
    "                     5       1                      5       1 \n",
    "                    / \\     / \\                    / \\     / \\\n",
    "                   6   2   9   8                  6   7   4   2\n",
    "                      / \\                                    / \\\n",
    "                     7   4                                  9   8\n",
    "\n",
    "\n",
    "Input: root1 = [3,5,1,6,2,9,8,null,null,7,4], root2 = [3,5,1,6,7,4,2,null,null,null,null,null,null,9,8]\n",
    "Output: true\n",
    "```\n",
    "**Example 2:**\n",
    "```\n",
    "                         1                              1\n",
    "                      /     \\                        /     \\\n",
    "                     2       3                      3       2\n",
    "                     \n",
    "Input: root1 = [1,2,3], root2 = [1,3,2]\n",
    "Output: false\n",
    "``` \n",
    "**Constraints:**\n",
    "```\n",
    "The number of nodes in each tree will be in the range [1, 200].\n",
    "Both of the given trees will have values in the range [0, 200].\n",
    "```"
   ]
  },
  {
   "cell_type": "markdown",
   "id": "047aba77",
   "metadata": {},
   "source": [
    "### Approach - I"
   ]
  },
  {
   "cell_type": "code",
   "execution_count": null,
   "id": "f262b4e0",
   "metadata": {},
   "outputs": [],
   "source": [
    "# Definition for a binary tree node.\n",
    "# class TreeNode:\n",
    "#     def __init__(self, val=0, left=None, right=None):\n",
    "#         self.val = val\n",
    "#         self.left = left\n",
    "#         self.right = right\n",
    "class Solution:\n",
    "    def leafSimilar(self, root1: Optional[TreeNode], root2: Optional[TreeNode]) -> bool:\n",
    "        def helper(node):\n",
    "            if not node:\n",
    "                return []\n",
    "            if not node.left and not node.right:\n",
    "                return [node.val]\n",
    "            return helper(node.left) + helper(node.right)\n",
    "        \n",
    "        return helper(root1) == helper(root2)"
   ]
  },
  {
   "cell_type": "markdown",
   "id": "3e4cd5a3",
   "metadata": {},
   "source": [
    "### Approach - II"
   ]
  },
  {
   "cell_type": "code",
   "execution_count": null,
   "id": "2e63c25f",
   "metadata": {},
   "outputs": [],
   "source": [
    "# Definition for a binary tree node.\n",
    "# class TreeNode:\n",
    "#     def __init__(self, val=0, left=None, right=None):\n",
    "#         self.val = val\n",
    "#         self.left = left\n",
    "#         self.right = right\n",
    "class Solution:\n",
    "    def getLeaves(self,root,res):\n",
    "        if root is None:\n",
    "            return\n",
    "        if root.left is None and root.right is None:\n",
    "            res.append(root.val)\n",
    "        self.getLeaves(root.left,res)\n",
    "        self.getLeaves(root.right,res)\n",
    "        \n",
    "        \n",
    "    def leafSimilar(self, root1: Optional[TreeNode], root2: Optional[TreeNode]) -> bool:\n",
    "        lf1 = list()\n",
    "        self.getLeaves(root1,lf1) \n",
    "        lf2 = list()\n",
    "        self.getLeaves(root2,lf2)\n",
    "        return lf1 == lf2"
   ]
  },
  {
   "cell_type": "markdown",
   "id": "d511c165",
   "metadata": {},
   "source": [
    "### Approach - III"
   ]
  },
  {
   "cell_type": "code",
   "execution_count": null,
   "id": "9e454d53",
   "metadata": {},
   "outputs": [],
   "source": [
    "# Definition for a binary tree node.\n",
    "# class TreeNode:\n",
    "#     def __init__(self, val=0, left=None, right=None):\n",
    "#         self.val = val\n",
    "#         self.left = left\n",
    "#         self.right = right\n",
    "class Solution:\n",
    "    def leafSimilar(self, root1: Optional[TreeNode], root2: Optional[TreeNode]) -> bool:\n",
    "        \n",
    "        def postorderTraversal(root):\n",
    "            if not root:\n",
    "                return []\n",
    "            stack = [root]\n",
    "            res = []\n",
    "            while stack:\n",
    "                node = stack.pop()\n",
    "                if not node.left and not node.right:\n",
    "                    res.append(node.val)\n",
    "                if node.left:\n",
    "                    stack.append(node.left)\n",
    "                if node.right:\n",
    "                    stack.append(node.right)\n",
    "            return res\n",
    "        res1 = postorderTraversal(root1)\n",
    "        res2 = postorderTraversal(root2)\n",
    "        if res1 == res2:\n",
    "            return True\n",
    "        else:\n",
    "            return False"
   ]
  },
  {
   "cell_type": "markdown",
   "id": "8e9f5d09",
   "metadata": {},
   "source": [
    "### Approach - IV"
   ]
  },
  {
   "cell_type": "code",
   "execution_count": null,
   "id": "29ee22c9",
   "metadata": {},
   "outputs": [],
   "source": [
    "# Definition for a binary tree node.\n",
    "# class TreeNode:\n",
    "#     def __init__(self, val=0, left=None, right=None):\n",
    "#         self.val = val\n",
    "#         self.left = left\n",
    "#         self.right = right\n",
    "class Solution:\n",
    "    def leafSimilar(self, root1: Optional[TreeNode], root2: Optional[TreeNode]) -> bool:\n",
    "        l=[]\n",
    "        a=[]\n",
    "        def p(r,l):\n",
    "            if r==None:\n",
    "                return \n",
    "            if r.left==None and r.right==None:\n",
    "                l.append(r.val)\n",
    "            p(r.left,l)\n",
    "            p(r.right,l)\n",
    "            return l\n",
    "        #print(p(root1,l))\n",
    "        p#rint(p(root2,a))    \n",
    "        return p(root1,l)==p(root2,a)       "
   ]
  },
  {
   "cell_type": "markdown",
   "id": "bc296758",
   "metadata": {},
   "source": [
    "### Approach - V"
   ]
  },
  {
   "cell_type": "code",
   "execution_count": null,
   "id": "2c22d373",
   "metadata": {},
   "outputs": [],
   "source": [
    "# Definition for a binary tree node.\n",
    "# class TreeNode:\n",
    "#     def __init__(self, val=0, left=None, right=None):\n",
    "#         self.val = val\n",
    "#         self.left = left\n",
    "#         self.right = right\n",
    "class Solution:\n",
    "\n",
    "    def getLeafs(self, root: TreeNode, leafs=None):\n",
    "        if leafs is None:\n",
    "            leafs = list()\n",
    "        if root.left is None and root.right is None:\n",
    "            leafs.append(root.val)\n",
    "        else:\n",
    "            if root.left is not None:\n",
    "                self.getLeafs(root.left, leafs)\n",
    "            if root.right is not None:\n",
    "                self.getLeafs(root.right, leafs)\n",
    "        return leafs\n",
    "\n",
    "    def leafSimilar(self, root1: Optional[TreeNode], root2: Optional[TreeNode]) -> bool:\n",
    "        return self.getLeafs(root1) == self.getLeafs(root2)"
   ]
  },
  {
   "cell_type": "markdown",
   "id": "910da5b2",
   "metadata": {},
   "source": [
    "### Approach - VI"
   ]
  },
  {
   "cell_type": "code",
   "execution_count": null,
   "id": "4a984bad",
   "metadata": {},
   "outputs": [],
   "source": [
    "# Definition for a binary tree node.\n",
    "# class TreeNode:\n",
    "#     def __init__(self, val=0, left=None, right=None):\n",
    "#         self.val = val\n",
    "#         self.left = left\n",
    "#         self.right = right\n",
    "class Solution:\n",
    "    def leafSimilar(self, root1: Optional[TreeNode], root2: Optional[TreeNode]) -> bool:\n",
    "        def leafs(root): return [] if not root else [root.val] if not root.left and not root.right else leafs(root.left) + leafs(root.right)\n",
    "        return leafs(root1) == leafs(root2)"
   ]
  },
  {
   "cell_type": "markdown",
   "id": "99591f0e",
   "metadata": {},
   "source": [
    "### Approach - VII"
   ]
  },
  {
   "cell_type": "code",
   "execution_count": null,
   "id": "7fac8004",
   "metadata": {},
   "outputs": [],
   "source": [
    "# Definition for a binary tree node.\n",
    "# class TreeNode:\n",
    "#     def __init__(self, val=0, left=None, right=None):\n",
    "#         self.val = val\n",
    "#         self.left = left\n",
    "#         self.right = right\n",
    "class Solution:\n",
    "    def leafSimilar(self, root1: Optional[TreeNode], root2: Optional[TreeNode]) -> bool:\n",
    "        \n",
    "        def postorderTraversal(root):\n",
    "            if not root:\n",
    "                return []\n",
    "            stack = [root]\n",
    "            res = []\n",
    "            while stack:\n",
    "                node = stack.pop()\n",
    "                if not node.left and not node.right:\n",
    "                    res.append(node.val)\n",
    "                if node.left:\n",
    "                    stack.append(node.left)\n",
    "                if node.right:\n",
    "                    stack.append(node.right)\n",
    "            return res\n",
    "        res1 = postorderTraversal(root1)\n",
    "        res2 = postorderTraversal(root2)\n",
    "        if res1 == res2:\n",
    "            return True\n",
    "        else:\n",
    "            return False"
   ]
  }
 ],
 "metadata": {
  "kernelspec": {
   "display_name": "Python 3 (ipykernel)",
   "language": "python",
   "name": "python3"
  },
  "language_info": {
   "codemirror_mode": {
    "name": "ipython",
    "version": 3
   },
   "file_extension": ".py",
   "mimetype": "text/x-python",
   "name": "python",
   "nbconvert_exporter": "python",
   "pygments_lexer": "ipython3",
   "version": "3.9.13"
  }
 },
 "nbformat": 4,
 "nbformat_minor": 5
}
