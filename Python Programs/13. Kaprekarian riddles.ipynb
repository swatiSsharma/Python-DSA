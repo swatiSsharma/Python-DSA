{
 "cells": [
  {
   "cell_type": "markdown",
   "id": "6780a9ed",
   "metadata": {},
   "source": [
    "# Kaprekarian riddles\n",
    "\n",
    "**Problem Statement**\n",
    "\n",
    "Kaprekar numbers are a special kind of numbers whose repeated sum of digits always add up to either 1 or 9. For example:\n",
    "6174\n",
    "=> 6 + 1 + 7 + 4 = 18\n",
    "=> 1 + 8 = 9\n",
    "As you can see, this was done in two steps.\n",
    "Your task is to complete the function with the definition solve_kaprekar(number: int, max_steps: int), which returns whether the function comes out to be a Kaprekar Number within the number of steps less than or equal to max_steps, and return either True or False.\n",
    "\n",
    "**Sample Input and Output**\n",
    "> Test Case 1:  \n",
    "```\n",
    "Input: number=1, max_steps=3\n",
    "Output: True\n",
    "Explanation: 1 is a Kaprekar number since the sum of its digits is 1. So we return True\n",
    "```\n",
    "> Test Case 2:\n",
    "```\n",
    "Input: number=1674, max_steps=1\n",
    "Output: False\n",
    "Explanation: 1+6+7+4 = 18 (Step 1)\n",
    "1 step has been completed, and the sum of digits hasn’t been 1 or 9. So we stop execution here, and return False\n",
    "\n",
    "```\n",
    "> Test Case 3:\n",
    "```\n",
    "Input: number=93, max_steps=4\n",
    "Output: False\n",
    "Explanation: 9+3=12 (Step 1), 1+2 = 3 (Step 2)\n",
    "We can’t move anymore since the sum is a single digit number now. So we return False\n",
    "```"
   ]
  },
  {
   "cell_type": "code",
   "execution_count": 1,
   "id": "21f71c40",
   "metadata": {},
   "outputs": [
    {
     "name": "stdout",
     "output_type": "stream",
     "text": [
      "False\n"
     ]
    }
   ],
   "source": [
    "def solve_kaprekar(number, max_steps) -> bool:\n",
    "    to_solve = int(number)\n",
    "    steps = 0\n",
    "    while to_solve > 9 and steps < max_steps:\n",
    "        to_solve = sum([int(x) for x in list(str(to_solve))])\n",
    "        steps += 1\n",
    "     \n",
    "    return to_solve in [1, 9]\n",
    "\n",
    "num = 93\n",
    "maxSteps = 4\n",
    "print(solve_kaprekar(num, maxSteps))"
   ]
  }
 ],
 "metadata": {
  "kernelspec": {
   "display_name": "Python 3 (ipykernel)",
   "language": "python",
   "name": "python3"
  },
  "language_info": {
   "codemirror_mode": {
    "name": "ipython",
    "version": 3
   },
   "file_extension": ".py",
   "mimetype": "text/x-python",
   "name": "python",
   "nbconvert_exporter": "python",
   "pygments_lexer": "ipython3",
   "version": "3.9.13"
  }
 },
 "nbformat": 4,
 "nbformat_minor": 5
}
