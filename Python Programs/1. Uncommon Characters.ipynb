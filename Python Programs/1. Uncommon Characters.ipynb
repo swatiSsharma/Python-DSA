{
 "cells": [
  {
   "cell_type": "markdown",
   "id": "59c67c05",
   "metadata": {},
   "source": [
    "# Uncommon Characters\n",
    "\n",
    "Given two strings A and B. Find the characters that are not common in the two strings.\n",
    "\n",
    "**NOTE** : Return the string in sorted order\n",
    "\n",
    "**Input Format**:  \n",
    "```\n",
    "A: str\n",
    "B: str\n",
    "```\n",
    "**Output Format**: \n",
    "```\n",
    "str\n",
    "```\n",
    "**Sample Input**\n",
    "```\n",
    "A = 'interviewbit'\n",
    "B = 'scaler'\n",
    "```\n",
    "**Sample Output**\n",
    "```\n",
    "abcilnstvw\n",
    "```\n",
    "**Explanation**\n",
    "```\n",
    "The characters 'a','b','c','i','l','n','s','t','v','w' are either present in A or B, but not in both.\n",
    "```"
   ]
  },
  {
   "cell_type": "code",
   "execution_count": 1,
   "id": "4ea46044",
   "metadata": {},
   "outputs": [
    {
     "name": "stdout",
     "output_type": "stream",
     "text": [
      "abcilnstvw\n"
     ]
    }
   ],
   "source": [
    "def find_non_common_characters(a, b):\n",
    "  # write your code here\n",
    "    a_not_in_b = set(a) - set(b)\n",
    "    b_not_in_a = set(b) - set(a)\n",
    "    not_common = sorted(a_not_in_b.union(b_not_in_a))\n",
    "  \n",
    "    return ''.join(not_common)\n",
    "\n",
    "a = \"interviewbit\"\n",
    "b = \"scaler\"\n",
    "non_common_sorted = find_non_common_characters(a, b)\n",
    "print(non_common_sorted)\n"
   ]
  }
 ],
 "metadata": {
  "kernelspec": {
   "display_name": "Python 3 (ipykernel)",
   "language": "python",
   "name": "python3"
  },
  "language_info": {
   "codemirror_mode": {
    "name": "ipython",
    "version": 3
   },
   "file_extension": ".py",
   "mimetype": "text/x-python",
   "name": "python",
   "nbconvert_exporter": "python",
   "pygments_lexer": "ipython3",
   "version": "3.9.13"
  }
 },
 "nbformat": 4,
 "nbformat_minor": 5
}
