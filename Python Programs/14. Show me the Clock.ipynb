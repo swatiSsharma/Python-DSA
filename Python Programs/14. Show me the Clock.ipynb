{
 "cells": [
  {
   "cell_type": "markdown",
   "id": "16e04061",
   "metadata": {},
   "source": [
    "# Show me the Clock\n",
    "\n",
    "**Problem Statement**  \n",
    "\n",
    "Write a program that prints the sand clock pattern. A sand clock pattern looks like:\n",
    "```\n",
    " * * * * * * * * * *\n",
    "  *               *\n",
    "   *             *\n",
    "    *           *\n",
    "     *         *\n",
    "      *       *\n",
    "       *     *\n",
    "        *   *\n",
    "         * *\n",
    "         * *\n",
    "        *   *\n",
    "       *     *\n",
    "      *       *\n",
    "     *         *\n",
    "    *           *\n",
    "   *             *\n",
    "  *               *\n",
    " * * * * * * * * * *\n",
    " ```\n",
    "Given a length for one half of the sand clock (representing the number of rows each half takes), construct a sand clock.\n",
    "Your task is to complete the function print_sandclock with the definition print_sandclock(length) so that it does the same. The argument length is of type int\n",
    "\n",
    "**Sample Input and Output**\n",
    "\n",
    "> Test Case 1:\n",
    "```\n",
    "Input: 5  \n",
    "Output:  \n",
    "\n",
    "   * * * * *\n",
    "\t*     *\n",
    "\t *   *\n",
    "\t  * *\n",
    "\t  * *\n",
    "\t *   *\n",
    "\t*     *\n",
    "   * * * * *\n",
    "```"
   ]
  },
  {
   "cell_type": "markdown",
   "id": "3a061767",
   "metadata": {},
   "source": [
    "## Intuition:\n",
    "\n",
    "The intuition lies in the fact that the middle elements never converge to one dot. Also, another observation is that the lower half is simply the reverse of the upper half, or vice versa."
   ]
  },
  {
   "cell_type": "code",
   "execution_count": 1,
   "id": "de285c53",
   "metadata": {},
   "outputs": [
    {
     "name": "stdout",
     "output_type": "stream",
     "text": [
      "* * * *\n",
      "*     *\n",
      " *   *\n",
      "  * *\n",
      "  * *\n",
      " *   *\n",
      "*     *\n",
      "* * * *\n",
      "None\n"
     ]
    }
   ],
   "source": [
    "def print_sandclock(length):\n",
    "    # Print first line\n",
    "    print(\" \".join([\"*\"]*(length-1)))\n",
    "\n",
    "    # Upper half of the clock\n",
    "    for row in range(2, length): # 2 is kept here because at the middle there are two characters\n",
    "        # This loop is for spacing before the stars\n",
    "        for k in range(2, row):\n",
    "            print(\" \", end=\"\")\n",
    "        print(\"* \", end=\"\")\n",
    "        # This loop is for the spaces after the first star\n",
    "        for k in reversed(range(2, length-row+1)):\n",
    "            print(\"  \", end=\"\") # Note the printed double space here\n",
    "        print(\"*\", end=\"\\n\") # The star is printed, next line now\n",
    "\n",
    "    # Lower half of the clock - see how we can add only reverse to the above logic and complete the lower portion\n",
    "    for row in reversed(range(2, length)):\n",
    "        for k in range(2, row):\n",
    "            print(\" \", end=\"\")\n",
    "        print(\"* \", end=\"\")\n",
    "        # This loop is for the spaces after the first star\n",
    "        for k in range(2, length-row+1): # reversed(reversed(range(...))) is the same as range(...)\n",
    "            print(\"  \", end=\"\") # Note the printed double space here\n",
    "        print(\"*\", end=\"\\n\") # The star is printed, next line now\n",
    "    # Print last line\n",
    "    print(\" \".join([\"*\"]*(length-1)))\n",
    "    \n",
    "num = 5\n",
    "print(print_sandclock(num))"
   ]
  }
 ],
 "metadata": {
  "kernelspec": {
   "display_name": "Python 3 (ipykernel)",
   "language": "python",
   "name": "python3"
  },
  "language_info": {
   "codemirror_mode": {
    "name": "ipython",
    "version": 3
   },
   "file_extension": ".py",
   "mimetype": "text/x-python",
   "name": "python",
   "nbconvert_exporter": "python",
   "pygments_lexer": "ipython3",
   "version": "3.9.13"
  }
 },
 "nbformat": 4,
 "nbformat_minor": 5
}
