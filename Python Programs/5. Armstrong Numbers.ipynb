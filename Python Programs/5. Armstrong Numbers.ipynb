{
 "cells": [
  {
   "cell_type": "markdown",
   "id": "03210827",
   "metadata": {},
   "source": [
    "# Armstrong Numbers\n",
    "\n",
    "For a given 3 digit number, find whether it is armstrong number or not. An Armstrong number of three digits is an integer such that the sum of the cubes of its digits is equal to the number itself. Return \"Yes\" if it is a armstrong number else return \"No'\n",
    "\n",
    "**Sample Input:**\n",
    "```\n",
    "371\n",
    "```\n",
    "**Sample Output:**\n",
    "```\n",
    "Yes\n",
    "```\n",
    "**Sample Explanation:**  \n",
    "```\n",
    "313 + 7^3 + 13 = 371\n",
    "hence, sum of cube of digits is equal to number itself i.e. 371 is an Armstrong number\n",
    "```"
   ]
  },
  {
   "cell_type": "code",
   "execution_count": 1,
   "id": "91dd8c40",
   "metadata": {},
   "outputs": [
    {
     "data": {
      "text/plain": [
       "'Yes'"
      ]
     },
     "execution_count": 1,
     "metadata": {},
     "output_type": "execute_result"
    }
   ],
   "source": [
    "def check_armstrong(num):\n",
    "  # write your code here\n",
    "  str_num = str(num)\n",
    "  \n",
    "  num_digits = len(str_num)\n",
    "  \n",
    "  armstrong_sum = sum(int(digit)**num_digits for digit in str_num)\n",
    "  \n",
    "  if armstrong_sum == num:\n",
    "    return 'Yes'\n",
    "  else:\n",
    "    return 'No'\n",
    "\n",
    "check_armstrong(371)"
   ]
  }
 ],
 "metadata": {
  "kernelspec": {
   "display_name": "Python 3 (ipykernel)",
   "language": "python",
   "name": "python3"
  },
  "language_info": {
   "codemirror_mode": {
    "name": "ipython",
    "version": 3
   },
   "file_extension": ".py",
   "mimetype": "text/x-python",
   "name": "python",
   "nbconvert_exporter": "python",
   "pygments_lexer": "ipython3",
   "version": "3.9.13"
  }
 },
 "nbformat": 4,
 "nbformat_minor": 5
}
