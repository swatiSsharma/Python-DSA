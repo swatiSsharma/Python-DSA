{
 "cells": [
  {
   "cell_type": "markdown",
   "id": "8d847e9e",
   "metadata": {},
   "source": [
    "# Tail match\n",
    "\n",
    "**Problem Statement**  \n",
    "\n",
    "Given a list of integers, group all numbers which end with the same digit and return as a dictionary. The keys of the dictionary will be the last digit and value of dictionary will be a list of numbers. If given list is empty return -1.\n",
    "\n",
    "**Sample Input and Output**\n",
    "> Test Case 1:\n",
    "```\n",
    "Input - [5, 10, 15, 4, 50]\n",
    "Output - {5: [5,15], 0: [10, 50], 4: [4]}\n",
    "Explanation - 5 and 15 end with 5, so they are grouped together. 10 and 50 end with 0. 4 ends with 4.\n",
    "```\n",
    "> Test Case 2:\n",
    "```\n",
    "Input - [22,3,22,2,71,11]\n",
    "Output - {2: [22, 22, 2], 3: [3], 1: [71, 11]}\n",
    "Explanation - 22, 22 and 2 end with 2, so they are grouped together. 3 ends with 3. 71 and 11 end with 1.\n",
    "```"
   ]
  },
  {
   "cell_type": "markdown",
   "id": "afcc1982",
   "metadata": {},
   "source": [
    "## Intuition:\n",
    "\n",
    "To find the last digit of a number N, we can do N%10.\n",
    "We then check if we have stored any numbers with that last digit already. If so, we just add our number to that list. If not we create a new list with our number in it."
   ]
  },
  {
   "cell_type": "code",
   "execution_count": 1,
   "id": "b8b65802",
   "metadata": {},
   "outputs": [
    {
     "name": "stdout",
     "output_type": "stream",
     "text": [
      "{5: [5, 15], 0: [10, 50], 4: [4]}\n",
      "{2: [22, 22, 2], 3: [3], 1: [71, 11]}\n"
     ]
    }
   ],
   "source": [
    "def group_on_tail(data):\n",
    "    n = len(data)\n",
    "    ans = {}\n",
    "    if n==0:\n",
    "        return -1\n",
    "    for i in range(n):\n",
    "        # Checking if the number's last digit is already a key in our dictionary\n",
    "        if data[i]%10 in ans:\n",
    "            ans[data[i]%10].append(data[i]) # Adding number to existing list\n",
    "        else:\n",
    "            ans[data[i]%10] = [data[i]] # Creating a new list with last digit as key\n",
    "    return ans\n",
    "\n",
    "lst = [5, 10, 15, 4, 50]\n",
    "print(group_on_tail(lst))\n",
    "\n",
    "lst = [22,3,22,2,71,11]\n",
    "print(group_on_tail(lst))"
   ]
  }
 ],
 "metadata": {
  "kernelspec": {
   "display_name": "Python 3 (ipykernel)",
   "language": "python",
   "name": "python3"
  },
  "language_info": {
   "codemirror_mode": {
    "name": "ipython",
    "version": 3
   },
   "file_extension": ".py",
   "mimetype": "text/x-python",
   "name": "python",
   "nbconvert_exporter": "python",
   "pygments_lexer": "ipython3",
   "version": "3.9.13"
  }
 },
 "nbformat": 4,
 "nbformat_minor": 5
}
