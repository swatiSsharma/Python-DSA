{
 "cells": [
  {
   "cell_type": "markdown",
   "id": "3d9d4dba",
   "metadata": {},
   "source": [
    "# First 6 Elements\n",
    "\n",
    "### Problem Description\n",
    "\n",
    "Given an array starting from x to y (x and y both included).\n",
    "Perform the following operations on the array:\n",
    "1. Extract the first 6 numbers from the array. If the length of the array is less than 6, return the sum of array.\n",
    "2. Reshape the selected numbers to a matrix of 3 rows and 2 columns.\n",
    "3. Vertically split the matrix into equal parts.\n",
    "4. Now, stack the second and third part of the matrix vertically.\n",
    "5. Return the transpose of stacked array.\n",
    "\n",
    "### Input Format -\n",
    "× and y separated by space.\n",
    "### Output Format -\n",
    "array\n",
    "### Sample Input and Output\n",
    "> Sample Input- 10 22\n",
    "  Sample Output - [[12 14] [13 15]]\n",
    "#### Sample  Explanation\n",
    "- Given an array array ([10, 11, 12, 13, 14, 15, 16, 17, 18, 19, 20, 21, 22])\n",
    "- Extract the first six elements array ([10, 11, 12, 13, 14, 15]) .\n",
    "- Reshape it into 3 rows and 2 columns\n",
    "array (L[[10,11],[12,13],[14,15]])\n",
    "\n",
    "- Vertically split the array into equal parts [array([[10, 11]]), array([[12, 13]]), array([[14, 15]])]\n",
    "- Stack the second and third part of the matrix vertically array([[12, 13],[14, 15]])\n",
    "- Return the transpose of the array [[12 14],[13 15]]\n",
    "                                     "
   ]
  },
  {
   "cell_type": "code",
   "execution_count": 1,
   "id": "e77f27bf",
   "metadata": {},
   "outputs": [
    {
     "name": "stdout",
     "output_type": "stream",
     "text": [
      "[[12 14]\n",
      " [13 15]]\n"
     ]
    }
   ],
   "source": [
    "\n",
    "import numpy as np\n",
    "\n",
    "def process_array(x, y):\n",
    "    # Create an array starting from x to y (both inclusive)\n",
    "    arr = np.arange(x, y + 1)\n",
    "\n",
    "    # Step 1: Extract the first 6 numbers from the array or sum the entire array if length is less than 6\n",
    "    if len(arr) >= 6:\n",
    "        arr = arr[:6]\n",
    "    else:\n",
    "        return np.sum(arr)\n",
    "\n",
    "    # Step 2: Reshape the selected numbers to a 3x2 matrix\n",
    "    arr = arr.reshape(3, 2)\n",
    "\n",
    "    # Step 3: Vertically split the matrix into equal parts\n",
    "    split_point = arr.shape[0] // 2\n",
    "    part1, part2 = np.split(arr, [split_point])\n",
    "\n",
    "    # Step 4: Stack the second and third part of the matrix vertically\n",
    "    stacked = np.vstack((part2))\n",
    "\n",
    "    # Step 5: Return the transpose of the stacked array\n",
    "    return stacked.T\n",
    "\n",
    "# Sample Input\n",
    "x, y = 10, 22\n",
    "result = process_array(x, y)\n",
    "print(result)"
   ]
  }
 ],
 "metadata": {
  "kernelspec": {
   "display_name": "Python 3 (ipykernel)",
   "language": "python",
   "name": "python3"
  },
  "language_info": {
   "codemirror_mode": {
    "name": "ipython",
    "version": 3
   },
   "file_extension": ".py",
   "mimetype": "text/x-python",
   "name": "python",
   "nbconvert_exporter": "python",
   "pygments_lexer": "ipython3",
   "version": "3.9.13"
  }
 },
 "nbformat": 4,
 "nbformat_minor": 5
}
