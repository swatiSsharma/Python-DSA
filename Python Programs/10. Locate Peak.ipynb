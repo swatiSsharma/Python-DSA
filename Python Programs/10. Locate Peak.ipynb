{
 "cells": [
  {
   "cell_type": "markdown",
   "id": "04aa51a5",
   "metadata": {},
   "source": [
    "# Locate Peak\n",
    "\n",
    "**Problem Statement**\n",
    "Given a list of integers, find the index of the maximum value. If there are two maximums, return index of the first one. If given list is empty return -1. Do not use the index() method.\n",
    "\n",
    "**Sample Input and Output**\n",
    "> Test Case 1:\n",
    "```\n",
    "Input - [5, 10, 15, 4, 6]\n",
    "Output - 2\n",
    "Explanation - The maximum number is 15. It’s index is 2.\n",
    "```\n",
    "> Test Case 2:\n",
    "```\n",
    "Input - [22,3,22,2,7,11]\n",
    "Output - 0\n",
    "Explanation - There are two maximums with value 22. The first one has index 0.\n",
    "```"
   ]
  },
  {
   "cell_type": "markdown",
   "id": "986889de",
   "metadata": {},
   "source": [
    "## Intuition:\n",
    "\n",
    "The idea is to move through the list and keep updating our knowledge of the maximum number as we go. We will also keep track of the index where we found the previous biggest number."
   ]
  },
  {
   "cell_type": "code",
   "execution_count": 1,
   "id": "79c25525",
   "metadata": {},
   "outputs": [
    {
     "name": "stdout",
     "output_type": "stream",
     "text": [
      "2\n",
      "0\n"
     ]
    }
   ],
   "source": [
    "def locate_peak(data):\n",
    "    n = len(data)\n",
    "    if n==0:\n",
    "        return -1\n",
    "    # peak will store the biggest number known till that index. Setting it to the first number initially.\n",
    "    peak = data[0] \n",
    "    # idx will store the index of the previous biggest number. It doesn't get changed if we encounter a  # number equal to the current biggest number.\n",
    "    idx = 0\n",
    "    for i in range(1,n):\n",
    "        if data[i] > peak:\n",
    "            peak = data[i]\n",
    "            idx = i\n",
    "    return idx\n",
    "lst = [5, 10, 15, 4, 6]\n",
    "print(locate_peak(lst))\n",
    "lst = [22,3,22,2,7,11]\n",
    "print(locate_peak(lst))"
   ]
  }
 ],
 "metadata": {
  "kernelspec": {
   "display_name": "Python 3 (ipykernel)",
   "language": "python",
   "name": "python3"
  },
  "language_info": {
   "codemirror_mode": {
    "name": "ipython",
    "version": 3
   },
   "file_extension": ".py",
   "mimetype": "text/x-python",
   "name": "python",
   "nbconvert_exporter": "python",
   "pygments_lexer": "ipython3",
   "version": "3.9.13"
  }
 },
 "nbformat": 4,
 "nbformat_minor": 5
}
