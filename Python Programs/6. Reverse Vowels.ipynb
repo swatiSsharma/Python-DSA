{
 "cells": [
  {
   "cell_type": "markdown",
   "id": "b3260ad9",
   "metadata": {},
   "source": [
    "# Reverse Vowels\n",
    "\n",
    "Write a Python function reverse_function(s) that takes a string s as input and returns a new string whre the vowels in s are reversed, while the non-vowels/consonants remains in their original positions\n",
    "1) The reversal should only occur between the first and last vowels in each continuous sequences of vowels\n",
    "2) If there are no vowels in s, the function should return the original string s\n",
    "3) If there is only one vowel in s, the function should return the original string s\n",
    "\n",
    "**Input Format**:  \n",
    "```\n",
    "s: string\n",
    "```\n",
    "**Output Format**: \n",
    "```\n",
    "string\n",
    "```\n",
    "**Sample Input**\n",
    "```\n",
    "leetcode\n",
    "```\n",
    "**Sample Output**\n",
    "```\n",
    "leotcede\n",
    "```\n",
    "**Explanation**\n",
    "```\n",
    "In the string leetcode the vowels in sequence are 'eeoe', So, if we reverse them we get 'eoee'. These vowels are then placed as per the original sequence of vowels in the string.\n",
    "```"
   ]
  },
  {
   "cell_type": "code",
   "execution_count": 1,
   "id": "cd207fe0",
   "metadata": {},
   "outputs": [
    {
     "name": "stdout",
     "output_type": "stream",
     "text": [
      "leotcede\n"
     ]
    }
   ],
   "source": [
    "def reverse_vowels(s):\n",
    "    vowels = 'aeiouAEIOU'\n",
    "    actual_v = ''\n",
    "    \n",
    "    for c in s:\n",
    "        if c in vowels:\n",
    "            actual_v += c\n",
    "    \n",
    "    reverse_v = actual_v[::-1]\n",
    "    \n",
    "    i = 0\n",
    "    ans = ''\n",
    "    \n",
    "    for c in s:\n",
    "        if c in vowels:\n",
    "            ans += reverse_v[i]\n",
    "            i += 1\n",
    "        else:\n",
    "            ans += c\n",
    "    return ans\n",
    "\n",
    "s = 'leetcode'\n",
    "print(reverse_vowels(s))"
   ]
  }
 ],
 "metadata": {
  "kernelspec": {
   "display_name": "Python 3 (ipykernel)",
   "language": "python",
   "name": "python3"
  },
  "language_info": {
   "codemirror_mode": {
    "name": "ipython",
    "version": 3
   },
   "file_extension": ".py",
   "mimetype": "text/x-python",
   "name": "python",
   "nbconvert_exporter": "python",
   "pygments_lexer": "ipython3",
   "version": "3.9.13"
  }
 },
 "nbformat": 4,
 "nbformat_minor": 5
}
