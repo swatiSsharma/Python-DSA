{
 "cells": [
  {
   "cell_type": "markdown",
   "id": "dc969b4e",
   "metadata": {},
   "source": [
    "# Rotate the Array\n",
    "\n",
    "**Problem Statement**\n",
    "\n",
    "Given an array in form of a matrix of size (n, n), rotate the matrix clockwise by 90°\n",
    "\n",
    "**Input Format**\n",
    "```\n",
    "A 2d numpy array\n",
    "```\n",
    "**Output Format**\n",
    "```\n",
    "A 2d numpy array\n",
    "```\n",
    "\n",
    "**Sample Input and Output**\n",
    "\n",
    "> Sample Input:\n",
    "```\n",
    "[[1 2 3]\n",
    " [4 5 6]\n",
    " [7 8 9]]\n",
    "```\n",
    "> Sample Output:\n",
    "```\n",
    "[[7 4 1]\n",
    " [8 5 2]\n",
    " [9 6 3]]\n",
    "```\n",
    "Note: Try Transpose / reversing."
   ]
  },
  {
   "cell_type": "code",
   "execution_count": 1,
   "id": "6aa4b988",
   "metadata": {},
   "outputs": [
    {
     "name": "stdout",
     "output_type": "stream",
     "text": [
      "[[7 4 1]\n",
      " [8 5 2]\n",
      " [9 6 3]]\n"
     ]
    }
   ],
   "source": [
    "import numpy as np\n",
    "def rotate_img(mat):\n",
    "    '''\n",
    "    mat --> A 2D numpy array\n",
    "    output --> A 2D numpy array is expected to be returned \n",
    "    '''\n",
    "    # Transposing the matrix\n",
    "    mat1 = mat.T\n",
    "    # slicing the matrix to reverse\n",
    "    ans = mat1[:,::-1]\n",
    "    \n",
    "    return ans\n",
    "\n",
    "mat = np.array([[1, 2, 3],[4, 5, 6],[7, 8, 9]])   #np.array(eval(input()))\n",
    "print(rotate_img(mat))"
   ]
  }
 ],
 "metadata": {
  "kernelspec": {
   "display_name": "Python 3 (ipykernel)",
   "language": "python",
   "name": "python3"
  },
  "language_info": {
   "codemirror_mode": {
    "name": "ipython",
    "version": 3
   },
   "file_extension": ".py",
   "mimetype": "text/x-python",
   "name": "python",
   "nbconvert_exporter": "python",
   "pygments_lexer": "ipython3",
   "version": "3.9.13"
  }
 },
 "nbformat": 4,
 "nbformat_minor": 5
}
