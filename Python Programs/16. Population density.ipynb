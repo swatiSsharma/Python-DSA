{
 "cells": [
  {
   "cell_type": "markdown",
   "id": "5f98bb58",
   "metadata": {},
   "source": [
    "# Population density\n",
    "\n",
    "Given a data frame containing area and population data, calculate the **Population density** for each state.\n",
    "\n",
    "The function should return Series of population densities sorted in **ascending order**.\n",
    "\n",
    "**Note**: Population density is defined as population per unit area.\n",
    "\n",
    "**Input Format**\n",
    "```\n",
    "A Dataframe\n",
    "```\n",
    "\n",
    "**Output Format**\n",
    "```\n",
    "A series\n",
    "```\n",
    "\n",
    "**Sample Input and Output**\n",
    "\n",
    "> Sample Input\n",
    "```\n",
    "                area    population\n",
    "Alaska       1723337        700000\n",
    "Texas         695662      26448193\n",
    "California    423967      38332521\n",
    "New York      783000      19651127\n",
    "```\n",
    "> Sample Output\n",
    "```\n",
    "Alaska        0.406189\n",
    "New York     25.097225\n",
    "Texas        38.018740\n",
    "California   90.413926\n",
    "dtype: float64\n",
    "```"
   ]
  },
  {
   "cell_type": "code",
   "execution_count": 1,
   "id": "503176e4",
   "metadata": {},
   "outputs": [
    {
     "name": "stdout",
     "output_type": "stream",
     "text": [
      "Alaska         0.406189\n",
      "New York      25.097225\n",
      "Texas         38.018740\n",
      "California    90.413926\n",
      "dtype: float64\n"
     ]
    }
   ],
   "source": [
    "import pandas as pd\n",
    "\n",
    "def calc_density(df):\n",
    "    '''\n",
    "    INPUT: df --> dataframe\n",
    "    OUTPUT: result --> A series\n",
    "    '''\n",
    "    \n",
    "    ## Step 1: Calculate population density\n",
    "    popu_den = df['population']/df['area']\n",
    "    \n",
    "    ## Step 2: Sort the values\n",
    "    result = popu_den.sort_values()\n",
    "    \n",
    "    return result\n",
    "\n",
    "df = pd.DataFrame({'area':{'Alaska':1723337,'Texas':695662,'California':423967,'New York':783000}, 'population': {'Alaska':700000,'Texas':26448193,'California':38332521,'New York':19651127}}) \n",
    "##pd.dataframe(eval(input()))\n",
    "\n",
    "result = calc_density(df)\n",
    "\n",
    "if (isinstance(result, pd.Series)):\n",
    "    print(result)\n",
    "else:\n",
    "    print('Return type should be of type Series, found', type(result))"
   ]
  }
 ],
 "metadata": {
  "kernelspec": {
   "display_name": "Python 3 (ipykernel)",
   "language": "python",
   "name": "python3"
  },
  "language_info": {
   "codemirror_mode": {
    "name": "ipython",
    "version": 3
   },
   "file_extension": ".py",
   "mimetype": "text/x-python",
   "name": "python",
   "nbconvert_exporter": "python",
   "pygments_lexer": "ipython3",
   "version": "3.9.13"
  }
 },
 "nbformat": 4,
 "nbformat_minor": 5
}
