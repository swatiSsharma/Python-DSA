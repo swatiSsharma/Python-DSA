{
 "cells": [
  {
   "cell_type": "markdown",
   "id": "5066abea",
   "metadata": {},
   "source": [
    "# Words\n",
    "\n",
    "The words in a paragraph were stored in a 2D list. Each list inside the given list corresponds to a sentence. The elements of this list are words of that sentence. You have to find the mean number of words in each sentence. The mean of n values x1, x2 …, xn = (∑xi)/n. Round off the result to 2 decimal places.\n",
    "\n",
    "#### Sample Input and Output\n",
    "**Test Case 1:**\n",
    "```\n",
    "Input - [[‘I’, ‘am’, ‘hungry’], [“Let’s”, ‘order’]]\n",
    "Output - 2.5\n",
    "Explanation - The first sentence has 3 words. The second one has 2. Mean = (3+2)/2 = 2.5\n",
    "```\n",
    "**Test Case 2:**\n",
    "```\n",
    "Input - [[‘We’, ‘know’, ‘what’, ‘we’, ‘are’], [‘But’, ‘know’, ‘not’, ‘what’, ‘we’, ‘may’, ‘be’]]\n",
    "Output - 6.0\n",
    "Explanation - First sentence has 5 words. Second has 7 words. Mean = 6.\n",
    "```"
   ]
  },
  {
   "cell_type": "code",
   "execution_count": 1,
   "id": "720794e9",
   "metadata": {},
   "outputs": [
    {
     "name": "stdout",
     "output_type": "stream",
     "text": [
      "2.5\n"
     ]
    }
   ],
   "source": [
    "def mean_word_count(data):\n",
    "     # word_counts will store the word count for all the sentences\n",
    "    word_counts = []\n",
    "    for sentence in data:\n",
    "        n = len(sentence)\n",
    "        word_counts.append(n)\n",
    "     # Note that len(word_counts) gives us the number of sentences.\n",
    "    ans = round(sum(word_counts)/len(word_counts),2)\n",
    "    return ans\n",
    "\n",
    "lst = [['I', 'am', 'hungry'], [\"Let’s\", 'order']]\n",
    "print(mean_word_count(lst))"
   ]
  }
 ],
 "metadata": {
  "kernelspec": {
   "display_name": "Python 3 (ipykernel)",
   "language": "python",
   "name": "python3"
  },
  "language_info": {
   "codemirror_mode": {
    "name": "ipython",
    "version": 3
   },
   "file_extension": ".py",
   "mimetype": "text/x-python",
   "name": "python",
   "nbconvert_exporter": "python",
   "pygments_lexer": "ipython3",
   "version": "3.9.13"
  }
 },
 "nbformat": 4,
 "nbformat_minor": 5
}
