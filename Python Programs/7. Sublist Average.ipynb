{
 "cells": [
  {
   "cell_type": "markdown",
   "id": "404665d0",
   "metadata": {},
   "source": [
    "# Sublist Average\n",
    "\n",
    "Write a function find_average_of_sublists(lst) that tkes a list of lists containing integers as inut and returns a list of average values of each sublist.\n",
    "\n",
    "**Note**: Round up the values of average to two decimal places\n",
    "\n",
    "**Input Format**:  \n",
    "```\n",
    "List[List[int]]\n",
    "```\n",
    "**Output Format**: \n",
    "```\n",
    "List[float]\n",
    "```\n",
    "**Sample Input**\n",
    "```\n",
    "[[1, 2, 3], [4, 5, 6], [7, 8, 9]]\n",
    "```\n",
    "**Sample Output**\n",
    "```\n",
    "[2.0, 5.0, 8.0]\n",
    "```"
   ]
  },
  {
   "cell_type": "code",
   "execution_count": 1,
   "id": "f5603ac2",
   "metadata": {},
   "outputs": [
    {
     "name": "stdout",
     "output_type": "stream",
     "text": [
      "[2.0, 5.0, 8.0]\n"
     ]
    }
   ],
   "source": [
    "def find_average_of_sublists(a):\n",
    "    \n",
    "    ans = []\n",
    "    \n",
    "    for lst in a:\n",
    "        if len(lst) != 0:\n",
    "            avg = sum(lst)/len(lst)\n",
    "            ans.append(avg)\n",
    "        else:\n",
    "            ans.append(0, 0)\n",
    "    return ans\n",
    "\n",
    "lst = [[1, 2, 3], [4, 5, 6], [7, 8, 9]]\n",
    "print(find_average_of_sublists(lst))"
   ]
  }
 ],
 "metadata": {
  "kernelspec": {
   "display_name": "Python 3 (ipykernel)",
   "language": "python",
   "name": "python3"
  },
  "language_info": {
   "codemirror_mode": {
    "name": "ipython",
    "version": 3
   },
   "file_extension": ".py",
   "mimetype": "text/x-python",
   "name": "python",
   "nbconvert_exporter": "python",
   "pygments_lexer": "ipython3",
   "version": "3.9.13"
  }
 },
 "nbformat": 4,
 "nbformat_minor": 5
}
