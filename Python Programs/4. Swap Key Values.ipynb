{
 "cells": [
  {
   "cell_type": "markdown",
   "id": "d9186f46",
   "metadata": {},
   "source": [
    "# Swap Key Values\n",
    "\n",
    "Suppose ypu have a dictionary of string keys and string values. Your task is to write a function that takes this **dictionary** as input, and returns a new dictionary with the values as **keys** of the **original dictionary**, but with the keys **reversed** and used as **values**\n",
    "\n",
    "**Input Format**:  \n",
    "```\n",
    "d: dictionary\n",
    "```\n",
    "**Output Format**: \n",
    "```\n",
    "dictionary\n",
    "```\n",
    "**Sample Input**\n",
    "```\n",
    "SAMPLE 1\n",
    "{'apple': 'red', 'banana': 'yellow', 'cherry': 'green', 'date': 'brown'}\n",
    "\n",
    "SAMPLE 2\n",
    "{'dog': 'cat', 'mouse': 'cheese', 'bird': 'worm', 'fish': 'water'}\n",
    "```\n",
    "**Sample Output**\n",
    "```\n",
    "SAMPLE 1 Output:\n",
    "{'red': 'elppa', 'yellow': 'ananab', 'green': 'yrrehc', 'brown': 'etad'}\n",
    "\n",
    "SAMPLE 2 Output:\n",
    "{'cat': 'god', 'cheese': 'esuom', 'worm': 'drib', 'water': 'hsif'}\n",
    "```\n",
    "**Explanation**\n",
    "```\n",
    "SAMPLE 1\n",
    "The fruits are 'apple', 'banana', 'cherry', and 'date', and their respective colors are 'red', 'yellow', 'green', and 'brown'.The output is also a Python dictionary with four key-value pairs.\n",
    "Each key represents a color from the input dictionary, and its corresponding value is the reversed string of the fruit whose color matches the key in the input dictionary.\n",
    "For example, the first key in the output dictionary is 'red', which matches the color of 'apple' in the input dictionary.\n",
    "The value of 'red' in the output dictionary is 'elppa', which is the reversed string of 'apple'.\n",
    "\n",
    "SAMPLE 2\n",
    "\n",
    "The animals and their corresponding values are:\n",
    "'dog' is associated with 'cat'  \n",
    "'mouse' is associated with 'cheese'\n",
    "'bird' is associated with 'worm'  \n",
    "'fish' is associated with 'water'\n",
    "The input key-value pair 'dog': 'cat' is reversed to cat god' in the output. Similarly, 'mouse' : 'cheese' becomes 'cheese':'esuom'\n",
    "bird':'worm' becomes 'worm':'drib', and 'fish':'water' becomes 'water': 'hsif'.\n",
    "```"
   ]
  },
  {
   "cell_type": "code",
   "execution_count": 1,
   "id": "5233460b",
   "metadata": {},
   "outputs": [
    {
     "name": "stdout",
     "output_type": "stream",
     "text": [
      "{'red': 'elppa', 'yellow': 'ananab', 'green': 'yrrehc', 'brown': 'etad'}\n",
      "{'cat': 'god', 'cheese': 'esuom', 'worm': 'drib', 'water': 'hsif'}\n"
     ]
    }
   ],
   "source": [
    "def reverse_dict_no_duplicates(d):\n",
    "    # YOUR CODE GOES HERE\n",
    "    new_dict = {}\n",
    "    \n",
    "    for key, value in d.items():\n",
    "        new_dict[value] = key[::-1]\n",
    "\n",
    "    return new_dict\n",
    "\n",
    "d = {'apple': 'red', 'banana': 'yellow', 'cherry': 'green', 'date': 'brown'}\n",
    "print(reverse_dict_no_duplicates(d))\n",
    "\n",
    "d = {'dog': 'cat', 'mouse': 'cheese', 'bird': 'worm', 'fish': 'water'}\n",
    "print(reverse_dict_no_duplicates(d))"
   ]
  }
 ],
 "metadata": {
  "kernelspec": {
   "display_name": "Python 3 (ipykernel)",
   "language": "python",
   "name": "python3"
  },
  "language_info": {
   "codemirror_mode": {
    "name": "ipython",
    "version": 3
   },
   "file_extension": ".py",
   "mimetype": "text/x-python",
   "name": "python",
   "nbconvert_exporter": "python",
   "pygments_lexer": "ipython3",
   "version": "3.9.13"
  }
 },
 "nbformat": 4,
 "nbformat_minor": 5
}
