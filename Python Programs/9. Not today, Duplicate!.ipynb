{
 "cells": [
  {
   "cell_type": "markdown",
   "id": "ebd9f8c3",
   "metadata": {},
   "source": [
    "# Not today, Duplicate!\n",
    "\n",
    "**Problem Statament**  \n",
    "\n",
    "Do you know about relational databases? They are the huge pools of data that store data in an efficient way for performing Create, Read, Update and Delete (CRUD) operations on data. To facilitate this, they employ many techniques - one of them being to store each set of unique data with a unique identifier, called primary key. There are other constraints that can be used as keys as well - for example in a customer database, customer email can be kept as a key besides the primary key, given that every customer email should be unique. In this case, it’s called a candidate key.\n",
    "Here, you are the esteemed Database Administrator (DBA), and your task is to de-duplicate the data. Data de-duplication refers to the process of eliminating already existing duplicate data or preventing duplicate data from entering the database.\n",
    "But real-world data is messy, containing lots of duplicates. Here, you are given incoming employee data that consists of their name, address, employee email, phone number, etc. Your job is to create a filter that removes incoming duplicates from the database you are given.\n",
    "The incoming data is in the form of a list of tuples (DATA_KEY, NAME, EMAIL, ADDRESS, PHONE)\n",
    "The following constraints are given:\n",
    "DATA_KEY, EMPLOYEE_EMAIL and PHONE are the keys - that is, they should be unique.\n",
    "Complete the function db_filter(data) so that it takes in incoming data as a list of tuples and returns a de-duplicated list containing only the data that satisfy the above constraints. In case of duplicates, keep the data that was stored first.\n",
    "\n",
    "**Input format**\n",
    "```\n",
    "List of tuples\n",
    "```\n",
    "**Output format**\n",
    "```\n",
    "List of tuples\n",
    "```\n",
    "**Sample Input and Output**\n",
    "\n",
    "> Test Case 1:\n",
    "```\n",
    "Input: [(1, “A”, “a@b.com”, “23, Lake Avenue”, “919734536286”), (1, “B”, “a@b.com”, “23, Bard Colony”, “919734536286”)]\n",
    "Output: [(1, “A”, “a@b.com”, “23, Lake Avenue”, “919734536286”)]\n",
    "Explanation: The second entry violated the constraints that the fields DATA_KEY, EMPLOYEE_EMAIL and PHONE must be unique. So it was ignored.\n",
    "```"
   ]
  },
  {
   "cell_type": "markdown",
   "id": "65c85b3b",
   "metadata": {},
   "source": [
    "## Intuition:\n",
    "\n",
    "Since the goal is to keep the fields unique, we use sets to denote each of these unique constraints, since set can contain only unique elements. So if any of the sets contain any of the corresponding elements in the tuple, we skip over it, else we add them to the list of the filtered data and the sets to keep track of them."
   ]
  },
  {
   "cell_type": "code",
   "execution_count": 1,
   "id": "1419d9cd",
   "metadata": {},
   "outputs": [
    {
     "name": "stdout",
     "output_type": "stream",
     "text": [
      "[(1, 'A', 'a@b.com', '23', 'Lake Avenue', '919734536286')]\n"
     ]
    }
   ],
   "source": [
    "def db_filter(data):\n",
    "    primary_keys = set()\n",
    "    email = set()\n",
    "    phone_num = set()\n",
    "\n",
    "    filtered_data = []\n",
    "\n",
    "    for entry in data:\n",
    "        if entry[0] in primary_keys or entry[2] in email or entry[4] in phone_num:\n",
    "            continue\n",
    "        else:\n",
    "            filtered_data.append(entry)\n",
    "            primary_keys.add(entry[0])\n",
    "            email.add(entry[2])\n",
    "            phone_num.add(entry[4])\n",
    "\n",
    "    return filtered_data\n",
    "\n",
    "lst = [(1, 'A', 'a@b.com', '23', 'Lake Avenue', '919734536286'), (1, 'B', 'a@b.com', '23', 'Bard Colony', '919734536286')]\n",
    "print(db_filter(lst))"
   ]
  }
 ],
 "metadata": {
  "kernelspec": {
   "display_name": "Python 3 (ipykernel)",
   "language": "python",
   "name": "python3"
  },
  "language_info": {
   "codemirror_mode": {
    "name": "ipython",
    "version": 3
   },
   "file_extension": ".py",
   "mimetype": "text/x-python",
   "name": "python",
   "nbconvert_exporter": "python",
   "pygments_lexer": "ipython3",
   "version": "3.9.13"
  }
 },
 "nbformat": 4,
 "nbformat_minor": 5
}
