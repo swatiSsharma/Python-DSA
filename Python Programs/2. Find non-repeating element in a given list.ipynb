{
 "cells": [
  {
   "cell_type": "markdown",
   "id": "b0b9de5d",
   "metadata": {},
   "source": [
    "# Find non-repeating element in a given list\n",
    "\n",
    "Given an array of integers of size N, the task is to Find non-repeating element in a given array. If there is none then return -1\n",
    "\n",
    "**Input Format**:  \n",
    "```\n",
    "A list of integers\n",
    "```\n",
    "**Output Format**: \n",
    "```\n",
    "A single integer denoting first non-repeating element\n",
    "```\n",
    "**Sample Input**\n",
    "```\n",
    "[9, 4, 9, 6, 7, 4]\n",
    "```\n",
    "**Sample Output**\n",
    "```\n",
    "6\n",
    "```\n",
    "**Explanation**\n",
    "```\n",
    "The first number that does not repeat is : 6\n",
    "```"
   ]
  },
  {
   "cell_type": "code",
   "execution_count": 1,
   "id": "03486b5c",
   "metadata": {},
   "outputs": [
    {
     "name": "stdout",
     "output_type": "stream",
     "text": [
      "6\n"
     ]
    }
   ],
   "source": [
    "def firstNonRepeating(arr):\n",
    "\t# write your code here\n",
    "    ele_count = {}\n",
    "    \n",
    "    for num in arr:\n",
    "        if num in ele_count:\n",
    "            ele_count[num] += 1\n",
    "        else:\n",
    "            ele_count[num] = 1\n",
    "        \n",
    "    for num in arr:\n",
    "        if ele_count[num] == 1:\n",
    "            return num\n",
    "            \n",
    "    return -1\n",
    "\n",
    "arr = [9, 4, 9, 6, 7, 4]\n",
    "result = firstNonRepeating(arr)\n",
    "print(result)"
   ]
  }
 ],
 "metadata": {
  "kernelspec": {
   "display_name": "Python 3 (ipykernel)",
   "language": "python",
   "name": "python3"
  },
  "language_info": {
   "codemirror_mode": {
    "name": "ipython",
    "version": 3
   },
   "file_extension": ".py",
   "mimetype": "text/x-python",
   "name": "python",
   "nbconvert_exporter": "python",
   "pygments_lexer": "ipython3",
   "version": "3.9.13"
  }
 },
 "nbformat": 4,
 "nbformat_minor": 5
}
