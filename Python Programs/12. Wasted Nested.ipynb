{
 "cells": [
  {
   "cell_type": "markdown",
   "id": "e4fdef94",
   "metadata": {},
   "source": [
    "# Wasted Nested\n",
    "\n",
    "**Problem statement**  \n",
    "\n",
    "Nested functions are a big deal breaker in Object Oriented Programming. It’s not recommended to use them usually, unless some different case arises. That said, can you convert this nested function func1 into a non-nested function?\n",
    "```\n",
    "def func1(power, number=78):\n",
    "     def square(x):\n",
    "         return x*x\n",
    "     \n",
    "     def cube(x):\n",
    "         return x**3\n",
    "     \n",
    "     if power == 2:\n",
    "         return square(number)\n",
    "     elif power == 3:\n",
    "         return cube(number)\n",
    "     else:\n",
    "         print(\"Unknown power\")\n",
    "         return -1\n",
    "         \n",
    "Example:\n",
    " def func1():  \n",
    "     def b():  \n",
    "         print(\"Hi\")  \n",
    "     b()  \n",
    "Can be simply nested into:  \n",
    " def func1():  \n",
    "     print(\"Hi\")  \n",
    "```"
   ]
  },
  {
   "cell_type": "code",
   "execution_count": null,
   "id": "1e42741b",
   "metadata": {},
   "outputs": [],
   "source": [
    "def func1(power, number=78):\n",
    "    if power == 2:\n",
    "        return number*number\n",
    "    elif power == 3:\n",
    "        return number**3\n",
    "    else:\n",
    "        print(\"Unknown power\")\n",
    "        return -1"
   ]
  }
 ],
 "metadata": {
  "kernelspec": {
   "display_name": "Python 3 (ipykernel)",
   "language": "python",
   "name": "python3"
  },
  "language_info": {
   "codemirror_mode": {
    "name": "ipython",
    "version": 3
   },
   "file_extension": ".py",
   "mimetype": "text/x-python",
   "name": "python",
   "nbconvert_exporter": "python",
   "pygments_lexer": "ipython3",
   "version": "3.9.13"
  }
 },
 "nbformat": 4,
 "nbformat_minor": 5
}
