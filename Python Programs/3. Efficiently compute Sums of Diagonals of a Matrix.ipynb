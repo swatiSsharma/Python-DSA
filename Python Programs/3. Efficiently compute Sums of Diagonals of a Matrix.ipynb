{
 "cells": [
  {
   "cell_type": "markdown",
   "id": "7c34a13e",
   "metadata": {},
   "source": [
    "# Efficiently compute Sums of Diagonals of a Matrix\n",
    "\n",
    "Given a 2D square matrix, find the sum of elements in Principal and Secondary diagonals.  \n",
    "  \n",
    "```\n",
    "A00 A01 A02 A03\n",
    "A10 A11 A12 A13\n",
    "A20 A21 A22 A23\n",
    "A30 A31 A32 A33\n",
    "\n",
    "The Primary Diagonal is: A00, A11, A22, A33\n",
    "The Secondary Diagonal is: A03, A12, A21, A30\n",
    "``` \n",
    "**Sample Input**\n",
    "```\n",
    "1 2 3 4\n",
    "4 3 2 1\n",
    "7 8 9 6\n",
    "6 5 4 3\n",
    "```\n",
    "**Sample Output**\n",
    "```\n",
    "Primary Diagonal: 16\n",
    "Secondary Diagonal: 20\n",
    "```\n",
    "**Explanation**\n",
    "```\n",
    "Primary Diagonal: 1 + 3 + 9 + 3 = 16\n",
    "Secondary Diagonal: 4 + 2 + 8 + 6 = 20\n",
    "```"
   ]
  },
  {
   "cell_type": "code",
   "execution_count": 1,
   "id": "dbff1520",
   "metadata": {},
   "outputs": [
    {
     "name": "stdout",
     "output_type": "stream",
     "text": [
      "Principal Diagonal: 16\n",
      "Secondary Diagonal: 20\n"
     ]
    }
   ],
   "source": [
    "def printDiagonalSums(mat):\n",
    "    principal = 0\n",
    "    secondary = 0\n",
    "# write your code from here\n",
    "    n = len(mat)\n",
    "    \n",
    "    for i in range(n):\n",
    "        principal += mat[i][i]\n",
    "        secondary += mat[i][n-i-1]\n",
    "\t\t\n",
    "    print(\"Principal Diagonal:\", principal)\n",
    "    print(\"Secondary Diagonal:\", secondary)\n",
    "    \n",
    "matrix = [\n",
    "    [1, 2, 3, 4],\n",
    "    [4, 3, 2, 1],\n",
    "    [7, 8, 9, 6],\n",
    "    [6, 5, 4, 3]\n",
    "]\n",
    "\n",
    "printDiagonalSums(matrix)"
   ]
  }
 ],
 "metadata": {
  "kernelspec": {
   "display_name": "Python 3 (ipykernel)",
   "language": "python",
   "name": "python3"
  },
  "language_info": {
   "codemirror_mode": {
    "name": "ipython",
    "version": 3
   },
   "file_extension": ".py",
   "mimetype": "text/x-python",
   "name": "python",
   "nbconvert_exporter": "python",
   "pygments_lexer": "ipython3",
   "version": "3.9.13"
  }
 },
 "nbformat": 4,
 "nbformat_minor": 5
}
