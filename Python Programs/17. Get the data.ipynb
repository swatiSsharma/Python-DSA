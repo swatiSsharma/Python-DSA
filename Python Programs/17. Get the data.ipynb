{
 "cells": [
  {
   "cell_type": "markdown",
   "id": "b6175816",
   "metadata": {},
   "source": [
    "# Get the data\n",
    "\n",
    "**Problem Statement**\n",
    "\n",
    "Given a NumPy matrix of shape (n, n), remove all the odd elements from the matrix and return a new matrix of shape (k, k) consisting of all the remaining even elements from the original matrix.\n",
    "\n",
    "**Input Format**\n",
    "```\n",
    "A 2d list is taken as input which is first typecasted to a NumPy array and then passed to the function as argument.\n",
    "```\n",
    "\n",
    "**Output Format**\n",
    "```\n",
    "2d NumPy array is printed\n",
    "```\n",
    "**Sample Input and Output**\n",
    "\n",
    "> Sample Input:\n",
    "```\n",
    "[[ 7, 4, 8, 5, 1],\n",
    " [ 8, 0, 11, 3, 5],\n",
    " [ 9, 6, 3, 5, 0],\n",
    " [ 1, 5, 7, 3, 2],\n",
    " [ 4, 7, 2, 9, 1]]\n",
    "```\n",
    "> Sample Output:\n",
    "```\n",
    "[[4 8 8]\n",
    " [0 6 0]\n",
    " [2 4 2]]\n",
    "```\n",
    "\n",
    "**Sample Explanation:**\n",
    "\n",
    "In the 5x5 matrix when we removed all the odd numbers we were left with 9 numbers, and hence 9 numbers can be converted to (3x3).\n",
    "\n",
    "**Note**: Assume that the number of even elements in the given matrix will always be a perfect square. Also observe that the relative order of elements in the new matrix is preserved as it was in the original matrix ie. the first 4 is before 8 in the matrix as it was in the original matrix."
   ]
  },
  {
   "cell_type": "code",
   "execution_count": 1,
   "id": "bd5c1ac8",
   "metadata": {},
   "outputs": [
    {
     "name": "stdout",
     "output_type": "stream",
     "text": [
      "[[4 8 8]\n",
      " [0 6 0]\n",
      " [2 4 2]]\n"
     ]
    }
   ],
   "source": [
    "import numpy as np\n",
    "\n",
    "def new_mat(mat):\n",
    "    '''\n",
    "    mat --> A 2D numpy array\n",
    "    Output --> A 2D numpy array is expected to be returned\n",
    "    '''\n",
    "    \n",
    "    ## Step 1: Filter out  even elements from array (Masking)\n",
    "    new_matrix = mat[ mat%2 == 0]\n",
    "    \n",
    "    ## Step 2: Get the length of new matrix (Recall that Masking will return 1D array)\n",
    "    new_len = len(new_matrix)\n",
    "    \n",
    "    ## Step 3: Find the shape using new_len\n",
    "    new_shape = int(np.sqrt(new_len))\n",
    "    \n",
    "    ## Step 4: Reshape the new matrix\n",
    "    new_matrix = new_matrix.reshape(new_shape, new_shape)\n",
    "    \n",
    "    return new_matrix\n",
    "\n",
    "\n",
    "mat = np.array([[7,4,8,5,1],[8,0,11,3,5],[9,6,3,5,0],[1,5,7,3,2],[4,7,2,9,1]])  #np.array(eval(input()))\n",
    "\n",
    "print(new_mat(mat))"
   ]
  }
 ],
 "metadata": {
  "kernelspec": {
   "display_name": "Python 3 (ipykernel)",
   "language": "python",
   "name": "python3"
  },
  "language_info": {
   "codemirror_mode": {
    "name": "ipython",
    "version": 3
   },
   "file_extension": ".py",
   "mimetype": "text/x-python",
   "name": "python",
   "nbconvert_exporter": "python",
   "pygments_lexer": "ipython3",
   "version": "3.9.13"
  }
 },
 "nbformat": 4,
 "nbformat_minor": 5
}
