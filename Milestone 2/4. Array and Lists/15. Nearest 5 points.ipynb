{
 "cells": [
  {
   "cell_type": "markdown",
   "id": "347124a5",
   "metadata": {},
   "source": [
    "# 15. Nearest 5 points\n",
    "\n",
    "You are planning to go to the 5 nearest tourist spots from your house. So you start calculating the distance of all possible places from your house. The 2d coordinates of the tourist spots are given in a list of tuples lis and the coordinates of your house are in the list pnt.\n",
    "\n",
    "Complete the function compute_Dist(lis,pnt) that returns a list of tuples consisting of the coordinates of the 5 nearest tourist spots.\n",
    "\n",
    "**Input Format:**\n",
    "\n",
    "- The first line consists of two space-separated integers representing the coordinates of your house.\n",
    "- The second line consists of an integer n representing the number of tourist spots for consideration.\n",
    "- After the 2nd line, there will be n lines of input each line will have two space-separated integers representing the coordinates of the tourist spots.\n",
    "\n",
    "**Output Format:**\n",
    "\n",
    "A list of 5 tuples is simply printed\n",
    "- Sample input:\n",
    "```\n",
    "0 0\n",
    "6\n",
    "5 5\n",
    "1 1\n",
    "2 2\n",
    "3 3\n",
    "4 4\n",
    "6 6\n",
    "```\n",
    "- Sample output:\n",
    "```\n",
    "[(1, 1), (2, 2), (3, 3), (4, 4), (5, 5)]\n",
    "```\n",
    "**Note: ** \n",
    "> You can use Euclidean distance for the calculation of distances. The returned order of coordinates in the list should be increasing in terms of distance from the house coordinates. In case the distance is same for 2 points, the order should be same as obtained in the input."
   ]
  },
  {
   "cell_type": "markdown",
   "id": "1d0eca32",
   "metadata": {},
   "source": [
    "### Approach - I\n",
    "\n",
    "Algorithmic Approach:\n",
    "\n",
    "- First calculate the eucledian distance between the point and the list of points, and store the coordinates and distance in another list.\n",
    "- Sort this list as per the distance, and select the first 5 points from this sorted list.\n",
    "-  Finally print these 5 selected points from the newly formed list\n"
   ]
  },
  {
   "cell_type": "code",
   "execution_count": null,
   "id": "1a77e407",
   "metadata": {},
   "outputs": [],
   "source": [
    "def euclddist(a,b):\n",
    "    sqdis = (a[0]-b[0])**2 + (a[1]-b[1])**2\n",
    "    return (sqdis**0.5)\n",
    "\n",
    "def compute_Dist(lis,pnt):\n",
    "    dist=[]\n",
    "    for i in range(len(lis)):\n",
    "        dist.append([euclddist(pnt,lis[i]),i])\n",
    "    dist.sort()\n",
    "    intmdlis=dist[:5]\n",
    "    ans=[]\n",
    "    for i in range(5):\n",
    "        ans.append(lis[intmdlis[i][1]])\n",
    "    return ans"
   ]
  },
  {
   "cell_type": "markdown",
   "id": "d85b28f6",
   "metadata": {},
   "source": [
    "### Approach - II\n",
    "\n",
    "For two given points such as (x1, y1) and (x2, y2) in a two-dimensional coordinate plane, the Euclidean distance formula is given by:\n",
    "\n",
    "d =√[(x2 – x1)2 + (y2 – y1)2]\n",
    "\n",
    "Where,\n",
    "\n",
    "“d” is the Euclidean distance\n",
    "(x1, y1) is the coordinate of the first point\n",
    "(x2, y2) is the coordinate of the second point."
   ]
  },
  {
   "cell_type": "code",
   "execution_count": null,
   "id": "2e850b1c",
   "metadata": {},
   "outputs": [],
   "source": [
    "def compute_Dist(lis,pnt):\n",
    "    '''input: lis = list of tuples representing coordinates of tourist spots\n",
    "       output: a list of tuples of length 5 is expected to be returned.'''\n",
    "       \n",
    "    ans=[]\n",
    "    dist={}\n",
    "\n",
    "    for x,y in lis:\n",
    "        dist[(x,y)] = ((x-pnt[0])**2 + (y-pnt[1])**2)**0.5\n",
    "    '''Calculating the euclidean distance of all the points and storing the\n",
    "      results in a dictionary    which has key as the tuple containing the (x,y)\n",
    "      coordinates of a point and value as the distance of this point from our\n",
    "      location'''\n",
    "\n",
    "\n",
    "    ans = list(sorted(dist.keys(), key=dist.get))\n",
    "#Sorting all the keys(points) of the dictionary based on their values (distance) and storing them in a list\n",
    "\n",
    "    return ans[:5]\n"
   ]
  }
 ],
 "metadata": {
  "kernelspec": {
   "display_name": "Python 3 (ipykernel)",
   "language": "python",
   "name": "python3"
  },
  "language_info": {
   "codemirror_mode": {
    "name": "ipython",
    "version": 3
   },
   "file_extension": ".py",
   "mimetype": "text/x-python",
   "name": "python",
   "nbconvert_exporter": "python",
   "pygments_lexer": "ipython3",
   "version": "3.9.13"
  }
 },
 "nbformat": 4,
 "nbformat_minor": 5
}
