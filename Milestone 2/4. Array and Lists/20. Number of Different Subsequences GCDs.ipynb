{
 "cells": [
  {
   "cell_type": "markdown",
   "id": "c4a74b5d",
   "metadata": {},
   "source": [
    "# 20. Number of Different Subsequences GCDs\n",
    "\n",
    "You are given an array nums that consists of positive integers.\n",
    "\n",
    "The GCD of a sequence of numbers is defined as the greatest integer that divides all the numbers in the sequence evenly.\n",
    "\n",
    "- For example, the GCD of the sequence [4,6,16] is 2.\n",
    "A subsequence of an array is a sequence that can be formed by removing some elements (possibly none) of the array.\n",
    "- For example, [2,5,10] is a subsequence of [1,2,1,2,4,1,5,10].\n",
    "Return the number of different GCDs among all non-empty subsequences of nums.\n",
    "\n",
    "**Example 1:**\n",
    "```\n",
    "**Subsequence**  GCD\n",
    "\n",
    "[ 6]              6\n",
    "[10]             10\n",
    "[ 3]              3\n",
    "[6, 10]           2\n",
    "[6,  3]           3\n",
    "[10, 3]           1\n",
    "[6, 10, 3]        1\n",
    "\n",
    "Input: nums = [6,10,3]\n",
    "Output: 5\n",
    "Explanation: The figure shows all the non-empty subsequences and their GCDs.\n",
    "The different GCDs are 6, 10, 3, 2, and 1.\n",
    "```\n",
    "**Example 2:**\n",
    "```\n",
    "Input: nums = [5,15,40,5,6]\n",
    "Output: 7\n",
    "```\n",
    "**Constraints:**\n",
    "```\n",
    "1 <= nums.length <= 105\n",
    "1 <= nums[i] <= 2 * 105\n",
    "```"
   ]
  },
  {
   "cell_type": "markdown",
   "id": "a6a5be82",
   "metadata": {},
   "source": [
    "### Approach - I\n",
    "\n",
    "The idea is the following:\n",
    "\n",
    "For each num in nums evaluate the list of divisors. Unfortunatelly it is not enough to do it in stupid way, python will not allow this, so I used the idea if we already calculated list of divisors, no need to do it again.\n",
    "\n",
    "Create defaultdict d, where for each i we correspond it to the list of num from nums, which are divisible by i.\n",
    "\n",
    "Iterate over d and for each i check if gcd of all numbers in d[i] is equal to i. If it is the case, then number i is gcd of some group of numbers.\n",
    "\n",
    "Complexity\n",
    "Time complexity is potentially O(n^1.5), because we iterate to the n^0.5 when we find divisors.\n",
    "Space complexity is the same."
   ]
  },
  {
   "cell_type": "code",
   "execution_count": null,
   "id": "0131d0ef",
   "metadata": {},
   "outputs": [],
   "source": [
    "class Solution:\n",
    "    def countDifferentSubsequenceGCDs(self, nums: List[int]) -> int:\n",
    "\n",
    "        @lru_cache(None)\n",
    "        def divisors(n):\n",
    "            for i in range(2, int(sqrt(n)) + 1):\n",
    "                if n%i == 0:\n",
    "                    s = divisors(n//i)\n",
    "                    return tuple(set(s + tuple(q*i for q in s)))\n",
    "\n",
    "            return tuple([1, n])\n",
    "        \n",
    "        nums = set(nums)\n",
    "        q = defaultdict(list)\n",
    "        for num in nums:\n",
    "            for div in divisors(num):\n",
    "                q[div].append(num)\n",
    "                \n",
    "        ans = 0\n",
    "        for num in q:\n",
    "            list_div = q[num]\n",
    "            s = list_div[0]\n",
    "            for i in range(1, len(list_div)):\n",
    "                s = gcd(s, list_div[i])\n",
    "                if s == num:\n",
    "                    break\n",
    "\n",
    "            if s== num: ans += 1\n",
    "        \n",
    "        return ans"
   ]
  },
  {
   "cell_type": "markdown",
   "id": "16103cb4",
   "metadata": {},
   "source": [
    "### Approach - II\n",
    "It has the same complexity and slightly better run time. Idea behind is exaclty the same: for each i we check all numbers divisible by i and find if gcd of all those numbers equal to i.\n",
    "\n",
    "Complexity:\n",
    "Let m be the biggest number in nums, then there will be no more than m + m/2 + m/3 + ... = O(m log m) divisors in total. So, time complexity can be expressed as O(m*log m). Notice also that it is under assumption that gcd can be evaluated in O(1), which is not exactly the case, it is more like log m, so we need to multiply it by log m factor. Space complexity is the same."
   ]
  },
  {
   "cell_type": "code",
   "execution_count": null,
   "id": "4408ce87",
   "metadata": {},
   "outputs": [],
   "source": [
    "class Solution:\n",
    "    def countDifferentSubsequenceGCDs(self, nums):\n",
    "        T = max(nums) + 1\n",
    "        nums = set(nums)\n",
    "        ans = 0\n",
    "            \n",
    "        for x in range(1, T):\n",
    "            g = 0\n",
    "            for y in range(x, T, x):\n",
    "                if y in nums:\n",
    "                    g = gcd(g, y)\n",
    "                if g == x:\n",
    "                    break\n",
    "                    \n",
    "            if g == x: ans += 1\n",
    "                \n",
    "        return ans"
   ]
  },
  {
   "cell_type": "code",
   "execution_count": null,
   "id": "e96081bd",
   "metadata": {},
   "outputs": [],
   "source": [
    "class Solution:\n",
    "    def countDifferentSubsequenceGCDs(self, nums):\n",
    "        T, nums = max(nums) + 1, set(nums)\n",
    "        return sum(gcd(*[y for y in range(x, T, x) if y in nums]) == x for x in range(1, T))"
   ]
  },
  {
   "cell_type": "markdown",
   "id": "75a1b406",
   "metadata": {},
   "source": [
    "### Approach - III"
   ]
  },
  {
   "cell_type": "code",
   "execution_count": null,
   "id": "8217621c",
   "metadata": {},
   "outputs": [],
   "source": [
    "class Solution:\n",
    "    def countDifferentSubsequenceGCDs(self, nums: List[int]) -> int:\n",
    "        T = max(nums) + 1\n",
    "        nums = set(nums)\n",
    "        ans = 0\n",
    "            \n",
    "        for x in range(1, T):\n",
    "            g = 0\n",
    "            for y in range(x, T, x):\n",
    "                if y in nums:\n",
    "                    g = gcd(g, y)\n",
    "                if g == x:\n",
    "                    break\n",
    "                    \n",
    "            if g == x: ans += 1\n",
    "                \n",
    "        return ans"
   ]
  },
  {
   "cell_type": "markdown",
   "id": "8fc21636",
   "metadata": {},
   "source": [
    "### Approach - IV"
   ]
  },
  {
   "cell_type": "code",
   "execution_count": null,
   "id": "7dd938d7",
   "metadata": {},
   "outputs": [],
   "source": [
    "class Solution:\n",
    "    def countDifferentSubsequenceGCDs(self, nums: List[int]) -> int:\n",
    "        ans, mx = 0, max(nums)\n",
    "        existed = [False]*(1+mx)\n",
    "        for num in nums:\n",
    "            if not existed[num]:\n",
    "                existed[num] = True\n",
    "                ans += 1\n",
    "        for i in range(1, mx//3+1):\n",
    "            if existed[i]: continue\n",
    "            g = 0\n",
    "            for j in range(2*i, mx+1, i):\n",
    "                if existed[j]:\n",
    "                    g = gcd(g, j)\n",
    "                    if g == i:\n",
    "                        break\n",
    "            if g == i:\n",
    "                ans += 1\n",
    "        return ans"
   ]
  },
  {
   "cell_type": "markdown",
   "id": "f6619b1f",
   "metadata": {},
   "source": [
    "### Approach - V"
   ]
  },
  {
   "cell_type": "code",
   "execution_count": null,
   "id": "f2a72d94",
   "metadata": {},
   "outputs": [],
   "source": [
    "class Solution:\n",
    "    def countDifferentSubsequenceGCDs(self, nums: List[int]) -> int:\n",
    "        res = 0\n",
    "        vals = set(nums)\n",
    "        up_bound = max(nums)+1\n",
    "        \n",
    "        for i in range(1,up_bound):\n",
    "            if i in vals:\n",
    "                res += 1\n",
    "                continue\n",
    "\n",
    "            tmp = []\n",
    "            gcd_val = 0\n",
    "\n",
    "            for j in range(i,up_bound,i):\n",
    "                if j in vals:\n",
    "                    if len(tmp) < 2:\n",
    "                        tmp.append(j)\n",
    "                        if len(tmp) == 2:\n",
    "                            gcd_val = math.gcd(tmp[0], tmp[1])\n",
    "                    else:\n",
    "                        gcd_val = math.gcd(gcd_val,j)\n",
    "\n",
    "                    if gcd_val == i:\n",
    "                        res += 1\n",
    "                        break        \n",
    "        return res"
   ]
  },
  {
   "cell_type": "markdown",
   "id": "5b451f64",
   "metadata": {},
   "source": [
    "### Approach - VI"
   ]
  },
  {
   "cell_type": "code",
   "execution_count": null,
   "id": "56f331f5",
   "metadata": {},
   "outputs": [],
   "source": [
    "class Solution:\n",
    "    def countDifferentSubsequenceGCDs(self, nums: List[int]) -> int:\n",
    "        n = 0\n",
    "        ans = 0\n",
    "        arr = [0] * 200001\n",
    "        for num in nums: n, arr[num] = max(n, num), 1\n",
    "        for i in range(1, n + 1):\n",
    "            curr = i if arr[i] else 0\n",
    "            for k in range(2, n // i + 1):\n",
    "                if arr[k * i] == 1:\n",
    "                    if curr: curr = gcd(curr, k * i)\n",
    "                    else: curr = k * i\n",
    "                if curr and curr < i: break\n",
    "            if curr == i: ans += 1\n",
    "        return ans"
   ]
  },
  {
   "cell_type": "markdown",
   "id": "d3d620e6",
   "metadata": {},
   "source": [
    "### Approach - VII"
   ]
  },
  {
   "cell_type": "code",
   "execution_count": null,
   "id": "4c127996",
   "metadata": {},
   "outputs": [],
   "source": [
    "class Solution:\n",
    "    def countDifferentSubsequenceGCDs(self, nums: List[int]) -> int:\n",
    "\n",
    "        count = 0\n",
    "        nums.sort()\n",
    "        nums.reverse()\n",
    "        seen = [False]*(nums[0]+1)\n",
    "        for x in nums:\n",
    "            seen[x]= True \n",
    "        n = len(nums)\n",
    "\n",
    "        for i in range(1,nums[0]+1):\n",
    "            j = 1\n",
    "            gcd0 = 0\n",
    "            while i*j<= nums[0]:\n",
    "                if seen[i*j]:\n",
    "                    gcd0 = gcd(gcd0,i*j)\n",
    "                if gcd0 == i:\n",
    "                    count+=1\n",
    "                    break \n",
    "                j+=1\n",
    "        return count "
   ]
  }
 ],
 "metadata": {
  "kernelspec": {
   "display_name": "Python 3 (ipykernel)",
   "language": "python",
   "name": "python3"
  },
  "language_info": {
   "codemirror_mode": {
    "name": "ipython",
    "version": 3
   },
   "file_extension": ".py",
   "mimetype": "text/x-python",
   "name": "python",
   "nbconvert_exporter": "python",
   "pygments_lexer": "ipython3",
   "version": "3.9.13"
  }
 },
 "nbformat": 4,
 "nbformat_minor": 5
}
