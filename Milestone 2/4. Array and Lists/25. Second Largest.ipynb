{
 "cells": [
  {
   "cell_type": "markdown",
   "id": "6338a2e5",
   "metadata": {},
   "source": [
    "You are given an integer array A. You have to find the second largest element/value in the array or report that no such element exists.\n",
    "\n",
    "**Input Format**\n",
    "- The first argument is an integer array A.\n",
    "\n",
    "**Output Format**\n",
    "- Return the second largest element. If no such element exist then return -1.\n",
    "\n",
    "**Sample Input and Output**\n",
    "```\n",
    "Example Input\n",
    "Input 1:\n",
    "\n",
    " A = [2, 1, 2] \n",
    "Input 2:\n",
    "\n",
    " A = [2]\n",
    "\n",
    "\n",
    "Example Output\n",
    "Output 1:\n",
    "\n",
    " 1 \n",
    "Output 2:\n",
    "\n",
    " -1 \n",
    "\n",
    "\n",
    "Example Explanation\n",
    "Explanation 1:\n",
    "\n",
    " First largest element = 2\n",
    " Second largest element = 1\n",
    "Explanation 2:\n",
    "\n",
    " There is no second largest element in the array.\n",
    " ```"
   ]
  },
  {
   "cell_type": "code",
   "execution_count": null,
   "id": "970248a4",
   "metadata": {},
   "outputs": [],
   "source": [
    "class Solution:\n",
    "    # @param A : list of integers\n",
    "    # @return an integer\n",
    "    def solve(self, arr):\n",
    "        n = len(arr)\n",
    "        if (n < 2):\n",
    "            return -1\n",
    "        large = -1\n",
    "        second_large = -1\n",
    "        for i in range(n):\n",
    "            if (arr[i] > large):\n",
    "                second_large = large\n",
    "                large = arr[i]\n",
    "            elif (arr[i] > second_large and arr[i] != large):\n",
    "                second_large = arr[i]\n",
    "        return second_large"
   ]
  }
 ],
 "metadata": {
  "kernelspec": {
   "display_name": "Python 3 (ipykernel)",
   "language": "python",
   "name": "python3"
  },
  "language_info": {
   "codemirror_mode": {
    "name": "ipython",
    "version": 3
   },
   "file_extension": ".py",
   "mimetype": "text/x-python",
   "name": "python",
   "nbconvert_exporter": "python",
   "pygments_lexer": "ipython3",
   "version": "3.9.13"
  }
 },
 "nbformat": 4,
 "nbformat_minor": 5
}
