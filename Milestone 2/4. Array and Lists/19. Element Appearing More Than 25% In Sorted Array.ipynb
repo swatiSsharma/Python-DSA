{
 "cells": [
  {
   "cell_type": "markdown",
   "id": "169902b0",
   "metadata": {},
   "source": [
    "# 19. Element Appearing More Than 25% In Sorted Array\n",
    "\n",
    "Given an integer array sorted in non-decreasing order, there is exactly one integer in the array that occurs more than 25% of the time, return that integer.\n",
    "\n",
    "**Example 1:**\n",
    "```\n",
    "Input: arr = [1,2,2,6,6,6,6,7,10]\n",
    "Output: 6\n",
    "```\n",
    "**Example 2:**\n",
    "```\n",
    "Input: arr = [1,1]\n",
    "Output: 1\n",
    "```\n",
    "**Constraints:**\n",
    "```\n",
    "1 <= arr.length <= 10^4\n",
    "0 <= arr[i] <= 10^5\n",
    "```"
   ]
  },
  {
   "cell_type": "markdown",
   "id": "e83beadd",
   "metadata": {},
   "source": [
    "### Approach - I"
   ]
  },
  {
   "cell_type": "code",
   "execution_count": null,
   "id": "9dfe56ad",
   "metadata": {},
   "outputs": [],
   "source": [
    "class Solution:\n",
    "    def findSpecialInteger(self, arr: List[int]) -> int:\n",
    "        def find_first_last(arr, target):\n",
    "            # find first position\n",
    "            l, r = 0, len(arr) - 1\n",
    "            first = r\n",
    "            while l <= r:\n",
    "                m = (l + r) // 2\n",
    "                if arr[m] == target:\n",
    "                    first = m\n",
    "                    r = m - 1\n",
    "                elif arr[m] < target:\n",
    "                    l = m + 1\n",
    "                else:\n",
    "                    r = m - 1\n",
    "                    \n",
    "            # find last position\n",
    "            last = first\n",
    "            l, r = 0, len(arr) - 1\n",
    "            while l <= r:\n",
    "                m = l + (r - l) // 2\n",
    "                if arr[m] == target:\n",
    "                    last = m\n",
    "                    l = m + 1\n",
    "                elif arr[m] < target:\n",
    "                    l = m + 1\n",
    "                else:\n",
    "                    r = m - 1\n",
    "                    \n",
    "            return (first, last)\n",
    "    \n",
    "        # the value we are looking for must be the first element\n",
    "        # of one of the 4 blocks we divide arr in\n",
    "        for i in range(0, len(arr), max(1, len(arr) // 4)):\n",
    "            first, last = find_first_last(arr, arr[i])\n",
    "            if last - first + 1 > len(arr) // 4:\n",
    "                return arr[i]"
   ]
  },
  {
   "cell_type": "markdown",
   "id": "b78a9a63",
   "metadata": {},
   "source": [
    "### Approach - II"
   ]
  },
  {
   "cell_type": "code",
   "execution_count": null,
   "id": "65ce3c22",
   "metadata": {},
   "outputs": [],
   "source": [
    "class Solution:\n",
    "    def findSpecialInteger(self, arr: List[int]) -> int:\n",
    "        length = len(arr)\n",
    "\n",
    "        for number in arr:\n",
    "            if (arr.count(number) / length) > 0.25:\n",
    "                return number"
   ]
  },
  {
   "cell_type": "markdown",
   "id": "3e1dbec2",
   "metadata": {},
   "source": [
    "### Approach - III"
   ]
  },
  {
   "cell_type": "code",
   "execution_count": null,
   "id": "c47237f9",
   "metadata": {},
   "outputs": [],
   "source": [
    "class Solution:\n",
    "    def findSpecialInteger(self, arr: list[int]) -> int:\n",
    "        l = len(arr) / 4\n",
    "        counter = 0\n",
    "        prev = None\n",
    "        for num in arr:\n",
    "            if num == prev:\n",
    "                counter += 1\n",
    "                if counter > l:\n",
    "                    return num\n",
    "            else:\n",
    "                counter = 1\n",
    "            prev = num\n",
    "        return arr[0]"
   ]
  },
  {
   "cell_type": "markdown",
   "id": "f917ecb9",
   "metadata": {},
   "source": [
    "### Approach - IV"
   ]
  },
  {
   "cell_type": "code",
   "execution_count": null,
   "id": "060bda44",
   "metadata": {},
   "outputs": [],
   "source": [
    "class Solution:\n",
    "    def findSpecialInteger(self, arr: List[int]) -> int:\n",
    "        if len(arr) == 1:\n",
    "            return arr[0]\n",
    "        number_to_reach = len(arr) / 4\n",
    "        \n",
    "        ct = 0\n",
    "        currArrItem = arr[0]\n",
    "        for i in arr:\n",
    "            if ct > number_to_reach:\n",
    "                return currArrItem\n",
    "            if i != currArrItem:\n",
    "                ct = 1\n",
    "                currArrItem = i\n",
    "            else:\n",
    "                ct += 1\n",
    "        if ct > number_to_reach:\n",
    "            return currArrItem\n",
    "        return 0"
   ]
  }
 ],
 "metadata": {
  "kernelspec": {
   "display_name": "Python 3 (ipykernel)",
   "language": "python",
   "name": "python3"
  },
  "language_info": {
   "codemirror_mode": {
    "name": "ipython",
    "version": 3
   },
   "file_extension": ".py",
   "mimetype": "text/x-python",
   "name": "python",
   "nbconvert_exporter": "python",
   "pygments_lexer": "ipython3",
   "version": "3.9.13"
  }
 },
 "nbformat": 4,
 "nbformat_minor": 5
}
