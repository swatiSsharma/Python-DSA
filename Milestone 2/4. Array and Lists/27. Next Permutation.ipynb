{
 "cells": [
  {
   "cell_type": "markdown",
   "id": "854b37f3",
   "metadata": {},
   "source": [
    "# Next Permutation or Find next lexicographically greater permutation\n",
    "**Problem Statement:**\n",
    "Given an array Arr[] of integers, rearrange the numbers of the given array into the lexicographically next greater permutation of numbers.\n",
    "\n",
    "If such an arrangement is not possible, it must rearrange to the lowest possible order (i.e., sorted in ascending order).  \n",
    "\n",
    "**Examples**\n",
    "> Example 1 :\n",
    "```\n",
    "Input format: Arr[] = {1,3,2}\n",
    "Output: Arr[] = {2,1,3}\n",
    "Explanation: All permutations of {1,2,3} are {{1,2,3} , {1,3,2}, {2,13} , {2,3,1} , {3,1,2} , {3,2,1}}. So, the next permutation just after {1,3,2} is {2,1,3}.\n",
    "```\n",
    "> Example 2:\n",
    "```\n",
    "Input format: Arr[] = {3,2,1}\n",
    "Output: Arr[] = {1,2,3}\n",
    "Explanation: As we see all permutations of {1,2,3}, we find {3,2,1} at the last position. So, we have to return the topmost permutation.\n",
    "```"
   ]
  },
  {
   "cell_type": "code",
   "execution_count": 1,
   "id": "ba7f0aa7",
   "metadata": {},
   "outputs": [
    {
     "name": "stdout",
     "output_type": "stream",
     "text": [
      "The next permutation is: [2 3 0 0 1 4 5 ]\n"
     ]
    }
   ],
   "source": [
    "from typing import List\n",
    "\n",
    "def nextGreaterPermutation(A: List[int]) -> List[int]:\n",
    "    n = len(A) # size of the array.\n",
    "\n",
    "    # Step 1: Find the break point:\n",
    "    ind = -1 # break point\n",
    "    for i in range(n-2, -1, -1):\n",
    "        if A[i] < A[i + 1]:\n",
    "            # index i is the break point\n",
    "            ind = i\n",
    "            break\n",
    "\n",
    "    # If break point does not exist:\n",
    "    if ind == -1:\n",
    "        # reverse the whole array:\n",
    "        A.reverse()\n",
    "        return A\n",
    "\n",
    "    # Step 2: Find the next greater element\n",
    "    #         and swap it with arr[ind]:\n",
    "    for i in range(n - 1, ind, -1):\n",
    "        if A[i] > A[ind]:\n",
    "            A[i], A[ind] = A[ind], A[i]\n",
    "            break\n",
    "\n",
    "    # Step 3: reverse the right half:\n",
    "    A[ind+1:] = reversed(A[ind+1:])\n",
    "\n",
    "    return A\n",
    "\n",
    "if __name__ == \"__main__\":\n",
    "    A = [2, 1, 5, 4, 3, 0, 0]\n",
    "    ans = nextGreaterPermutation(A)\n",
    "\n",
    "    print(\"The next permutation is: [\", end=\"\")\n",
    "    for it in ans:\n",
    "        print(it, end=\" \")\n",
    "    print(\"]\")"
   ]
  }
 ],
 "metadata": {
  "kernelspec": {
   "display_name": "Python 3 (ipykernel)",
   "language": "python",
   "name": "python3"
  },
  "language_info": {
   "codemirror_mode": {
    "name": "ipython",
    "version": 3
   },
   "file_extension": ".py",
   "mimetype": "text/x-python",
   "name": "python",
   "nbconvert_exporter": "python",
   "pygments_lexer": "ipython3",
   "version": "3.9.13"
  }
 },
 "nbformat": 4,
 "nbformat_minor": 5
}
