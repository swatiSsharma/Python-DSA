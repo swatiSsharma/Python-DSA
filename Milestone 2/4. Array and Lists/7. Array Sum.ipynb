{
 "cells": [
  {
   "cell_type": "markdown",
   "id": "f902988d",
   "metadata": {},
   "source": [
    "### 7. Array Sum\n",
    "\n",
    "Given an array of length N, you need to find and print the sum of all elements of the array."
   ]
  },
  {
   "cell_type": "code",
   "execution_count": 1,
   "id": "387cd8f5",
   "metadata": {},
   "outputs": [
    {
     "name": "stdout",
     "output_type": "stream",
     "text": [
      "Enter the Size of List: 3\n",
      "Enter the integer elements: 9 8 9\n",
      "26\n"
     ]
    }
   ],
   "source": [
    "n = int(input('Enter the Size of List: '))\n",
    "print(sum(list(map(int,input('Enter the integer elements: ').split())))) \n"
   ]
  },
  {
   "cell_type": "code",
   "execution_count": 2,
   "id": "1404f30a",
   "metadata": {},
   "outputs": [
    {
     "name": "stdout",
     "output_type": "stream",
     "text": [
      "Enter the Size of List: 3\n",
      "Enter the integer elements: 9 8 9\n",
      "26\n"
     ]
    }
   ],
   "source": [
    "n = int(input(\"Enter the Size of List: \"))\n",
    "l = [int(x) for x in input('Enter the integer elements: ').split()]\n",
    "\n",
    "sum = 0\n",
    "for element in l:\n",
    "    sum += element\n",
    "print(sum)"
   ]
  }
 ],
 "metadata": {
  "kernelspec": {
   "display_name": "Python 3 (ipykernel)",
   "language": "python",
   "name": "python3"
  },
  "language_info": {
   "codemirror_mode": {
    "name": "ipython",
    "version": 3
   },
   "file_extension": ".py",
   "mimetype": "text/x-python",
   "name": "python",
   "nbconvert_exporter": "python",
   "pygments_lexer": "ipython3",
   "version": "3.9.13"
  }
 },
 "nbformat": 4,
 "nbformat_minor": 5
}
