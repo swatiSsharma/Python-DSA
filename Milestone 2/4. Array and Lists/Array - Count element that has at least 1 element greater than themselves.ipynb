{
 "cells": [
  {
   "cell_type": "code",
   "execution_count": null,
   "metadata": {},
   "outputs": [],
   "source": [
    "arr = [2,5,1,4,8,0,8,1,3,8]"
   ]
  },
  {
   "cell_type": "markdown",
   "metadata": {},
   "source": [
    "# Brute Force"
   ]
  },
  {
   "cell_type": "code",
   "execution_count": null,
   "metadata": {},
   "outputs": [],
   "source": [
    "count = 0\n",
    "for i in range(len(arr)):\n",
    "    for j in range(len(arr)):\n",
    "        if arr[i] < arr[j]:\n",
    "            count = count + 1\n",
    "            break\n",
    "print(count)"
   ]
  },
  {
   "cell_type": "markdown",
   "metadata": {},
   "source": [
    "# Optimised Approach\n",
    "\n",
    "-- find max element in the array  \n",
    "-- count the occurence of the max element  \n",
    "-- return length of array minus the count of max element  "
   ]
  },
  {
   "cell_type": "code",
   "execution_count": null,
   "metadata": {},
   "outputs": [],
   "source": [
    "max_ele = 0\n",
    "for ele in range(len(arr)):\n",
    "    if arr[ele] >= max_ele:\n",
    "        max_ele = arr[ele]\n",
    "count = 0\n",
    "for i in range(len(arr)):\n",
    "    if arr[i] == max_ele:\n",
    "        count += 1\n",
    "print(len(arr) - count)"
   ]
  }
 ],
 "metadata": {
  "kernelspec": {
   "display_name": "Python 3",
   "language": "python",
   "name": "python3"
  },
  "language_info": {
   "codemirror_mode": {
    "name": "ipython",
    "version": 3
   },
   "file_extension": ".py",
   "mimetype": "text/x-python",
   "name": "python",
   "nbconvert_exporter": "python",
   "pygments_lexer": "ipython3",
   "version": "3.7.6"
  }
 },
 "nbformat": 4,
 "nbformat_minor": 4
}
