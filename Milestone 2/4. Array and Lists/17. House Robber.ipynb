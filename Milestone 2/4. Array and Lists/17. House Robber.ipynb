{
 "cells": [
  {
   "cell_type": "markdown",
   "id": "22215214",
   "metadata": {},
   "source": [
    "# 17. House Robber\n",
    "\n",
    "You are a professional robber planning to rob houses along a street. Each house has a certain amount of money stashed, the only constraint stopping you from robbing each of them is that adjacent houses have security systems connected and it will automatically contact the police if two adjacent houses were broken into on the same night.\n",
    "\n",
    "Given an integer array nums representing the amount of money of each house, return the maximum amount of money you can rob tonight without alerting the police.\n",
    "\n",
    "**Example 1:**\n",
    "```\n",
    "Input: nums = [1,2,3,1]\n",
    "Output: 4\n",
    "Explanation: Rob house 1 (money = 1) and then rob house 3 (money = 3).\n",
    "Total amount you can rob = 1 + 3 = 4.\n",
    "```\n",
    "**Example 2:**\n",
    "```\n",
    "Input: nums = [2,7,9,3,1]\n",
    "Output: 12\n",
    "Explanation: Rob house 1 (money = 2), rob house 3 (money = 9) and rob house 5 (money = 1).\n",
    "Total amount you can rob = 2 + 9 + 1 = 12.\n",
    "``` \n",
    "**Constraints:**\n",
    "```\n",
    "1 <= nums.length <= 100\n",
    "0 <= nums[i] <= 400\n",
    "```"
   ]
  },
  {
   "cell_type": "markdown",
   "id": "e1af3060",
   "metadata": {},
   "source": [
    "### Approach - I"
   ]
  },
  {
   "cell_type": "code",
   "execution_count": null,
   "id": "08d7dfca",
   "metadata": {},
   "outputs": [],
   "source": [
    "class Solution:\n",
    "    def rob(self, nums: List[int]) -> int:\n",
    "        rob1 , rob2 = 0,0\n",
    "\n",
    "        for n in nums:\n",
    "            temp = max(n+rob1, rob2)\n",
    "\n",
    "            rob1 = rob2\n",
    "            rob2 = temp\n",
    "        \n",
    "        return rob2"
   ]
  },
  {
   "cell_type": "markdown",
   "id": "cb510866",
   "metadata": {},
   "source": [
    "### Approach - II"
   ]
  },
  {
   "cell_type": "code",
   "execution_count": null,
   "id": "7f7c88e7",
   "metadata": {},
   "outputs": [],
   "source": [
    "class Solution:\n",
    "    def rob(self, nums: List[int]) -> int:\n",
    "        max_profits = [nums[0], max(nums[:2])]\n",
    "\n",
    "        for i in range(2, len(nums)):\n",
    "            max_profit = max(max_profits[-2] + nums[i], max_profits[-1])\n",
    "            max_profits.append(max_profit)\n",
    "\n",
    "        return max(max_profits)"
   ]
  },
  {
   "cell_type": "markdown",
   "id": "675b8ff2",
   "metadata": {},
   "source": [
    "### Approach - III"
   ]
  },
  {
   "cell_type": "code",
   "execution_count": null,
   "id": "fd84bc78",
   "metadata": {},
   "outputs": [],
   "source": [
    "class Solution:\n",
    "    def rob(self, nums: List[int]) -> int:\n",
    "        n=len(nums)\n",
    "        memo=[0 for i in range(n+1)]\n",
    "        memo[n-1]=nums[n-1]\n",
    "        for i in range(n-2,-1,-1):\n",
    "            memo[i]=max(nums[i]+memo[i+2],memo[i+1])\n",
    "            i-=1\n",
    "        return memo[0]"
   ]
  },
  {
   "cell_type": "markdown",
   "id": "a34d1065",
   "metadata": {},
   "source": [
    "### Approach - IV"
   ]
  },
  {
   "cell_type": "code",
   "execution_count": null,
   "id": "4cff7880",
   "metadata": {},
   "outputs": [],
   "source": [
    "class Solution:\n",
    "    def rob(self, nums: List[int]) -> int:\n",
    "# ###### Recursion without memoization ########\n",
    "         def backtracking(i):\n",
    "             if i>len(nums)-1:\n",
    "                 return 0\n",
    "            return max(nums[i]+ backtracking(i+2), backtracking(i+1))\n",
    "        \n",
    "         return backtracking(0)"
   ]
  },
  {
   "cell_type": "markdown",
   "id": "35666a1b",
   "metadata": {},
   "source": [
    "### Approach - V"
   ]
  },
  {
   "cell_type": "code",
   "execution_count": null,
   "id": "453e24a3",
   "metadata": {},
   "outputs": [],
   "source": [
    "class Solution:\n",
    "    def rob(self, nums: List[int]) -> int:\n",
    "# ###### DP with 2 variables ########\n",
    "        if not nums:\n",
    "            return 0\n",
    "        \n",
    "        N = len(nums)\n",
    "        \n",
    "        prev = 0\n",
    "        prevprev = 0\n",
    "        \n",
    "        # DP table calculations.\n",
    "        for val in nums:\n",
    "            \n",
    "            # Same as recursive solution.\n",
    "            currentMax = max(prev, prevprev + val)\n",
    "            \n",
    "            # Update the variables\n",
    "            prevprev = prev\n",
    "            prev = currentMax\n",
    "            \n",
    "        return prev"
   ]
  },
  {
   "cell_type": "markdown",
   "id": "6dce1faa",
   "metadata": {},
   "source": [
    "### Approach - VI"
   ]
  },
  {
   "cell_type": "code",
   "execution_count": null,
   "id": "a9729811",
   "metadata": {},
   "outputs": [],
   "source": [
    "class Solution:\n",
    "    def rob(self, nums: List[int]) -> int:\n",
    "# ###### Recursion with memoization ########\n",
    "         self.memo = {}\n",
    "        return self.robFrom(0, nums)\n",
    "\n",
    "     def robFrom(self, i, nums):\n",
    "            \n",
    "        if i>=len(nums):\n",
    "            return 0\n",
    "\n",
    "        if i in self.memo:\n",
    "            return self.memo[i]\n",
    "\n",
    "        ans= max(nums[i] + self.robFrom(i+2, nums), self.robFrom(i+1, nums))\n",
    "        self.memo[i] = ans\n",
    "        return ans    \n"
   ]
  },
  {
   "cell_type": "markdown",
   "id": "6ff88874",
   "metadata": {},
   "source": [
    "### Approach - VII"
   ]
  },
  {
   "cell_type": "code",
   "execution_count": null,
   "id": "ef7db1d0",
   "metadata": {},
   "outputs": [],
   "source": [
    "class Solution:\n",
    "    def rob(self, nums: List[int]) -> int:\n",
    "# ###### DP with 1-D array ########\n",
    "        if not nums:\n",
    "            return 0\n",
    "        n = len(nums)\n",
    "        maxRobbedAmount = [0 for _ in range(n+1)]\n",
    "        maxRobbedAmount[n-1] = nums[n-1]\n",
    "\n",
    "        for i in range(n-2, -1, -1):\n",
    "            maxRobbedAmount[i] = max(maxRobbedAmount[i+1], maxRobbedAmount[i+2]+nums[i])\n",
    "        print(maxRobbedAmount)\n",
    "        return maxRobbedAmount[0]"
   ]
  },
  {
   "cell_type": "markdown",
   "id": "793f9dbd",
   "metadata": {},
   "source": [
    "### Approach - VIII"
   ]
  },
  {
   "cell_type": "code",
   "execution_count": null,
   "id": "80bf6665",
   "metadata": {},
   "outputs": [],
   "source": [
    "class Solution:\n",
    "    def rob(self, nums):\n",
    "        count = len(nums)\n",
    "        if count == 0:\n",
    "            return 0\n",
    "        elif count == 1:\n",
    "            return nums[0]\n",
    "        elif count == 2: \n",
    "            return max(nums[0], nums[1])\n",
    "        \n",
    "        memo = nums[:] # copy\n",
    "        memo[1] = max(nums[0], nums[1])\n",
    "        \n",
    "        for i in range(2, count):\n",
    "            memo[i] = max(memo[i-1], nums[i] + memo[i-2]) \n",
    "        \n",
    "        return memo[count-1]"
   ]
  }
 ],
 "metadata": {
  "kernelspec": {
   "display_name": "Python 3 (ipykernel)",
   "language": "python",
   "name": "python3"
  },
  "language_info": {
   "codemirror_mode": {
    "name": "ipython",
    "version": 3
   },
   "file_extension": ".py",
   "mimetype": "text/x-python",
   "name": "python",
   "nbconvert_exporter": "python",
   "pygments_lexer": "ipython3",
   "version": "3.9.13"
  }
 },
 "nbformat": 4,
 "nbformat_minor": 5
}
