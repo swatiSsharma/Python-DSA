{
 "cells": [
  {
   "cell_type": "markdown",
   "id": "a4c5e6d7",
   "metadata": {},
   "source": [
    "# 21. Remove Element\n",
    "\n",
    "Given an integer array nums and an integer val, remove all occurrences of val in nums in-place. The relative order of the elements may be changed.\n",
    "\n",
    "Since it is impossible to change the length of the array in some languages, you must instead have the result be placed in the first part of the array nums. More formally, if there are k elements after removing the duplicates, then the first k elements of nums should hold the final result. It does not matter what you leave beyond the first k elements.\n",
    "\n",
    "Return k after placing the final result in the first k slots of nums.\n",
    "\n",
    "Do not allocate extra space for another array. You must do this by modifying the input array in-place with O(1) extra memory.\n",
    "\n",
    "**Custom Judge:**\n",
    "```\n",
    "The judge will test your solution with the following code:\n",
    "\n",
    "int[] nums = [...]; // Input array\n",
    "int val = ...; // Value to remove\n",
    "int[] expectedNums = [...]; // The expected answer with correct length.\n",
    "                            // It is sorted with no values equaling val.\n",
    "\n",
    "int k = removeElement(nums, val); // Calls your implementation\n",
    "\n",
    "assert k == expectedNums.length;\n",
    "sort(nums, 0, k); // Sort the first k elements of nums\n",
    "for (int i = 0; i < actualLength; i++) {\n",
    "    assert nums[i] == expectedNums[i];\n",
    "}\n",
    "If all assertions pass, then your solution will be accepted.\n",
    "```\n",
    "\n",
    "**Example 1:**\n",
    "```\n",
    "Input: nums = [3,2,2,3], val = 3\n",
    "Output: 2, nums = [2,2,_,_]\n",
    "Explanation: Your function should return k = 2, with the first two elements of nums being 2.\n",
    "It does not matter what you leave beyond the returned k (hence they are underscores).\n",
    "```\n",
    "**Example 2:**\n",
    "```\n",
    "Input: nums = [0,1,2,2,3,0,4,2], val = 2\n",
    "Output: 5, nums = [0,1,4,0,3,_,_,_]\n",
    "Explanation: Your function should return k = 5, with the first five elements of nums containing 0, 0, 1, 3, and 4.\n",
    "Note that the five elements can be returned in any order.\n",
    "It does not matter what you leave beyond the returned k (hence they are underscores).\n",
    "```\n",
    "**Constraints:**\n",
    "```\n",
    "0 <= nums.length <= 100\n",
    "0 <= nums[i] <= 50\n",
    "0 <= val <= 100\n",
    "```"
   ]
  },
  {
   "cell_type": "markdown",
   "id": "4b005a90",
   "metadata": {},
   "source": [
    "### Approach - I"
   ]
  },
  {
   "cell_type": "code",
   "execution_count": null,
   "id": "9a2bc8b3",
   "metadata": {},
   "outputs": [],
   "source": [
    "class Solution:\n",
    "    def removeElement(self, nums: List[int], val: int) -> int:\n",
    "        \"\"\"\n",
    "        :type nums: List[int]\n",
    "        :type val: int\n",
    "        :rtype: int\n",
    "        \"\"\"\n",
    "        for i in range(nums.count(val)):  # loop how many val is in the list\n",
    "            nums.remove(val)  # remove each val one by one\n",
    "        return len(nums)  # return len of nums"
   ]
  },
  {
   "cell_type": "markdown",
   "id": "85f01853",
   "metadata": {},
   "source": [
    "### Approach - II"
   ]
  },
  {
   "cell_type": "code",
   "execution_count": null,
   "id": "7f0ed8ba",
   "metadata": {},
   "outputs": [],
   "source": [
    "class Solution:\n",
    "    def removeElement(self, nums: List[int], val: int) -> int:\n",
    "        k=0\n",
    "        flag=True\n",
    "        if len(nums)>0:\n",
    "            while flag!=False:\n",
    "                if nums[k]==val:\n",
    "                    nums.pop(k)\n",
    "                else:\n",
    "                    k+=1\n",
    "                if k>=len(nums):\n",
    "                    flag=False\n",
    "            return len(nums)\n",
    "        else:\n",
    "            return 0"
   ]
  },
  {
   "cell_type": "markdown",
   "id": "47c6fd9a",
   "metadata": {},
   "source": [
    "### Approach - III"
   ]
  },
  {
   "cell_type": "code",
   "execution_count": null,
   "id": "eef47773",
   "metadata": {},
   "outputs": [],
   "source": [
    "class Solution:\n",
    "    def removeElement(self, nums: List[int], val: int) -> int:\n",
    "        i = 0\n",
    "        for m in nums:\n",
    "            if m != val:\n",
    "                nums[i] = m\n",
    "                i += 1\n",
    "        return i"
   ]
  },
  {
   "cell_type": "markdown",
   "id": "1d19ba85",
   "metadata": {},
   "source": [
    "### Approach - IV"
   ]
  },
  {
   "cell_type": "code",
   "execution_count": null,
   "id": "9d093e5c",
   "metadata": {},
   "outputs": [],
   "source": [
    "class Solution:\n",
    "    def removeElement(self, nums: List[int], val: int) -> int:\n",
    "        length = len(nums)\n",
    "        i = 0\n",
    "        while i<length:\n",
    "            if nums[i] == val:\n",
    "                del(nums[i])\n",
    "                i -= 1\n",
    "                length -=1\n",
    "            i += 1\n",
    "        return length"
   ]
  },
  {
   "cell_type": "markdown",
   "id": "522ba303",
   "metadata": {},
   "source": [
    "### Approach - V"
   ]
  },
  {
   "cell_type": "code",
   "execution_count": null,
   "id": "26bb8598",
   "metadata": {},
   "outputs": [],
   "source": [
    "class Solution:\n",
    "    def removeElement(self, nums: List[int], val: int) -> int:\n",
    "        while nums.count(val) > 0:\n",
    "            nums.remove(val)  "
   ]
  },
  {
   "cell_type": "markdown",
   "id": "9af7023c",
   "metadata": {},
   "source": [
    "### Approach - VI"
   ]
  },
  {
   "cell_type": "code",
   "execution_count": null,
   "id": "5cb47c90",
   "metadata": {},
   "outputs": [],
   "source": [
    "class Solution:\n",
    "    def removeElement(self, nums: List[int], val: int) -> int:\n",
    "        low = 0 \n",
    "        high =len(nums)-1\n",
    "        while low <= high:\n",
    "            if nums[low] != val:\n",
    "                low=low + 1\n",
    "    \n",
    "            else:\n",
    "                temp =nums[high]\n",
    "                nums[low]=nums[high]\n",
    "                nums[high]=temp\n",
    "                high  =high - 1\n",
    "\n",
    "        return high+1"
   ]
  },
  {
   "cell_type": "markdown",
   "id": "f6f45fa5",
   "metadata": {},
   "source": [
    "### Approach - VII"
   ]
  },
  {
   "cell_type": "code",
   "execution_count": null,
   "id": "7f7a75b4",
   "metadata": {},
   "outputs": [],
   "source": [
    "class Solution:\n",
    "    def removeElement(self, nums: List[int], val: int) -> int:\n",
    "        count = 0\n",
    "        for i in range(len(nums)):\n",
    "            if nums[i] != val:\n",
    "                nums[count] = nums[i]\n",
    "                count += 1\n",
    "        return count"
   ]
  }
 ],
 "metadata": {
  "kernelspec": {
   "display_name": "Python 3 (ipykernel)",
   "language": "python",
   "name": "python3"
  },
  "language_info": {
   "codemirror_mode": {
    "name": "ipython",
    "version": 3
   },
   "file_extension": ".py",
   "mimetype": "text/x-python",
   "name": "python",
   "nbconvert_exporter": "python",
   "pygments_lexer": "ipython3",
   "version": "3.9.13"
  }
 },
 "nbformat": 4,
 "nbformat_minor": 5
}
