{
 "cells": [
  {
   "cell_type": "markdown",
   "id": "ef88355d",
   "metadata": {},
   "source": [
    "# 18. Search in Rotated Sorted Array\n",
    "\n",
    "There is an integer array nums sorted in ascending order (with distinct values).\n",
    "\n",
    "Prior to being passed to your function, nums is possibly rotated at an unknown pivot index k (1 <= k < nums.length) such that the resulting array is [nums[k], nums[k+1], ..., nums[n-1], nums[0], nums[1], ..., nums[k-1]] (0-indexed). For example, [0,1,2,4,5,6,7] might be rotated at pivot index 3 and become [4,5,6,7,0,1,2].\n",
    "\n",
    "Given the array nums after the possible rotation and an integer target, return the index of target if it is in nums, or -1 if it is not in nums.\n",
    "\n",
    "You must write an algorithm with O(log n) runtime complexity.\n",
    "\n",
    "**Example 1:**\n",
    "```\n",
    "Input: nums = [4,5,6,7,0,1,2], target = 0\n",
    "Output: 4\n",
    "```\n",
    "**Example 2:**\n",
    "```\n",
    "Input: nums = [4,5,6,7,0,1,2], target = 3\n",
    "Output: -1\n",
    "```\n",
    "**Example 3:**\n",
    "```\n",
    "Input: nums = [1], target = 0\n",
    "Output: -1\n",
    "```\n",
    "\n",
    "**Constraints:**\n",
    "```\n",
    "1 <= nums.length <= 5000\n",
    "-104 <= nums[i] <= 104\n",
    "All values of nums are unique.\n",
    "nums is an ascending array that is possibly rotated.\n",
    "-104 <= target <= 104\n",
    "```"
   ]
  },
  {
   "cell_type": "markdown",
   "id": "ed8e2983",
   "metadata": {},
   "source": [
    "### Approach - I"
   ]
  },
  {
   "cell_type": "code",
   "execution_count": null,
   "id": "87232770",
   "metadata": {},
   "outputs": [],
   "source": [
    "class Solution:\n",
    "    def search(self, nums: List[int], target: int) -> int:\n",
    "\n",
    "        if not nums: return -1\n",
    "        left  = 0;\n",
    "        right = len(nums) - 1\n",
    "        while left <= right:\n",
    "            mid  = (left + right) // 2\n",
    "            if target == nums[mid]: return mid\n",
    "            if nums[left] <= nums[mid]:\n",
    "                if target >= nums[left] and target <= nums[mid]: right = mid - 1\n",
    "                else: left = mid + 1\n",
    "            else:\n",
    "                if target >= nums[mid] and target <= nums[right]: left = mid + 1\n",
    "                else: right = mid - 1\n",
    "        return -1"
   ]
  },
  {
   "cell_type": "markdown",
   "id": "34dfbfe9",
   "metadata": {},
   "source": [
    "### Approach - II"
   ]
  },
  {
   "cell_type": "code",
   "execution_count": null,
   "id": "45d7cf33",
   "metadata": {},
   "outputs": [],
   "source": [
    "class Solution:\n",
    "    def search(self, nums: List[int], target: int) -> int:\n",
    "        start, end = 0, len(nums)\n",
    "        while end-start>0:\n",
    "            mid = (start+end)// 2\n",
    "            if nums[mid] == target:\n",
    "                return mid\n",
    "            elif nums[mid] >= nums[start]:\n",
    "                if target >= nums[start] and target < nums[mid]:\n",
    "                    end = mid\n",
    "                else:\n",
    "                    start = mid + 1\n",
    "            else:\n",
    "                if target <= nums[end-1] and target > nums[mid]:\n",
    "                    start = mid + 1\n",
    "                else:\n",
    "                    end = mid\n",
    "        return -1"
   ]
  },
  {
   "cell_type": "markdown",
   "id": "aaa19026",
   "metadata": {},
   "source": [
    "### Approach - III"
   ]
  },
  {
   "cell_type": "code",
   "execution_count": null,
   "id": "6ffa7cb6",
   "metadata": {},
   "outputs": [],
   "source": [
    "class Solution:\n",
    "    def search(self, nums: List[int], target: int) -> int:\n",
    "        left = 0\n",
    "        right = len(nums) - 1\n",
    "        middle = (left + right) // 2\n",
    "\n",
    "        # [1, 2, 3, 4, 5]\n",
    "        # [2, 3, 4, 5, 1]\n",
    "\n",
    "        # [3, 4, 5, 1, 2]\n",
    "        # [4, 5, 1, 2, 3]\n",
    "\n",
    "        # [5, 1, 2, 3, 4]\n",
    "\n",
    "        # target = 2\n",
    "\n",
    "\n",
    "        while True:\n",
    "\n",
    "            print(\"left: \" + str(left))\n",
    "            print(\"middle: \" + str(middle))\n",
    "            print(\"right: \" + str(right))\n",
    "            print()\n",
    "\n",
    "            if nums[middle] == target:\n",
    "                return middle\n",
    "            if left == right:\n",
    "                if nums[left] == target:\n",
    "                    return left\n",
    "                else:\n",
    "                    return -1\n",
    "            elif right - left == 1:\n",
    "                if nums[left] == target:\n",
    "                    return left\n",
    "                elif nums[right] == target:\n",
    "                    return right\n",
    "                else:\n",
    "                    return -1\n",
    "            \n",
    "            if nums[middle] > nums[right]:\n",
    "                # left section\n",
    "                if target < nums[middle] and target >= nums[left]:\n",
    "                    # search left side\n",
    "                    right = middle\n",
    "                    middle = (left + right) // 2\n",
    "                else:\n",
    "                    # search right side\n",
    "                    left = middle\n",
    "                    middle = (left + right) // 2\n",
    "            else:\n",
    "                # right section\n",
    "                if target > nums[middle] and target <= nums[right]:\n",
    "                    # search right side\n",
    "                    left = middle\n",
    "                    middle = (left + right) // 2\n",
    "                else:\n",
    "                    # search left side\n",
    "                    right = middle\n",
    "                    middle = (left + right) // 2"
   ]
  },
  {
   "cell_type": "markdown",
   "id": "25598d2f",
   "metadata": {},
   "source": [
    "### Approach - IV"
   ]
  },
  {
   "cell_type": "code",
   "execution_count": null,
   "id": "7bde5be4",
   "metadata": {},
   "outputs": [],
   "source": [
    "class Solution:\n",
    "    def search(self, nums: List[int], target: int) -> int:\n",
    "        if target in nums:\n",
    "            return nums.index(target)\n",
    "        else:\n",
    "            return -1"
   ]
  }
 ],
 "metadata": {
  "kernelspec": {
   "display_name": "Python 3 (ipykernel)",
   "language": "python",
   "name": "python3"
  },
  "language_info": {
   "codemirror_mode": {
    "name": "ipython",
    "version": 3
   },
   "file_extension": ".py",
   "mimetype": "text/x-python",
   "name": "python",
   "nbconvert_exporter": "python",
   "pygments_lexer": "ipython3",
   "version": "3.9.13"
  }
 },
 "nbformat": 4,
 "nbformat_minor": 5
}
