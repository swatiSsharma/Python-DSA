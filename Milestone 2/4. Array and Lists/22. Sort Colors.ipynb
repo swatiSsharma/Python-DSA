{
 "cells": [
  {
   "cell_type": "markdown",
   "id": "eb4e1ba5",
   "metadata": {},
   "source": [
    "# 22. Sort Colors\n",
    "\n",
    "Given an array nums with n objects colored red, white, or blue, sort them in-place so that objects of the same color are adjacent, with the colors in the order red, white, and blue.\n",
    "\n",
    "We will use the integers 0, 1, and 2 to represent the color red, white, and blue, respectively.\n",
    "\n",
    "You must solve this problem without using the library's sort function.\n",
    "\n",
    "**Example 1:**\n",
    "```\n",
    "Input: nums = [2,0,2,1,1,0]\n",
    "Output: [0,0,1,1,2,2]\n",
    "```\n",
    "**Example 2:**\n",
    "```\n",
    "Input: nums = [2,0,1]\n",
    "Output: [0,1,2]\n",
    "```\n",
    "**Constraints:**\n",
    "```\n",
    "    n == nums.length\n",
    "    1 <= n <= 300\n",
    "    nums[i] is either 0, 1, or 2.\n",
    "```\n",
    "Follow up: Could you come up with a one-pass algorithm using only constant extra space?"
   ]
  },
  {
   "cell_type": "markdown",
   "id": "9ec29092",
   "metadata": {},
   "source": [
    "### Approach - I"
   ]
  },
  {
   "cell_type": "code",
   "execution_count": null,
   "id": "b4ccd252",
   "metadata": {},
   "outputs": [],
   "source": [
    "class Solution:\n",
    "    def sortColors(self, nums: List[int]) -> None:\n",
    "        \"\"\"\n",
    "        Do not return anything, modify nums in-place instead.\n",
    "        \"\"\"\n",
    "\n",
    "        \"\"\"\n",
    "        :type nums: List[int]\n",
    "        :rtype: None Do not return anything, modify nums in-place instead.\n",
    "        \"\"\"\n",
    "        low = 0\n",
    "        high = len(nums) - 1\n",
    "        i = 0\n",
    "        while i <= high:\n",
    "            if nums[i] == 0:\n",
    "                nums[low], nums[i] = nums[i], nums[low]\n",
    "                low += 1\n",
    "                i += 1\n",
    "            elif nums[i] == 2:\n",
    "                nums[i], nums[high] = nums[high], nums[i]\n",
    "                high -= 1\n",
    "            else: i += 1\n",
    "\n",
    "        return nums"
   ]
  },
  {
   "cell_type": "markdown",
   "id": "ddf37873",
   "metadata": {},
   "source": [
    "### Approach - II"
   ]
  },
  {
   "cell_type": "code",
   "execution_count": null,
   "id": "c297fc31",
   "metadata": {},
   "outputs": [],
   "source": [
    "class Solution:\n",
    "    def sortColors(self, nums: List[int]) -> None:\n",
    "        start = 0\n",
    "\n",
    "        for pivot in range(0, 2):\n",
    "            for i in range(start, len(nums)):\n",
    "                if nums[i] <= pivot:\n",
    "                    nums[start], nums[i] = nums[i], nums[start]\n",
    "                    start += 1\n",
    "        return nums"
   ]
  },
  {
   "cell_type": "markdown",
   "id": "0c8cc298",
   "metadata": {},
   "source": [
    "### Approach - III"
   ]
  },
  {
   "cell_type": "code",
   "execution_count": null,
   "id": "d2f3731e",
   "metadata": {},
   "outputs": [],
   "source": [
    "class Solution:\n",
    "\n",
    "    def sortColors(self, nums: List[int]) -> None:\n",
    "        \"\"\"\n",
    "        Do not return anything, modify nums in-place instead.\n",
    "        \"\"\"\n",
    "        def swap(nums: List[int], a: int, b: int):\n",
    "            temp = nums[a]\n",
    "            nums[a] = nums[b]\n",
    "            nums[b] = temp\n",
    "        start: int = 0\n",
    "        middle: int = 0\n",
    "        end: int = len(nums) - 1\n",
    "        while middle <= end:\n",
    "            currentValue: int = nums[middle]\n",
    "            if currentValue == 0:\n",
    "                if start == middle: \n",
    "                    start = start + 1\n",
    "                    middle = middle + 1\n",
    "                else:\n",
    "                    swap(nums, start, middle)\n",
    "                    start = start + 1\n",
    "                    continue\n",
    "            elif currentValue == 1:\n",
    "                middle = middle + 1\n",
    "            else:\n",
    "                swap(nums, middle, end)\n",
    "                end = end - 1\n",
    "        "
   ]
  },
  {
   "cell_type": "markdown",
   "id": "b362b56a",
   "metadata": {},
   "source": [
    "### Approach - IV"
   ]
  },
  {
   "cell_type": "code",
   "execution_count": null,
   "id": "e726cb1f",
   "metadata": {},
   "outputs": [],
   "source": [
    "class Solution:\n",
    "    def sortColors(self, nums: List[int]) -> None:\n",
    "        \"\"\"\n",
    "        Do not return anything, modify nums in-place instead.\n",
    "        \"\"\"\n",
    "        red, white, blue = 0, 0, len(nums) - 1\n",
    "\n",
    "        while white <= blue:\n",
    "            if nums[white] == 0:\n",
    "                nums[white], nums[red] = nums[red], nums[white]\n",
    "                red += 1\n",
    "                white += 1\n",
    "            elif nums[white] == 1:\n",
    "                white += 1\n",
    "            else:\n",
    "                nums[white], nums[blue] = nums[blue], nums[white]\n",
    "                blue -= 1\n",
    "        "
   ]
  },
  {
   "cell_type": "markdown",
   "id": "1121f079",
   "metadata": {},
   "source": [
    "### Approach - V"
   ]
  },
  {
   "cell_type": "code",
   "execution_count": null,
   "id": "8d5a8124",
   "metadata": {},
   "outputs": [],
   "source": [
    "class Solution:\n",
    "    def sortColors(self, nums: List[int]) -> None:\n",
    "        \"\"\"\n",
    "        Do not return anything, modify nums in-place instead.\n",
    "        \"\"\"\n",
    "        place = 0\n",
    "        hm = Counter(nums)\n",
    "        for _ in range(hm[0]):\n",
    "            nums[place] = 0\n",
    "            place += 1\n",
    "        for _ in range(hm[1]):\n",
    "            nums[place] = 1\n",
    "            place +=1\n",
    "        for _ in range(hm[2]):\n",
    "            nums[place] = 2\n",
    "            place +=1\n",
    "        "
   ]
  },
  {
   "cell_type": "markdown",
   "id": "3c07a9a1",
   "metadata": {},
   "source": [
    "### Approach - VI"
   ]
  },
  {
   "cell_type": "code",
   "execution_count": null,
   "id": "a0601c9f",
   "metadata": {},
   "outputs": [],
   "source": [
    "class Solution:\n",
    "    def sortColors(self, nums: List[int]) -> None:\n",
    "        \"\"\"\n",
    "        Do not return anything, modify nums in-place instead.\n",
    "        \"\"\"\n",
    "        count = [0] * 3\n",
    "        for n in nums:\n",
    "            count[n] +=1\n",
    "        index = 0\n",
    "        for i in range(len(count)):\n",
    "            for j in range(count[i]):\n",
    "                nums[index] = i\n",
    "                index +=1\n",
    "        return nums"
   ]
  }
 ],
 "metadata": {
  "kernelspec": {
   "display_name": "Python 3 (ipykernel)",
   "language": "python",
   "name": "python3"
  },
  "language_info": {
   "codemirror_mode": {
    "name": "ipython",
    "version": 3
   },
   "file_extension": ".py",
   "mimetype": "text/x-python",
   "name": "python",
   "nbconvert_exporter": "python",
   "pygments_lexer": "ipython3",
   "version": "3.9.13"
  }
 },
 "nbformat": 4,
 "nbformat_minor": 5
}
