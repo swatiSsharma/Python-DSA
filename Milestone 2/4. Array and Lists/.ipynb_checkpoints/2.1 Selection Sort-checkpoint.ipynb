{
 "cells": [
  {
   "cell_type": "markdown",
   "id": "ee9e7291",
   "metadata": {},
   "source": [
    "# Selection Sort\n",
    "\n",
    "**Selection sort** is a simple and efficient sorting algorithm that works by repeatedly selecting the smallest (or largest) element from the unsorted portion of the list and moving it to the sorted portion of the list. \n",
    "\n",
    "The algorithm repeatedly selects the smallest (or largest) element from the unsorted portion of the list and swaps it with the first element of the unsorted part. This process is repeated for the remaining unsorted portion until the entire list is sorted. \n",
    "\n",
    "### Approach:\n",
    "\n",
    "The algorithm steps are as follows:\n",
    "\n",
    "- First, we will select the range of the unsorted array using a loop (say i) that indicates the starting index of the range.\n",
    "The loop will run forward from 0 to n-1. The value i = 0 means the range is from 0 to n-1, and similarly, i = 1 means the range is from 1 to n-1, and so on.\n",
    "***(Initially, the range will be the whole array starting from the first index.)***\n",
    "- Now, in each iteration, we will select the minimum element from the range of the unsorted array using an inner loop.\n",
    "- After that, we will swap the minimum element with the first element of the selected range(in step 1). \n",
    "- Finally, after each iteration, we will find that the array is sorted up to the first index of the range. \n",
    "\n",
    "**Note:**  \n",
    "***Here, after each iteration, the array becomes sorted up to the first index of the range. That is why the starting index of the range increases by 1 after each iteration. This increment is achieved by the outer loop and the starting index is represented by variable i in the following code. And the inner loop(i.e. j) helps to find the minimum element of the range [i…..n-1].***"
   ]
  },
  {
   "cell_type": "markdown",
   "id": "939b05d9",
   "metadata": {},
   "source": [
    "## Default Selection Sort Algorithm"
   ]
  },
  {
   "cell_type": "code",
   "execution_count": 1,
   "id": "18ec8b9d",
   "metadata": {},
   "outputs": [],
   "source": [
    "def selectionSort(arr, n):\n",
    "    # Traverse through all array elements\n",
    "    for i in range(n):\n",
    "         \n",
    "        # Find the minimum element in remaining unsorted array\n",
    "        min_idx = i\n",
    "        for j in range(i+1, len(arr)):\n",
    "            if arr[min_idx] > arr[j]:\n",
    "                min_idx = j\n",
    "                 \n",
    "        # Swap the found minimum element with the first element       \n",
    "        arr[i], arr[min_idx] = arr[min_idx], arr[i]\n",
    "        \n",
    "    return arr\n"
   ]
  },
  {
   "cell_type": "code",
   "execution_count": 2,
   "id": "2448c6ef",
   "metadata": {},
   "outputs": [
    {
     "name": "stdout",
     "output_type": "stream",
     "text": [
      "Sorted array:\n",
      "11 12 22 25 64 "
     ]
    }
   ],
   "source": [
    "# Driver code\n",
    "A = [64, 25, 12, 22, 11]\n",
    "print (\"Sorted array:\")\n",
    "\n",
    "arr = selectionSort(A,len(A))\n",
    "for i in range(len(arr)):\n",
    "    print(\"%d\" %arr[i],end=\" \")"
   ]
  },
  {
   "cell_type": "markdown",
   "id": "22dccd04",
   "metadata": {},
   "source": [
    ">**Complexity Analysis of Selection Sort**\n",
    "\n",
    "- ***Time Complexity:*** The time complexity of Selection Sort is **O(N^2)** as there are two nested loops:\n",
    "\n",
    "One loop to select an element of Array one by one = O(N)\n",
    "Another loop to compare that element with every other Array element = O(N)\n",
    "Therefore overall complexity = O(N) * O(N) = O(N*N) = O(N^2)\n",
    "- ***Auxiliary Space:*** **O(1)** as the only extra memory used is for temporary variables while swapping two values in Array. The selection sort never makes more than O(N) swaps and can be useful when memory writing is costly. \n",
    "\n",
    ">**Advantages of Selection Sort Algorithm**\n",
    "\n",
    "- Simple and easy to understand.\n",
    "- Works well with small datasets.\n",
    "\n",
    ">**Disadvantages of the Selection Sort Algorithm**\n",
    "\n",
    "- Selection sort has a time complexity of O(n^2) in the worst and average case.\n",
    "- Does not work well on large datasets.\n",
    "- Does not preserve the relative order of items with equal keys which means it is not stable.\n",
    "\n",
    "**NOTE**\n",
    "The default implementation of the Selection Sort Algorithm is not stable. However, it can be made stable."
   ]
  },
  {
   "cell_type": "markdown",
   "id": "e6ee0657",
   "metadata": {},
   "source": [
    "## Stable Selection Sort\n",
    "\n",
    "A sorting algorithm is said to be stable if two objects with equal or same keys appear in the same order in sorted output as they appear in the input array to be sorted.\n",
    "Any comparison based sorting algorithm which is not stable by nature can be modified to be stable by changing the key comparison operation so that the comparison of two keys considers position as a factor for objects with equal key or by tweaking it in a way such that its meaning doesn’t change and it becomes stable as well.\n",
    "\n",
    "```\n",
    "Here A and B along with 4 are used to identify the elements as they are duplicate\n",
    "\n",
    "Input : 4A 5 3 2 4B 1\n",
    "Output : 1 2 3 4B 4A 5\n",
    "\n",
    "Stable Selection Sort would have produced\n",
    "Output : 1 2 3 4A 4B 5\n",
    "```\n",
    "Selection sort works by finding the minimum element and then inserting it in its correct position by swapping with the element which is in the position of this minimum element. This is what makes it unstable.\n",
    "Swapping might impact in pushing a key(let’s say A) to a position greater than the key(let’s say B) which are equal keys. which makes them out of desired order. \n",
    "In the above example 4A was pushed after 4B and after complete sorting this 4A remains after this 4B. Hence resulting in unstability.\n",
    "Selection sort can be made Stable if instead of swapping, the minimum element is placed in its position without swapping i.e. by placing the number in its position by pushing every element one step forward(shift all elements to left by 1). \n",
    "\n",
    "```\n",
    "Example:\n",
    "    4A 5 3 2 4B 1\n",
    "First minimum element is 1, now instead of swapping. Insert 1 in its correct place and pushing every element one step forward i.e forward pushing.\n",
    "\n",
    "    1 4A 5 3 2 4B\n",
    "         Next minimum is 2 :\n",
    "        \n",
    "    1 2 4A 5 3 4B\n",
    "         Next minimum is 3 :\n",
    "         \n",
    "    1 2 3 4A 5 4B\n",
    "         Repeat the steps until array is sorted.\n",
    "         \n",
    "    1 2 3 4A 4B 5\n",
    "    \n",
    "```"
   ]
  },
  {
   "cell_type": "code",
   "execution_count": 3,
   "id": "a6c468cd",
   "metadata": {},
   "outputs": [
    {
     "name": "stdout",
     "output_type": "stream",
     "text": [
      "1 2 3 4 4 5 "
     ]
    }
   ],
   "source": [
    "def stableSelectionSort(a, n):\n",
    "     \n",
    "    # Traverse through all array elements\n",
    "    for i in range(n):\n",
    " \n",
    "        # Find the minimum element in remaining\n",
    "        # unsorted array\n",
    "        min_idx = i\n",
    "        for j in range(i + 1, n):\n",
    "            if a[min_idx] > a[j]:\n",
    "                min_idx = j\n",
    " \n",
    "        # Move minimum element at current i\n",
    "        key = a[min_idx]\n",
    "        while min_idx > i:\n",
    "            a[min_idx] = a[min_idx - 1]\n",
    "            min_idx -= 1\n",
    "        a[i] = key\n",
    " \n",
    "def printArray(a, n):\n",
    "    for i in range(n):\n",
    "        print(\"%d\" %a[i], end = \" \")\n",
    "     \n",
    "# Driver Code\n",
    "a = [4, 5, 3, 2, 4, 1]\n",
    "n = len(a)\n",
    "stableSelectionSort(a, n)\n",
    "printArray(a, n)"
   ]
  },
  {
   "cell_type": "markdown",
   "id": "53c34704",
   "metadata": {},
   "source": [
    "**Time Complexity: O(N2)**  \n",
    "    // Since two nested loops are used the time taken by the algorithm to complete all operation is quadratic.  \n",
    "    \n",
    "**Auxiliary Space: O(1)**  \n",
    "    // Since no extra array is used so the space taken by the algorithm is constant"
   ]
  }
 ],
 "metadata": {
  "kernelspec": {
   "display_name": "Python 3 (ipykernel)",
   "language": "python",
   "name": "python3"
  },
  "language_info": {
   "codemirror_mode": {
    "name": "ipython",
    "version": 3
   },
   "file_extension": ".py",
   "mimetype": "text/x-python",
   "name": "python",
   "nbconvert_exporter": "python",
   "pygments_lexer": "ipython3",
   "version": "3.9.13"
  }
 },
 "nbformat": 4,
 "nbformat_minor": 5
}
