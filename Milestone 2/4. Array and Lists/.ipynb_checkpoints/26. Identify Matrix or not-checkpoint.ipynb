{
 "cells": [
  {
   "cell_type": "markdown",
   "id": "cb039219",
   "metadata": {},
   "source": [
    "You are given a N X N square integer matrix A. You have to tell whether A is an identity matrix or not.\n",
    "\n",
    "Identity matrix is a special square matrix whose main diagonal elements are equal to 1 and all other elements are 0.\n",
    "\n",
    "**Input Format**\n",
    "- The first argument is a 2D integer array denoting the matrix A\n",
    "\n",
    "**Output Format**\n",
    "- Return 1 if A is an identity matrix, else return 0.\n",
    "\n",
    "**Sample Input and Output**\n",
    "```\n",
    "Example Input\n",
    "\n",
    "Input 1:\n",
    "[[1, 0], [0, 1]]\n",
    "\n",
    "Input 2:\n",
    "[[0, 0, 1], [0, 1, 0], [1, 0, 0]]\n",
    " \n",
    "Example Output\n",
    "\n",
    "Output 1:\n",
    " 1 \n",
    " \n",
    "Output 2:\n",
    " 0 \n",
    " \n",
    "Example Explanation\n",
    "\n",
    "Explanation 1:\n",
    " All the main diagonal elements in A are 1, all other elements are 0.\n",
    " So, A is an identity matrix.\n",
    "Explanation 2:\n",
    "\n",
    " All the main diagonal elements in A are not 1, also all other elements are not equal to 0.\n",
    " So, A is not an identity matrix.\n",
    " ```"
   ]
  },
  {
   "cell_type": "code",
   "execution_count": null,
   "id": "99c49248",
   "metadata": {},
   "outputs": [],
   "source": [
    "class Solution:\n",
    "    # @param A : tuple of list of integers\n",
    "    # @return an integer\n",
    "    def solve(self, A):\n",
    "        for i in range(len(A)):\n",
    "            for j in range(len(A)):\n",
    "                if (i == j and A[i][j] != 1) or (i != j and A[i][j] != 0):\n",
    "                    return 0      \n",
    "        return 1"
   ]
  }
 ],
 "metadata": {
  "kernelspec": {
   "display_name": "Python 3 (ipykernel)",
   "language": "python",
   "name": "python3"
  },
  "language_info": {
   "codemirror_mode": {
    "name": "ipython",
    "version": 3
   },
   "file_extension": ".py",
   "mimetype": "text/x-python",
   "name": "python",
   "nbconvert_exporter": "python",
   "pygments_lexer": "ipython3",
   "version": "3.9.13"
  }
 },
 "nbformat": 4,
 "nbformat_minor": 5
}
