{
 "cells": [
  {
   "cell_type": "markdown",
   "id": "5bc4f4f6",
   "metadata": {},
   "source": [
    "### 8. Swap Alternate\n",
    "\n",
    "You have been given an array/list(ARR) of size N. You need to swap every pair of alternate elements in the array/list.\n",
    "You don't need to print or return anything, just change in the input array itself.\n",
    "\n",
    "**Input Format :**  \n",
    "The first line contains an Integer 't' which denotes the number of test cases or queries to be run. Then the test cases follow.  \n",
    "\n",
    "First line of each test case or query contains an integer 'N' representing the size of the array/list.  \n",
    "\n",
    "Second line contains 'N' single space separated integers representing the elements in the array/list.  \n",
    "**Output Format :**  \n",
    "For each test case, print the elements of the resulting array in a single row separated by a single space.  \n",
    "\n",
    "Output for every test case will be printed in a separate line.  \n",
    "**Constraints :**  \n",
    "1 <= t <= 10^2  \n",
    "0 <= N <= 10^5  \n",
    "Time Limit: 1sec  \n",
    "\n",
    "#### Sample Input and Output\n",
    "\n",
    "> - Sample Input 1:\n",
    "    1...  \n",
    "    6...  \n",
    "    9 3 6 12 4 32...  \n",
    "    Sample Output 1 : 3 9 12 6 32 4  \n",
    "> - Sample Input 2:  \n",
    "    2...  \n",
    "    9...   \n",
    "    9 3 6 12 4 32 5 11 19...  \n",
    "    4...  \n",
    "    1 2 3 4...    \n",
    "    Sample Output 2 : \n",
    "    3 9 12 6 32 4 11 5 19   \n",
    "    2 1 4 3 \n"
   ]
  },
  {
   "cell_type": "code",
   "execution_count": 1,
   "id": "d8cf1846",
   "metadata": {},
   "outputs": [
    {
     "name": "stdout",
     "output_type": "stream",
     "text": [
      "1\n",
      "6\n",
      "9 3 6 12 4 32\n",
      "3 9 12 6 32 4 \n"
     ]
    }
   ],
   "source": [
    "from sys import stdin\n",
    "\n",
    "\n",
    "def swapAlternate(arr, n):\n",
    "    #Your code goes here\n",
    "    length = len(arr)\n",
    "    if length == 1:\n",
    "        print(arr)\n",
    "    else:\n",
    "        for i in range(0, length-1, 2):\n",
    "            arr[i], arr[i+1] = arr[i+1], arr[i]\n",
    "\n",
    "\n",
    "#Taking Input Using Fast I/O\n",
    "def takeInput():\n",
    "    n = int(input())\n",
    "\n",
    "    if n == 0:\n",
    "        return list(), 0\n",
    "\n",
    "    arr = list(map(int, input().split(\" \")))\n",
    "    return arr, n\n",
    "\n",
    "\n",
    "#Printing the array/list\n",
    "def printList(arr, n):\n",
    "    for i in range(n):\n",
    "        print(arr[i], end=\" \")\n",
    "    print()\n",
    "\n",
    "\n",
    "#main\n",
    "t = int(input())\n",
    "\n",
    "while t > 0:\n",
    "    arr, n = takeInput()\n",
    "    if n != 0:\n",
    "        swapAlternate(arr, n)\n",
    "        printList(arr, n)\n",
    "    t -= 1"
   ]
  },
  {
   "cell_type": "code",
   "execution_count": 2,
   "id": "97a95c1f",
   "metadata": {},
   "outputs": [
    {
     "name": "stdout",
     "output_type": "stream",
     "text": [
      "1\n",
      "6\n",
      "9 3 6 12 4 32\n",
      "3 9 12 6 32 4 \n"
     ]
    }
   ],
   "source": [
    "from sys import stdin\n",
    "\n",
    "\n",
    "def swapAlternate(arr, n):\n",
    "    #Your code goes here\n",
    "    for i in range(0, (n-1), 2):\n",
    "        temp = arr[i]\n",
    "        arr[i] = arr[i+1]\n",
    "        arr[i+1] = temp\n",
    "\n",
    "\n",
    "#Taking Input Using Fast I/O\n",
    "def takeInput():\n",
    "    n = int(input())\n",
    "\n",
    "    if n == 0:\n",
    "        return list(), 0\n",
    "\n",
    "    arr = list(map(int, input().split(\" \")))\n",
    "    return arr, n\n",
    "\n",
    "\n",
    "#Printing the array/list\n",
    "def printList(arr, n):\n",
    "    for i in range(n):\n",
    "        print(arr[i], end=\" \")\n",
    "    print()\n",
    "\n",
    "\n",
    "#main\n",
    "t = int(input())\n",
    "\n",
    "while t > 0:\n",
    "    arr, n = takeInput()\n",
    "    if n != 0:\n",
    "        swapAlternate(arr, n)\n",
    "        printList(arr, n)\n",
    "    t -= 1"
   ]
  }
 ],
 "metadata": {
  "kernelspec": {
   "display_name": "Python 3 (ipykernel)",
   "language": "python",
   "name": "python3"
  },
  "language_info": {
   "codemirror_mode": {
    "name": "ipython",
    "version": 3
   },
   "file_extension": ".py",
   "mimetype": "text/x-python",
   "name": "python",
   "nbconvert_exporter": "python",
   "pygments_lexer": "ipython3",
   "version": "3.9.13"
  }
 },
 "nbformat": 4,
 "nbformat_minor": 5
}
