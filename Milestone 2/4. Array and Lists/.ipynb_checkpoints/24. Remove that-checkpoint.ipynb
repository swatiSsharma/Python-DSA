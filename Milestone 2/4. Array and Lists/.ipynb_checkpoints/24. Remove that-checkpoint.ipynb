{
 "cells": [
  {
   "cell_type": "markdown",
   "id": "c36d1bab",
   "metadata": {},
   "source": [
    "Write a program to input N numbers array, A from the user and an integer X and print the array by deleting element at specified position X.\n",
    "\n",
    "Note: The first element is located at position 1, the second element is located at position 2, and so on.\n",
    "\n",
    "**Input Format**\n",
    "- First line is N which means number of elements.\n",
    "- Second line contains N space separated integers.\n",
    "- Third line is X position which has to be deleted.\n",
    "\n",
    "**Output Format**\n",
    "- N-1 space separated integers of the input array after deleting the element at required position.\n",
    "\n",
    "**Sample Input and Output**\n",
    "```\n",
    "Example Input\n",
    "Input 1:\n",
    "5\n",
    "2 3 1 4 2\n",
    "3\n",
    "Input 2:\n",
    "2\n",
    "4 5\n",
    "2\n",
    "\n",
    "\n",
    "Example Output\n",
    "Output 1:\n",
    "2 3 4 2\n",
    "Output 2:\n",
    "4\n",
    "\n",
    "Example Explanation\n",
    "Explanation 1:\n",
    "Clearly after removing the element at position 3 (2 3 1 4 2), the remaining array is 2 3 4 2.\n",
    "Explanation 2:\n",
    "After removing the element at position 2 (4 5), the remaining array is 4.\n",
    "```"
   ]
  },
  {
   "cell_type": "code",
   "execution_count": 1,
   "id": "2941a639",
   "metadata": {},
   "outputs": [
    {
     "name": "stdout",
     "output_type": "stream",
     "text": [
      "5\n",
      "2 3 1 4 2\n",
      "3\n",
      "2 3 4 2\n"
     ]
    }
   ],
   "source": [
    "def main():\n",
    "    # YOUR CODE GOES HERE\n",
    "    # Please take input and print output to standard input/output (stdin/stdout)\n",
    "    # E.g. 'input()/raw_input()' for input & 'print' for output\n",
    "    n = int(input())\n",
    "    arr = [x for x in input().split(' ')]\n",
    "    m = int(input())\n",
    "    arr.pop((m-1))\n",
    "    print (*arr, sep=\" \")\n",
    "\n",
    "if __name__ == '__main__':\n",
    "    main()"
   ]
  }
 ],
 "metadata": {
  "kernelspec": {
   "display_name": "Python 3 (ipykernel)",
   "language": "python",
   "name": "python3"
  },
  "language_info": {
   "codemirror_mode": {
    "name": "ipython",
    "version": 3
   },
   "file_extension": ".py",
   "mimetype": "text/x-python",
   "name": "python",
   "nbconvert_exporter": "python",
   "pygments_lexer": "ipython3",
   "version": "3.9.13"
  }
 },
 "nbformat": 4,
 "nbformat_minor": 5
}
