{
 "cells": [
  {
   "cell_type": "markdown",
   "id": "957615f6",
   "metadata": {},
   "source": [
    "### 9. Find Unique\n",
    "\n",
    "You have been given an integer array/list(ARR) of size N. Where N is equal to [2M + 1].\n",
    "Now, in the given array/list, 'M' numbers are present twice and one number is present only once.\n",
    "You need to find and return that number which is unique in the array/list.\n",
    "> Note:\n",
    "  Unique element is always present in the array/list according to the given condition.\n",
    "\n",
    "**Input format :**  \n",
    "\n",
    "> The first line contains an Integer 't' which denotes the number of test cases or queries to be run. Then the test cases follow.\n",
    "  First line of each test case or query contains an integer 'N' representing the size of the array/list.\n",
    "  Second line contains 'N' single space separated integers representing the elements in the array/list.\n",
    "\n",
    "**Output Format :**  \n",
    "> For each test case, print the unique element present in the array.\n",
    "  Output for every test case will be printed in a separate line.\n",
    "\n",
    "**Constraints :**  \n",
    "1 <= t <= 10^2\n",
    "0 <= N <= 10^3\n",
    "Time Limit: 1 sec\n",
    "\n",
    "#### Sample Input and Output\n",
    "> - Sample Input 1:  \n",
    "    1  \n",
    "    7  \n",
    "    2 3 1 6 3 6 2  \n",
    "    Sample Output 1:  \n",
    "    1\n",
    "    \n",
    "> - Sample Input 2:  \n",
    "    2  \n",
    "    5  \n",
    "    2 4 7 2 7  \n",
    "    9  \n",
    "    1 3 1 3 6 6 7 10 7  \n",
    "    Sample Output 2:  \n",
    "    4\n",
    "    10"
   ]
  },
  {
   "cell_type": "code",
   "execution_count": 1,
   "id": "b08d737a",
   "metadata": {},
   "outputs": [
    {
     "name": "stdout",
     "output_type": "stream",
     "text": [
      "1\n",
      "7\n",
      "2 3 1 6 3 6 2\n",
      "1\n"
     ]
    }
   ],
   "source": [
    "import sys\n",
    "\n",
    "def findUnique(arr, n) :\n",
    "    import collections\n",
    "    a =  ([item for item, count in collections.Counter(arr).items() if count == 1])\n",
    "    #Your code goes here\n",
    "\n",
    "    for i in a:\n",
    "        return i\n",
    "\n",
    "#Taking Input Using Fast I/O\n",
    "def takeInput() :\n",
    "    n = int(input().rstrip())\n",
    "\n",
    "    if n == 0 :\n",
    "        return list(), 0\n",
    "\n",
    "    arr = list(map(int, input().rstrip().split(\" \")))\n",
    "    return arr, n\n",
    "\n",
    "\n",
    "#main\n",
    "t = int(input().rstrip())\n",
    "\n",
    "while t > 0 :\n",
    "\n",
    "    arr, n = takeInput()\n",
    "    print(findUnique(arr, n))\n",
    "\n",
    "    t -= 1"
   ]
  },
  {
   "cell_type": "code",
   "execution_count": 2,
   "id": "dd9852f7",
   "metadata": {},
   "outputs": [
    {
     "name": "stdout",
     "output_type": "stream",
     "text": [
      "1\n",
      "7\n",
      "2 3 1 6 3 6 2\n",
      "1\n"
     ]
    }
   ],
   "source": [
    "import sys\n",
    "\n",
    "def findUnique(arr, n) :\n",
    "\n",
    "    for i in range(n):\n",
    "        j = 0\n",
    "        while j < n:\n",
    "            if i != j :\n",
    "                if arr[i] == arr[j]:\n",
    "                    break\n",
    "            j += 1\n",
    "        if j == n:\n",
    "            return arr[i]\n",
    "    \n",
    "    '''\n",
    "    The function would never return from this line since the input array always contains\n",
    "    a unique value.\n",
    "    \n",
    "    to Avoid the ambiguity at the compile time, the function necessarily has to return a \n",
    "    value in case the line number 13 doesnot return the desired value during execution of \n",
    "    the for loop.\n",
    "    '''\n",
    "        \n",
    "    return sys.maxsize\n",
    "\n",
    "#Taking Input Using Fast I/O\n",
    "def takeInput() :\n",
    "    n = int(input().rstrip())\n",
    "\n",
    "    if n == 0 :\n",
    "        return list(), 0\n",
    "\n",
    "    arr = list(map(int, input().rstrip().split(\" \")))\n",
    "    return arr, n\n",
    "\n",
    "\n",
    "#main\n",
    "t = int(input().rstrip())\n",
    "\n",
    "while t > 0 :\n",
    "\n",
    "    arr, n = takeInput()\n",
    "    print(findUnique(arr, n))\n",
    "\n",
    "    t -= 1"
   ]
  }
 ],
 "metadata": {
  "kernelspec": {
   "display_name": "Python 3 (ipykernel)",
   "language": "python",
   "name": "python3"
  },
  "language_info": {
   "codemirror_mode": {
    "name": "ipython",
    "version": 3
   },
   "file_extension": ".py",
   "mimetype": "text/x-python",
   "name": "python",
   "nbconvert_exporter": "python",
   "pygments_lexer": "ipython3",
   "version": "3.9.13"
  }
 },
 "nbformat": 4,
 "nbformat_minor": 5
}
