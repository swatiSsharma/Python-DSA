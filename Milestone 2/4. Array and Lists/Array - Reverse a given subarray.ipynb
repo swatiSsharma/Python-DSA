{
 "cells": [
  {
   "cell_type": "code",
   "execution_count": 1,
   "metadata": {},
   "outputs": [],
   "source": [
    "# reverse the array from index i to index j"
   ]
  },
  {
   "cell_type": "code",
   "execution_count": 14,
   "metadata": {},
   "outputs": [
    {
     "name": "stdout",
     "output_type": "stream",
     "text": [
      "[1, 2, 5, 4, 3, 6]\n"
     ]
    }
   ],
   "source": [
    "a = [1,2,3,4,5,6] # [5,2,3,5,7,9,8]\n",
    "i = 2\n",
    "k = 4\n",
    "while i < k:\n",
    "    a[i], a[k] = a[k] , a[i]\n",
    "    k -= 1\n",
    "    i += 1\n",
    "print(a)  \n"
   ]
  }
 ],
 "metadata": {
  "kernelspec": {
   "display_name": "Python 3",
   "language": "python",
   "name": "python3"
  },
  "language_info": {
   "codemirror_mode": {
    "name": "ipython",
    "version": 3
   },
   "file_extension": ".py",
   "mimetype": "text/x-python",
   "name": "python",
   "nbconvert_exporter": "python",
   "pygments_lexer": "ipython3",
   "version": "3.7.6"
  }
 },
 "nbformat": 4,
 "nbformat_minor": 4
}
