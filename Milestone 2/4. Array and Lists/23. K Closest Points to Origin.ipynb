{
 "cells": [
  {
   "cell_type": "markdown",
   "id": "b77374a7",
   "metadata": {},
   "source": [
    "# 23. K Closest Points to Origin\n",
    "\n",
    "Given an array of points where points[i] = [xi, yi] represents a point on the X-Y plane and an integer k, return the k closest points to the origin (0, 0).\n",
    "\n",
    "The distance between two points on the X-Y plane is the Euclidean distance (i.e., √(x1 - x2)2 + (y1 - y2)2).\n",
    "\n",
    "You may return the answer in any order. The answer is guaranteed to be unique (except for the order that it is in).\n",
    "\n",
    "**Example 1:**\n",
    "```\n",
    "Input: points = [[1,3],[-2,2]], k = 1\n",
    "Output: [[-2,2]]\n",
    "Explanation:\n",
    "The distance between (1, 3) and the origin is sqrt(10).\n",
    "The distance between (-2, 2) and the origin is sqrt(8).\n",
    "Since sqrt(8) < sqrt(10), (-2, 2) is closer to the origin.\n",
    "We only want the closest k = 1 points from the origin, so the answer is just [[-2,2]].\n",
    "```\n",
    "**Example 2:**\n",
    "```\n",
    "Input: points = [[3,3],[5,-1],[-2,4]], k = 2\n",
    "Output: [[3,3],[-2,4]]\n",
    "Explanation: The answer [[-2,4],[3,3]] would also be accepted.\n",
    "```\n",
    "**Constraints:**\n",
    "```\n",
    "    1 <= k <= points.length <= 104\n",
    "    -104 < xi, yi < 104\n",
    "```\n"
   ]
  },
  {
   "cell_type": "markdown",
   "id": "37c2e7bc",
   "metadata": {},
   "source": [
    "### Approach - I"
   ]
  },
  {
   "cell_type": "code",
   "execution_count": null,
   "id": "8d8801c8",
   "metadata": {},
   "outputs": [],
   "source": [
    "# Heap Solution\n",
    "import heapq\n",
    "\n",
    "class Solution:\n",
    "    # @param A : list of list of integers\n",
    "    # @param B : integer\n",
    "    # @return a list of list of integers\n",
    "    def solve(self, A, B):\n",
    "        heap = []\n",
    "        for index in range(len(A)):\n",
    "            if len(heap) == B:\n",
    "                heapq.heappushpop(heap, (-A[index][0]**2 - A[index][1]**2, A[index]))\n",
    "            else:\n",
    "                heapq.heappush(heap, (-A[index][0]**2 - A[index][1]**2, A[index]))\n",
    "        return [a for distance, a in heap]"
   ]
  },
  {
   "cell_type": "markdown",
   "id": "684ae42c",
   "metadata": {},
   "source": [
    "### Approach - II"
   ]
  },
  {
   "cell_type": "code",
   "execution_count": null,
   "id": "22416879",
   "metadata": {},
   "outputs": [],
   "source": [
    "from functools import cmp_to_key\n",
    "\n",
    "class Solution:\n",
    "    # @param A : list of list of integers\n",
    "    # @param B : integer\n",
    "    # @return a list of list of integers\n",
    "    def solve(self, A, B):\n",
    "\n",
    "\n",
    "        def compare(x, y):\n",
    "            distancex = (x[0] * x[0]) + (x[1] * x[1])\n",
    "            distancey = (y[0] * y[0]) + (y[1] * y[1])\n",
    "            if distancex < distancey: return -1\n",
    "            if distancex > distancey: return 1\n",
    "            return 0\n",
    "        return sorted(A, key=cmp_to_key(compare))[:B]"
   ]
  },
  {
   "cell_type": "markdown",
   "id": "19859d8f",
   "metadata": {},
   "source": [
    "### Approach - III"
   ]
  },
  {
   "cell_type": "code",
   "execution_count": null,
   "id": "03338e3b",
   "metadata": {},
   "outputs": [],
   "source": [
    "import heapq\n",
    "class Solution:\n",
    "    def kClosest(self, points: List[List[int]], k: int) -> List[List[int]]:\n",
    "\n",
    "        distance = {}\n",
    "        heap = []\n",
    "\n",
    "        for point in points:\n",
    "            x, y = point[0], point[1]\n",
    "            dist = x * x + y * y\n",
    "            if dist not in distance:\n",
    "                distance[dist] = [(x,y)]\n",
    "                heapq.heappush(heap, dist)\n",
    "            else:\n",
    "                distance[dist].append((x,y))\n",
    "\n",
    "        ans = []\n",
    "        while len(ans) < k:\n",
    "            min_dist = heapq.heappop(heap)\n",
    "            ans += distance[min_dist]\n",
    "    \n",
    "        return ans\n"
   ]
  },
  {
   "cell_type": "markdown",
   "id": "4a2f52a7",
   "metadata": {},
   "source": [
    "### Approach - IV"
   ]
  },
  {
   "cell_type": "code",
   "execution_count": null,
   "id": "4f8b0156",
   "metadata": {},
   "outputs": [],
   "source": [
    "class Solution:\n",
    "    def kClosest(self, points: List[List[int]], k: int) -> List[List[int]]:\n",
    "        # distanceDict = []\n",
    "        # for i in range(len(points)):\n",
    "        #     distance = self.distance(points[i])\n",
    "        #     distanceDict.append([distance,i])\n",
    "        # distanceKeys = sorted(distanceDict, key= lambda x:x[0])\n",
    "        # res = []\n",
    "        # for i in range(k):\n",
    "        #     res.append(points[distanceKeys[i][1]])\n",
    "        # return res\n",
    "        return sorted(points, key = lambda x: (x[0] ** 2 + x[1] ** 2))[:k]\n",
    "\n",
    "    # def distance(self, point):\n",
    "    #     return sqrt((point[0] ** 2) + (point[1] ** 2))"
   ]
  },
  {
   "cell_type": "markdown",
   "id": "3008bfff",
   "metadata": {},
   "source": [
    "### Approach - V"
   ]
  },
  {
   "cell_type": "code",
   "execution_count": null,
   "id": "3565a3de",
   "metadata": {},
   "outputs": [],
   "source": [
    "class Solution:\n",
    "    def kClosest(self, points: List[List[int]], k: int) -> List[List[int]]:\n",
    "        points.sort(key = lambda x: x[0]*x[0] + x[1]*x[1])\n",
    "        return points[:k]"
   ]
  },
  {
   "cell_type": "markdown",
   "id": "946a5c72",
   "metadata": {},
   "source": [
    "### Approach - VI"
   ]
  },
  {
   "cell_type": "code",
   "execution_count": null,
   "id": "437ee505",
   "metadata": {},
   "outputs": [],
   "source": [
    "class Solution:\n",
    "    def kClosest(self, points: List[List[int]], k: int) -> List[List[int]]:\n",
    "        def getSquaredDistance(x, y):\n",
    "            return x * x + y * y\n",
    "\n",
    "        s = sorted(points, key = lambda point: getSquaredDistance(point[0], point[1]))\n",
    "        return s[:k]"
   ]
  },
  {
   "cell_type": "markdown",
   "id": "dbfeedbf",
   "metadata": {},
   "source": [
    "### Approach - VII"
   ]
  },
  {
   "cell_type": "code",
   "execution_count": null,
   "id": "2ccc2921",
   "metadata": {},
   "outputs": [],
   "source": [
    "class Solution:\n",
    "    def kClosest(self, points: List[List[int]], k: int) -> List[List[int]]:\n",
    "        origin_sqrt = []\n",
    "        for lst in points:\n",
    "            origin_sqrt.append(pow(lst[0], 2) + pow(lst[1], 2))\n",
    "        origin_sqrt_sort = list(reversed(sorted(origin_sqrt)))\n",
    "        while len(points) != k:\n",
    "            d = origin_sqrt.index(origin_sqrt_sort[0])\n",
    "            points.pop(d)\n",
    "            origin_sqrt_sort.pop(0)\n",
    "            origin_sqrt.pop(d)\n",
    "        return points"
   ]
  },
  {
   "cell_type": "markdown",
   "id": "657c0402",
   "metadata": {},
   "source": [
    "### Approach - VIII"
   ]
  },
  {
   "cell_type": "code",
   "execution_count": null,
   "id": "1fd2b450",
   "metadata": {},
   "outputs": [],
   "source": [
    "class Solution:\n",
    "    def kClosest(self, points: List[List[int]], k: int) -> List[List[int]]:\n",
    "\n",
    "        minHeap = []\n",
    "\n",
    "        def calcEuclid(point):\n",
    "            x = point[0]\n",
    "            y = point[1]\n",
    "\n",
    "            return math.sqrt(x**2 + y**2)\n",
    "\n",
    "        for p in points:\n",
    "            distance = calcEuclid(p)\n",
    "            heapq.heappush(minHeap, (distance, p))\n",
    "\n",
    "        res = []\n",
    "\n",
    "        for _ in range(k):\n",
    "            euclid, point = heapq.heappop(minHeap)\n",
    "            res.append(point)\n",
    "\n",
    "        return res"
   ]
  },
  {
   "cell_type": "markdown",
   "id": "1bc0e041",
   "metadata": {},
   "source": [
    "### Approach - IX"
   ]
  },
  {
   "cell_type": "code",
   "execution_count": null,
   "id": "962e2f96",
   "metadata": {},
   "outputs": [],
   "source": [
    "import math\n",
    "import heapq\n",
    "\n",
    "class Solution:\n",
    "    def kClosest(self, points: List[List[int]], k: int) -> List[List[int]]:\n",
    "        heap = []\n",
    "        output = []\n",
    "        for point in points:\n",
    "            x_val = (0 - point[0])**2\n",
    "            y_val = (0 - point[1])**2\n",
    "            d = math.sqrt(x_val + y_val)\n",
    "            heapq.heappush(heap, (d, point))\n",
    "        \n",
    "        while k > 0:\n",
    "            dis, point = heapq.heappop(heap)\n",
    "            output.append(point)\n",
    "            k -= 1\n",
    "\n",
    "        return output"
   ]
  }
 ],
 "metadata": {
  "kernelspec": {
   "display_name": "Python 3 (ipykernel)",
   "language": "python",
   "name": "python3"
  },
  "language_info": {
   "codemirror_mode": {
    "name": "ipython",
    "version": 3
   },
   "file_extension": ".py",
   "mimetype": "text/x-python",
   "name": "python",
   "nbconvert_exporter": "python",
   "pygments_lexer": "ipython3",
   "version": "3.9.13"
  }
 },
 "nbformat": 4,
 "nbformat_minor": 5
}
