{
 "cells": [
  {
   "cell_type": "markdown",
   "id": "84211451",
   "metadata": {},
   "source": [
    "# 16. First Missing Positive\n",
    "\n",
    "Given an unsorted integer array nums, return the smallest missing positive integer.\n",
    "\n",
    "You must implement an algorithm that runs in O(n) time and uses constant extra space.\n",
    "\n",
    "**Example 1:**\n",
    "```\n",
    "Input: nums = [1,2,0]\n",
    "Output: 3\n",
    "Explanation: The numbers in the range [1,2] are all in the array.\n",
    "Example 2:\n",
    "\n",
    "Input: nums = [3,4,-1,1]\n",
    "Output: 2\n",
    "Explanation: 1 is in the array but 2 is missing.\n",
    "Example 3:\n",
    "\n",
    "Input: nums = [7,8,9,11,12]\n",
    "Output: 1\n",
    "Explanation: The smallest positive integer 1 is missing.\n",
    "```\n",
    "\n",
    "**Constraints:**\n",
    "```\n",
    "1 <= nums.length <= 105\n",
    "-231 <= nums[i] <= 231 - 1\n",
    "```"
   ]
  },
  {
   "cell_type": "markdown",
   "id": "f7924d05",
   "metadata": {},
   "source": [
    "### Approach - I"
   ]
  },
  {
   "cell_type": "code",
   "execution_count": null,
   "id": "b1237bbe",
   "metadata": {},
   "outputs": [],
   "source": [
    "class Solution:\n",
    "    def firstMissingPositive(self, nums: List[int]) -> int:\n",
    "        \"\"\"\n",
    "        :type nums: List[int]\n",
    "        :rtype: int\n",
    "        \"\"\"\n",
    "        present = {}\n",
    "        count = len(nums)\n",
    "        for n in nums:\n",
    "            if n < 1:\n",
    "                count -= 1\n",
    "            else:\n",
    "                present[n] = True\n",
    "        \n",
    "        for i in range(1, count+2):\n",
    "            if i not in present:\n",
    "                return i"
   ]
  },
  {
   "cell_type": "markdown",
   "id": "872863a1",
   "metadata": {},
   "source": [
    "### Approach - II"
   ]
  },
  {
   "cell_type": "code",
   "execution_count": null,
   "id": "28227272",
   "metadata": {},
   "outputs": [],
   "source": [
    "class Solution:\n",
    "    def firstMissingPositive(self, nums: List[int]) -> int:\n",
    "        c=1\n",
    "        nums.sort()\n",
    "        for i in range(len(nums)):\n",
    "            if nums[i]==c:\n",
    "                c+=1\n",
    "            \n",
    "        return c"
   ]
  },
  {
   "cell_type": "markdown",
   "id": "8bda7d02",
   "metadata": {},
   "source": [
    "### Approach - III"
   ]
  },
  {
   "cell_type": "code",
   "execution_count": null,
   "id": "eaa7a993",
   "metadata": {},
   "outputs": [],
   "source": [
    "class Solution:\n",
    "    def firstMissingPositive(self, nums: list[int]) -> int:\n",
    "        # Edge case where the list is empty\n",
    "        if len(nums) == 0:\n",
    "            return 1\n",
    "        # Edge case where the list have only 1 element - It can be only 2 options either 1 or 2\n",
    "        if len(nums) == 1:\n",
    "            return 1 if nums[0] != 1 else 2\n",
    "        \n",
    "        # using built in sort\n",
    "        sorted_nums = sorted(nums)\n",
    "\n",
    "        # Finding the first index of the first positive element\n",
    "        first_positive_index = -1\n",
    "        for i in range(len(sorted_nums)):\n",
    "            if sorted_nums[i] >= 0:\n",
    "                first_positive_index = i\n",
    "                break\n",
    "            # in case reached the end of the array and no positive elements where found return 1\n",
    "            if sorted_nums[i] <= 0 and i == len(sorted_nums) - 1:\n",
    "                return 1\n",
    "        #Slicing the positives only\n",
    "        sorted_positives = sorted_nums[first_positive_index:]\n",
    "\n",
    "        #Checking if the first positive is bigger than 1 - in that case return 1\n",
    "        first_positive_found = sorted_positives[0]\n",
    "        if first_positive_found > 1:\n",
    "            return 1\n",
    "\n",
    "        # Run through the reminded list and return a gap if found\n",
    "        for i in range(len(sorted_positives) - 1):\n",
    "            if sorted_positives[i + 1] - sorted_positives[i] > 1:\n",
    "                return int(sorted_positives[i] + 1)\n",
    "            \n",
    "        # return the number on top of the list in case the list had no gaps\n",
    "        return sorted_positives[len(sorted_positives) - 1] + 1"
   ]
  },
  {
   "cell_type": "markdown",
   "id": "9372c0c9",
   "metadata": {},
   "source": [
    "### Approach - IV"
   ]
  },
  {
   "cell_type": "code",
   "execution_count": null,
   "id": "ef290781",
   "metadata": {},
   "outputs": [],
   "source": [
    "class Solution:\n",
    "    def firstMissingPositive(self, nums: List[int]) -> int:\n",
    "\n",
    "        marked_array = [0] * (len(nums)+1)\n",
    "\n",
    "        for num in nums:\n",
    "            if num > 0 and num <= len(nums):\n",
    "                marked_array[num] = 1\n",
    "        \n",
    "        for i in range(1, len(nums)+1):\n",
    "            if marked_array[i] == 0:\n",
    "                return i\n",
    "\n",
    "        return len(nums)+1"
   ]
  },
  {
   "cell_type": "markdown",
   "id": "02f3d270",
   "metadata": {},
   "source": [
    "### Approach - V"
   ]
  },
  {
   "cell_type": "code",
   "execution_count": null,
   "id": "70354464",
   "metadata": {},
   "outputs": [],
   "source": [
    "class Solution:\n",
    "    def firstMissingPositive(self, nums: List[int]) -> int:\n",
    "        smallest_positive_num = 1\n",
    "        nums_set = set(nums)\n",
    "        for i in range(len(nums)):\n",
    "            if smallest_positive_num in nums_set:\n",
    "                smallest_positive_num += 1\n",
    "        return smallest_positive_num"
   ]
  }
 ],
 "metadata": {
  "kernelspec": {
   "display_name": "Python 3 (ipykernel)",
   "language": "python",
   "name": "python3"
  },
  "language_info": {
   "codemirror_mode": {
    "name": "ipython",
    "version": 3
   },
   "file_extension": ".py",
   "mimetype": "text/x-python",
   "name": "python",
   "nbconvert_exporter": "python",
   "pygments_lexer": "ipython3",
   "version": "3.9.13"
  }
 },
 "nbformat": 4,
 "nbformat_minor": 5
}
