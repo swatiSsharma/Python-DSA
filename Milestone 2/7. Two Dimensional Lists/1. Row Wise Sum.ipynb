{
 "cells": [
  {
   "cell_type": "markdown",
   "id": "08eccbf9",
   "metadata": {},
   "source": [
    "# 1. Row Wise Sum\n",
    "\n",
    "For a given two-dimensional integer array/list of size (N x M), find and print the sum of each of the row elements in a single line, separated by a single space.\n",
    "**Input Format :**  \n",
    "\n",
    "- The first line contains an Integer 't' which denotes the number of test cases or queries to be run. Then the test cases follow.\n",
    "- First line of each test case or query contains two integer values, 'N' and 'M', separated by a single space. They represent the 'rows' and 'columns' respectively, for the two-dimensional array/list.\n",
    "- Second line onwards, the next 'N' lines or rows represent the ith row values.\n",
    "- Each of the ith row constitutes 'M' column values separated by a single space.\n",
    "\n",
    "**Output Format :**  \n",
    "\n",
    "- For each test case, print the sum of every ith row elements in a single line separated by a single space.\n",
    "- Output for every test case will be printed in a seperate line.\n",
    "\n",
    "**Constraints :**  \n",
    "```\n",
    "1 <= t <= 10^2\n",
    "0 <= N <= 10^3\n",
    "0 <= M <= 10^3\n",
    "Time Limit: 1sec\n",
    "```\n",
    "#### Sample Input and Output\n",
    "- Sample Input 1:  \n",
    "```\n",
    "1\n",
    "4 2 \n",
    "1 2 \n",
    "3 4 \n",
    "5 6 \n",
    "7 8\n",
    "```\n",
    "- Sample Output 1:  \n",
    "```\n",
    "3 7 11 15 \n",
    "```  \n",
    "- Sample Input 2:   \n",
    "```\n",
    "2\n",
    "2 5 \n",
    "4 5 3 2 6 \n",
    "7 5 3 8 9\n",
    "4 4\n",
    "1 2 3 4\n",
    "9 8 7 6\n",
    "3 4 5 6\n",
    "\\-1 1 -10 5\n",
    "```\n",
    "- Sample Output 2:  \n",
    "```\n",
    "20 32 \n",
    "10 30 18 -5 \n",
    "```"
   ]
  },
  {
   "cell_type": "code",
   "execution_count": 1,
   "id": "7f70064c",
   "metadata": {},
   "outputs": [
    {
     "name": "stdout",
     "output_type": "stream",
     "text": [
      "1\n",
      "2 5\n",
      "4 5 3 2 6\n",
      "20 7 5 3 8 9\n",
      "32 \n"
     ]
    }
   ],
   "source": [
    "# Approach - 1\n",
    "\n",
    "# For a given two-dimensional integer array/list of size (N x M), \n",
    "# find and print the sum of each of the row elements in a single line, separated by a single space.\n",
    "\n",
    "p = int(input())\n",
    "for i in range(p):\n",
    "    str = input().split()\n",
    "    n, m = int(str[0]), int(str[1])\n",
    "    arr = []\n",
    "    for i in range(n):\n",
    "        b = input().split()\n",
    "        arrr = [int(x) for x in b]\n",
    "        print(sum(arrr), end=\" \")\n",
    "    print()"
   ]
  },
  {
   "cell_type": "code",
   "execution_count": 2,
   "id": "5873da9d",
   "metadata": {},
   "outputs": [
    {
     "name": "stdout",
     "output_type": "stream",
     "text": [
      "1\n",
      "2 5\n",
      "4 5 3 2 6\n",
      "7 5 3 8 9\n",
      "20 32 \n"
     ]
    }
   ],
   "source": [
    "# Approach - 2\n",
    "\n",
    "from sys import stdin\n",
    "\n",
    "def rowWiseSum(mat, nRows, mCols):\n",
    "    #Your code goes here\n",
    "    for i in range(nRows):\n",
    "        rowSum = 0\n",
    "        \n",
    "        for j in range(mCols):\n",
    "            rowSum += mat[i][j]\n",
    "            \n",
    "        print(rowSum, end = ' ')\n",
    "\n",
    "#Taking Input Using Fast I/O\n",
    "def take2DInput() :\n",
    "    li = input().rstrip().split(\" \")\n",
    "    nRows = int(li[0])\n",
    "    mCols = int(li[1])\n",
    "    \n",
    "    if nRows == 0 :\n",
    "        return list(), 0, 0\n",
    "    \n",
    "    mat = [list(map(int, input().strip().split(\" \"))) for row in range(nRows)]\n",
    "    return mat, nRows, mCols\n",
    "\n",
    "\n",
    "#main\n",
    "t = int(input().rstrip())\n",
    "\n",
    "while t > 0 :\n",
    "\n",
    "    mat, nRows, mCols = take2DInput()\n",
    "    rowWiseSum(mat, nRows, mCols)\n",
    "    print()\n",
    "\n",
    "    t -= 1"
   ]
  }
 ],
 "metadata": {
  "kernelspec": {
   "display_name": "Python 3 (ipykernel)",
   "language": "python",
   "name": "python3"
  },
  "language_info": {
   "codemirror_mode": {
    "name": "ipython",
    "version": 3
   },
   "file_extension": ".py",
   "mimetype": "text/x-python",
   "name": "python",
   "nbconvert_exporter": "python",
   "pygments_lexer": "ipython3",
   "version": "3.9.13"
  }
 },
 "nbformat": 4,
 "nbformat_minor": 5
}
