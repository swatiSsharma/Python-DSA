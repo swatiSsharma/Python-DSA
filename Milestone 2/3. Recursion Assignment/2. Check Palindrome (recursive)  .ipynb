{
 "cells": [
  {
   "cell_type": "markdown",
   "id": "fd33ccdd",
   "metadata": {},
   "source": [
    "### 2. Check Palindrome (recursive)  \n",
    "\n",
    "Check whether a given String S is a palindrome using recursion. Return true or false.  \n",
    "**Input Format :**   \n",
    "String S  \n",
    "**Output Format :**  \n",
    "'true' or 'false'  \n",
    "**Constraints :**  \n",
    "0 <= |S| <= 1000 where |S| represents length of string S.  \n",
    "#### Sample Input and Output\n",
    "- Sample Input 1 : racecar    \n",
    "  Sample Output 1: true  \n",
    "- Sample Input 2 : ninja  \n",
    "  Sample Output 2: false  "
   ]
  },
  {
   "cell_type": "code",
   "execution_count": 1,
   "id": "5abc70ba",
   "metadata": {},
   "outputs": [
    {
     "name": "stdout",
     "output_type": "stream",
     "text": [
      "racecar\n",
      "true\n"
     ]
    }
   ],
   "source": [
    "def recursiveCheckPalindrome(string):\n",
    "    size = len(string)\n",
    "    if size <+ 1:\n",
    "        return True\n",
    "    if string[0] != string[size-1]:\n",
    "        return False\n",
    "    return recursiveCheckPalindrome(string[1:-1])\n",
    "\n",
    "from sys import setrecursionlimit\n",
    "setrecursionlimit(11000)\n",
    "\n",
    "string = input()\n",
    "if recursiveCheckPalindrome(string):\n",
    "    print('true')\n",
    "else:\n",
    "    print('false')"
   ]
  }
 ],
 "metadata": {
  "kernelspec": {
   "display_name": "Python 3 (ipykernel)",
   "language": "python",
   "name": "python3"
  },
  "language_info": {
   "codemirror_mode": {
    "name": "ipython",
    "version": 3
   },
   "file_extension": ".py",
   "mimetype": "text/x-python",
   "name": "python",
   "nbconvert_exporter": "python",
   "pygments_lexer": "ipython3",
   "version": "3.9.13"
  }
 },
 "nbformat": 4,
 "nbformat_minor": 5
}
