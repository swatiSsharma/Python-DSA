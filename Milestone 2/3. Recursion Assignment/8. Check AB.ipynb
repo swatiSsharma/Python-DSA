{
 "cells": [
  {
   "cell_type": "markdown",
   "id": "f924adfa",
   "metadata": {},
   "source": [
    "### 8. Check AB\n",
    "\n",
    "Suppose you have a string, S, made up of only 'a's and 'b's. Write a recursive function that checks if the string was generated using the following rules:\n",
    "- a. The string begins with an 'a'\n",
    "- b. Each 'a' is followed by nothing or an 'a' or \"bb\"\n",
    "- c. Each \"bb\" is followed by nothing or an 'a'\n",
    "If all the rules are followed by the given string, return true otherwise return false.\n",
    "\n",
    "**Input format :**  \n",
    "String S  \n",
    "**Output format :**  \n",
    "'true' or 'false'  \n",
    "**Constraints :**  \n",
    "1 <= |S| <= 1000 where |S| represents length of string S.\n",
    "#### Sample Input and Output\n",
    "- Sample Input 1 : abb    \n",
    "  Sample Output 1 : true  \n",
    "- Sample Input 2 : abababa  \n",
    "  Sample Output 2 : false  \n",
    "    \n",
    "**Explanation for Sample Input 2**\n",
    "In the above example, a is not followed by either \"a\" or \"bb\", instead it's followed by \"b\" which results in false to be returned."
   ]
  },
  {
   "cell_type": "code",
   "execution_count": 1,
   "id": "f3da6eec",
   "metadata": {},
   "outputs": [
    {
     "name": "stdout",
     "output_type": "stream",
     "text": [
      "abb\n",
      "true\n"
     ]
    }
   ],
   "source": [
    "def checkAB(string):\n",
    "    if len(string) == 0:\n",
    "        return True\n",
    "    if string[0] == 'a':\n",
    "        if len(string[1:]) > 1 and string[1:3] == 'bb':\n",
    "            return checkAB(string[3:])\n",
    "        else:\n",
    "            return checkAB(string[1:])\n",
    "    else:\n",
    "        return False\n",
    "    \n",
    "string = input()\n",
    "if checkAB(string):\n",
    "    print('true')\n",
    "else:\n",
    "    print('false')"
   ]
  }
 ],
 "metadata": {
  "kernelspec": {
   "display_name": "Python 3 (ipykernel)",
   "language": "python",
   "name": "python3"
  },
  "language_info": {
   "codemirror_mode": {
    "name": "ipython",
    "version": 3
   },
   "file_extension": ".py",
   "mimetype": "text/x-python",
   "name": "python",
   "nbconvert_exporter": "python",
   "pygments_lexer": "ipython3",
   "version": "3.9.13"
  }
 },
 "nbformat": 4,
 "nbformat_minor": 5
}
