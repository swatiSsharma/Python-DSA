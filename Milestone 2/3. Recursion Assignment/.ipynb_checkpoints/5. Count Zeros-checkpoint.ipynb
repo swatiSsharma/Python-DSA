{
 "cells": [
  {
   "cell_type": "markdown",
   "id": "d95a708b",
   "metadata": {},
   "source": [
    "### 5. Count Zeros\n",
    "\n",
    "Given an integer N, count and return the number of zeros that are present in the given integer using recursion.\n",
    "\n",
    "**Input Format :**  \n",
    "Integer N   \n",
    "\n",
    "**Output Format :**  \n",
    "Number of zeros in N  \n",
    "**Constraints :**  \n",
    "0 <= N <= 10^9\n",
    "#### Sample Input and Output\n",
    "- Sample Input 1 : 0  \n",
    "  Sample Output 1 : 1  \n",
    "- Sample Input 2 : 00010204  \n",
    "  Sample Output 2 : 2  \n",
    "- Sample Input 3 : 708000  \n",
    "  Sample Output 3 : 4  \n",
    "\n",
    "**Explanation for Sample Output 2 :**  \n",
    "Even though \"00010204\" has 5 zeros, the output would still be 2 because when you convert it to an integer, it becomes 10204."
   ]
  },
  {
   "cell_type": "code",
   "execution_count": 1,
   "id": "9a2ed3e5",
   "metadata": {},
   "outputs": [
    {
     "name": "stdout",
     "output_type": "stream",
     "text": [
      "708000\n",
      "4\n"
     ]
    }
   ],
   "source": [
    "def countZeros(n):\n",
    "    if n < 0:\n",
    "        n *= -1\n",
    "    if n < 10:\n",
    "        if n == 0:\n",
    "            return 1\n",
    "        return 0\n",
    "    smallOutput = countZeros(n // 10)\n",
    "    if n%10 == 0:\n",
    "        smallOutput += 1\n",
    "    return smallOutput\n",
    "\n",
    "from sys import setrecursionlimit\n",
    "setrecursionlimit(11000)\n",
    "\n",
    "n = int(input())\n",
    "print(countZeros(n))"
   ]
  }
 ],
 "metadata": {
  "kernelspec": {
   "display_name": "Python 3 (ipykernel)",
   "language": "python",
   "name": "python3"
  },
  "language_info": {
   "codemirror_mode": {
    "name": "ipython",
    "version": 3
   },
   "file_extension": ".py",
   "mimetype": "text/x-python",
   "name": "python",
   "nbconvert_exporter": "python",
   "pygments_lexer": "ipython3",
   "version": "3.9.13"
  }
 },
 "nbformat": 4,
 "nbformat_minor": 5
}
