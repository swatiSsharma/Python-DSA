{
 "cells": [
  {
   "cell_type": "markdown",
   "id": "bf11ed30",
   "metadata": {},
   "source": [
    "### 1. Geometric Sum\n",
    "\n",
    "Given k, find the geometric sum using recursion.  \n",
    " **1 + 1/2 + 1/4 + 1/8 + ... + 1/(2^k) **\n",
    "\n",
    "**Input format :**  \n",
    "Integer k  \n",
    "**Output format :**  \n",
    "Geometric sum (upto 5 decimal places)  \n",
    "**Constraints :**  \n",
    "0 <= k <= 1000  \n",
    "\n",
    "#### Sample Input and Output\n",
    "- Sample Input 1 : 3  \n",
    "  Sample Output 1 : 1.87500  \n",
    "- Sample Input 2 : 4  \n",
    "  Sample Output 2 : 1.93750  \n",
    "  \n",
    "**Explanation for Sample Input 1:**  \n",
    "1+ 1/(2^1) + 1/(2^2) + 1/(2^3) = 1.87500  "
   ]
  },
  {
   "cell_type": "code",
   "execution_count": 1,
   "id": "4b264351",
   "metadata": {},
   "outputs": [
    {
     "name": "stdout",
     "output_type": "stream",
     "text": [
      "3\n",
      "1.87500\n"
     ]
    }
   ],
   "source": [
    "def geometricSum(k):\n",
    "    if k == 0:\n",
    "        return 1\n",
    "    smallOutput = geometricSum(k - 1)\n",
    "    return smallOutput + 1/pow(2, k)\n",
    "\n",
    "from sys import setrecursionlimit\n",
    "setrecursionlimit(11000)\n",
    "\n",
    "n = int(input())\n",
    "print(\"%.5f\" % geometricSum(n))"
   ]
  }
 ],
 "metadata": {
  "kernelspec": {
   "display_name": "Python 3 (ipykernel)",
   "language": "python",
   "name": "python3"
  },
  "language_info": {
   "codemirror_mode": {
    "name": "ipython",
    "version": 3
   },
   "file_extension": ".py",
   "mimetype": "text/x-python",
   "name": "python",
   "nbconvert_exporter": "python",
   "pygments_lexer": "ipython3",
   "version": "3.9.13"
  }
 },
 "nbformat": 4,
 "nbformat_minor": 5
}
