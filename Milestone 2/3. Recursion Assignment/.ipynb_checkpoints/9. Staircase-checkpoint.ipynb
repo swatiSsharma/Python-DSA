{
 "cells": [
  {
   "cell_type": "markdown",
   "id": "3bde1183",
   "metadata": {},
   "source": [
    "### 9. Staircase\n",
    "\n",
    "A child is running up a staircase with N steps, and can hop either 1 step, 2 steps or 3 steps at a time. Implement a method to count how many possible ways the child can run up to the stairs. You need to return number of possible ways W.\n",
    "  \n",
    "**Input format :**  \n",
    "Integer N  \n",
    "**Output Format :**  \n",
    "Integer W  \n",
    "**Constraints :**  \n",
    "1 <= N <= 30\n",
    "#### Sample Input and Output\n",
    "- Sample Input 1 : 4  \n",
    "  Sample Output 1 : 7  \n",
    "- Sample Input 2 : 5  \n",
    "  Sample Output 2 : 13"
   ]
  },
  {
   "cell_type": "code",
   "execution_count": 1,
   "id": "3bd71b0d",
   "metadata": {},
   "outputs": [
    {
     "name": "stdout",
     "output_type": "stream",
     "text": [
      "4\n",
      "7\n"
     ]
    }
   ],
   "source": [
    "def staircase(n):\n",
    "    if n < 3:\n",
    "        return n\n",
    "    if n == 3:\n",
    "        return 4\n",
    "    return staircase(n-1) + staircase(n-2) + staircase(n-3)\n",
    "\n",
    "n = int(input())\n",
    "print(staircase(n))"
   ]
  }
 ],
 "metadata": {
  "kernelspec": {
   "display_name": "Python 3 (ipykernel)",
   "language": "python",
   "name": "python3"
  },
  "language_info": {
   "codemirror_mode": {
    "name": "ipython",
    "version": 3
   },
   "file_extension": ".py",
   "mimetype": "text/x-python",
   "name": "python",
   "nbconvert_exporter": "python",
   "pygments_lexer": "ipython3",
   "version": "3.9.13"
  }
 },
 "nbformat": 4,
 "nbformat_minor": 5
}
