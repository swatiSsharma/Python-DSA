{
 "cells": [
  {
   "cell_type": "markdown",
   "id": "beb8c690",
   "metadata": {},
   "source": [
    "### 4. Multiplication (Recursive)\n",
    "\n",
    "Given two integers M & N, calculate and return their multiplication using recursion. You can only use subtraction and addition for your calculation. No other operators are allowed.  \n",
    "\n",
    "**Input format :**\n",
    "- Line 1 : Integer M\n",
    "- Line 2 : Integer N  \n",
    "\n",
    "**Output format :**  \n",
    "M x N  \n",
    "\n",
    "**Constraints :**  \n",
    "- 0 <= M <= 1000\n",
    "- 0 <= N <= 1000\n",
    "#### Sample Input and Output\n",
    "- Sample Input 1 :  \n",
    "  3 (Integer M)    \n",
    "  5 (Integer N)   \n",
    "  Sample Output 1 : 15  \n",
    "- Sample Input 2 :  \n",
    "  4 (Integer M)    \n",
    "  0 (Integer N)    \n",
    "  Sample Output 2 : 0  "
   ]
  },
  {
   "cell_type": "code",
   "execution_count": 1,
   "id": "c9d6a423",
   "metadata": {},
   "outputs": [
    {
     "name": "stdout",
     "output_type": "stream",
     "text": [
      "4\n",
      "0\n",
      "0\n"
     ]
    }
   ],
   "source": [
    "def multiplyNumbers(m, n):\n",
    "    if m == 0 or n == 0:\n",
    "        return 0\n",
    "    if n > 0:\n",
    "        smallOutput = multiplyNumbers(m, n-1)\n",
    "        return smallOutput + m\n",
    "    else:\n",
    "        smallOutput = multiplyNumbers(m, n+1)\n",
    "        return smallOutput - m\n",
    "    \n",
    "from sys import setrecursionlimit\n",
    "setrecursionlimit(11000)\n",
    "\n",
    "m = int(input())\n",
    "n = int(input())\n",
    "\n",
    "print(multiplyNumbers(m, n)) "
   ]
  }
 ],
 "metadata": {
  "kernelspec": {
   "display_name": "Python 3 (ipykernel)",
   "language": "python",
   "name": "python3"
  },
  "language_info": {
   "codemirror_mode": {
    "name": "ipython",
    "version": 3
   },
   "file_extension": ".py",
   "mimetype": "text/x-python",
   "name": "python",
   "nbconvert_exporter": "python",
   "pygments_lexer": "ipython3",
   "version": "3.9.13"
  }
 },
 "nbformat": 4,
 "nbformat_minor": 5
}
