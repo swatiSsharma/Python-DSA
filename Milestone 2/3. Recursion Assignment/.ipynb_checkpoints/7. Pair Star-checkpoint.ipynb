{
 "cells": [
  {
   "cell_type": "markdown",
   "id": "8c11ad23",
   "metadata": {},
   "source": [
    "### 7. Pair Star\n",
    "\n",
    "Given a string S, compute recursively a new string where identical chars that are adjacent in the original string are separated from each other by a \"*\".\n",
    "\n",
    "**Input format :**  \n",
    "String S  \n",
    "**Output format :**  \n",
    "Modified string  \n",
    "**Constraints :**  \n",
    "0 <= |S| <= 1000 where |S| represents length of string S.  \n",
    "#### Sample Input and Output\n",
    "- Sample Input 1 : hello  \n",
    "  Sample Output 1: hel*lo  \n",
    "- Sample Input 2 : aaaa  \n",
    "  Sample Output 2 : a*a*a*a "
   ]
  },
  {
   "cell_type": "code",
   "execution_count": 1,
   "id": "e692f00d",
   "metadata": {},
   "outputs": [
    {
     "name": "stdout",
     "output_type": "stream",
     "text": [
      "hello\n",
      "hel*lo\n"
     ]
    }
   ],
   "source": [
    "def pairStar(string):\n",
    "    if len(string) <= 1:\n",
    "        return string\n",
    "    if string[0] != string[1]:\n",
    "        return string[0] + pairStar(string[1:])\n",
    "    else:\n",
    "        return string[0] + '*' + pairStar(string[1:])\n",
    "    \n",
    "string = input().strip()\n",
    "print(pairStar(string))"
   ]
  }
 ],
 "metadata": {
  "kernelspec": {
   "display_name": "Python 3 (ipykernel)",
   "language": "python",
   "name": "python3"
  },
  "language_info": {
   "codemirror_mode": {
    "name": "ipython",
    "version": 3
   },
   "file_extension": ".py",
   "mimetype": "text/x-python",
   "name": "python",
   "nbconvert_exporter": "python",
   "pygments_lexer": "ipython3",
   "version": "3.9.13"
  }
 },
 "nbformat": 4,
 "nbformat_minor": 5
}
