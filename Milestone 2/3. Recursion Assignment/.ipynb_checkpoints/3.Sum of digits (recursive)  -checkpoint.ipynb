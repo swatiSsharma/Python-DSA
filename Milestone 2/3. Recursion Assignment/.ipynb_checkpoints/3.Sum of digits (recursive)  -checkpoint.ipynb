{
 "cells": [
  {
   "cell_type": "markdown",
   "id": "b5da08cb",
   "metadata": {},
   "source": [
    "### 3.Sum of digits (recursive)  \n",
    "\n",
    "Write a recursive function that returns the sum of the digits of a given integer.   \n",
    "**Input format :**    \n",
    "Integer N  \n",
    "**Output format :**  \n",
    "Sum of digits of N  \n",
    "**Constraints :**\n",
    "0 <= N <= 10^9  \n",
    "#### Sample Input and Output\n",
    "- Sample Input 1 : 12345  \n",
    "  Sample Output 1 : 15  \n",
    "- Sample Input 2 : 9  \n",
    "  Sample Output 2 : 9"
   ]
  },
  {
   "cell_type": "code",
   "execution_count": 1,
   "id": "0125b06b",
   "metadata": {},
   "outputs": [
    {
     "name": "stdout",
     "output_type": "stream",
     "text": [
      "12345\n",
      "15\n"
     ]
    }
   ],
   "source": [
    "def sumOfDigits(n):\n",
    "    if n == 0:\n",
    "        return 0\n",
    "    smallOutput = sumOfDigits(n // 10)\n",
    "    return smallOutput + n%10\n",
    "    \n",
    "    \n",
    "from sys import setrecursionlimit\n",
    "setrecursionlimit(11000)\n",
    "\n",
    "n = int(input())\n",
    "print(sumOfDigits(n))"
   ]
  }
 ],
 "metadata": {
  "kernelspec": {
   "display_name": "Python 3 (ipykernel)",
   "language": "python",
   "name": "python3"
  },
  "language_info": {
   "codemirror_mode": {
    "name": "ipython",
    "version": 3
   },
   "file_extension": ".py",
   "mimetype": "text/x-python",
   "name": "python",
   "nbconvert_exporter": "python",
   "pygments_lexer": "ipython3",
   "version": "3.9.13"
  }
 },
 "nbformat": 4,
 "nbformat_minor": 5
}
