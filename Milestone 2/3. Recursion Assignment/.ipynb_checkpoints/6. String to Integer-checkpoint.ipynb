{
 "cells": [
  {
   "cell_type": "markdown",
   "id": "f220ab19",
   "metadata": {},
   "source": [
    "### 6. String to Integer\n",
    "\n",
    "Write a recursive function to convert a given string into the number it represents. That is input will be a numeric string that contains only numbers, you need to convert the string into corresponding integer and return the answer.\n",
    "\n",
    "**Input format :**  \n",
    "Numeric string S (string, Eg. \"1234\")  \n",
    "**Output format :**  \n",
    "Corresponding integer N (int, Eg. 1234)  \n",
    "**Constraints :**  \n",
    "0 < |S| <= 9 where |S| represents length of string S.\n",
    "\n",
    "#### Sample Input and Output\n",
    "- Sample Input 1 : 00001231  \n",
    "  Sample Output 1 : 1231\n",
    "- Sample Input 2 : 12567  \n",
    "  Sample Output 2 : 12567"
   ]
  },
  {
   "cell_type": "code",
   "execution_count": 1,
   "id": "d62c53f8",
   "metadata": {},
   "outputs": [
    {
     "name": "stdout",
     "output_type": "stream",
     "text": [
      "00001231\n",
      "1231\n"
     ]
    }
   ],
   "source": [
    "def stringToInt(str):\n",
    " \n",
    "    # If the number represented as a string\n",
    "    # contains only a single digit\n",
    "    # then returns its value\n",
    "    if (len(str) == 1):\n",
    "        return ord(str[0]) - ord('0')\n",
    " \n",
    "    # Recursive call for the sub-string\n",
    "    # starting at the second character\n",
    "    y = stringToInt(str[1:])\n",
    " \n",
    "    # First digit of the number\n",
    "    x = ord(str[0]) - ord('0')\n",
    " \n",
    "    # First digit multiplied by the\n",
    "    # appropriate power of 10 and then\n",
    "    # add the recursive result\n",
    "    # For example, xy = ((x * 10) + y)\n",
    "    x = x * (10**(len(str) - 1)) + y\n",
    "    return x\n",
    " \n",
    "str = input()\n",
    "print(stringToInt(str))"
   ]
  }
 ],
 "metadata": {
  "kernelspec": {
   "display_name": "Python 3 (ipykernel)",
   "language": "python",
   "name": "python3"
  },
  "language_info": {
   "codemirror_mode": {
    "name": "ipython",
    "version": 3
   },
   "file_extension": ".py",
   "mimetype": "text/x-python",
   "name": "python",
   "nbconvert_exporter": "python",
   "pygments_lexer": "ipython3",
   "version": "3.9.13"
  }
 },
 "nbformat": 4,
 "nbformat_minor": 5
}
