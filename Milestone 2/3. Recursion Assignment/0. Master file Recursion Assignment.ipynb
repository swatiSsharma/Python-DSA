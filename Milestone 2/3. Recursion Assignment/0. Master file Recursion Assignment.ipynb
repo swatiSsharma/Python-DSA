{
 "cells": [
  {
   "cell_type": "markdown",
   "id": "eab966a5",
   "metadata": {},
   "source": [
    "### 1. Geometric Sum\n",
    "\n",
    "Given k, find the geometric sum using recursion.  \n",
    " **1 + 1/2 + 1/4 + 1/8 + ... + 1/(2^k) **\n",
    "\n",
    "**Input format :**  \n",
    "Integer k  \n",
    "**Output format :**  \n",
    "Geometric sum (upto 5 decimal places)  \n",
    "**Constraints :**  \n",
    "0 <= k <= 1000  \n",
    "\n",
    "#### Sample Input and Output\n",
    "- Sample Input 1 : 3  \n",
    "  Sample Output 1 : 1.87500  \n",
    "- Sample Input 2 : 4  \n",
    "  Sample Output 2 : 1.93750  \n",
    "  \n",
    "**Explanation for Sample Input 1:**  \n",
    "1+ 1/(2^1) + 1/(2^2) + 1/(2^3) = 1.87500  "
   ]
  },
  {
   "cell_type": "code",
   "execution_count": 1,
   "id": "4db6adc6",
   "metadata": {},
   "outputs": [
    {
     "name": "stdout",
     "output_type": "stream",
     "text": [
      "3\n",
      "1.87500\n"
     ]
    }
   ],
   "source": [
    "def geometricSum(k):\n",
    "    if k == 0:\n",
    "        return 1\n",
    "    smallOutput = geometricSum(k - 1)\n",
    "    return smallOutput + 1/pow(2, k)\n",
    "\n",
    "from sys import setrecursionlimit\n",
    "setrecursionlimit(11000)\n",
    "\n",
    "n = int(input())\n",
    "print(\"%.5f\" % geometricSum(n))"
   ]
  },
  {
   "cell_type": "markdown",
   "id": "6461d991",
   "metadata": {},
   "source": [
    "***\n",
    "***\n",
    "### 2. Check Palindrome (recursive)  \n",
    "\n",
    "Check whether a given String S is a palindrome using recursion. Return true or false.  \n",
    "**Input Format :**   \n",
    "String S  \n",
    "**Output Format :**  \n",
    "'true' or 'false'  \n",
    "**Constraints :**  \n",
    "0 <= |S| <= 1000 where |S| represents length of string S.  \n",
    "#### Sample Input and Output\n",
    "- Sample Input 1 : racecar    \n",
    "  Sample Output 1: true  \n",
    "- Sample Input 2 : ninja  \n",
    "  Sample Output 2: false  "
   ]
  },
  {
   "cell_type": "code",
   "execution_count": 2,
   "id": "6410b9b4",
   "metadata": {},
   "outputs": [
    {
     "name": "stdout",
     "output_type": "stream",
     "text": [
      "racecar\n",
      "true\n"
     ]
    }
   ],
   "source": [
    "def recursiveCheckPalindrome(string):\n",
    "    size = len(string)\n",
    "    if size <+ 1:\n",
    "        return True\n",
    "    if string[0] != string[size-1]:\n",
    "        return False\n",
    "    return recursiveCheckPalindrome(string[1:-1])\n",
    "\n",
    "from sys import setrecursionlimit\n",
    "setrecursionlimit(11000)\n",
    "\n",
    "string = input()\n",
    "if recursiveCheckPalindrome(string):\n",
    "    print('true')\n",
    "else:\n",
    "    print('false')"
   ]
  },
  {
   "cell_type": "markdown",
   "id": "b58a552a",
   "metadata": {},
   "source": [
    "***\n",
    "***\n",
    "### 3.Sum of digits (recursive)  \n",
    "\n",
    "Write a recursive function that returns the sum of the digits of a given integer.   \n",
    "**Input format :**    \n",
    "Integer N  \n",
    "**Output format :**  \n",
    "Sum of digits of N  \n",
    "**Constraints :**\n",
    "0 <= N <= 10^9  \n",
    "#### Sample Input and Output\n",
    "- Sample Input 1 : 12345  \n",
    "  Sample Output 1 : 15  \n",
    "- Sample Input 2 : 9  \n",
    "  Sample Output 2 : 9"
   ]
  },
  {
   "cell_type": "code",
   "execution_count": 3,
   "id": "29bb7f07",
   "metadata": {},
   "outputs": [
    {
     "name": "stdout",
     "output_type": "stream",
     "text": [
      "12345\n",
      "15\n"
     ]
    }
   ],
   "source": [
    "def sumOfDigits(n):\n",
    "    if n == 0:\n",
    "        return 0\n",
    "    smallOutput = sumOfDigits(n // 10)\n",
    "    return smallOutput + n%10\n",
    "    \n",
    "    \n",
    "from sys import setrecursionlimit\n",
    "setrecursionlimit(11000)\n",
    "\n",
    "n = int(input())\n",
    "print(sumOfDigits(n))"
   ]
  },
  {
   "cell_type": "markdown",
   "id": "43155a1c",
   "metadata": {},
   "source": [
    "***\n",
    "***\n",
    "### 4. Multiplication (Recursive)\n",
    "\n",
    "Given two integers M & N, calculate and return their multiplication using recursion. You can only use subtraction and addition for your calculation. No other operators are allowed.  \n",
    "\n",
    "**Input format :**\n",
    "- Line 1 : Integer M\n",
    "- Line 2 : Integer N  \n",
    "\n",
    "**Output format :**  \n",
    "M x N  \n",
    "\n",
    "**Constraints :**  \n",
    "- 0 <= M <= 1000\n",
    "- 0 <= N <= 1000\n",
    "#### Sample Input and Output\n",
    "- Sample Input 1 :  \n",
    "  3 (Integer M)    \n",
    "  5 (Integer N)   \n",
    "  Sample Output 1 : 15  \n",
    "- Sample Input 2 :  \n",
    "  4 (Integer M)    \n",
    "  0 (Integer N)    \n",
    "  Sample Output 2 : 0  "
   ]
  },
  {
   "cell_type": "code",
   "execution_count": 4,
   "id": "63c4f49f",
   "metadata": {},
   "outputs": [
    {
     "name": "stdout",
     "output_type": "stream",
     "text": [
      "4\n",
      "0\n",
      "0\n"
     ]
    }
   ],
   "source": [
    "def multiplyNumbers(m, n):\n",
    "    if m == 0 or n == 0:\n",
    "        return 0\n",
    "    if n > 0:\n",
    "        smallOutput = multiplyNumbers(m, n-1)\n",
    "        return smallOutput + m\n",
    "    else:\n",
    "        smallOutput = multiplyNumbers(m, n+1)\n",
    "        return smallOutput - m\n",
    "    \n",
    "from sys import setrecursionlimit\n",
    "setrecursionlimit(11000)\n",
    "\n",
    "m = int(input())\n",
    "n = int(input())\n",
    "\n",
    "print(multiplyNumbers(m, n))    "
   ]
  },
  {
   "cell_type": "markdown",
   "id": "949c02ab",
   "metadata": {},
   "source": [
    "***\n",
    "***\n",
    "### 5. Count Zeros\n",
    "\n",
    "Given an integer N, count and return the number of zeros that are present in the given integer using recursion.\n",
    "\n",
    "**Input Format :**  \n",
    "Integer N   \n",
    "\n",
    "**Output Format :**  \n",
    "Number of zeros in N  \n",
    "**Constraints :**  \n",
    "0 <= N <= 10^9\n",
    "#### Sample Input and Output\n",
    "- Sample Input 1 : 0  \n",
    "  Sample Output 1 : 1  \n",
    "- Sample Input 2 : 00010204  \n",
    "  Sample Output 2 : 2  \n",
    "- Sample Input 3 : 708000  \n",
    "  Sample Output 3 : 4  \n",
    "\n",
    "**Explanation for Sample Output 2 :**  \n",
    "Even though \"00010204\" has 5 zeros, the output would still be 2 because when you convert it to an integer, it becomes 10204.\n"
   ]
  },
  {
   "cell_type": "code",
   "execution_count": 5,
   "id": "a4a3e48b",
   "metadata": {},
   "outputs": [
    {
     "name": "stdout",
     "output_type": "stream",
     "text": [
      "708000\n",
      "4\n"
     ]
    }
   ],
   "source": [
    "def countZeros(n):\n",
    "    if n < 0:\n",
    "        n *= -1\n",
    "    if n < 10:\n",
    "        if n == 0:\n",
    "            return 1\n",
    "        return 0\n",
    "    smallOutput = countZeros(n // 10)\n",
    "    if n%10 == 0:\n",
    "        smallOutput += 1\n",
    "    return smallOutput\n",
    "\n",
    "from sys import setrecursionlimit\n",
    "setrecursionlimit(11000)\n",
    "\n",
    "n = int(input())\n",
    "print(countZeros(n))"
   ]
  },
  {
   "cell_type": "markdown",
   "id": "ef8690ca",
   "metadata": {},
   "source": [
    "***\n",
    "***\n",
    "### 6. String to Integer\n",
    "\n",
    "Write a recursive function to convert a given string into the number it represents. That is input will be a numeric string that contains only numbers, you need to convert the string into corresponding integer and return the answer.\n",
    "\n",
    "**Input format :**  \n",
    "Numeric string S (string, Eg. \"1234\")  \n",
    "**Output format :**  \n",
    "Corresponding integer N (int, Eg. 1234)  \n",
    "**Constraints :**  \n",
    "0 < |S| <= 9 where |S| represents length of string S.\n",
    "\n",
    "#### Sample Input and Output\n",
    "- Sample Input 1 : 00001231  \n",
    "  Sample Output 1 : 1231\n",
    "- Sample Input 2 : 12567  \n",
    "  Sample Output 2 : 12567"
   ]
  },
  {
   "cell_type": "code",
   "execution_count": 6,
   "id": "aac243b4",
   "metadata": {},
   "outputs": [
    {
     "name": "stdout",
     "output_type": "stream",
     "text": [
      "00001231\n",
      "1231\n"
     ]
    }
   ],
   "source": [
    "def stringToInt(str):\n",
    " \n",
    "    # If the number represented as a string\n",
    "    # contains only a single digit\n",
    "    # then returns its value\n",
    "    if (len(str) == 1):\n",
    "        return ord(str[0]) - ord('0')\n",
    " \n",
    "    # Recursive call for the sub-string\n",
    "    # starting at the second character\n",
    "    y = stringToInt(str[1:])\n",
    " \n",
    "    # First digit of the number\n",
    "    x = ord(str[0]) - ord('0')\n",
    " \n",
    "    # First digit multiplied by the\n",
    "    # appropriate power of 10 and then\n",
    "    # add the recursive result\n",
    "    # For example, xy = ((x * 10) + y)\n",
    "    x = x * (10**(len(str) - 1)) + y\n",
    "    return x\n",
    " \n",
    "str = input()\n",
    "print(stringToInt(str))     "
   ]
  },
  {
   "cell_type": "markdown",
   "id": "cdc662ba",
   "metadata": {},
   "source": [
    "***\n",
    "***\n",
    "### 7. Pair Star\n",
    "\n",
    "Given a string S, compute recursively a new string where identical chars that are adjacent in the original string are separated from each other by a \"*\".\n",
    "\n",
    "**Input format :**  \n",
    "String S  \n",
    "**Output format :**  \n",
    "Modified string  \n",
    "**Constraints :**  \n",
    "0 <= |S| <= 1000 where |S| represents length of string S.  \n",
    "#### Sample Input and Output\n",
    "- Sample Input 1 : hello  \n",
    "  Sample Output 1: hel*lo  \n",
    "- Sample Input 2 : aaaa  \n",
    "  Sample Output 2 : a*a*a*a  "
   ]
  },
  {
   "cell_type": "code",
   "execution_count": 7,
   "id": "0d9d6fcf",
   "metadata": {},
   "outputs": [
    {
     "name": "stdout",
     "output_type": "stream",
     "text": [
      "hello\n",
      "hel*lo\n"
     ]
    }
   ],
   "source": [
    "def pairStar(string):\n",
    "    if len(string) <= 1:\n",
    "        return string\n",
    "    if string[0] != string[1]:\n",
    "        return string[0] + pairStar(string[1:])\n",
    "    else:\n",
    "        return string[0] + '*' + pairStar(string[1:])\n",
    "    \n",
    "string = input().strip()\n",
    "print(pairStar(string))"
   ]
  },
  {
   "cell_type": "markdown",
   "id": "0e3632c3",
   "metadata": {},
   "source": [
    "***\n",
    "***\n",
    "### 8. Check AB\n",
    "\n",
    "Suppose you have a string, S, made up of only 'a's and 'b's. Write a recursive function that checks if the string was generated using the following rules:\n",
    "- a. The string begins with an 'a'\n",
    "- b. Each 'a' is followed by nothing or an 'a' or \"bb\"\n",
    "- c. Each \"bb\" is followed by nothing or an 'a'\n",
    "If all the rules are followed by the given string, return true otherwise return false.\n",
    "\n",
    "**Input format :**  \n",
    "String S  \n",
    "**Output format :**  \n",
    "'true' or 'false'  \n",
    "**Constraints :**  \n",
    "1 <= |S| <= 1000 where |S| represents length of string S.\n",
    "#### Sample Input and Output\n",
    "- Sample Input 1 : abb    \n",
    "  Sample Output 1 : true  \n",
    "- Sample Input 2 : abababa  \n",
    "  Sample Output 2 : false  \n",
    "    \n",
    "**Explanation for Sample Input 2**\n",
    "In the above example, a is not followed by either \"a\" or \"bb\", instead it's followed by \"b\" which results in false to be returned."
   ]
  },
  {
   "cell_type": "code",
   "execution_count": 8,
   "id": "bb0eb6ba",
   "metadata": {},
   "outputs": [
    {
     "name": "stdout",
     "output_type": "stream",
     "text": [
      "abb\n",
      "true\n"
     ]
    }
   ],
   "source": [
    "def checkAB(string):\n",
    "    if len(string) == 0:\n",
    "        return True\n",
    "    if string[0] == 'a':\n",
    "        if len(string[1:]) > 1 and string[1:3] == 'bb':\n",
    "            return checkAB(string[3:])\n",
    "        else:\n",
    "            return checkAB(string[1:])\n",
    "    else:\n",
    "        return False\n",
    "    \n",
    "string = input()\n",
    "if checkAB(string):\n",
    "    print('true')\n",
    "else:\n",
    "    print('false')"
   ]
  },
  {
   "cell_type": "markdown",
   "id": "d7f8fda2",
   "metadata": {},
   "source": [
    "***\n",
    "***\n",
    "### 9. Staircase\n",
    "\n",
    "A child is running up a staircase with N steps, and can hop either 1 step, 2 steps or 3 steps at a time. Implement a method to count how many possible ways the child can run up to the stairs. You need to return number of possible ways W.\n",
    "  \n",
    "**Input format :**  \n",
    "Integer N  \n",
    "**Output Format :**  \n",
    "Integer W  \n",
    "**Constraints :**  \n",
    "1 <= N <= 30\n",
    "#### Sample Input and Output\n",
    "- Sample Input 1 : 4  \n",
    "  Sample Output 1 : 7  \n",
    "- Sample Input 2 : 5  \n",
    "  Sample Output 2 : 13"
   ]
  },
  {
   "cell_type": "code",
   "execution_count": 9,
   "id": "e944e253",
   "metadata": {},
   "outputs": [
    {
     "name": "stdout",
     "output_type": "stream",
     "text": [
      "4\n",
      "7\n"
     ]
    }
   ],
   "source": [
    "def staircase(n):\n",
    "    if n < 3:\n",
    "        return n\n",
    "    if n == 3:\n",
    "        return 4\n",
    "    return staircase(n-1) + staircase(n-2) + staircase(n-3)\n",
    "\n",
    "n = int(input())\n",
    "print(staircase(n))"
   ]
  }
 ],
 "metadata": {
  "kernelspec": {
   "display_name": "Python 3 (ipykernel)",
   "language": "python",
   "name": "python3"
  },
  "language_info": {
   "codemirror_mode": {
    "name": "ipython",
    "version": 3
   },
   "file_extension": ".py",
   "mimetype": "text/x-python",
   "name": "python",
   "nbconvert_exporter": "python",
   "pygments_lexer": "ipython3",
   "version": "3.9.13"
  }
 },
 "nbformat": 4,
 "nbformat_minor": 5
}
