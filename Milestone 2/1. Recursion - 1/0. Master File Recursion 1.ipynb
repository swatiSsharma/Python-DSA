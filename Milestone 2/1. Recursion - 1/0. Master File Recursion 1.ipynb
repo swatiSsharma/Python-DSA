{
 "cells": [
  {
   "cell_type": "markdown",
   "metadata": {},
   "source": [
    "# Recursion"
   ]
  },
  {
   "cell_type": "markdown",
   "metadata": {},
   "source": [
    "### 1. Factorial of a number\n",
    "\n",
    "Write a program to find the factorial of a number\n",
    "\n",
    "**Input** integer number\n",
    "**Output** integer number"
   ]
  },
  {
   "cell_type": "code",
   "execution_count": 1,
   "metadata": {},
   "outputs": [
    {
     "name": "stdout",
     "output_type": "stream",
     "text": [
      "Enter a number: 100\n",
      "93326215443944152681699238856266700490715968264381621468592963895217599993229915608941463976156518286253697920827223758251185210916864000000000000000000000000\n"
     ]
    }
   ],
   "source": [
    "def fact(n):\n",
    "    if n == 0:\n",
    "        return 1\n",
    "    return n * fact(n-1)\n",
    "\n",
    "n = int(input(\"Enter a number: \"))\n",
    "print(fact(n))"
   ]
  },
  {
   "cell_type": "markdown",
   "metadata": {},
   "source": [
    "***\n",
    "***\n",
    "### 2. Sum of N natural numbers\n",
    "\n",
    "Write a program to find the sum of N natural number\n",
    "\n",
    "**Input** integer number\n",
    "**Output** integer number"
   ]
  },
  {
   "cell_type": "code",
   "execution_count": 2,
   "metadata": {},
   "outputs": [
    {
     "name": "stdout",
     "output_type": "stream",
     "text": [
      "Enter a number: 19\n",
      "190\n"
     ]
    }
   ],
   "source": [
    "def sumN(n):\n",
    "    if n == 0:\n",
    "        return 0\n",
    "    return n + sumN(n-1)\n",
    "\n",
    "n = int(input(\"Enter a number: \"))\n",
    "print(sumN(n))"
   ]
  },
  {
   "cell_type": "markdown",
   "metadata": {},
   "source": [
    "***\n",
    "***\n",
    "### 3. Nth Fibonacci Number\n",
    "\n",
    "Write a program to find the Nth Fibonacci number\n",
    "\n",
    "**Input** integer number\n",
    "**Output** integer number"
   ]
  },
  {
   "cell_type": "code",
   "execution_count": 3,
   "metadata": {},
   "outputs": [
    {
     "name": "stdout",
     "output_type": "stream",
     "text": [
      "Enter a number: 21\n",
      "10946\n"
     ]
    }
   ],
   "source": [
    "def fib(n):\n",
    "    if n == 1 or n == 2:\n",
    "        return 1\n",
    "    fib_1 = fib(n-1)\n",
    "    fib_2 = fib(n-2)\n",
    "    return fib_1 + fib_2\n",
    "\n",
    "n = int(input(\"Enter a number: \"))\n",
    "print(fib(n))"
   ]
  },
  {
   "cell_type": "markdown",
   "metadata": {},
   "source": [
    "### 4. Power of a Number\n",
    "\n",
    "Write a program to find x to the power n (i.e. x^n). Take x and n from the user. You need to print the answer.\n",
    "Note : For this question, you can assume that 0 raised to the power of 0 is 1\n",
    "\n",
    "**Input format :**  \n",
    "    \n",
    "Two integers x and n (separated by space)  \n",
    "\n",
    "**Output Format :**  \n",
    "    \n",
    "x^n (i.e. x raise to the power n)  \n",
    "\n",
    "**Constraints:**  \n",
    "    \n",
    "    0 <= x <= 8 \n",
    "    0 <= n <= 9\n",
    "\n",
    "#### Input and Output\n",
    "- Sample Input 1 : 3 4  \n",
    "  Sample Output : 81\n",
    "- Sample Input 2 : 2 5  \n",
    "  Sample Output 2 : 32"
   ]
  },
  {
   "cell_type": "code",
   "execution_count": 4,
   "metadata": {},
   "outputs": [
    {
     "name": "stdout",
     "output_type": "stream",
     "text": [
      "Enter the number in space seperated format: 4 5\n",
      "The power of a number is:  1024\n"
     ]
    }
   ],
   "source": [
    "li = input('Enter the number in space seperated format: ').split()\n",
    "x = int(li[0])\n",
    "n = int(li[1])\n",
    "\n",
    "def power(x, n):\n",
    "    if n == 1:\n",
    "        return x\n",
    "    if n == 0:\n",
    "        return 1\n",
    "    return x * power(x, n-1)\n",
    "\n",
    "print('The power of a number is: ',power(x, n))"
   ]
  },
  {
   "cell_type": "markdown",
   "metadata": {},
   "source": [
    "***\n",
    "***\n",
    "### 5. Sum of Array\n",
    "\n",
    "Given an array of length N, you need to find and return the sum of all elements of the array.Do this recursively.\n",
    "\n",
    "**Input Format :**\n",
    "- Line 1 : An Integer N i.e. size of array  \n",
    "- Line 2 : N integers which are elements of the array, separated by spaces    \n",
    "**Output Format :**\n",
    "- Sum\n",
    "\n",
    "**Constraints :**\n",
    "  1 <= N <= 10^3\n",
    "\n",
    "#### Input and Output\n",
    "- Sample Input 1 :  \n",
    "  3(length)  \n",
    "  9 8 9  \n",
    "  Sample Output 1 :  \n",
    "  26  \n",
    "  \n",
    "- Sample Input 2 :  \n",
    "  3(length)   \n",
    "  4 2 1  \n",
    "  Sample Output 2 :  \n",
    "  7      "
   ]
  },
  {
   "cell_type": "code",
   "execution_count": 5,
   "metadata": {},
   "outputs": [
    {
     "name": "stdout",
     "output_type": "stream",
     "text": [
      "Enter length of the Array: 3\n",
      "Enter integers in a space seperated format 9 8 9\n",
      "Sum of Array is:  26\n"
     ]
    }
   ],
   "source": [
    "def sumArray(arr):\n",
    "    n = len(arr)\n",
    "    if n == 1:\n",
    "        return arr[0]\n",
    "    smallOutput = sumArray(arr[:n-1])\n",
    "    return smallOutput + arr[n-1]\n",
    "\n",
    "# to avoid exceeding recurion depth\n",
    "from sys import setrecursionlimit\n",
    "setrecursionlimit(11000)\n",
    "\n",
    "n = int(input('Enter length of the Array: '))\n",
    "arr = list(int(i) for i in input('Enter integers in a space seperated format ').strip().split(' '))\n",
    "print(\"Sum of Array is: \" ,sumArray(arr))"
   ]
  },
  {
   "cell_type": "markdown",
   "metadata": {},
   "source": [
    "***\n",
    "***\n",
    "### 6. Check Number in Array\n",
    "\n",
    "Given an array of length N and an integer x, you need to find if x is present in the array or not. Return true or false.Do this recursively.\n",
    "\n",
    "**Input Format :**\n",
    "- Line 1 : An Integer N i.e. size of array\n",
    "- Line 2 : N integers which are elements of the array, separated by spaces\n",
    "- Line 3 : Integer x\n",
    "  \n",
    "**Output Format :**\n",
    "- 'true' or 'false'\n",
    "    \n",
    "**Constraints :**\n",
    "    1 <= N <= 10^3\n",
    "  \n",
    "#### Input and Output\n",
    "- Sample Input 1 :\n",
    "  3  (length)  \n",
    "  9 8 10  (elements)  \n",
    "  8 Integer  \n",
    "  Sample Output 1 :\n",
    "  true  \n",
    "- Sample Input 2 :\n",
    "  3 (length)  \n",
    "  9 8 10  (elements)  \n",
    "  2 integer  \n",
    "  Sample Output 2 :  \n",
    "  false  "
   ]
  },
  {
   "cell_type": "code",
   "execution_count": 6,
   "metadata": {},
   "outputs": [
    {
     "name": "stdout",
     "output_type": "stream",
     "text": [
      "Enter the length of Array:3\n",
      "Enter integer elements:9 8 10\n",
      "Enter the element you want to search: 2\n",
      "false\n"
     ]
    }
   ],
   "source": [
    "def checkNumber(arr, x):\n",
    "    length = len(arr)\n",
    "    \n",
    "    if length == 1:\n",
    "        return x == arr[0]\n",
    "    smallOutput = checkNumber(arr[:length-1], x)\n",
    "    return smallOutput or (x == arr[length-1])\n",
    "\n",
    "# to avoid exceeding recurion depth\n",
    "from sys import setrecursionlimit\n",
    "setrecursionlimit(11000)\n",
    "\n",
    "n=int(input('Enter the length of Array:'))\n",
    "arr=list(int(i) for i in input('Enter integer elements:').strip().split(' '))\n",
    "x=int(input('Enter the element you want to search: '))\n",
    "if checkNumber(arr, x):\n",
    "    print('true')\n",
    "else:\n",
    "    print('false')        "
   ]
  },
  {
   "cell_type": "markdown",
   "metadata": {},
   "source": [
    "***\n",
    "***\n",
    "### 7. List is sorted or not\n",
    "\n",
    "Given a list, check if it is sorted or not\n",
    "\n",
    "**Input** - list\n",
    "**Output** - True or False"
   ]
  },
  {
   "cell_type": "code",
   "execution_count": 7,
   "metadata": {},
   "outputs": [
    {
     "name": "stdout",
     "output_type": "stream",
     "text": [
      "False\n"
     ]
    }
   ],
   "source": [
    "# Approach 1  -- the small output is created multiple times\n",
    "\n",
    "def isSorted(a):\n",
    "    l = len(a)\n",
    "    \n",
    "    if l == 0 or l == 1:\n",
    "        return True\n",
    "    if a[0] > a[1]:\n",
    "        return False\n",
    "    smallOutput = isSorted(a[1:])\n",
    "    if smallOutput:\n",
    "        return True\n",
    "    else:\n",
    "        return False\n",
    "    \n",
    "l = [2 , 4 , 7, 1, 0]\n",
    "print(isSorted(l))"
   ]
  },
  {
   "cell_type": "code",
   "execution_count": 8,
   "metadata": {},
   "outputs": [
    {
     "name": "stdout",
     "output_type": "stream",
     "text": [
      "False\n"
     ]
    }
   ],
   "source": [
    "# Approach 2  -- start index approach\n",
    "\n",
    "def isSortedOptimised( a, start_index = 0):\n",
    "    l = len(a)\n",
    "    if start_index == l-1 or start_index == l:\n",
    "        return True\n",
    "    if a[start_index] > a[start_index + 1]:\n",
    "        return False\n",
    "    isSmaller = isSortedOptimised(a, start_index + 1)\n",
    "    if isSmaller:\n",
    "        return True\n",
    "    else:\n",
    "        return False\n",
    "    \n",
    "l = [2 , 4 , 7, 1, 0]\n",
    "print(isSortedOptimised(l)) "
   ]
  },
  {
   "cell_type": "markdown",
   "metadata": {},
   "source": [
    "***\n",
    "***\n",
    "### 8. First Index of Number - Question\n",
    "\n",
    "Given an array of length N and an integer x, you need to find and return the first index of integer x present in the array. Return -1 if it is not present in the array.\n",
    "First index means, the index of first occurrence of x in the input array.\n",
    "Do this recursively. Indexing in the array starts from 0.\n",
    "  \n",
    "**Input Format :**\n",
    "- Line 1 : An Integer N i.e. size of array\n",
    "- Line 2 : N integers which are elements of the array, separated by spaces\n",
    "- Line 3 : Integer x\n",
    "  \n",
    "**Output Format :**\n",
    "- first index or -1\n",
    "  \n",
    "**Constraints :**\n",
    "   1 <= N <= 10^3\n",
    "#### Input and Output \n",
    "- Sample Input :\n",
    "  4 (length)  \n",
    "  9 8 10 8 (element in array)  \n",
    "  8 ( finding the number)    \n",
    "  Sample Output :  \n",
    "  1"
   ]
  },
  {
   "cell_type": "code",
   "execution_count": 9,
   "metadata": {},
   "outputs": [
    {
     "name": "stdout",
     "output_type": "stream",
     "text": [
      "4\n",
      "9 8 10 8\n",
      "8\n",
      "1\n"
     ]
    }
   ],
   "source": [
    "def firstIndex(arr, x, si=0):\n",
    "    l = len(arr)\n",
    "    if si == l-1 or si == l:   #si== l (no element to point cz si start from 0 toh yeh cross kar jayega l ko)\n",
    "        return False\n",
    "    elif arr[si] == x:\n",
    "        return si\n",
    "    smallList = firstIndex(arr,x,si+1)\n",
    "    return smallList\n",
    "\n",
    "from sys import setrecursionlimit\n",
    "setrecursionlimit(11000)\n",
    "n=int(input())\n",
    "arr=list(int(i) for i in input().strip().split(' '))\n",
    "x=int(input())\n",
    "print(firstIndex(arr, x))"
   ]
  },
  {
   "cell_type": "markdown",
   "metadata": {},
   "source": [
    "***\n",
    "***\n",
    "### 9. Last Index Of Number Question\n",
    "\n",
    "Given an array of length N and an integer x, you need to find and return the last index of integer x present in the array. Return -1 if it is not present in the array.\n",
    "Last index means - if x is present multiple times in the array, return the index at which x comes last in the array.\n",
    "You should start traversing your array from 0, not from (N - 1).\n",
    "Do this recursively. Indexing in the array starts from 0.\n",
    "  \n",
    "**Input Format :**\n",
    "- Line 1 : An Integer N i.e. size of array\n",
    "- Line 2 : N integers which are elements of the array, separated by spaces\n",
    "- Line 3 : Integer x\n",
    "  \n",
    "**Output Format :**\n",
    "  last index or -1  \n",
    "**Constraints :**\n",
    "1 <= N <= 10^3\n",
    "#### Input and Output \n",
    "- Sample Input :  \n",
    "  4 (length)  \n",
    "  9 8 10 8 (elements)  \n",
    "  8 (Searching last index)  \n",
    "  Sample Output :  \n",
    "  3  "
   ]
  },
  {
   "cell_type": "code",
   "execution_count": 10,
   "metadata": {},
   "outputs": [
    {
     "name": "stdout",
     "output_type": "stream",
     "text": [
      "4\n",
      "9 8 10 8\n",
      "8\n",
      "3\n"
     ]
    }
   ],
   "source": [
    "def lastIndex(arr, x):\n",
    "    l = len(arr)\n",
    "    if l <= 0:\n",
    "        return -1\n",
    "    smallOutput = lastIndex( arr[1:], x)\n",
    "    if smallOutput == -1:\n",
    "        if x == arr[0]:\n",
    "            return 0\n",
    "        else:\n",
    "            return -1\n",
    "    else:\n",
    "        return smallOutput + 1\n",
    "\n",
    "from sys import setrecursionlimit\n",
    "setrecursionlimit(11000)\n",
    "n=int(input())\n",
    "arr=list(int(i) for i in input().strip().split(' '))\n",
    "x=int(input())\n",
    "print(lastIndex(arr, x))"
   ]
  }
 ],
 "metadata": {
  "kernelspec": {
   "display_name": "Python 3 (ipykernel)",
   "language": "python",
   "name": "python3"
  },
  "language_info": {
   "codemirror_mode": {
    "name": "ipython",
    "version": 3
   },
   "file_extension": ".py",
   "mimetype": "text/x-python",
   "name": "python",
   "nbconvert_exporter": "python",
   "pygments_lexer": "ipython3",
   "version": "3.9.13"
  }
 },
 "nbformat": 4,
 "nbformat_minor": 4
}
