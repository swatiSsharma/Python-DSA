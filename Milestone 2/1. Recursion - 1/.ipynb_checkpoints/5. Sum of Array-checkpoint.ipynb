{
 "cells": [
  {
   "cell_type": "markdown",
   "id": "de5a05e0",
   "metadata": {},
   "source": [
    "### 5. Sum of Array\n",
    "\n",
    "Given an array of length N, you need to find and return the sum of all elements of the array.Do this recursively.\n",
    "\n",
    "**Input Format :**\n",
    "- Line 1 : An Integer N i.e. size of array  \n",
    "- Line 2 : N integers which are elements of the array, separated by spaces    \n",
    "**Output Format :**\n",
    "- Sum\n",
    "\n",
    "**Constraints :**\n",
    "  1 <= N <= 10^3\n",
    "\n",
    "#### Input and Output\n",
    "- Sample Input 1 :  \n",
    "  3(length)  \n",
    "  9 8 9  \n",
    "  Sample Output 1 :  \n",
    "  26  \n",
    "  \n",
    "- Sample Input 2 :  \n",
    "  3(length)   \n",
    "  4 2 1  \n",
    "  Sample Output 2 :  \n",
    "  7      "
   ]
  },
  {
   "cell_type": "code",
   "execution_count": 1,
   "id": "13e20018",
   "metadata": {},
   "outputs": [
    {
     "name": "stdout",
     "output_type": "stream",
     "text": [
      "Enter length of the Array: 3\n",
      "Enter integers in a space seperated format 9 8 9\n",
      "Sum of Array is:  26\n"
     ]
    }
   ],
   "source": [
    "def sumArray(arr):\n",
    "    n = len(arr)\n",
    "    if n == 1:\n",
    "        return arr[0]\n",
    "    smallOutput = sumArray(arr[:n-1])\n",
    "    return smallOutput + arr[n-1]\n",
    "\n",
    "# to avoid exceeding recurion depth\n",
    "from sys import setrecursionlimit\n",
    "setrecursionlimit(11000)\n",
    "\n",
    "n = int(input('Enter length of the Array: '))\n",
    "arr = list(int(i) for i in input('Enter integers in a space seperated format ').strip().split(' '))\n",
    "print(\"Sum of Array is: \" ,sumArray(arr))"
   ]
  }
 ],
 "metadata": {
  "kernelspec": {
   "display_name": "Python 3 (ipykernel)",
   "language": "python",
   "name": "python3"
  },
  "language_info": {
   "codemirror_mode": {
    "name": "ipython",
    "version": 3
   },
   "file_extension": ".py",
   "mimetype": "text/x-python",
   "name": "python",
   "nbconvert_exporter": "python",
   "pygments_lexer": "ipython3",
   "version": "3.9.13"
  }
 },
 "nbformat": 4,
 "nbformat_minor": 5
}
