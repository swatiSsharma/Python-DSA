{
 "cells": [
  {
   "cell_type": "markdown",
   "id": "61f0c657",
   "metadata": {},
   "source": [
    "### 3. Nth Fibonacci Number\n",
    "\n",
    "Write a program to find the Nth Fibonacci number\n",
    "\n",
    "**Input** integer number\n",
    "**Output** integer number"
   ]
  },
  {
   "cell_type": "code",
   "execution_count": 1,
   "id": "e7002c7f",
   "metadata": {},
   "outputs": [
    {
     "name": "stdout",
     "output_type": "stream",
     "text": [
      "Enter a number: 21\n",
      "10946\n"
     ]
    }
   ],
   "source": [
    "def fib(n):\n",
    "    if n == 1 or n == 2:\n",
    "        return 1\n",
    "    fib_1 = fib(n-1)\n",
    "    fib_2 = fib(n-2)\n",
    "    return fib_1 + fib_2\n",
    "\n",
    "n = int(input(\"Enter a number: \"))\n",
    "print(fib(n))"
   ]
  }
 ],
 "metadata": {
  "kernelspec": {
   "display_name": "Python 3 (ipykernel)",
   "language": "python",
   "name": "python3"
  },
  "language_info": {
   "codemirror_mode": {
    "name": "ipython",
    "version": 3
   },
   "file_extension": ".py",
   "mimetype": "text/x-python",
   "name": "python",
   "nbconvert_exporter": "python",
   "pygments_lexer": "ipython3",
   "version": "3.9.13"
  }
 },
 "nbformat": 4,
 "nbformat_minor": 5
}
