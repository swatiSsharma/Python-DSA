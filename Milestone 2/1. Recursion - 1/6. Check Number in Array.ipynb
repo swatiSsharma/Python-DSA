{
 "cells": [
  {
   "cell_type": "markdown",
   "id": "31b09ae6",
   "metadata": {},
   "source": [
    "### 6. Check Number in Array\n",
    "\n",
    "Given an array of length N and an integer x, you need to find if x is present in the array or not. Return true or false.Do this recursively.\n",
    "\n",
    "**Input Format :**\n",
    "- Line 1 : An Integer N i.e. size of array\n",
    "- Line 2 : N integers which are elements of the array, separated by spaces\n",
    "- Line 3 : Integer x\n",
    "  \n",
    "**Output Format :**\n",
    "- 'true' or 'false'\n",
    "    \n",
    "**Constraints :**\n",
    "    1 <= N <= 10^3\n",
    "  \n",
    "#### Input and Output\n",
    "- Sample Input 1 :\n",
    "  3  (length)  \n",
    "  9 8 10  (elements)  \n",
    "  8 Integer  \n",
    "  Sample Output 1 :\n",
    "  true  \n",
    "- Sample Input 2 :\n",
    "  3 (length)  \n",
    "  9 8 10  (elements)  \n",
    "  2 integer  \n",
    "  Sample Output 2 :  \n",
    "  false "
   ]
  },
  {
   "cell_type": "code",
   "execution_count": 1,
   "id": "f3609078",
   "metadata": {},
   "outputs": [
    {
     "name": "stdout",
     "output_type": "stream",
     "text": [
      "Enter the length of Array:3\n",
      "Enter integer elements:9 8 10\n",
      "Enter the element you want to search: 8\n",
      "true\n"
     ]
    }
   ],
   "source": [
    "def checkNumber(arr, x):\n",
    "    length = len(arr)\n",
    "    \n",
    "    if length == 1:\n",
    "        return x == arr[0]\n",
    "    smallOutput = checkNumber(arr[:length-1], x)\n",
    "    return smallOutput or (x == arr[length-1])\n",
    "\n",
    "# to avoid exceeding recurion depth\n",
    "from sys import setrecursionlimit\n",
    "setrecursionlimit(11000)\n",
    "\n",
    "n=int(input('Enter the length of Array:'))\n",
    "arr=list(int(i) for i in input('Enter integer elements:').strip().split(' '))\n",
    "x=int(input('Enter the element you want to search: '))\n",
    "if checkNumber(arr, x):\n",
    "    print('true')\n",
    "else:\n",
    "    print('false')   "
   ]
  }
 ],
 "metadata": {
  "kernelspec": {
   "display_name": "Python 3 (ipykernel)",
   "language": "python",
   "name": "python3"
  },
  "language_info": {
   "codemirror_mode": {
    "name": "ipython",
    "version": 3
   },
   "file_extension": ".py",
   "mimetype": "text/x-python",
   "name": "python",
   "nbconvert_exporter": "python",
   "pygments_lexer": "ipython3",
   "version": "3.9.13"
  }
 },
 "nbformat": 4,
 "nbformat_minor": 5
}
