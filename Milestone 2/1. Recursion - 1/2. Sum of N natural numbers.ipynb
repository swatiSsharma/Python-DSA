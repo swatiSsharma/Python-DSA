{
 "cells": [
  {
   "cell_type": "markdown",
   "id": "ed1be8e5",
   "metadata": {},
   "source": [
    "### 2. Sum of N natural numbers\n",
    "\n",
    "Write a program to find the sum of N natural number\n",
    "\n",
    "**Input** integer number\n",
    "**Output** integer number"
   ]
  },
  {
   "cell_type": "code",
   "execution_count": 1,
   "id": "603a906f",
   "metadata": {},
   "outputs": [
    {
     "name": "stdout",
     "output_type": "stream",
     "text": [
      "Enter a number: 20\n",
      "210\n"
     ]
    }
   ],
   "source": [
    "def sumN(n):\n",
    "    if n == 0:\n",
    "        return 0\n",
    "    return n + sumN(n-1)\n",
    "\n",
    "n = int(input(\"Enter a number: \"))\n",
    "print(sumN(n))"
   ]
  }
 ],
 "metadata": {
  "kernelspec": {
   "display_name": "Python 3 (ipykernel)",
   "language": "python",
   "name": "python3"
  },
  "language_info": {
   "codemirror_mode": {
    "name": "ipython",
    "version": 3
   },
   "file_extension": ".py",
   "mimetype": "text/x-python",
   "name": "python",
   "nbconvert_exporter": "python",
   "pygments_lexer": "ipython3",
   "version": "3.9.13"
  }
 },
 "nbformat": 4,
 "nbformat_minor": 5
}
