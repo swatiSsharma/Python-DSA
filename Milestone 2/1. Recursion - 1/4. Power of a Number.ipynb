{
 "cells": [
  {
   "cell_type": "markdown",
   "id": "6744b231",
   "metadata": {},
   "source": [
    "### 4. Power of a Number\n",
    "\n",
    "Write a program to find x to the power n (i.e. x^n). Take x and n from the user. You need to print the answer.\n",
    "Note : For this question, you can assume that 0 raised to the power of 0 is 1\n",
    "\n",
    "**Input format :**  \n",
    "    \n",
    "Two integers x and n (separated by space)  \n",
    "\n",
    "**Output Format :**  \n",
    "    \n",
    "x^n (i.e. x raise to the power n)  \n",
    "\n",
    "**Constraints:**  \n",
    "    \n",
    "    0 <= x <= 8 \n",
    "    0 <= n <= 9\n",
    "\n",
    "#### Input and Output\n",
    "- Sample Input 1 : 3 4  \n",
    "  Sample Output : 81\n",
    "- Sample Input 2 : 2 5  \n",
    "  Sample Output 2 : 32"
   ]
  },
  {
   "cell_type": "code",
   "execution_count": 1,
   "id": "01803582",
   "metadata": {},
   "outputs": [
    {
     "name": "stdout",
     "output_type": "stream",
     "text": [
      "Enter the number in space seperated format: 3 4\n",
      "The power of a number is:  81\n"
     ]
    }
   ],
   "source": [
    "li = input('Enter the number in space seperated format: ').split()\n",
    "x = int(li[0])\n",
    "n = int(li[1])\n",
    "\n",
    "def power(x, n):\n",
    "    if n == 1:\n",
    "        return x\n",
    "    if n == 0:\n",
    "        return 1\n",
    "    return x * power(x, n-1)\n",
    "\n",
    "print('The power of a number is: ',power(x, n))"
   ]
  }
 ],
 "metadata": {
  "kernelspec": {
   "display_name": "Python 3 (ipykernel)",
   "language": "python",
   "name": "python3"
  },
  "language_info": {
   "codemirror_mode": {
    "name": "ipython",
    "version": 3
   },
   "file_extension": ".py",
   "mimetype": "text/x-python",
   "name": "python",
   "nbconvert_exporter": "python",
   "pygments_lexer": "ipython3",
   "version": "3.9.13"
  }
 },
 "nbformat": 4,
 "nbformat_minor": 5
}
