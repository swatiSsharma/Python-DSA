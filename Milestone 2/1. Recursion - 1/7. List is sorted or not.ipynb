{
 "cells": [
  {
   "cell_type": "markdown",
   "id": "fd0e5636",
   "metadata": {},
   "source": [
    "### 7. List is sorted or not\n",
    "\n",
    "Given a list, check if it is sorted or not\n",
    "\n",
    "**Input** - list\n",
    "**Output** - True or False"
   ]
  },
  {
   "cell_type": "code",
   "execution_count": 1,
   "id": "15f8abf7",
   "metadata": {},
   "outputs": [
    {
     "name": "stdout",
     "output_type": "stream",
     "text": [
      "False\n"
     ]
    }
   ],
   "source": [
    "# Approach 1  -- the small output is created multiple times\n",
    "\n",
    "def isSorted(a):\n",
    "    l = len(a)\n",
    "    \n",
    "    if l == 0 or l == 1:\n",
    "        return True\n",
    "    if a[0] > a[1]:\n",
    "        return False\n",
    "    smallOutput = isSorted(a[1:])\n",
    "    if smallOutput:\n",
    "        return True\n",
    "    else:\n",
    "        return False\n",
    "    \n",
    "l = [2 , 4 , 7, 1, 0]\n",
    "print(isSorted(l))"
   ]
  },
  {
   "cell_type": "code",
   "execution_count": 2,
   "id": "47b7dc53",
   "metadata": {},
   "outputs": [
    {
     "name": "stdout",
     "output_type": "stream",
     "text": [
      "True\n"
     ]
    }
   ],
   "source": [
    "# Approach 2  -- start index approach\n",
    "\n",
    "def isSortedOptimised( a, start_index = 0):\n",
    "    l = len(a)\n",
    "    if start_index == l-1 or start_index == l:\n",
    "        return True\n",
    "    if a[start_index] > a[start_index + 1]:\n",
    "        return False\n",
    "    isSmaller = isSortedOptimised(a, start_index + 1)\n",
    "    if isSmaller:\n",
    "        return True\n",
    "    else:\n",
    "        return False\n",
    "    \n",
    "l = [1, 2, 3, 4, 7]\n",
    "print(isSortedOptimised(l)) "
   ]
  }
 ],
 "metadata": {
  "kernelspec": {
   "display_name": "Python 3 (ipykernel)",
   "language": "python",
   "name": "python3"
  },
  "language_info": {
   "codemirror_mode": {
    "name": "ipython",
    "version": 3
   },
   "file_extension": ".py",
   "mimetype": "text/x-python",
   "name": "python",
   "nbconvert_exporter": "python",
   "pygments_lexer": "ipython3",
   "version": "3.9.13"
  }
 },
 "nbformat": 4,
 "nbformat_minor": 5
}
