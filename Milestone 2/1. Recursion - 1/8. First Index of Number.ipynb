{
 "cells": [
  {
   "cell_type": "markdown",
   "id": "404210c2",
   "metadata": {},
   "source": [
    "### 8. First Index of Number \n",
    "\n",
    "Given an array of length N and an integer x, you need to find and return the first index of integer x present in the array. Return -1 if it is not present in the array.\n",
    "First index means, the index of first occurrence of x in the input array.\n",
    "Do this recursively. Indexing in the array starts from 0.\n",
    "  \n",
    "**Input Format :**\n",
    "- Line 1 : An Integer N i.e. size of array\n",
    "- Line 2 : N integers which are elements of the array, separated by spaces\n",
    "- Line 3 : Integer x\n",
    "  \n",
    "**Output Format :**\n",
    "- first index or -1\n",
    "  \n",
    "**Constraints :**\n",
    "   1 <= N <= 10^3\n",
    "#### Input and Output \n",
    "- Sample Input :\n",
    "  4 (length)  \n",
    "  9 8 10 8 (element in array)  \n",
    "  8 ( finding the number)    \n",
    "  Sample Output :  \n",
    "  1"
   ]
  },
  {
   "cell_type": "code",
   "execution_count": 1,
   "id": "b6671152",
   "metadata": {},
   "outputs": [
    {
     "name": "stdout",
     "output_type": "stream",
     "text": [
      "4\n",
      "9 8 10 8\n",
      "8\n",
      "1\n"
     ]
    }
   ],
   "source": [
    "def firstIndex(arr, x, si=0):\n",
    "    l = len(arr)\n",
    "    if si == l-1 or si == l:   #si== l (no element to point cz si start from 0 toh yeh cross kar jayega l ko)\n",
    "        return False\n",
    "    elif arr[si] == x:\n",
    "        return si\n",
    "    smallList = firstIndex(arr,x,si+1)\n",
    "    return smallList\n",
    "\n",
    "from sys import setrecursionlimit\n",
    "setrecursionlimit(11000)\n",
    "n=int(input())\n",
    "arr=list(int(i) for i in input().strip().split(' '))\n",
    "x=int(input())\n",
    "print(firstIndex(arr, x))"
   ]
  }
 ],
 "metadata": {
  "kernelspec": {
   "display_name": "Python 3 (ipykernel)",
   "language": "python",
   "name": "python3"
  },
  "language_info": {
   "codemirror_mode": {
    "name": "ipython",
    "version": 3
   },
   "file_extension": ".py",
   "mimetype": "text/x-python",
   "name": "python",
   "nbconvert_exporter": "python",
   "pygments_lexer": "ipython3",
   "version": "3.9.13"
  }
 },
 "nbformat": 4,
 "nbformat_minor": 5
}
