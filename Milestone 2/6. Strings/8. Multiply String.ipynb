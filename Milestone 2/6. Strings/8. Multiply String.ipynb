{
 "cells": [
  {
   "cell_type": "markdown",
   "id": "fda8921a",
   "metadata": {},
   "source": [
    "# 8. Multiply String\n",
    "\n",
    "Given two non-negative integers num1 and num2 represented as strings, return the product of num1 and num2, also represented as a string.\n",
    "\n",
    "> Note: You must not use any built-in BigInteger library or convert the inputs to integer directly.\n",
    "\n",
    "- Example 1:\n",
    "```\n",
    "Input: num1 = \"2\", num2 = \"3\"\n",
    "Output: \"6\"\n",
    "```\n",
    "- Example 2:\n",
    "```\n",
    "Input: num1 = \"123\", num2 = \"456\"\n",
    "Output: \"56088\"\n",
    "```\n",
    "**Constraints:**\n",
    "```\n",
    "1 <= num1.length, num2.length <= 200\n",
    "num1 and num2 consist of digits only.\n",
    "Both num1 and num2 do not contain any leading zero, except the number 0 itself.\n",
    "```"
   ]
  },
  {
   "cell_type": "code",
   "execution_count": 1,
   "id": "ed9557bc",
   "metadata": {},
   "outputs": [
    {
     "name": "stdout",
     "output_type": "stream",
     "text": [
      "3\n",
      "5\n",
      "15\n"
     ]
    }
   ],
   "source": [
    "# Approach - I\n",
    "\n",
    "class Solution:\n",
    "    def multiply(self, num1: str, num2: str) -> str:\n",
    "        number1=0\n",
    "        number2=0\n",
    "        len1=len(num1)\n",
    "        len2=len(num2)\n",
    "        for ni in num1:\n",
    "            number1=number1+int(ni)*pow(10,len1-1)\n",
    "            len1=len1-1\n",
    "        for ni in num2:\n",
    "            number2=number2+int(ni)*pow(10,len2-1)\n",
    "            len2=len2-1\n",
    "        \n",
    "        return str(number1*number2)\n",
    "            \n",
    "\n",
    "# Main\n",
    "\n",
    "obj = Solution()\n",
    "n = input()\n",
    "m = input()\n",
    "result = (obj.multiply(n,m))\n",
    "print(result)        "
   ]
  },
  {
   "cell_type": "code",
   "execution_count": 2,
   "id": "e74b1876",
   "metadata": {},
   "outputs": [
    {
     "name": "stdout",
     "output_type": "stream",
     "text": [
      "78\n",
      "90\n",
      "7020\n"
     ]
    }
   ],
   "source": [
    "# Approach - II\n",
    "\n",
    "class Solution:\n",
    "    def convert2Int(self, num):\n",
    "        table = {\"0\": 0, \"1\": 1, \"2\": 2, \"3\": 3, \"4\": 4, \"5\": 5, \"6\": 6, \"7\": 7, \"8\": 8, \"9\": 9}\n",
    "        integer = 0\n",
    "        n = len(num) - 1\n",
    "        for i in num:\n",
    "            integer += table[i]*10**n\n",
    "            n -= 1\n",
    "        return integer\n",
    "    \n",
    "    def convert2Str(self, num):\n",
    "        table = {0: \"0\", 1: \"1\", 2: \"2\", 3: \"3\", 4: \"4\", 5: \"5\", 6: \"6\", 7: \"7\", 8: \"8\", 9: \"9\"}\n",
    "        string = \"\"\n",
    "        while num != 0:\n",
    "            end = num%10\n",
    "            string = table[end] + string\n",
    "            num = num//10\n",
    "        if string != \"\":\n",
    "            return string\n",
    "        return \"0\"\n",
    "\n",
    "    def multiply(self, num1: str, num2: str) -> str:\n",
    "        num1 = self.convert2Int(num1)\n",
    "        num2 = self.convert2Int(num2)\n",
    "        return self.convert2Str(num1*num2)\n",
    "\n",
    "# Mains\n",
    "obj = Solution()\n",
    "n = input()\n",
    "m = input()\n",
    "result = (obj.multiply(n,m))\n",
    "print(result)     "
   ]
  },
  {
   "cell_type": "code",
   "execution_count": 3,
   "id": "28a08f90",
   "metadata": {},
   "outputs": [
    {
     "name": "stdout",
     "output_type": "stream",
     "text": [
      "15\n",
      "15\n",
      "225\n"
     ]
    }
   ],
   "source": [
    "# Approach - III\n",
    "\n",
    "class Solution:\n",
    "    def multiply(self, num1: str, num2: str) -> str:\n",
    "        return str(int(num1) * int(num2))\n",
    "    \n",
    "# Mains\n",
    "obj = Solution()\n",
    "n = input()\n",
    "m = input()\n",
    "result = (obj.multiply(n,m))\n",
    "print(result)     "
   ]
  },
  {
   "cell_type": "code",
   "execution_count": 4,
   "id": "3ff6b606",
   "metadata": {},
   "outputs": [
    {
     "name": "stdout",
     "output_type": "stream",
     "text": [
      "17\n",
      "17\n",
      "289\n"
     ]
    }
   ],
   "source": [
    "# Approach - IV\n",
    "\n",
    "class Solution:\n",
    "    def multiply(self, num1: str, num2: str) -> str:\n",
    "        num2 = num2[::-1]        \n",
    "        ans = 0\n",
    "        for i,digit in enumerate(num2):\n",
    "            t = int(num1) * int(digit)\n",
    "            # print(t)\n",
    "            t = t * pow(10,i)\n",
    "            ans += t\n",
    "        \n",
    "        return str(ans)\n",
    "    \n",
    "# Mains\n",
    "obj = Solution()\n",
    "n = input()\n",
    "m = input()\n",
    "result = (obj.multiply(n,m))\n",
    "print(result)       "
   ]
  },
  {
   "cell_type": "code",
   "execution_count": 5,
   "id": "117aaf4b",
   "metadata": {},
   "outputs": [
    {
     "name": "stdout",
     "output_type": "stream",
     "text": [
      "46\n",
      "67\n",
      "3082\n"
     ]
    }
   ],
   "source": [
    "# Approach - V\n",
    "\n",
    "class Solution:\n",
    "    def multiply(self, num1: str, num2: str) -> str:\n",
    "        \n",
    "        n1=0\n",
    "        for i in num1:\n",
    "            n1= 10*n1+int(i)\n",
    "        n2=0\n",
    "        for i in num2:\n",
    "            n2= 10*n2+int(i)\n",
    "\n",
    "        return str(n1*n2)\n",
    "\n",
    "# Mains\n",
    "obj = Solution()\n",
    "n = input()\n",
    "m = input()\n",
    "result = (obj.multiply(n,m))\n",
    "print(result)   "
   ]
  },
  {
   "cell_type": "code",
   "execution_count": null,
   "id": "5f3877ee",
   "metadata": {},
   "outputs": [],
   "source": [
    "# Approach - VI\n",
    "\n",
    "class Solution:\n",
    "    def multiply(self, num1: str, num2: str) -> str:\n",
    "        x = int(num1)\n",
    "        y = int(num2)\n",
    "        z = x*y\n",
    "        resultado = str(z)\n",
    "        return resultado\n",
    "\n",
    "# Mains\n",
    "obj = Solution()\n",
    "n = input()\n",
    "m = input()\n",
    "result = (obj.multiply(n,m))\n",
    "print(result)     "
   ]
  },
  {
   "cell_type": "code",
   "execution_count": 6,
   "id": "070f7f6e",
   "metadata": {},
   "outputs": [
    {
     "name": "stdout",
     "output_type": "stream",
     "text": [
      "12345\n",
      "67890\n",
      "838102050\n"
     ]
    }
   ],
   "source": [
    "# Approach - VII\n",
    "\n",
    "class Solution:\n",
    "    def multiply(self, num1: str, num2: str) -> str:\n",
    "        if \"0\" in [num1,num2]:\n",
    "            return \"0\"\n",
    "\n",
    "        res = [0] * (len(num1)+len(num2))\n",
    "        num1,num2 = num1[::-1], num2[::-1]\n",
    "\n",
    "        for i in range(len(num1)):\n",
    "            for j in range(len(num2)):\n",
    "                digit = int(num1[i]) * int(num2[j])\n",
    "\n",
    "                res[i+j] += digit\n",
    "                res[i+j+1] += (res[i+j]//10)\n",
    "                res[i+j] = res[i+j]%10\n",
    "\n",
    "        res, beg = res[::-1],0\n",
    "        while beg<len(res) and res[beg] == 0:\n",
    "            beg +=1\n",
    "        \n",
    "        res = res[beg:]\n",
    "        res1 = \"\"\n",
    "        for i in res:\n",
    "            res1+= str(i)\n",
    "        return res1\n",
    "    \n",
    "# Mains\n",
    "obj = Solution()\n",
    "n = input()\n",
    "m = input()\n",
    "result = (obj.multiply(n,m))\n",
    "print(result)     "
   ]
  }
 ],
 "metadata": {
  "kernelspec": {
   "display_name": "Python 3 (ipykernel)",
   "language": "python",
   "name": "python3"
  },
  "language_info": {
   "codemirror_mode": {
    "name": "ipython",
    "version": 3
   },
   "file_extension": ".py",
   "mimetype": "text/x-python",
   "name": "python",
   "nbconvert_exporter": "python",
   "pygments_lexer": "ipython3",
   "version": "3.9.13"
  }
 },
 "nbformat": 4,
 "nbformat_minor": 5
}
