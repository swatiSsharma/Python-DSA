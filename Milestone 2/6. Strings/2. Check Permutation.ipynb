{
 "cells": [
  {
   "cell_type": "markdown",
   "id": "2be57b6c",
   "metadata": {},
   "source": [
    "# 2. Check Permutation\n",
    "\n",
    "For a given two strings, 'str1' and 'str2', check whether they are a permutation of each other or not.\n",
    "**Permutations of each other**\n",
    "\n",
    ">Two strings are said to be a permutation of each other when either of the string's characters can be rearranged so that it becomes identical to the other one.\n",
    "  Example: \n",
    "str1= \"sinrtg\" \n",
    "str2 = \"string\"\n",
    "\n",
    "The character of the first string(str1) can be rearranged to form str2 and hence we can say that the given strings are a permutation of each other.\n",
    "\n",
    "**Input Format:**  \n",
    "\n",
    "- The first line of input contains a string without any leading and trailing spaces, representing the first string 'str1'.\n",
    "- The second line of input contains a string without any leading and trailing spaces, representing the second string 'str2'.\n",
    "\n",
    "**Note:**\n",
    "\n",
    "> All the characters in the input strings would be in lower case.\n",
    "\n",
    "**Output Format:**  \n",
    "\n",
    "- The only line of output prints either 'true' or 'false', denoting whether the two strings are a permutation of each other or not.\n",
    "- You are not required to print anything. It has already been taken care of. Just implement the function. \n",
    "\n",
    "**Constraints:**  \n",
    "```\n",
    "0 <= N <= 10^6\n",
    "Where N is the length of the input string.\n",
    "\n",
    "Time Limit: 1 second\n",
    "```\n",
    "#### Sample Input and Output\n",
    "- Sample Input 1:\n",
    "```\n",
    "abcde\n",
    "baedc\n",
    "```\n",
    "- Sample Output 1:\n",
    "```\n",
    "true\n",
    "```\n",
    "- Sample Input 2:\n",
    "```\n",
    "abc\n",
    "cbd\n",
    "```\n",
    "- Sample Output 2:\n",
    "```\n",
    "false\n",
    "```"
   ]
  },
  {
   "cell_type": "code",
   "execution_count": 1,
   "id": "329e9870",
   "metadata": {},
   "outputs": [
    {
     "name": "stdout",
     "output_type": "stream",
     "text": [
      "abc\n",
      "cbd\n",
      "false\n"
     ]
    }
   ],
   "source": [
    "# Approach - 1\n",
    "# For a given two strings, 'str1' and 'str2', check whether they are a permutation of each other or not.\n",
    "\n",
    "def isPermutation(string1, string2):\n",
    "    #Your code goes here\n",
    "    if len(string1) != len(string2):\n",
    "        return False\n",
    "    \n",
    "    frequency = [0] * 256\n",
    "    \n",
    "    for i in range(len(string1)):\n",
    "        ch = ord(string1[i])\n",
    "        frequency[ch] -= 1\n",
    "\n",
    "    for i in range(len(string2)):\n",
    "        ch = ord(string2[i])\n",
    "        frequency[ch] -= 1\n",
    "        \n",
    "    for i in range(256):\n",
    "        if frequency[i] != 0:\n",
    "            return False\n",
    "    return True\n",
    "\n",
    "#main\n",
    "string1 = input().strip()\n",
    "string2 = input().strip()\n",
    "\n",
    "ans = isPermutation(string1, string2)\n",
    "\n",
    "if ans:\n",
    "    print('true')\n",
    "else:\n",
    "    print('false')"
   ]
  },
  {
   "cell_type": "code",
   "execution_count": 2,
   "id": "e5757036",
   "metadata": {},
   "outputs": [
    {
     "name": "stdout",
     "output_type": "stream",
     "text": [
      "abcde\n",
      "baedc\n",
      "true\n"
     ]
    }
   ],
   "source": [
    "def isPermutation(string1, string2):\n",
    "    #Your code goes here\n",
    "    if sorted(string1) == sorted(string2):\n",
    "        return True\n",
    "    else:\n",
    "        return False\n",
    "\n",
    "\n",
    "#main\n",
    "string1 = input().strip()\n",
    "string2 = input().strip()\n",
    "\n",
    "ans = isPermutation(string1, string2)\n",
    "\n",
    "if ans:\n",
    "    print('true')\n",
    "else:\n",
    "    print('false')"
   ]
  }
 ],
 "metadata": {
  "kernelspec": {
   "display_name": "Python 3 (ipykernel)",
   "language": "python",
   "name": "python3"
  },
  "language_info": {
   "codemirror_mode": {
    "name": "ipython",
    "version": 3
   },
   "file_extension": ".py",
   "mimetype": "text/x-python",
   "name": "python",
   "nbconvert_exporter": "python",
   "pygments_lexer": "ipython3",
   "version": "3.9.13"
  }
 },
 "nbformat": 4,
 "nbformat_minor": 5
}
