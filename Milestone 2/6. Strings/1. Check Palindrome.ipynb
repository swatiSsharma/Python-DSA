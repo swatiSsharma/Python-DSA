{
 "cells": [
  {
   "cell_type": "markdown",
   "id": "954aaa92",
   "metadata": {},
   "source": [
    "# 1.  Check Palindrome\n",
    "\n",
    "Given a string, determine if it is a palindrome, considering only alphanumeric characters.\n",
    "\n",
    "**Palindrome**\n",
    "\n",
    "> A palindrome is a word, number, phrase, or other sequences of characters which read the same backwards and forwards.\n",
    "\n",
    "Example:\n",
    "\n",
    "> If the input string happens to be, \"malayalam\" then as we see that this word can be read the same as forward and backwards, it is said to be a valid palindrome.\n",
    "The expected output for this example will print, 'true'.\n",
    "\n",
    "From that being said, you are required to return a boolean value from the function that has been asked to implement.\n",
    "\n",
    "**Input Format:**  \n",
    "\n",
    "- The first and only line of input contains a string without any leading and trailing spaces. All the characters in the string would be in lower case.\n",
    "\n",
    "**Output Format:**  \n",
    "\n",
    "- The only line of output prints either 'true' or 'false'.\n",
    "\n",
    "> Note:\n",
    "  >- You are not required to print anything. It has already been taken care of.\n",
    "\n",
    "**Constraints:**  \n",
    "```\n",
    "0 <= N <= 10^6\n",
    "Where N is the length of the input string.\n",
    "\n",
    "Time Limit: 1 second\n",
    "```\n",
    "#### Sample Input and Output\n",
    "- Sample Input 1 : abcdcba  \n",
    "  Sample Output 1 : true   \n",
    "\n",
    "- Sample Input 2: coding  \n",
    "  Sample Output 2: false  \n",
    "\n"
   ]
  },
  {
   "cell_type": "code",
   "execution_count": 1,
   "id": "c739e90b",
   "metadata": {},
   "outputs": [
    {
     "name": "stdout",
     "output_type": "stream",
     "text": [
      "abcdcba\n",
      "true\n"
     ]
    }
   ],
   "source": [
    "# Approach - 1\n",
    "\n",
    "a = input()\n",
    "if a == a[::-1]:\n",
    "    print('true')\n",
    "else:\n",
    "    print('false')"
   ]
  },
  {
   "cell_type": "code",
   "execution_count": 2,
   "id": "f9cb9ab7",
   "metadata": {},
   "outputs": [
    {
     "name": "stdout",
     "output_type": "stream",
     "text": [
      "abcdcba\n",
      "true\n"
     ]
    }
   ],
   "source": [
    "# Approach - 2\n",
    "\n",
    "def isPalindrome(string):\n",
    "    \n",
    "    left = 0\n",
    "    right = len(string) - 1\n",
    "    \n",
    "    while left < right:\n",
    "        if string[left] != string[right]:\n",
    "            return False\n",
    "        \n",
    "        left += 1\n",
    "        right -= 1\n",
    "        \n",
    "    return True\n",
    "\n",
    "# main\n",
    "string = input().strip()\n",
    "ans = isPalindrome(string)\n",
    "\n",
    "if ans:\n",
    "    print('true')\n",
    "else:\n",
    "    print('false')"
   ]
  }
 ],
 "metadata": {
  "kernelspec": {
   "display_name": "Python 3 (ipykernel)",
   "language": "python",
   "name": "python3"
  },
  "language_info": {
   "codemirror_mode": {
    "name": "ipython",
    "version": 3
   },
   "file_extension": ".py",
   "mimetype": "text/x-python",
   "name": "python",
   "nbconvert_exporter": "python",
   "pygments_lexer": "ipython3",
   "version": "3.9.13"
  }
 },
 "nbformat": 4,
 "nbformat_minor": 5
}
