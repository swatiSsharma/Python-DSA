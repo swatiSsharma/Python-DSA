{
 "cells": [
  {
   "cell_type": "markdown",
   "id": "81584dbf",
   "metadata": {},
   "source": [
    "# 7. Compress the String\n",
    "\n",
    "Write a program to do basic string compression. For a character which is consecutively repeated more than once, replace consecutive duplicate occurrences with the count of repetitions.\n",
    "**Example:**  \n",
    "\n",
    "> If a string has 'x' repeated 5 times, replace this \"xxxxx\" with \"x5\".\n",
    "  The string is compressed only when the repeated character count is more than 1.\n",
    "\n",
    "**Note:**  \n",
    "\n",
    "> Consecutive count of every character in the input string is less than or equal to 9.\n",
    "\n",
    "**Input Format:**  \n",
    "\n",
    "- The first and only line of input contains a string without any leading and trailing spaces.\n",
    "\n",
    "**Output Format:**  \n",
    "\n",
    "- The output contains the string after compression printed in single line.\n",
    "\n",
    "**Note:**  \n",
    "\n",
    "> You are not required to print anything. It has already been taken care of. Just implement the given function.\n",
    "\n",
    "**Constraints:**  \n",
    "```\n",
    "0 <= N <= 10^6\n",
    "\n",
    "Where 'N' is the length of the input string.\n",
    "\n",
    "Time Limit: 1 sec\n",
    "```\n",
    "#### Sample Input and Output\n",
    "\n",
    "- Sample Input 1: aaabbccdsa  \n",
    "  Sample Output 1: a3b2c2dsa  \n",
    "\n",
    "Explanation for Sample Output 1:\n",
    "\n",
    "In the given string 'a' is repeated 3 times, 'b' is repeated 2 times, 'c' is repeated 2 times and 'd', 's' and 'a' and occuring 1 time hence no compression for last 3 characters.\n",
    "\n",
    "- Sample Input 2: aaabbcddeeeee  \n",
    "  Sample Output 2: a3b2cd2e5  \n",
    "\n",
    "Explanation for Sample Output 2:\n",
    "\n",
    "In the given string 'a' is repeated 3 times, 'b' is repeated 2 times, 'c' is occuring single time, 'd' is repeating 2 times and 'e' is repeating 5times."
   ]
  },
  {
   "cell_type": "code",
   "execution_count": 1,
   "id": "c5e5d0fa",
   "metadata": {},
   "outputs": [
    {
     "name": "stdout",
     "output_type": "stream",
     "text": [
      "aaabbcddeeeee\n",
      "a3b2cd2e5\n"
     ]
    }
   ],
   "source": [
    "# Approach - 1\n",
    "\n",
    "def ab(a):\n",
    "    i=0\n",
    "    x=''\n",
    "    while(i<len(a)):\n",
    "        j=i+1\n",
    "        c=1\n",
    "        while j<len(a) and (a[i]==a[j]):\n",
    "            j+=1\n",
    "            c+=1\n",
    "        if c==1:\n",
    "            x+=a[i]\n",
    "        else:\n",
    "            x+=a[i]+str(c)\n",
    "        i=j\n",
    "    return x\n",
    "a=input()\n",
    "print(ab(a))"
   ]
  }
 ],
 "metadata": {
  "kernelspec": {
   "display_name": "Python 3 (ipykernel)",
   "language": "python",
   "name": "python3"
  },
  "language_info": {
   "codemirror_mode": {
    "name": "ipython",
    "version": 3
   },
   "file_extension": ".py",
   "mimetype": "text/x-python",
   "name": "python",
   "nbconvert_exporter": "python",
   "pygments_lexer": "ipython3",
   "version": "3.9.13"
  }
 },
 "nbformat": 4,
 "nbformat_minor": 5
}
