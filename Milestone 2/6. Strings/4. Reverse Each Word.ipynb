{
 "cells": [
  {
   "cell_type": "markdown",
   "id": "3e5f9c10",
   "metadata": {},
   "source": [
    "# 4. Reverse Each Word\n",
    "\n",
    "Aadil has been provided with a sentence in the form of a string as a function parameter. The task is to implement a function so as to print the sentence such that each word in the sentence is reversed.\n",
    "**Example:**  \n",
    "\n",
    "> Input Sentence: \"Hello, I am Aadil!\"\n",
    "  The expected output will print, \",olleH I ma !lidaA\".\n",
    "\n",
    "**Input Format:**  \n",
    "\n",
    "- The first and only line of input contains a string without any leading and trailing spaces. The input string represents the sentence given to Aadil.\n",
    "\n",
    "**Output Format:**  \n",
    "\n",
    "- The only line of output prints the sentence(string) such that each word in the sentence is reversed. \n",
    "\n",
    "**Constraints:**  \n",
    "```\n",
    "0 <= N <= 10^6\n",
    "Where N is the length of the input string.\n",
    "\n",
    "Time Limit: 1 second\n",
    "```\n",
    "#### Sample Input and Output\n",
    "- Sample Input 1: Welcome to Pythons World  \n",
    "  Sample Output 1: Welcome to Pythons World   \n",
    "- Sample Input 2: Always indent your code  \n",
    "  Sample Output 2: syawlA tnedni ruoy edoc  "
   ]
  },
  {
   "cell_type": "code",
   "execution_count": 1,
   "id": "9581c228",
   "metadata": {},
   "outputs": [
    {
     "name": "stdout",
     "output_type": "stream",
     "text": [
      "Welcome to Pythons World\n",
      "emocleW ot snohtyP dlroW\n"
     ]
    }
   ],
   "source": [
    "# Approach - 1\n",
    "\n",
    "def reverseword(s):\n",
    "    w = s.split(\" \")\n",
    "    nw= [i[::-1] for i in w]                      \n",
    "    ns = \" \".join(nw)\n",
    "    return ns\n",
    "\n",
    "# Driver's Code \n",
    "s = input()\n",
    "print(reverseword(s))"
   ]
  },
  {
   "cell_type": "code",
   "execution_count": 2,
   "id": "53a79764",
   "metadata": {},
   "outputs": [
    {
     "name": "stdout",
     "output_type": "stream",
     "text": [
      "Welcome to Pythons World\n",
      "emocleW ot snohtyP dlroW \n"
     ]
    }
   ],
   "source": [
    "# Approach - 2\n",
    "\n",
    "'''\n",
    "   Time Complexity: O(n)\n",
    "   Space Complexity: O(n)\n",
    "'''\n",
    "\n",
    "def reverseWord( string, start, end):\n",
    "    \n",
    "    rev = ''\n",
    "    \n",
    "    while start < end:\n",
    "        rev = string[start] + rev\n",
    "        start += 1\n",
    "        \n",
    "    return rev\n",
    "\n",
    "def reverseEachWord(string):\n",
    "    n = len(string)\n",
    "    previousSpaceIndex = -1\n",
    "    \n",
    "    ans =''\n",
    "    \n",
    "    i = 0\n",
    "    while i < n:\n",
    "        if string[i] == ' ':\n",
    "            ans += (reverseWord(string, previousSpaceIndex + 1, i) + ' ')\n",
    "            previousSpaceIndex = i\n",
    "            \n",
    "        i += 1\n",
    "        \n",
    "    ans += (reverseWord(string, previousSpaceIndex + 1, i) + ' ')\n",
    "    \n",
    "    return ans\n",
    "\n",
    "# Driver's Code \n",
    "s = input()\n",
    "print(reverseEachWord(s))"
   ]
  }
 ],
 "metadata": {
  "kernelspec": {
   "display_name": "Python 3 (ipykernel)",
   "language": "python",
   "name": "python3"
  },
  "language_info": {
   "codemirror_mode": {
    "name": "ipython",
    "version": 3
   },
   "file_extension": ".py",
   "mimetype": "text/x-python",
   "name": "python",
   "nbconvert_exporter": "python",
   "pygments_lexer": "ipython3",
   "version": "3.9.13"
  }
 },
 "nbformat": 4,
 "nbformat_minor": 5
}
