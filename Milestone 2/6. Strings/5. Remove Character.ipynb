{
 "cells": [
  {
   "cell_type": "markdown",
   "id": "b7b457fc",
   "metadata": {},
   "source": [
    "# 5. Remove character\n",
    "\n",
    "For a given a string(str) and a character X, write a function to remove all the occurrences of X from the given string.\n",
    "The input string will remain unchanged if the given character(X) doesn't exist in the input string.\n",
    "\n",
    "**Input Format:**  \n",
    "\n",
    "- The first line of input contains a string without any leading and trailing spaces.\n",
    "- The second line of input contains a character(X) without any leading and trailing spaces.\n",
    "\n",
    "**Output Format:**  \n",
    "\n",
    "- The only line of output prints the updated string. \n",
    "\n",
    "**Note:**\n",
    "\n",
    "> You are not required to print anything explicitly. It has already been taken care of.\n",
    "\n",
    "**Constraints:**  \n",
    "```\n",
    "0 <= N <= 10^6\n",
    "Where N is the length of the input string.\n",
    "\n",
    "Time Limit: 1 second\n",
    "```\n",
    "#### Sample Input and Output\n",
    "- Sample Input 1:  \n",
    "```\n",
    "aabccbaa\n",
    "a\n",
    "```\n",
    "- Sample Output 1: bccb  \n",
    "\n",
    "- Sample Input 2:  \n",
    "```\n",
    "xxyyzxx\n",
    "y\n",
    "```\n",
    "- Sample Output 2: xxzxx  "
   ]
  },
  {
   "cell_type": "code",
   "execution_count": 1,
   "id": "64686dbb",
   "metadata": {},
   "outputs": [
    {
     "name": "stdout",
     "output_type": "stream",
     "text": [
      "xxyyzxx\n",
      "y\n",
      "xxzxx"
     ]
    }
   ],
   "source": [
    "# Approach - 1\n",
    "\n",
    "s=input()\n",
    "r=input()\n",
    "for i in range(len(s)):\n",
    "    if s[i]!=r:\n",
    "        print(s[i],end=\"\")"
   ]
  },
  {
   "cell_type": "code",
   "execution_count": 2,
   "id": "49621a8f",
   "metadata": {},
   "outputs": [
    {
     "name": "stdout",
     "output_type": "stream",
     "text": [
      "aabccbaa\n",
      "a\n",
      "bccb\n"
     ]
    }
   ],
   "source": [
    "# Approach - 2\n",
    "\n",
    "def removeAllOccurrencesOfChar(string, ch) :\n",
    "# Your code goes here\n",
    "    n = len(string)\n",
    "\n",
    "    ans = ''\n",
    "    \n",
    "    for i in range(n):\n",
    "        if string[i] != ch:\n",
    "            ans += string[i]\n",
    "            \n",
    "    return ans\n",
    "\n",
    "#main\n",
    "string = input().strip()\n",
    "ch = input().strip()[0]\n",
    "\n",
    "ans = removeAllOccurrencesOfChar(string, ch)\n",
    "\n",
    "print(ans)"
   ]
  }
 ],
 "metadata": {
  "kernelspec": {
   "display_name": "Python 3 (ipykernel)",
   "language": "python",
   "name": "python3"
  },
  "language_info": {
   "codemirror_mode": {
    "name": "ipython",
    "version": 3
   },
   "file_extension": ".py",
   "mimetype": "text/x-python",
   "name": "python",
   "nbconvert_exporter": "python",
   "pygments_lexer": "ipython3",
   "version": "3.9.13"
  }
 },
 "nbformat": 4,
 "nbformat_minor": 5
}
