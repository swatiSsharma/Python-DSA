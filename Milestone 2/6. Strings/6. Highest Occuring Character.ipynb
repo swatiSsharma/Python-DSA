{
 "cells": [
  {
   "cell_type": "markdown",
   "id": "90f95e86",
   "metadata": {},
   "source": [
    "# 6. Highest Occuring Character\n",
    "\n",
    "For a given a string(str), find and return the highest occurring character.\n",
    "Example:\n",
    "\n",
    "> Input String: \"abcdeapapqarr\"\n",
    "  Expected Output: 'a'\n",
    "Since 'a' has appeared four times in the string which happens to be the highest frequency character, the answer would be 'a'.\n",
    "\n",
    "If there are two characters in the input string with the same frequency, return the character which comes first.\n",
    "Consider:\n",
    "\n",
    "Assume all the characters in the given string to be in lowercase always.\n",
    "\n",
    "**Input Format:**  \n",
    "\n",
    "- The first and only line of input contains a string without any leading and trailing spaces.\n",
    "\n",
    "**Output Format:**  \n",
    "\n",
    "- The only line of output prints the updated string. \n",
    "\n",
    "**Note:**  \n",
    "\n",
    "> You are not required to print anything explicitly. It has already been taken care of.\n",
    "\n",
    "**Constraints:**  \n",
    "```\n",
    "0 <= N <= 10^6\n",
    "Where N is the length of the input string.\n",
    "\n",
    "Time Limit: 1 second\n",
    "```\n",
    "#### Sample Input and Output\n",
    "\n",
    "- Sample Input 1: abdefgbabfba  \n",
    "  Sample Output 1: b  \n",
    "\n",
    "- Sample Input 2: xy  \n",
    "  Sample Output 2: x  "
   ]
  },
  {
   "cell_type": "code",
   "execution_count": 1,
   "id": "afbd07df",
   "metadata": {},
   "outputs": [
    {
     "name": "stdout",
     "output_type": "stream",
     "text": [
      "abdefgbabfba\n",
      "b\n"
     ]
    }
   ],
   "source": [
    "# Approach - 1\n",
    "\n",
    "def get_max_occuring_char(str1):\n",
    "    ASCII_SIZE = 256\n",
    "    ctr = [0] * ASCII_SIZE\n",
    "    max = -1\n",
    "    ch = ''\n",
    "    for i in str1:\n",
    "        ctr[ord(i)]+=1;\n",
    " \n",
    "    for i in str1:\n",
    "        if max < ctr[ord(i)]:\n",
    "            max = ctr[ord(i)]\n",
    "            ch = i\n",
    "    return ch\n",
    "\n",
    "str1=input()\n",
    "print(get_max_occuring_char(str1))"
   ]
  },
  {
   "cell_type": "code",
   "execution_count": 2,
   "id": "f0feaf6e",
   "metadata": {},
   "outputs": [
    {
     "name": "stdout",
     "output_type": "stream",
     "text": [
      "abdefgbabfba\n",
      "b\n"
     ]
    }
   ],
   "source": [
    "# Approach - 2\n",
    "\n",
    "def highestOccuringChar(string) :\n",
    "    n = len(string)\n",
    "    freq = [0] * 256\n",
    "    maxFreq = 0\n",
    "    \n",
    "    for i in range(n):\n",
    "        freq[ord(string[i])] += 1\n",
    "        maxFreq = max(maxFreq, freq[ord(string[i])])\n",
    "        \n",
    "    ans = '\\0'\n",
    "    \n",
    "    for i in range(n):\n",
    "        if freq[ord(string[i])] == maxFreq:\n",
    "            ans = string[i]\n",
    "            break\n",
    "    \n",
    "    return ans\n",
    "\n",
    "#main\n",
    "string = input().strip();\n",
    "ans = highestOccuringChar(string)\n",
    "\n",
    "print(ans)"
   ]
  }
 ],
 "metadata": {
  "kernelspec": {
   "display_name": "Python 3 (ipykernel)",
   "language": "python",
   "name": "python3"
  },
  "language_info": {
   "codemirror_mode": {
    "name": "ipython",
    "version": 3
   },
   "file_extension": ".py",
   "mimetype": "text/x-python",
   "name": "python",
   "nbconvert_exporter": "python",
   "pygments_lexer": "ipython3",
   "version": "3.9.13"
  }
 },
 "nbformat": 4,
 "nbformat_minor": 5
}
