{
 "cells": [
  {
   "cell_type": "markdown",
   "id": "814f1987",
   "metadata": {},
   "source": [
    "# 3. Remove Consecutive Duplicates\n",
    "\n",
    "For a given string(str), remove all the consecutive duplicate characters.\n",
    "**Example:**  \n",
    "```\n",
    "Input String: \"aaaa\"\n",
    "Expected Output: \"a\"\n",
    "\n",
    "Input String: \"aabbbcc\"\n",
    "Expected Output: \"abc\"\n",
    "```\n",
    "**Input Format:** \n",
    "\n",
    "- The first and only line of input contains a string without any leading and trailing spaces. All the characters in the string would be in lower case.\n",
    "\n",
    "**Output Format:**  \n",
    "\n",
    "- The only line of output prints the updated string.\n",
    "\n",
    "**Note:**\n",
    "\n",
    "> You are not required to print anything. It has already been taken care of.\n",
    "\n",
    "**Constraints:**  \n",
    "```\n",
    "0 <= N <= 10^6\n",
    "Where N is the length of the input string.\n",
    "\n",
    "Time Limit: 1 second\n",
    "```\n",
    "\n",
    "#### Sample Input and Output\n",
    "- Sample Input 1: aabccbaa  \n",
    "  Sample Output 1: abcba  \n",
    "\n",
    "- Sample Input 2: x  \n",
    "  Sample Output 2: xyzx  \n"
   ]
  },
  {
   "cell_type": "code",
   "execution_count": 1,
   "id": "742cc90c",
   "metadata": {},
   "outputs": [
    {
     "name": "stdout",
     "output_type": "stream",
     "text": [
      "aabccbaa \n",
      "abcba \n"
     ]
    }
   ],
   "source": [
    "# Approach - 1\n",
    "\n",
    "import itertools\n",
    "def remove_consecutive_duplicates(s1):\n",
    "     return (''.join(i for i, _ in itertools.groupby(s1)))\n",
    "\n",
    "s1= input()\n",
    "print(remove_consecutive_duplicates(s1))"
   ]
  },
  {
   "cell_type": "code",
   "execution_count": 2,
   "id": "d704927a",
   "metadata": {},
   "outputs": [
    {
     "name": "stdout",
     "output_type": "stream",
     "text": [
      "aabccbaa\n",
      "abcba\n"
     ]
    }
   ],
   "source": [
    "# Approach - 2\n",
    "\n",
    "'''\n",
    "   Time Complexity - O(n)\n",
    "   Space Complexity - O(n)\n",
    "'''\n",
    "def remove_consecutive_duplicates(string):\n",
    "    n = len(string)\n",
    "    \n",
    "    if n == 0:\n",
    "        return string\n",
    "    \n",
    "    answer = ''\n",
    "    \n",
    "    startIndex = 0\n",
    "    while startIndex < n:\n",
    "        uniqueChar = string[startIndex]\n",
    "        nextUniqueCharIndex = startIndex + 1\n",
    "        \n",
    "        while (nextUniqueCharIndex < n) and (string[nextUniqueCharIndex] == uniqueChar):\n",
    "            nextUniqueCharIndex += 1\n",
    "            \n",
    "        answer += uniqueChar\n",
    "        startIndex = nextUniqueCharIndex\n",
    "        \n",
    "    return answer\n",
    "    \n",
    "    \n",
    "s1= input()\n",
    "print(remove_consecutive_duplicates(s1))"
   ]
  }
 ],
 "metadata": {
  "kernelspec": {
   "display_name": "Python 3 (ipykernel)",
   "language": "python",
   "name": "python3"
  },
  "language_info": {
   "codemirror_mode": {
    "name": "ipython",
    "version": 3
   },
   "file_extension": ".py",
   "mimetype": "text/x-python",
   "name": "python",
   "nbconvert_exporter": "python",
   "pygments_lexer": "ipython3",
   "version": "3.9.13"
  }
 },
 "nbformat": 4,
 "nbformat_minor": 5
}
