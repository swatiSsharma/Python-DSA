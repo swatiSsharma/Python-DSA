{
 "cells": [
  {
   "cell_type": "markdown",
   "id": "fdf09cd7",
   "metadata": {},
   "source": [
    "### 3. Binary Search using Recursion\n",
    "\n",
    "Find the element in a sorted array using recursion"
   ]
  },
  {
   "cell_type": "code",
   "execution_count": 1,
   "id": "deb3da61",
   "metadata": {},
   "outputs": [
    {
     "name": "stdout",
     "output_type": "stream",
     "text": [
      "Array is : [1,3,5,7,9,11,13,15,16,17]\n",
      "Finding element 3:  1\n",
      "Finding element 2:  -1\n"
     ]
    }
   ],
   "source": [
    "def binarySearch(a, x, si, ei):\n",
    "    if si > ei:\n",
    "        return -1\n",
    "    \n",
    "    mid = (si + ei)//2\n",
    "    if a[mid] == x:\n",
    "        return mid\n",
    "    elif a[mid] > x:\n",
    "        return binarySearch(a, x, si, mid - 1)\n",
    "    else:\n",
    "        return binarySearch(a, x, mid + 1, ei)\n",
    "\n",
    "# Here the array needs to be sorted   \n",
    "print('Array is : [1,3,5,7,9,11,13,15,16,17]',)\n",
    "print('Finding element 3: ',binarySearch([1,3,5,7,9,11,13,15,16,17], 3, 0, 9))\n",
    "\n",
    "print('Finding element 2: ',binarySearch([1,3,5,7,9,11,13,15,16,17], 2, 0, 9))"
   ]
  }
 ],
 "metadata": {
  "kernelspec": {
   "display_name": "Python 3 (ipykernel)",
   "language": "python",
   "name": "python3"
  },
  "language_info": {
   "codemirror_mode": {
    "name": "ipython",
    "version": 3
   },
   "file_extension": ".py",
   "mimetype": "text/x-python",
   "name": "python",
   "nbconvert_exporter": "python",
   "pygments_lexer": "ipython3",
   "version": "3.9.13"
  }
 },
 "nbformat": 4,
 "nbformat_minor": 5
}
