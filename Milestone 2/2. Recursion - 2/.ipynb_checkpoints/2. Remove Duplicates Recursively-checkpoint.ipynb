{
 "cells": [
  {
   "cell_type": "markdown",
   "id": "53faf7fa",
   "metadata": {},
   "source": [
    "### 2. Remove Duplicates Recursively\n",
    "\n",
    "Given a string S, remove consecutive duplicates from it recursively.\n",
    "**Input Format :**\n",
    "String S\n",
    "**Output Format :**\n",
    "Output string\n",
    "**Constraints :**\n",
    "1 <= |S| <= 10^3 where |S| represents the length of string\n",
    "\n",
    "#### Input and Output Sample\n",
    "- Sample Input 1 : aabccba  \n",
    "  Sample Output 1 : abcba  \n",
    "- Sample Input 2 : xxxyyyzwwzzz  \n",
    "  Sample Output 2 : xyzwz  "
   ]
  },
  {
   "cell_type": "code",
   "execution_count": 1,
   "id": "07f7e84b",
   "metadata": {},
   "outputs": [
    {
     "name": "stdout",
     "output_type": "stream",
     "text": [
      "aabccba\n",
      "abcba\n"
     ]
    }
   ],
   "source": [
    "def removeConsectiveDuplicates(string):\n",
    "    if len(string) <= 1:\n",
    "        return string\n",
    "    string2 = removeConsectiveDuplicates(string[1:])\n",
    "    if string[0] == string[1]:\n",
    "        return string2\n",
    "    else:\n",
    "        return string[0] + string2\n",
    "    \n",
    "string = input().strip()\n",
    "print(removeConsectiveDuplicates(string))"
   ]
  }
 ],
 "metadata": {
  "kernelspec": {
   "display_name": "Python 3 (ipykernel)",
   "language": "python",
   "name": "python3"
  },
  "language_info": {
   "codemirror_mode": {
    "name": "ipython",
    "version": 3
   },
   "file_extension": ".py",
   "mimetype": "text/x-python",
   "name": "python",
   "nbconvert_exporter": "python",
   "pygments_lexer": "ipython3",
   "version": "3.9.13"
  }
 },
 "nbformat": 4,
 "nbformat_minor": 5
}
