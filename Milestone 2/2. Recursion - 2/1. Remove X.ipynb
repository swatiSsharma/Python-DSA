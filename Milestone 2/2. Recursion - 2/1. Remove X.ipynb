{
 "cells": [
  {
   "cell_type": "markdown",
   "id": "c4ed5085",
   "metadata": {},
   "source": [
    "### 1. Remove x\n",
    "\n",
    "Given a string, compute recursively a new string where all 'x' chars have been removed.\n",
    "  \n",
    "**Input format :**  \n",
    "  String S  \n",
    "**Output format :**  \n",
    "  Modified String  \n",
    "**Constraints :**  \n",
    "   1 <= |S| <= 10^3  where |S| represents the length of string S. \n",
    "\n",
    "#### Sample Input and Output\n",
    "- Sample Input 1 : xaxb\n",
    "  Sample Output 1: ab\n",
    "- Sample Input 2 : abc\n",
    "  Sample Output 2: abc\n",
    "- Sample Input 3 : xx\n",
    "  Sample Output 3:"
   ]
  },
  {
   "cell_type": "code",
   "execution_count": 1,
   "id": "6f0e37ab",
   "metadata": {},
   "outputs": [
    {
     "name": "stdout",
     "output_type": "stream",
     "text": [
      "abxxabxxabierwfoxvv\n",
      "abababierwfovv\n"
     ]
    }
   ],
   "source": [
    "def removeX(string):\n",
    "    if len(string) == 0:\n",
    "        return string\n",
    "    if string[0] == 'x':\n",
    "        return removeX(string[1:])\n",
    "    return string[0] + removeX(string[1:])\n",
    "\n",
    "string = input()\n",
    "print(removeX(string))"
   ]
  }
 ],
 "metadata": {
  "kernelspec": {
   "display_name": "Python 3 (ipykernel)",
   "language": "python",
   "name": "python3"
  },
  "language_info": {
   "codemirror_mode": {
    "name": "ipython",
    "version": 3
   },
   "file_extension": ".py",
   "mimetype": "text/x-python",
   "name": "python",
   "nbconvert_exporter": "python",
   "pygments_lexer": "ipython3",
   "version": "3.9.13"
  }
 },
 "nbformat": 4,
 "nbformat_minor": 5
}
