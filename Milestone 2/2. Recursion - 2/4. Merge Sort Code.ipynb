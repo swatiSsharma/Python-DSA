{
 "cells": [
  {
   "cell_type": "markdown",
   "id": "a7689ab4",
   "metadata": {},
   "source": [
    "### 4. Merge Sort Code\n",
    "\n",
    "Sort an array A using Merge Sort. Change in the input array itself. So no need to return or print anything.\n",
    "\n",
    "**Input format :**\n",
    "  - Line 1 : Integer n i.e. Array size\n",
    "  - Line 2 : Array elements (separated by space)\n",
    "**Output format :**\n",
    "   Array elements in increasing order (separated by space)\n",
    "**Constraints :**\n",
    "1 <= n <= 10^3\n",
    "\n",
    "#### Sample Input and Output\n",
    " - Sample Input 1 :\n",
    "   6  (size)   \n",
    "   2 6 8 5 4 3  \n",
    "   Sample Output 1 :\n",
    "   2 3 4 5 6 8\n",
    " - Sample Input 2 :\n",
    "   5  (size)  \n",
    "   2 1 5 2 3  \n",
    "   Sample Output 2 :\n",
    "   1 2 2 3 5 "
   ]
  },
  {
   "cell_type": "code",
   "execution_count": 1,
   "id": "df6e48cd",
   "metadata": {},
   "outputs": [
    {
     "name": "stdout",
     "output_type": "stream",
     "text": [
      "6\n",
      "2 6 8 5 4 3\n",
      "2 3 4 5 6 8\n"
     ]
    }
   ],
   "source": [
    "def mergeSort(arr, start, end):\n",
    "    size = end - start\n",
    "    if size <= 1:\n",
    "        return\n",
    "    mid = (start + end) // 2\n",
    "    mergeSort(arr, start, mid)\n",
    "    mergeSort(arr, mid, end)\n",
    "    \n",
    "    # Merge two sorted lists\n",
    "    result = [0] * size\n",
    "    i = start\n",
    "    j = mid\n",
    "    k = 0\n",
    "    while(i < mid and j < end):\n",
    "        if ( arr[i] < arr[j]):\n",
    "            result[k] = arr[i]\n",
    "            k += 1\n",
    "            i += 1\n",
    "        else:\n",
    "            result[k] = arr[j]\n",
    "            k += 1\n",
    "            j += 1\n",
    "    while i < mid:\n",
    "        result[k] = arr[i]\n",
    "        k += 1\n",
    "        i += 1\n",
    "    while j < end:\n",
    "        result[k] = arr[j]\n",
    "        k += 1\n",
    "        j += 1     \n",
    "    for i in range(0, size):\n",
    "        arr[start + i] = result[i]\n",
    "        \n",
    "n=int(input())\n",
    "arr=list(int(i) for i in input().strip().split(' '))\n",
    "mergeSort(arr, 0, n)\n",
    "print(*arr)"
   ]
  }
 ],
 "metadata": {
  "kernelspec": {
   "display_name": "Python 3 (ipykernel)",
   "language": "python",
   "name": "python3"
  },
  "language_info": {
   "codemirror_mode": {
    "name": "ipython",
    "version": 3
   },
   "file_extension": ".py",
   "mimetype": "text/x-python",
   "name": "python",
   "nbconvert_exporter": "python",
   "pygments_lexer": "ipython3",
   "version": "3.9.13"
  }
 },
 "nbformat": 4,
 "nbformat_minor": 5
}
