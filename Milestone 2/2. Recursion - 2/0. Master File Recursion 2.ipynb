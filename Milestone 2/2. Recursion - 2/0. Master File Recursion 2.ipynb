{
 "cells": [
  {
   "cell_type": "markdown",
   "id": "5eeded82",
   "metadata": {},
   "source": [
    "### 1. Remove x\n",
    "\n",
    "Given a string, compute recursively a new string where all 'x' chars have been removed.\n",
    "  \n",
    "**Input format :**  \n",
    "  String S  \n",
    "**Output format :**  \n",
    "  Modified String  \n",
    "**Constraints :**  \n",
    "   1 <= |S| <= 10^3  where |S| represents the length of string S. \n",
    "\n",
    "#### Sample Input and Output\n",
    "- Sample Input 1 : xaxb\n",
    "  Sample Output 1: ab\n",
    "- Sample Input 2 : abc\n",
    "  Sample Output 2: abc\n",
    "- Sample Input 3 : xx\n",
    "  Sample Output 3:"
   ]
  },
  {
   "cell_type": "code",
   "execution_count": 1,
   "id": "6b2d61df",
   "metadata": {},
   "outputs": [
    {
     "name": "stdout",
     "output_type": "stream",
     "text": [
      "xaxb\n",
      "ab\n"
     ]
    }
   ],
   "source": [
    "def removeX(string):\n",
    "    if len(string) == 0:\n",
    "        return string\n",
    "    if string[0] == 'x':\n",
    "        return removeX(string[1:])\n",
    "    return string[0] + removeX(string[1:])\n",
    "\n",
    "string = input()\n",
    "print(removeX(string))"
   ]
  },
  {
   "cell_type": "markdown",
   "id": "775bc595",
   "metadata": {},
   "source": [
    "***\n",
    "***\n",
    "### 2. Remove Duplicates Recursively\n",
    "\n",
    "Given a string S, remove consecutive duplicates from it recursively.\n",
    "**Input Format :**\n",
    "String S\n",
    "**Output Format :**\n",
    "Output string\n",
    "**Constraints :**\n",
    "1 <= |S| <= 10^3 where |S| represents the length of string\n",
    "\n",
    "#### Input and Output Sample\n",
    "- Sample Input 1 : aabccba  \n",
    "  Sample Output 1 : abcba  \n",
    "- Sample Input 2 : xxxyyyzwwzzz  \n",
    "  Sample Output 2 : xyzwz  "
   ]
  },
  {
   "cell_type": "code",
   "execution_count": 2,
   "id": "44db0eac",
   "metadata": {},
   "outputs": [
    {
     "name": "stdout",
     "output_type": "stream",
     "text": [
      "xxxyyyzwwzzz\n",
      "xyzwz\n"
     ]
    }
   ],
   "source": [
    "def removeConsectiveDuplicates(string):\n",
    "    if len(string) <= 1:\n",
    "        return string\n",
    "    string2 = removeConsectiveDuplicates(string[1:])\n",
    "    if string[0] == string[1]:\n",
    "        return string2\n",
    "    else:\n",
    "        return string[0] + string2\n",
    "    \n",
    "string = input().strip()\n",
    "print(removeConsectiveDuplicates(string))"
   ]
  },
  {
   "cell_type": "markdown",
   "id": "f9fbc3ea",
   "metadata": {},
   "source": [
    "***\n",
    "***\n",
    "### 3. Binary Serach using Recursion\n",
    "\n",
    "Find the element in a sorted array using recursion"
   ]
  },
  {
   "cell_type": "code",
   "execution_count": 3,
   "id": "9948ef5a",
   "metadata": {},
   "outputs": [
    {
     "name": "stdout",
     "output_type": "stream",
     "text": [
      "Array is : [1,3,5,7,9,11,13,15,16,17]\n",
      "Finding element 3:  1\n",
      "Finding element 2:  -1\n"
     ]
    }
   ],
   "source": [
    "def binarySearch(a, x, si, ei):\n",
    "    if si > ei:\n",
    "        return -1\n",
    "    \n",
    "    mid = (si + ei)//2\n",
    "    if a[mid] == x:\n",
    "        return mid\n",
    "    elif a[mid] > x:\n",
    "        return binarySearch(a, x, si, mid - 1)\n",
    "    else:\n",
    "        return binarySearch(a, x, mid + 1, ei)\n",
    "\n",
    "# Here the array needs to be sorted   \n",
    "print('Array is : [1,3,5,7,9,11,13,15,16,17]',)\n",
    "print('Finding element 3: ',binarySearch([1,3,5,7,9,11,13,15,16,17], 3, 0, 9))\n",
    "\n",
    "print('Finding element 2: ',binarySearch([1,3,5,7,9,11,13,15,16,17], 2, 0, 9))"
   ]
  },
  {
   "cell_type": "markdown",
   "id": "319add03",
   "metadata": {},
   "source": [
    "***\n",
    "***\n",
    "### 4. Merge Sort Code\n",
    "\n",
    "Sort an array A using Merge Sort. Change in the input array itself. So no need to return or print anything.\n",
    "\n",
    "**Input format :**\n",
    "  - Line 1 : Integer n i.e. Array size\n",
    "  - Line 2 : Array elements (separated by space)\n",
    "**Output format :**\n",
    "   Array elements in increasing order (separated by space)\n",
    "**Constraints :**\n",
    "1 <= n <= 10^3\n",
    "\n",
    "#### Sample Input and Output\n",
    " - Sample Input 1 :\n",
    "   6  (size)   \n",
    "   2 6 8 5 4 3  \n",
    "   Sample Output 1 :\n",
    "   2 3 4 5 6 8\n",
    " - Sample Input 2 :\n",
    "   5  (size)  \n",
    "   2 1 5 2 3  \n",
    "   Sample Output 2 :\n",
    "   1 2 2 3 5 "
   ]
  },
  {
   "cell_type": "code",
   "execution_count": 4,
   "id": "cbfc783e",
   "metadata": {},
   "outputs": [
    {
     "name": "stdout",
     "output_type": "stream",
     "text": [
      "5\n",
      "2 1 5 2 3\n",
      "1 2 2 3 5\n"
     ]
    }
   ],
   "source": [
    "def mergeSort(arr, start, end):\n",
    "    size = end - start\n",
    "    if size <= 1:\n",
    "        return\n",
    "    mid = (start + end) // 2\n",
    "    mergeSort(arr, start, mid)\n",
    "    mergeSort(arr, mid, end)\n",
    "    \n",
    "    # Merge two sorted lists\n",
    "    result = [0] * size\n",
    "    i = start\n",
    "    j = mid\n",
    "    k = 0\n",
    "    while(i < mid and j < end):\n",
    "        if ( arr[i] < arr[j]):\n",
    "            result[k] = arr[i]\n",
    "            k += 1\n",
    "            i += 1\n",
    "        else:\n",
    "            result[k] = arr[j]\n",
    "            k += 1\n",
    "            j += 1\n",
    "    while i < mid:\n",
    "        result[k] = arr[i]\n",
    "        k += 1\n",
    "        i += 1\n",
    "    while j < end:\n",
    "        result[k] = arr[j]\n",
    "        k += 1\n",
    "        j += 1     \n",
    "    for i in range(0, size):\n",
    "        arr[start + i] = result[i]\n",
    "        \n",
    "n=int(input())\n",
    "arr=list(int(i) for i in input().strip().split(' '))\n",
    "mergeSort(arr, 0, n)\n",
    "print(*arr)"
   ]
  },
  {
   "cell_type": "markdown",
   "id": "3436df02",
   "metadata": {},
   "source": [
    "***\n",
    "***\n",
    "### 5. Quick Sort Code\n",
    "\n",
    "Sort an array A using Quick Sort.\n",
    "Change in the input array itself. So no need to return or print anything.\n",
    "\n",
    "**Input format :**\n",
    "- Line 1 : Integer n i.e. Array size\n",
    "- Line 2 : Array elements (separated by space)\n",
    "**Output format :**\n",
    "Array elements in increasing order (separated by space)\n",
    "**Constraints :**\n",
    "1 <= n <= 10^3\n",
    "\n",
    "#### Sample Input and Output\n",
    "- Sample Input 1 :\n",
    "  6 (size)  \n",
    "  2 6 8 5 4 3  \n",
    "  Sample Output 1 :  \n",
    "  2 3 4 5 6 8\n",
    "- Sample Input 2 :\n",
    "  5 (size)  \n",
    "  1 5 2 7 3  \n",
    "  Sample Output 2 :  \n",
    "  1 2 3 5 7 "
   ]
  },
  {
   "cell_type": "code",
   "execution_count": 5,
   "id": "ec414e28",
   "metadata": {},
   "outputs": [
    {
     "name": "stdout",
     "output_type": "stream",
     "text": [
      "5\n",
      "1 5 2 7 3\n",
      "1 2 3 5 7\n"
     ]
    }
   ],
   "source": [
    "def quickSort(arr, start, end):\n",
    "    if end - start <= 1:\n",
    "        return\n",
    "    \n",
    "    # partition element is at index start\n",
    "    pivot = start \n",
    "    # Calculate No of elements in arr which are <= pivot element\n",
    "    count = start\n",
    "    \n",
    "    for i in range(start + 1, end):\n",
    "        if arr[i] <= arr[pivot]:\n",
    "            count += 1\n",
    "    temp = arr[pivot]\n",
    "    arr[pivot] = arr[count]\n",
    "    arr[count] = temp\n",
    "    pivot = count\n",
    "    \n",
    "    left = start\n",
    "    right = end - 1\n",
    "    while left < pivot:\n",
    "        while arr[left] <= arr[pivot] and left < pivot:\n",
    "            left += 1\n",
    "        if left >= pivot:\n",
    "            break\n",
    "        while arr[right] > arr[pivot]:\n",
    "            right -= 1\n",
    "        temp = arr[left]\n",
    "        arr[left] = arr[right]\n",
    "        arr[right] = temp\n",
    "        left += 1\n",
    "        right -= 1\n",
    "    quickSort(arr, start, pivot)\n",
    "    quickSort(arr, pivot+1, end)\n",
    "    \n",
    "    \n",
    "n=int(input())\n",
    "arr=list(int(i) for i in input().strip().split(' '))\n",
    "quickSort(arr, 0, n)\n",
    "print(*arr)"
   ]
  },
  {
   "cell_type": "markdown",
   "id": "edb44d1b",
   "metadata": {},
   "source": [
    "### 6. Tower Of Hanoi\n",
    "\n",
    "Tower of Hanoi is a mathematical puzzle where we have three rods and n disks. The objective of the puzzle is to move all disks from source rod to destination rod using third rod (say auxiliary). The rules are :\n",
    "   1) Only one disk can be moved at a time.\n",
    "   2) A disk can be moved only if it is on the top of a rod.\n",
    "   3) No disk can be placed on the top of a smaller disk.\n",
    "     \n",
    "Print the steps required to move n disks from source rod to destination rod.\n",
    "Source Rod is named as 'a', auxiliary rod as 'b' and destination rod as 'c'.\n",
    "**Input Format :**\n",
    "Integer n\n",
    "**Output Format :**\n",
    "Steps in different lines (in one line print source and destination rod name separated by space)\n",
    "**Constraints :**\n",
    "0 <= n <= 20\n",
    "#### Sample Input and Output\n",
    "- Sample Input 1 : 2     \n",
    "  Sample Output 1 :  \n",
    "  a b  \n",
    "  a c  \n",
    "  b c  \n",
    "- Sample Input 2 : 3   \n",
    "  Sample Output 2 :  \n",
    "  a c  \n",
    "  a b  \n",
    "  c b  \n",
    "  a c  \n",
    "  b a  \n",
    "  b c  \n",
    "  a c  "
   ]
  },
  {
   "cell_type": "code",
   "execution_count": 6,
   "id": "1bda26d3",
   "metadata": {},
   "outputs": [
    {
     "name": "stdout",
     "output_type": "stream",
     "text": [
      "3\n",
      "a c\n",
      "a b\n",
      "c b\n",
      "a c\n",
      "b a\n",
      "b c\n",
      "a c\n"
     ]
    }
   ],
   "source": [
    "def towerofhanoi(n, source, aux, dest):\n",
    "    if n <= 0:\n",
    "        return\n",
    "    towerofhanoi(n-1, source, dest, aux)\n",
    "    print(source, dest)\n",
    "    towerofhanoi(n-1, aux, source, dest)\n",
    "\n",
    "n=int(input())\n",
    "towerofhanoi(n, 'a', 'b', 'c')"
   ]
  }
 ],
 "metadata": {
  "kernelspec": {
   "display_name": "Python 3 (ipykernel)",
   "language": "python",
   "name": "python3"
  },
  "language_info": {
   "codemirror_mode": {
    "name": "ipython",
    "version": 3
   },
   "file_extension": ".py",
   "mimetype": "text/x-python",
   "name": "python",
   "nbconvert_exporter": "python",
   "pygments_lexer": "ipython3",
   "version": "3.9.13"
  }
 },
 "nbformat": 4,
 "nbformat_minor": 5
}
