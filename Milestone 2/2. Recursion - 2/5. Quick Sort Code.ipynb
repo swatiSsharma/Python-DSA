{
 "cells": [
  {
   "cell_type": "markdown",
   "id": "5f146141",
   "metadata": {},
   "source": [
    "### 5. Quick Sort Code\n",
    "\n",
    "Sort an array A using Quick Sort.\n",
    "Change in the input array itself. So no need to return or print anything.\n",
    "\n",
    "**Input format :**\n",
    "- Line 1 : Integer n i.e. Array size\n",
    "- Line 2 : Array elements (separated by space)\n",
    "**Output format :**\n",
    "Array elements in increasing order (separated by space)\n",
    "**Constraints :**\n",
    "1 <= n <= 10^3\n",
    "\n",
    "#### Sample Input and Output\n",
    "- Sample Input 1 :\n",
    "  6 (size)  \n",
    "  2 6 8 5 4 3  \n",
    "  Sample Output 1 :  \n",
    "  2 3 4 5 6 8\n",
    "- Sample Input 2 :\n",
    "  5 (size)  \n",
    "  1 5 2 7 3  \n",
    "  Sample Output 2 :  \n",
    "  1 2 3 5 7 "
   ]
  },
  {
   "cell_type": "code",
   "execution_count": 1,
   "id": "7eb5f162",
   "metadata": {},
   "outputs": [
    {
     "name": "stdout",
     "output_type": "stream",
     "text": [
      "5\n",
      "1 5 2 7 3\n",
      "1 2 3 5 7\n"
     ]
    }
   ],
   "source": [
    "def quickSort(arr, start, end):\n",
    "    if end - start <= 1:\n",
    "        return\n",
    "    \n",
    "    # partition element is at index start\n",
    "    pivot = start \n",
    "    # Calculate No of elements in arr which are <= pivot element\n",
    "    count = start\n",
    "    \n",
    "    for i in range(start + 1, end):\n",
    "        if arr[i] <= arr[pivot]:\n",
    "            count += 1\n",
    "    temp = arr[pivot]\n",
    "    arr[pivot] = arr[count]\n",
    "    arr[count] = temp\n",
    "    pivot = count\n",
    "    \n",
    "    left = start\n",
    "    right = end - 1\n",
    "    while left < pivot:\n",
    "        while arr[left] <= arr[pivot] and left < pivot:\n",
    "            left += 1\n",
    "        if left >= pivot:\n",
    "            break\n",
    "        while arr[right] > arr[pivot]:\n",
    "            right -= 1\n",
    "        temp = arr[left]\n",
    "        arr[left] = arr[right]\n",
    "        arr[right] = temp\n",
    "        left += 1\n",
    "        right -= 1\n",
    "    quickSort(arr, start, pivot)\n",
    "    quickSort(arr, pivot+1, end)\n",
    "    \n",
    "    \n",
    "n=int(input())\n",
    "arr=list(int(i) for i in input().strip().split(' '))\n",
    "quickSort(arr, 0, n)\n",
    "print(*arr)"
   ]
  }
 ],
 "metadata": {
  "kernelspec": {
   "display_name": "Python 3 (ipykernel)",
   "language": "python",
   "name": "python3"
  },
  "language_info": {
   "codemirror_mode": {
    "name": "ipython",
    "version": 3
   },
   "file_extension": ".py",
   "mimetype": "text/x-python",
   "name": "python",
   "nbconvert_exporter": "python",
   "pygments_lexer": "ipython3",
   "version": "3.9.13"
  }
 },
 "nbformat": 4,
 "nbformat_minor": 5
}
