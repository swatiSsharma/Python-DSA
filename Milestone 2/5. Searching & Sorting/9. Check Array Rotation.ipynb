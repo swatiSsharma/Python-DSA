{
 "cells": [
  {
   "cell_type": "markdown",
   "id": "5f3b6f71",
   "metadata": {},
   "source": [
    "# 9. Check Array Rotation\n",
    "\n",
    "You have been given an integer array/list(ARR) of size N. It has been sorted(in increasing order) and then rotated by some number 'K' in the right hand direction.\n",
    "Your task is to write a function that returns the value of 'K', that means, the index from which the array/list has been rotated.\n",
    "\n",
    "**Input format :**  \n",
    "\n",
    "- The first line contains an Integer 't' which denotes the number of test cases or queries to be run. Then the test cases follow.\n",
    "- First line of each test case or query contains an integer 'N' representing the size of the array/list.\n",
    "- Second line contains 'N' single space separated integers representing the elements in the array/list.\n",
    "\n",
    "**Output Format :**  \n",
    "\n",
    "- For each test case, print the value of 'K' or the index from which which the array/list has been rotated.\n",
    "- Output for every test case will be printed in a separate line.\n",
    "\n",
    "**Constraints :**  \n",
    "```\n",
    "1 <= t <= 10^2\n",
    "0 <= N <= 10^5\n",
    "Time Limit: 1 sec\n",
    "```\n",
    "#### Sample Input and Output\n",
    "- Sample Input 1:\n",
    "```\n",
    "1\n",
    "6\n",
    "5 6 1 2 3 4\n",
    "```\n",
    "- Sample Output 1:\n",
    "```\n",
    "2\n",
    "```\n",
    "- Sample Input 2:\n",
    "```\n",
    "2\n",
    "5\n",
    "3 6 8 9 10\n",
    "4\n",
    "10 20 30 1\n",
    "```\n",
    "- Sample Output 2:\n",
    "```\n",
    "0\n",
    "3\n",
    "```"
   ]
  },
  {
   "cell_type": "code",
   "execution_count": 1,
   "id": "09245999",
   "metadata": {},
   "outputs": [
    {
     "name": "stdout",
     "output_type": "stream",
     "text": [
      "1\n",
      "6\n",
      "5 6 1 2 3 4\n",
      "2\n"
     ]
    }
   ],
   "source": [
    "# Approach - 1\n",
    "from sys import stdin\n",
    "\n",
    "def arrayRotateCheck(arr, n):\n",
    "    #Your code goes here\n",
    "\n",
    "    for i in range(n - 1):\n",
    "        if(arr[i] > arr[i + 1]):\n",
    "            return (i + 1) \n",
    "    return 0 \n",
    "\n",
    "#Taking Input Using Fast I/O\n",
    "def takeInput() :\n",
    "    n = int(input().rstrip())\n",
    "    if n == 0:\n",
    "        return list(), 0\n",
    "\n",
    "    arr = list(map(int, input().rstrip().split(\" \")))\n",
    "    return arr, n\n",
    "\n",
    "\n",
    "#main\n",
    "t = int(input().rstrip())\n",
    "\n",
    "while t > 0 :\n",
    "\n",
    "    arr, n = takeInput()\n",
    "    print(arrayRotateCheck(arr, n))\n",
    "\n",
    "    t -= 1"
   ]
  }
 ],
 "metadata": {
  "kernelspec": {
   "display_name": "Python 3 (ipykernel)",
   "language": "python",
   "name": "python3"
  },
  "language_info": {
   "codemirror_mode": {
    "name": "ipython",
    "version": 3
   },
   "file_extension": ".py",
   "mimetype": "text/x-python",
   "name": "python",
   "nbconvert_exporter": "python",
   "pygments_lexer": "ipython3",
   "version": "3.9.13"
  }
 },
 "nbformat": 4,
 "nbformat_minor": 5
}
