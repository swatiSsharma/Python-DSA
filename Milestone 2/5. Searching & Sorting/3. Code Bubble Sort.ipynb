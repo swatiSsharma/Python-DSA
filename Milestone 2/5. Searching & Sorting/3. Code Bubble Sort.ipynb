{
 "cells": [
  {
   "cell_type": "markdown",
   "id": "4bce8223",
   "metadata": {},
   "source": [
    "# 3. Code Bubble Sort\n",
    "\n",
    "Provided with a random integer array/list(ARR) of size N, you have been required to sort this array using 'Bubble Sort'.\n",
    "**Note:**  \n",
    "\n",
    "> Change in the input array/list itself. You don't need to return or print the elements.\n",
    "\n",
    "**Input format :**  \n",
    "\n",
    "- The first line contains an Integer 't' which denotes the number of test cases or queries to be run. Then the test cases follow.\n",
    "- First line of each test case or query contains an integer 'N' representing the size of the array/list.\n",
    "- Second line contains 'N' single space separated integers representing the elements in the array/list.\n",
    "\n",
    "**Output format :**  \n",
    "\n",
    "- For each test case, print the elements of the array/list in sorted order separated by a single space.\n",
    "- Output for every test case will be printed in a separate line.\n",
    "\n",
    "**Constraints :**  \n",
    "```\n",
    "1 <= t <= 10^2\n",
    "0 <= N <= 10^3\n",
    "Time Limit: 1 sec\n",
    "```\n",
    "\n",
    "#### Sample Input and Output\n",
    "- Sample Input 1:\n",
    "```\n",
    "1\n",
    "7\n",
    "2 13 4 1 3 6 28\n",
    "```\n",
    "- Sample Output 1:\n",
    "```\n",
    "1 2 3 4 6 13 28\n",
    "```\n",
    "- Sample Input 2:\n",
    "```\n",
    "2\n",
    "5\n",
    "9 3 6 2 0\n",
    "4\n",
    "4 3 2 1\n",
    "```\n",
    "- Sample Output 2:\n",
    "```\n",
    "0 2 3 6 9\n",
    "1 2 3 4\n",
    "```"
   ]
  },
  {
   "cell_type": "code",
   "execution_count": 1,
   "id": "26840b4b",
   "metadata": {},
   "outputs": [
    {
     "name": "stdout",
     "output_type": "stream",
     "text": [
      "1\n",
      "7\n",
      "2 13 4 1 3 6 28\n",
      "1 2 3 4 6 13 28 \n"
     ]
    }
   ],
   "source": [
    "from sys import stdin\n",
    "def bubbleSort(arr, n) :\n",
    "    for i in range(n - 1) :\n",
    "        for j in range(n - i - 1) :\n",
    "            if arr[j] > arr[j+1] :\n",
    "                temp = arr[j] \n",
    "                arr[j] = arr[j + 1]\n",
    "                arr[j + 1] = temp \n",
    "def takeInput() : \n",
    "    n = int(input().strip()) \n",
    "    if n == 0 : \n",
    "        return list(), 0\n",
    "    arr = list(map(int, input().strip().split(\" \"))) \n",
    "    return arr, n\n",
    "def printList(arr, n) :\n",
    "    for i in range(n) :\n",
    "        print(arr[i], end = \" \") \n",
    "    print() \n",
    "t = int(input().strip()) \n",
    "while t > 0 :\n",
    "    arr, n = takeInput()\n",
    "    bubbleSort(arr, n)\n",
    "    printList(arr, n) \n",
    "    t-= 1"
   ]
  }
 ],
 "metadata": {
  "kernelspec": {
   "display_name": "Python 3 (ipykernel)",
   "language": "python",
   "name": "python3"
  },
  "language_info": {
   "codemirror_mode": {
    "name": "ipython",
    "version": 3
   },
   "file_extension": ".py",
   "mimetype": "text/x-python",
   "name": "python",
   "nbconvert_exporter": "python",
   "pygments_lexer": "ipython3",
   "version": "3.9.13"
  }
 },
 "nbformat": 4,
 "nbformat_minor": 5
}
