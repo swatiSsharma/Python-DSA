{
 "cells": [
  {
   "cell_type": "markdown",
   "id": "07d67ecf",
   "metadata": {},
   "source": [
    "# 20. Arranging Coins\n",
    "\n",
    "You have n coins and you want to build a staircase with these coins. The staircase consists of k rows where the ith row has exactly i coins. The last row of the staircase may be incomplete.\n",
    "\n",
    "Given the integer n, return the number of complete rows of the staircase you will build.\n",
    "\n",
    "**Example 1:**\n",
    "```\n",
    "@\n",
    "@ @\n",
    "@ @ _\n",
    "\n",
    "Input: n = 5\n",
    "Output: 2\n",
    "Explanation: Because the 3rd row is incomplete, we return 2.\n",
    "```\n",
    "**Example 2:**\n",
    "```\n",
    "@\n",
    "@ @\n",
    "@ @ @\n",
    "@ @ _ _\n",
    "\n",
    "Input: n = 8\n",
    "Output: 3\n",
    "Explanation: Because the 4th row is incomplete, we return 3.\n",
    "``` \n",
    "**Constraints:**\n",
    "```\n",
    "1 <= n <= 231 - 1\n",
    "```"
   ]
  },
  {
   "cell_type": "markdown",
   "id": "793294dd",
   "metadata": {},
   "source": [
    "### Approach - I"
   ]
  },
  {
   "cell_type": "code",
   "execution_count": null,
   "id": "d42741d8",
   "metadata": {},
   "outputs": [],
   "source": [
    "class Solution:\n",
    "    def arrangeCoins(self, n: int) -> int:\n",
    "\n",
    "        first = 1\n",
    "        last = n\n",
    "        if n==1:\n",
    "            return 1\n",
    "        while first <= last:\n",
    "            mid = (first+last)//2\n",
    "\n",
    "            if mid*(mid+1) == 2*n:\n",
    "                return mid\n",
    "            elif mid*(mid+1) > 2*n:\n",
    "                last = mid-1\n",
    "            else:\n",
    "                first = mid+1\n",
    "        return last"
   ]
  },
  {
   "cell_type": "markdown",
   "id": "36770ebf",
   "metadata": {},
   "source": [
    "### Approach - II"
   ]
  },
  {
   "cell_type": "code",
   "execution_count": null,
   "id": "b2465123",
   "metadata": {},
   "outputs": [],
   "source": [
    "class Solution:\n",
    "    def arrangeCoins(self, n: int) -> int:\n",
    "        \n",
    "        count = 0\n",
    "        i = 1\n",
    "        while n >= 0:\n",
    "            n -= i\n",
    "            count += 1\n",
    "            i += 1\n",
    "        \n",
    "        return count if n == 0 else count - 1"
   ]
  },
  {
   "cell_type": "markdown",
   "id": "88432238",
   "metadata": {},
   "source": [
    "### Approach - III"
   ]
  },
  {
   "cell_type": "code",
   "execution_count": null,
   "id": "e5e61ba6",
   "metadata": {},
   "outputs": [],
   "source": [
    "class Solution:\n",
    "    def arrangeCoins(self, n: int) -> int:\n",
    "        left, right = 0, n\n",
    "        while left <= right:\n",
    "            k = (right + left) // 2\n",
    "            curr = k * (k + 1) // 2\n",
    "            if curr == n:\n",
    "                return k\n",
    "            if n < curr:\n",
    "                right = k - 1\n",
    "            else:\n",
    "                left = k + 1\n",
    "        return right"
   ]
  },
  {
   "cell_type": "markdown",
   "id": "98c7f9fc",
   "metadata": {},
   "source": [
    "### Approach - IV"
   ]
  },
  {
   "cell_type": "code",
   "execution_count": null,
   "id": "f7945a90",
   "metadata": {},
   "outputs": [],
   "source": [
    "class Solution:\n",
    "    def arrangeCoins(self, n: int) -> int:\n",
    "        # BASE CASE: \n",
    "        if n == 1: return 1\n",
    "        # LINEAR SEARCH\n",
    "            row = 1\n",
    "            row_count = 0\n",
    "            while n >= 0:\n",
    "                n -= row\n",
    "                row += 1\n",
    "        return row - 2\n"
   ]
  },
  {
   "cell_type": "code",
   "execution_count": null,
   "id": "9512343e",
   "metadata": {},
   "outputs": [],
   "source": [
    "class Solution:\n",
    "    def arrangeCoins(self, n: int) -> int:\n",
    "        # BASE CASE: \n",
    "        if n == 1: return 1\n",
    "        # BINARY SEARCH\n",
    "        L = 1\n",
    "        R = n\n",
    "        while L <= R:\n",
    "            mid = (L + R) // 2\n",
    "            sum_rows = mid * (mid + 1)// 2\n",
    "            if sum_rows > n: R = mid - 1\n",
    "            if sum_rows < n: L = mid + 1\n",
    "            if sum_rows == n: return mid\n",
    "        \n",
    "        return mid if mid * (mid + 1) // 2 < n else mid - 1"
   ]
  }
 ],
 "metadata": {
  "kernelspec": {
   "display_name": "Python 3 (ipykernel)",
   "language": "python",
   "name": "python3"
  },
  "language_info": {
   "codemirror_mode": {
    "name": "ipython",
    "version": 3
   },
   "file_extension": ".py",
   "mimetype": "text/x-python",
   "name": "python",
   "nbconvert_exporter": "python",
   "pygments_lexer": "ipython3",
   "version": "3.9.13"
  }
 },
 "nbformat": 4,
 "nbformat_minor": 5
}
