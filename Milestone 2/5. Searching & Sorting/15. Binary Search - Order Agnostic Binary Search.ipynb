{
 "cells": [
  {
   "cell_type": "markdown",
   "metadata": {},
   "source": [
    "# Array sorted Ascending order"
   ]
  },
  {
   "cell_type": "code",
   "execution_count": 1,
   "metadata": {},
   "outputs": [],
   "source": [
    "def binarySearch_Asc( arr, target):\n",
    "    start = 0\n",
    "    end = len(arr)-1\n",
    "    while start <= end:\n",
    "            mid = (start + end)//2\n",
    "            \n",
    "            if target == arr[mid]:\n",
    "                return mid\n",
    "            elif target > arr[mid]:\n",
    "                start = mid + 1\n",
    "            elif target < arr[mid]:\n",
    "                end = mid - 1\n",
    "    return -1             "
   ]
  },
  {
   "cell_type": "code",
   "execution_count": 2,
   "metadata": {},
   "outputs": [
    {
     "name": "stdout",
     "output_type": "stream",
     "text": [
      "10\n"
     ]
    }
   ],
   "source": [
    "arr = [-18,-12,-4,0,2,3,4,15,16,18,22,45,89]\n",
    "n = 22\n",
    "print(binarySearch_Asc(arr, n))"
   ]
  },
  {
   "cell_type": "markdown",
   "metadata": {},
   "source": [
    "# Array sorted Descending order"
   ]
  },
  {
   "cell_type": "code",
   "execution_count": 3,
   "metadata": {},
   "outputs": [],
   "source": [
    "def binarySearch_Desc( arr, target):\n",
    "    start = 0\n",
    "    end = len(arr)-1\n",
    "    while start <= end:\n",
    "            mid = (start + end)//2\n",
    "            \n",
    "            if target == arr[mid]:\n",
    "                return mid\n",
    "            elif target > arr[mid]:\n",
    "                end = mid - 1\n",
    "            elif target < arr[mid]:\n",
    "                start = mid + 1\n",
    "    return -1"
   ]
  },
  {
   "cell_type": "code",
   "execution_count": 4,
   "metadata": {},
   "outputs": [
    {
     "name": "stdout",
     "output_type": "stream",
     "text": [
      "1\n"
     ]
    }
   ],
   "source": [
    "arr = [90,75,18,12,6]\n",
    "target = 75\n",
    "print(binarySearch_Desc(arr, target))"
   ]
  },
  {
   "cell_type": "markdown",
   "metadata": {},
   "source": [
    "# Order Agnotic\n",
    "\n",
    "- check first and last element\n",
    "- if start > last --> increasing array sorted (descending order)\n",
    "- if start < last --> decreasing array sorted ( ascending order )\n"
   ]
  },
  {
   "cell_type": "code",
   "execution_count": 6,
   "metadata": {},
   "outputs": [
    {
     "name": "stdout",
     "output_type": "stream",
     "text": [
      "4\n"
     ]
    }
   ],
   "source": [
    "arr = [110,102,90,75,60,18,12,6]\n",
    "target = 60\n",
    "if arr[0] > arr[-1]:\n",
    "    print(binarySearch_Desc(arr, target))\n",
    "else:\n",
    "    print(binarySearch_Asc(arr, target))\n",
    "    "
   ]
  }
 ],
 "metadata": {
  "kernelspec": {
   "display_name": "Python 3",
   "language": "python",
   "name": "python3"
  },
  "language_info": {
   "codemirror_mode": {
    "name": "ipython",
    "version": 3
   },
   "file_extension": ".py",
   "mimetype": "text/x-python",
   "name": "python",
   "nbconvert_exporter": "python",
   "pygments_lexer": "ipython3",
   "version": "3.7.6"
  }
 },
 "nbformat": 4,
 "nbformat_minor": 4
}
