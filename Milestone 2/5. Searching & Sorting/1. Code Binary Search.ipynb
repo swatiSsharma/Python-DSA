{
 "cells": [
  {
   "cell_type": "markdown",
   "id": "8231d059",
   "metadata": {},
   "source": [
    "# 1.  Code Binary Search\n",
    "\n",
    "You have been given a sorted(in ascending order) integer array/list(ARR) of size N and an element X. Write a function to search this element in the given input array/list using 'Binary Search'. Return the index of the element in the input array/list. In case the element is not present in the array/list, then return -1.\n",
    "\n",
    "**Input format :**  \n",
    "\n",
    "- The first line contains an Integer 'N' which denotes the size of the array/list.\n",
    "- Second line contains 'N' single space separated integers representing the elements in the array/list.\n",
    "- Third line contains an Integer 't' which denotes the number of test cases or queries to be run. Then the test cases follow..\n",
    "- All the 't' lines henceforth, will take the value of X to be searched for in the array/list.\n",
    "\n",
    "**Output Format :**  \n",
    "\n",
    "- For each test case, print the index at which X is present, -1 otherwise.\n",
    "- Output for every test case will be printed in a separate line.\n",
    "\n",
    "**Constraints :**  \n",
    "```\n",
    "1 <= t <= 10^4\n",
    "0 <= N <= 10^6\n",
    "0 <= X <= 10^9\n",
    "Time Limit: 1 sec\n",
    "```\n",
    "#### Sample Input and Output\n",
    "- Sample Input 1:\n",
    "```\n",
    "7\n",
    "1 3 7 9 11 12 45\n",
    "1\n",
    "3\n",
    "```\n",
    "- Sample Output 1:\n",
    "```\n",
    "1\n",
    "```\n",
    "- Sample Input 2:\n",
    "```\n",
    "7\n",
    "1 2 3 4 5 6 7\n",
    "2\n",
    "9\n",
    "7\n",
    "```\n",
    "- Sample Output 2:\n",
    "```\n",
    "\\-1\n",
    "6\n",
    "```"
   ]
  },
  {
   "cell_type": "code",
   "execution_count": 1,
   "id": "a12b5b42",
   "metadata": {},
   "outputs": [
    {
     "name": "stdout",
     "output_type": "stream",
     "text": [
      "7\n",
      "1 3 7 9 11 12 45\n",
      "1\n",
      "3\n",
      "1\n"
     ]
    }
   ],
   "source": [
    "# Approach 1\n",
    "def binarysearch(arr, element):\n",
    "    start = 0\n",
    "    end = len(arr) - 1\n",
    "    while start <= end:\n",
    "        mid = (start + end) // 2\n",
    "        if arr[mid] == element:\n",
    "            return mid\n",
    "        elif arr[mid] < element:\n",
    "            start = mid + 1\n",
    "        else:\n",
    "            end = mid - 1\n",
    "    return -1\n",
    "\n",
    "\n",
    "faltu =int(input())\n",
    "if faltu == 0:\n",
    "    list = [0]\n",
    "else:\n",
    "    list = [int(x) for x in input().split()]\n",
    "no_of_loop = int(input())\n",
    "for i in range(no_of_loop):\n",
    "    search_element = int(input())\n",
    "    print(binarysearch(list, search_element))"
   ]
  }
 ],
 "metadata": {
  "kernelspec": {
   "display_name": "Python 3 (ipykernel)",
   "language": "python",
   "name": "python3"
  },
  "language_info": {
   "codemirror_mode": {
    "name": "ipython",
    "version": 3
   },
   "file_extension": ".py",
   "mimetype": "text/x-python",
   "name": "python",
   "nbconvert_exporter": "python",
   "pygments_lexer": "ipython3",
   "version": "3.9.13"
  }
 },
 "nbformat": 4,
 "nbformat_minor": 5
}
