{
 "cells": [
  {
   "cell_type": "markdown",
   "id": "4c2575de",
   "metadata": {},
   "source": [
    "# 21. Largest Number\n",
    "\n",
    "Given a list of non-negative integers nums, arrange them such that they form the largest number and return it.\n",
    "\n",
    "Since the result may be very large, so you need to return a string instead of an integer.\n",
    "\n",
    "**Example 1:**\n",
    "```\n",
    "Input: nums = [10,2]\n",
    "Output: \"210\"\n",
    "```\n",
    "**Example 2:**\n",
    "```\n",
    "Input: nums = [3,30,34,5,9]\n",
    "Output: \"9534330\"\n",
    "``` \n",
    "\n",
    "**Constraints:**\n",
    "```\n",
    "1 <= nums.length <= 100\n",
    "0 <= nums[i] <= 109\n",
    "```"
   ]
  },
  {
   "cell_type": "markdown",
   "id": "9e87ad54",
   "metadata": {},
   "source": [
    "### Approach - I (Using Bubble Sort - O(N^2) 108 ms)"
   ]
  },
  {
   "cell_type": "code",
   "execution_count": null,
   "id": "aa68c46c",
   "metadata": {},
   "outputs": [],
   "source": [
    "class Solution:\n",
    "    def largestNumber(self, nums: List[int]) -> str:\n",
    "        for i in range(len(nums), 0, -1):\n",
    "            for j in range(i-1):\n",
    "                if str(nums[j]) + str(nums[j+1]) < str(nums[j+1]) + str(nums[j]):\n",
    "                    nums[j], nums[j+1] = nums[j+1], nums[j]\n",
    "        return str(int(\"\".join(map(str, nums))))"
   ]
  },
  {
   "cell_type": "markdown",
   "id": "3ba01f19",
   "metadata": {},
   "source": [
    "### Approach - II (Using Selection Sort - O(N^2) 109 ms)"
   ]
  },
  {
   "cell_type": "code",
   "execution_count": null,
   "id": "3aa1707e",
   "metadata": {},
   "outputs": [],
   "source": [
    "class Solution:\n",
    "    def largestNumber(self, nums: List[int]) -> str:\n",
    "        for i in range(len(nums), 0, -1):\n",
    "            tmp = 0\n",
    "            for j in range(i):\n",
    "                if str(nums[j]) + str(nums[tmp]) < str(nums[tmp]) + str(nums[j]):\n",
    "                    tmp = j\n",
    "            nums[tmp], nums[i-1] = nums[i-1], nums[tmp]\n",
    "        return str(int(\"\".join(map(str, nums))))"
   ]
  },
  {
   "cell_type": "markdown",
   "id": "a2d45768",
   "metadata": {},
   "source": [
    "### Approach - III (Using Insertion Sort O(N^2) 79 ms)"
   ]
  },
  {
   "cell_type": "code",
   "execution_count": null,
   "id": "4e2267d5",
   "metadata": {},
   "outputs": [],
   "source": [
    "class Solution:\n",
    "    def largestNumber(self, nums: List[int]) -> str:\n",
    "        for i in range(1, len(nums)):\n",
    "            pos = i\n",
    "            cur = nums[i]\n",
    "            while pos > 0 and str(nums[pos-1]) + str(cur) < str(cur) + str(nums[pos-1]):\n",
    "                nums[pos] = nums[pos-1]  # move one-step forward\n",
    "                pos -= 1\n",
    "            nums[pos] = cur\n",
    "        return str(int(\"\".join(map(str, nums))))"
   ]
  },
  {
   "cell_type": "markdown",
   "id": "905bee7d",
   "metadata": {},
   "source": [
    "### Approach - IV (Using Merge Sort O(N logN) 49 ms)"
   ]
  },
  {
   "cell_type": "code",
   "execution_count": null,
   "id": "dda961ef",
   "metadata": {},
   "outputs": [],
   "source": [
    "class Solution:\n",
    "    def largestNumber(self, nums: List[int]) -> str:\n",
    "        def mergeSort(l, r):\n",
    "            if l > r: return \n",
    "            if l == r: return [nums[l]]\n",
    "            mid = l + (r-l)//2\n",
    "            return self.merge(mergeSort(l, mid), mergeSort(mid+1, r))\n",
    "        nums = mergeSort(0, len(nums)-1)\n",
    "        return str(int(\"\".join(map(str, nums))))\n",
    "\n",
    "    def merge(self, l, r):\n",
    "        res, i, j = [], 0, 0\n",
    "        while i < len(l) and j < len(r):\n",
    "            if str(l[i]) + str(r[j]) < str(r[j]) + str(l[i]):\n",
    "                res.append(r[j])\n",
    "                j += 1\n",
    "            else:\n",
    "                res.append(l[i])\n",
    "                i += 1\n",
    "        return res + (l[i:] or r[j:])"
   ]
  },
  {
   "cell_type": "markdown",
   "id": "78164c9f",
   "metadata": {},
   "source": [
    "### Approach - V (Using Quick Sort O(lN logN) 78 ms)"
   ]
  },
  {
   "cell_type": "code",
   "execution_count": null,
   "id": "86f2dadb",
   "metadata": {},
   "outputs": [],
   "source": [
    "class Solution:\n",
    "    def largestNumber(self, nums):\n",
    "        self.quickSort(nums, 0, len(nums)-1)\n",
    "        return str(int(\"\".join(map(str, nums)))) \n",
    "\n",
    "    def quickSort(self, nums, l, r):\n",
    "        if l >= r: return \n",
    "        pos = self.partition(nums, l, r)\n",
    "        self.quickSort(nums, l, pos-1)\n",
    "        self.quickSort(nums, pos+1, r)\n",
    "        \n",
    "    def partition(self, nums, l, r):\n",
    "        low = l\n",
    "        while l < r:\n",
    "            if str(nums[l]) + str(nums[r]) > str(nums[r]) + str(nums[l]):\n",
    "                nums[l], nums[low] = nums[low], nums[l]\n",
    "                low += 1\n",
    "            l += 1\n",
    "        nums[low], nums[r] = nums[r], nums[low]\n",
    "        return low"
   ]
  },
  {
   "cell_type": "markdown",
   "id": "936fe634",
   "metadata": {},
   "source": [
    "### Approach - VI (22ms)"
   ]
  },
  {
   "cell_type": "code",
   "execution_count": null,
   "id": "44fb7c51",
   "metadata": {},
   "outputs": [],
   "source": [
    "class Solution:\n",
    "    def largestNumber(self, nums):\n",
    "        nums = [str(n) for n in nums]\n",
    "        nums.sort(key=cmp_to_key(lambda x, y: 1 if x+y < y+x else -1))\n",
    "        largest = \"\".join(nums)\n",
    "        return largest.lstrip(\"0\") or \"0\""
   ]
  },
  {
   "cell_type": "markdown",
   "id": "3d8d409e",
   "metadata": {},
   "source": [
    "### Approach - VII"
   ]
  },
  {
   "cell_type": "code",
   "execution_count": null,
   "id": "84712fc8",
   "metadata": {},
   "outputs": [],
   "source": [
    "class LargerKeyCmp(str):\n",
    "    def __lt__(self, other):\n",
    "        return self + other > other + self\n",
    "\n",
    "class Solution:\n",
    "    def largestNumber(self, nums: List[int]) -> str:\n",
    "        largest = \"\".join(sorted(map(str, nums), key=LargerKeyCmp))\n",
    "        return \"0\" if largest[0] == \"0\" else largest"
   ]
  },
  {
   "cell_type": "markdown",
   "id": "53944110",
   "metadata": {},
   "source": [
    "### Approach - VIII"
   ]
  },
  {
   "cell_type": "code",
   "execution_count": null,
   "id": "7cfe72cc",
   "metadata": {},
   "outputs": [],
   "source": [
    "from functools import cmp_to_key\n",
    "\n",
    "class Solution:\n",
    "    def largestNumber(self, nums: List[int]) -> str:\n",
    "\n",
    "        nums = [str(num) for num in nums]\n",
    "\n",
    "        def compare(x, y):\n",
    "            x_c = x + y\n",
    "            y_c = y + x\n",
    "            \n",
    "            if x_c > y_c:\n",
    "                return 1\n",
    "            elif x_c == y_c:\n",
    "                return 0\n",
    "            else:\n",
    "                return -1\n",
    "            \n",
    "        nums.sort(key=cmp_to_key(compare), reverse=True)\n",
    "\n",
    "        res = \"\".join(nums)\n",
    "\n",
    "        return \"0\" if res[0] == \"0\" else res"
   ]
  }
 ],
 "metadata": {
  "kernelspec": {
   "display_name": "Python 3 (ipykernel)",
   "language": "python",
   "name": "python3"
  },
  "language_info": {
   "codemirror_mode": {
    "name": "ipython",
    "version": 3
   },
   "file_extension": ".py",
   "mimetype": "text/x-python",
   "name": "python",
   "nbconvert_exporter": "python",
   "pygments_lexer": "ipython3",
   "version": "3.9.13"
  }
 },
 "nbformat": 4,
 "nbformat_minor": 5
}
