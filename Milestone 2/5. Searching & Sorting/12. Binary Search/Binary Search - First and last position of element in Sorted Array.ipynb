{
 "cells": [
  {
   "cell_type": "markdown",
   "metadata": {},
   "source": [
    "Given an array of intergers nums sorted in ascending order, find the starting and ending position of a given target value.\n",
    "\n",
    "If not found return [-1,-1]"
   ]
  },
  {
   "cell_type": "code",
   "execution_count": 79,
   "metadata": {},
   "outputs": [],
   "source": [
    "arr = [5,7,7,8,8,10]\n",
    "target = 8\n",
    "# output = [3,4]"
   ]
  },
  {
   "cell_type": "code",
   "execution_count": 76,
   "metadata": {},
   "outputs": [],
   "source": [
    "# find first occurence of target\n",
    "def first(arr, x, n):\n",
    " \n",
    "    low = 0\n",
    "    high = n - 1\n",
    "    res = -1\n",
    " \n",
    "    while (low <= high):\n",
    " \n",
    "        # Normal Binary Search Logic\n",
    "        mid = (low + high) // 2\n",
    " \n",
    "        if arr[mid] > x:\n",
    "            high = mid - 1\n",
    "        elif arr[mid] < x:\n",
    "            low = mid + 1\n",
    " \n",
    "        # If arr[mid] is same as x, we\n",
    "        # update res and move to the left\n",
    "        # half.\n",
    "        else:\n",
    "            res = mid\n",
    "            high = mid - 1\n",
    " \n",
    "    return res\n",
    " \n",
    " \n",
    "def last(arr, x, n):\n",
    " \n",
    "    low = 0\n",
    "    high = n - 1\n",
    "    res = -1\n",
    " \n",
    "    while(low <= high):\n",
    " \n",
    "        # Normal Binary Search Logic\n",
    "        mid = (low + high) // 2\n",
    " \n",
    "        if arr[mid] > x:\n",
    "            high = mid - 1\n",
    "        elif arr[mid] < x:\n",
    "            low = mid + 1\n",
    " \n",
    "        # If arr[mid] is same as x, we\n",
    "        # update res and move to the Right\n",
    "        # half.\n",
    "        else:\n",
    "            res = mid\n",
    "            low = mid + 1\n",
    " \n",
    "    return res\n",
    "        "
   ]
  },
  {
   "cell_type": "code",
   "execution_count": null,
   "metadata": {},
   "outputs": [],
   "source": []
  },
  {
   "cell_type": "code",
   "execution_count": 80,
   "metadata": {},
   "outputs": [
    {
     "name": "stdout",
     "output_type": "stream",
     "text": [
      "First Occurrence = 3\n",
      "Last Occurrence = 4\n"
     ]
    }
   ],
   "source": [
    "#ans = [-1,-1]\n",
    "print(\"First Occurrence =\", first(arr, target, len(arr)))\n",
    "print(\"Last Occurrence =\", last(arr, target, len(arr)))"
   ]
  },
  {
   "cell_type": "code",
   "execution_count": 37,
   "metadata": {},
   "outputs": [],
   "source": [
    "ans = [-1,-1]"
   ]
  },
  {
   "cell_type": "code",
   "execution_count": 38,
   "metadata": {},
   "outputs": [
    {
     "data": {
      "text/plain": [
       "-1"
      ]
     },
     "execution_count": 38,
     "metadata": {},
     "output_type": "execute_result"
    }
   ],
   "source": [
    "ans[0]"
   ]
  },
  {
   "cell_type": "code",
   "execution_count": 34,
   "metadata": {},
   "outputs": [
    {
     "data": {
      "text/plain": [
       "-1"
      ]
     },
     "execution_count": 34,
     "metadata": {},
     "output_type": "execute_result"
    }
   ],
   "source": [
    "ans[1]"
   ]
  },
  {
   "cell_type": "code",
   "execution_count": null,
   "metadata": {},
   "outputs": [],
   "source": []
  }
 ],
 "metadata": {
  "kernelspec": {
   "display_name": "Python 3",
   "language": "python",
   "name": "python3"
  },
  "language_info": {
   "codemirror_mode": {
    "name": "ipython",
    "version": 3
   },
   "file_extension": ".py",
   "mimetype": "text/x-python",
   "name": "python",
   "nbconvert_exporter": "python",
   "pygments_lexer": "ipython3",
   "version": "3.7.6"
  }
 },
 "nbformat": 4,
 "nbformat_minor": 4
}
