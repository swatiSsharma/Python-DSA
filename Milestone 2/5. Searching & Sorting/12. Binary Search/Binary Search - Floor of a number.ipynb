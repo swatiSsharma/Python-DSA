{
 "cells": [
  {
   "cell_type": "markdown",
   "metadata": {},
   "source": [
    "FLoor --> number less than equal to target value"
   ]
  },
  {
   "cell_type": "code",
   "execution_count": 2,
   "metadata": {},
   "outputs": [],
   "source": [
    "def binarySearch_floor(arr, target):\n",
    "    start = 0\n",
    "    end = len(arr) - 1\n",
    "    \n",
    "    while start <= end:\n",
    "        mid = (start + end)//2\n",
    "        if arr[mid] == target:\n",
    "            return arr[mid - 1]\n",
    "        elif arr[mid] < target:\n",
    "            start = mid + 1\n",
    "        elif arr[mid] > target:\n",
    "            end = mid - 1\n",
    "    return -1"
   ]
  },
  {
   "cell_type": "code",
   "execution_count": 4,
   "metadata": {},
   "outputs": [
    {
     "name": "stdout",
     "output_type": "stream",
     "text": [
      "9\n"
     ]
    }
   ],
   "source": [
    "arr = [2, 3, 5, 9, 14, 16, 18]\n",
    "target = 14\n",
    "print(binarySearch_floor(arr, target))"
   ]
  },
  {
   "cell_type": "code",
   "execution_count": null,
   "metadata": {},
   "outputs": [],
   "source": []
  }
 ],
 "metadata": {
  "kernelspec": {
   "display_name": "Python 3",
   "language": "python",
   "name": "python3"
  },
  "language_info": {
   "codemirror_mode": {
    "name": "ipython",
    "version": 3
   },
   "file_extension": ".py",
   "mimetype": "text/x-python",
   "name": "python",
   "nbconvert_exporter": "python",
   "pygments_lexer": "ipython3",
   "version": "3.7.6"
  }
 },
 "nbformat": 4,
 "nbformat_minor": 4
}
