{
 "cells": [
  {
   "cell_type": "markdown",
   "id": "5998409d",
   "metadata": {},
   "source": [
    "# 1. Print 2D Array\n",
    "\n",
    "Given a 2D integer array with n rows and m columns. Print the 0th row from input n times, 1st row n-1 times…..(n-1)th row will be printed 1 time.\n",
    "**Input format :**  \n",
    "```\n",
    "Line 1 : No of rows (n) and no of columns (m) (separated by single space)\n",
    "Line 2 : Row 1 elements (separated by space)\n",
    "Line 3 : Row 2 elements (separated by space)\n",
    "Line 4 : and so on\n",
    "```\n",
    "#### Sample Input and Output\n",
    "- Sample Input 1:\n",
    "```\n",
    "3 3\n",
    "1 2 3\n",
    "4 5 6\n",
    "7 8 9\n",
    "```\n",
    "- Sample Output 1 :\n",
    "```\n",
    "1 2 3\n",
    "1 2 3\n",
    "1 2 3\n",
    "4 5 6\n",
    "4 5 6\n",
    "7 8 9\n",
    "```\n"
   ]
  },
  {
   "cell_type": "code",
   "execution_count": 1,
   "id": "838817e5",
   "metadata": {},
   "outputs": [
    {
     "name": "stdout",
     "output_type": "stream",
     "text": [
      "3 3\n",
      "1 2 3\n",
      "4 5 6\n",
      "7 8 9\n",
      "1 2 3 \n",
      "1 2 3 \n",
      "1 2 3 \n",
      "4 5 6 \n",
      "4 5 6 \n",
      "7 8 9 \n"
     ]
    }
   ],
   "source": [
    "# Approach - 1\n",
    "\n",
    "def print2DArray(mat, rows, cols):\n",
    "    \n",
    "    k = rows\n",
    "    for i in range(rows):\n",
    "        for l in range(k-1, -1, -1):\n",
    "            for j in range(cols):\n",
    "                print(mat[i][j], end = \" \")\n",
    "            print()\n",
    "            \n",
    "        k -= 1\n",
    "        \n",
    "mat = []\n",
    "li = input().strip().split()\n",
    "rows = int(li[0])\n",
    "cols = int(li[1])\n",
    "\n",
    "for i in range(rows):\n",
    "    row = [int(ele) for ele in list(input().strip().split())]\n",
    "    mat.append(row)\n",
    "    \n",
    "print2DArray(mat, rows, cols)    "
   ]
  }
 ],
 "metadata": {
  "kernelspec": {
   "display_name": "Python 3 (ipykernel)",
   "language": "python",
   "name": "python3"
  },
  "language_info": {
   "codemirror_mode": {
    "name": "ipython",
    "version": 3
   },
   "file_extension": ".py",
   "mimetype": "text/x-python",
   "name": "python",
   "nbconvert_exporter": "python",
   "pygments_lexer": "ipython3",
   "version": "3.9.13"
  }
 },
 "nbformat": 4,
 "nbformat_minor": 5
}
