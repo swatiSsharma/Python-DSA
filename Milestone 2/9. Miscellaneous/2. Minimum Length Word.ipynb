{
 "cells": [
  {
   "cell_type": "markdown",
   "id": "6e464df6",
   "metadata": {},
   "source": [
    "# 2. Minimum Length Word\n",
    "\n",
    "Given a string S (that can contain multiple words), you need to find the word which has minimum length.\n",
    "\n",
    "**Note :**\n",
    "    \n",
    "> If multiple words are of same length, then answer will be first minimum length word in the string.\n",
    "Words are seperated by single space only.\n",
    "\n",
    "**Input Format :**  \n",
    "```\n",
    "String S\n",
    "```\n",
    "**Output Format :**  \n",
    "```\n",
    "Minimum length word\n",
    "```\n",
    "**Constraints :**  \n",
    "```\n",
    "    1 <= Length of String S <= 10^5\n",
    "```\n",
    "- Sample Input 1 : this is test string  \n",
    "  Sample Output 1 : is  \n",
    "- Sample Input 2 : abc de ghihjk a uvw h j  \n",
    "  Sample Output 2 : a"
   ]
  },
  {
   "cell_type": "code",
   "execution_count": 1,
   "id": "d7692f07",
   "metadata": {},
   "outputs": [
    {
     "name": "stdout",
     "output_type": "stream",
     "text": [
      "this is test string\n",
      "is\n"
     ]
    }
   ],
   "source": [
    "# Approach - 1\n",
    "\n",
    "## Read input as specified in the question.\n",
    "## Print output as specified in the question.\n",
    "s = input()\n",
    "str = s.split()\n",
    "min = len(str[0])\n",
    "min_word = str[0]\n",
    "\n",
    "for i in str:\n",
    "    if len(i) < min:\n",
    "        min = len(i)\n",
    "        min_word = i\n",
    "print(min_word)"
   ]
  },
  {
   "cell_type": "code",
   "execution_count": 2,
   "id": "8abd4ee9",
   "metadata": {},
   "outputs": [
    {
     "name": "stdout",
     "output_type": "stream",
     "text": [
      "this is test string\n",
      "is\n"
     ]
    }
   ],
   "source": [
    "# Approach - 2\n",
    "\n",
    "s = input()\n",
    "min_len = len(s)\n",
    "min_str = s\n",
    "\n",
    "curr_str = ''\n",
    "\n",
    "for char in s:\n",
    "    \n",
    "    if char == ' ':\n",
    "        if len(curr_str) < min_len:\n",
    "            min_len = len(curr_str)\n",
    "            min_str = curr_str\n",
    "        curr_str = ''\n",
    "    else:\n",
    "        curr_str = curr_str + char\n",
    "        \n",
    "if len(curr_str) < min_len:\n",
    "    min_len = len(curr_str)\n",
    "    min_str = curr_str\n",
    "print(min_str)   "
   ]
  }
 ],
 "metadata": {
  "kernelspec": {
   "display_name": "Python 3 (ipykernel)",
   "language": "python",
   "name": "python3"
  },
  "language_info": {
   "codemirror_mode": {
    "name": "ipython",
    "version": 3
   },
   "file_extension": ".py",
   "mimetype": "text/x-python",
   "name": "python",
   "nbconvert_exporter": "python",
   "pygments_lexer": "ipython3",
   "version": "3.9.13"
  }
 },
 "nbformat": 4,
 "nbformat_minor": 5
}
