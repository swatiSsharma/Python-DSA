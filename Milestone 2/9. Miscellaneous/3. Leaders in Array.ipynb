{
 "cells": [
  {
   "cell_type": "markdown",
   "id": "670d50e8",
   "metadata": {},
   "source": [
    "# 3. Leaders in array\n",
    "\n",
    "Given an integer array A of size n. Find and print all the leaders present in the input array. An array element A[i] is called Leader, if all the elements following it (i.e. present at its right) are less than or equal to A[i].\n",
    "Print all the leader elements separated by space and in the same order they are present in the input array.\n",
    "**Input Format :**  \n",
    "```\n",
    "Line 1 : Integer n, size of array\n",
    "Line 2 : Array A elements (separated by space)\n",
    "```\n",
    "**Output Format :**\n",
    "```\n",
    " leaders of array (separated by space)\n",
    "```\n",
    "**Constraints :**  \n",
    "```\n",
    "    1 <= n <= 10^6\n",
    "```    \n",
    "#### Sample Input and Output\n",
    "- Sample Input 1 :\n",
    "```\n",
    "6\n",
    "3 12 34 2 0 -1\n",
    "```\n",
    "- Sample Output 1 :\n",
    "```\n",
    "34 2 0 -1\n",
    "```\n",
    "- Sample Input 2 :\n",
    "```\n",
    "5\n",
    "13 17 5 4 6\n",
    "```\n",
    "- Sample Output 2 :\n",
    "```\n",
    "17 6\n",
    "```"
   ]
  },
  {
   "cell_type": "code",
   "execution_count": 1,
   "id": "cb05b5c2",
   "metadata": {},
   "outputs": [
    {
     "name": "stdout",
     "output_type": "stream",
     "text": [
      "6\n",
      "3 12 34 2 0 -1\n",
      "34 2 0 -1 \n"
     ]
    }
   ],
   "source": [
    "# Approach - 1\n",
    "\n",
    "n = int(input())\n",
    "l = list(map(int,input().split()))\n",
    "leader = l[n-1]\n",
    "ans = []\n",
    "ans.append(l[n-1])\n",
    "count = 1\n",
    "for i in range(n-2,-1,-1):\n",
    "    if l[i] >= leader:\n",
    "        ans.append(l[i])\n",
    "        leader = l[i]\n",
    "        count += 1\n",
    "for i in range(count-1,-1,-1):\n",
    "    print(ans[i],end=\" \")\n",
    "print()"
   ]
  },
  {
   "cell_type": "code",
   "execution_count": 2,
   "id": "4b8bb9da",
   "metadata": {},
   "outputs": [
    {
     "name": "stdout",
     "output_type": "stream",
     "text": [
      "6\n",
      "3 12 34 2 0 -1\n",
      "34 2 0 -1 "
     ]
    }
   ],
   "source": [
    "# Approach - 2\n",
    "\n",
    "n = int(input())\n",
    "arr = [int(ele) for ele in input().split()]\n",
    "\n",
    "curr_max = arr[n-1]\n",
    "ans = [arr[n-1]]\n",
    "for i in range(n-2,-1,-1):\n",
    "    if arr[i] >= curr_max:\n",
    "        ans.append(arr[i])\n",
    "        curr_max = arr[i]\n",
    "        \n",
    "for i in range(len(ans)-1,-1,-1):\n",
    "    print(ans[i], end=' ')"
   ]
  }
 ],
 "metadata": {
  "kernelspec": {
   "display_name": "Python 3 (ipykernel)",
   "language": "python",
   "name": "python3"
  },
  "language_info": {
   "codemirror_mode": {
    "name": "ipython",
    "version": 3
   },
   "file_extension": ".py",
   "mimetype": "text/x-python",
   "name": "python",
   "nbconvert_exporter": "python",
   "pygments_lexer": "ipython3",
   "version": "3.9.13"
  }
 },
 "nbformat": 4,
 "nbformat_minor": 5
}
