{
 "cells": [
  {
   "cell_type": "markdown",
   "id": "1be33af6",
   "metadata": {},
   "source": [
    "# 2. Climbing Stairs\n",
    "\n",
    "You are climbing a staircase. It takes n steps to reach the top.\n",
    "\n",
    "Each time you can either climb 1 or 2 steps. In how many distinct ways can you climb to the top?\n",
    "\n",
    "**Example 1:**\n",
    "```\n",
    "Input: n = 2\n",
    "Output: 2\n",
    "Explanation: There are two ways to climb to the top.\n",
    "1. 1 step + 1 step\n",
    "2. 2 steps\n",
    "```\n",
    "**Example 2:**\n",
    "```\n",
    "Input: n = 3\n",
    "Output: 3\n",
    "Explanation: There are three ways to climb to the top.\n",
    "1. 1 step + 1 step + 1 step\n",
    "2. 1 step + 2 steps\n",
    "3. 2 steps + 1 step\n",
    "```\n",
    "**Constraints:**\n",
    "```\n",
    "1 <= n <= 45\n",
    "```"
   ]
  },
  {
   "cell_type": "markdown",
   "id": "b8a72f7a",
   "metadata": {},
   "source": [
    "### Approach - I"
   ]
  },
  {
   "cell_type": "code",
   "execution_count": null,
   "id": "718a763e",
   "metadata": {},
   "outputs": [],
   "source": [
    "class Solution:\n",
    "    def climbStairs(self, n: int) -> int:\n",
    "        if n ==1:\n",
    "            return 1 \n",
    "            \n",
    "        step = [-1 for i in range(n)]\n",
    "        step[0] , step[1] = 1,2\n",
    "        return self.helper(n-1, step)\n",
    "\n",
    "    def helper(self, n,step):\n",
    "        if step[n] < 0:\n",
    "            step[n] = self.helper(n-1,step) + self.helper(n-2,step)\n",
    "        return step[n]"
   ]
  },
  {
   "cell_type": "markdown",
   "id": "2c437176",
   "metadata": {},
   "source": [
    "### Approach - II"
   ]
  },
  {
   "cell_type": "code",
   "execution_count": null,
   "id": "096b6c95",
   "metadata": {},
   "outputs": [],
   "source": [
    "class Solution:\n",
    "    def climbStairs(self, n: int) -> int:\n",
    "        # add to map default cases\n",
    "        hashmap={}\n",
    "        hashmap[1]=1\n",
    "        hashmap[2]=2\n",
    "\n",
    "        def climb(n):\n",
    "            # if not in hashmap add it to hashmap otherwise add it to map\n",
    "            if n in hashmap:\n",
    "                return hashmap[n]\n",
    "            else:\n",
    "                hashmap[n]= climb(n-1)+climb(n-2)   \n",
    "                return hashmap[n]\n",
    "\n",
    "        \n",
    "        return climb(n)\n"
   ]
  },
  {
   "cell_type": "markdown",
   "id": "5a80e20c",
   "metadata": {},
   "source": [
    "### Approach - III"
   ]
  },
  {
   "cell_type": "code",
   "execution_count": null,
   "id": "f38c0e83",
   "metadata": {},
   "outputs": [],
   "source": [
    "class Solution:\n",
    "        def climbStairs(self, n: int) -> int:\n",
    "            if n == 0:\n",
    "                return 0\n",
    "            if n == 1:\n",
    "                return 1\n",
    "            if n == 2:\n",
    "                return 2\n",
    "\n",
    "            k2 = 2\n",
    "            k3 = 3 \n",
    "\n",
    "            for i in range(n-3):\n",
    "                k3, k2 = k3+k2, k3\n",
    "\n",
    "            return k3"
   ]
  },
  {
   "cell_type": "markdown",
   "id": "dcb90a30",
   "metadata": {},
   "source": [
    "### Approach - IV"
   ]
  },
  {
   "cell_type": "code",
   "execution_count": null,
   "id": "16f00681",
   "metadata": {},
   "outputs": [],
   "source": [
    "def util(n):\n",
    "    if n == 0:\n",
    "        return 1\n",
    "    \n",
    "    if n < 0:\n",
    "        return 0\n",
    "    \n",
    "    if n in util.mem:\n",
    "        return util.mem[n]\n",
    "    \n",
    "    util.mem[n] = util(n-1) + util(n-2)\n",
    "    return util.mem[n]\n",
    "    \n",
    "\n",
    "class Solution:\n",
    "    def climbStairs(self, n: int) -> int:\n",
    "        util.mem = {}\n",
    "        return util(n)"
   ]
  }
 ],
 "metadata": {
  "kernelspec": {
   "display_name": "Python 3 (ipykernel)",
   "language": "python",
   "name": "python3"
  },
  "language_info": {
   "codemirror_mode": {
    "name": "ipython",
    "version": 3
   },
   "file_extension": ".py",
   "mimetype": "text/x-python",
   "name": "python",
   "nbconvert_exporter": "python",
   "pygments_lexer": "ipython3",
   "version": "3.9.13"
  }
 },
 "nbformat": 4,
 "nbformat_minor": 5
}
